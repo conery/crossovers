{
 "cells": [
  {
   "cell_type": "markdown",
   "metadata": {},
   "source": [
    "# Finding SNP Regions"
   ]
  },
  {
   "cell_type": "markdown",
   "metadata": {},
   "source": [
    "John Conery"
   ]
  },
  {
   "cell_type": "markdown",
   "metadata": {},
   "source": [
    "This notebook has preliminary experiments with defining the \"signal\" (difference in cumulative sums of counts of SNPs) and using the SciPy peak finder function to look for places where a chromosome switches between SNPs from different sources."
   ]
  },
  {
   "cell_type": "code",
   "execution_count": 1,
   "metadata": {},
   "outputs": [],
   "source": [
    "import pandas as pd\n",
    "import seaborn as sns\n",
    "import matplotlib.pyplot as plt"
   ]
  },
  {
   "cell_type": "code",
   "execution_count": 2,
   "metadata": {},
   "outputs": [],
   "source": [
    "from scipy.signal import find_peaks"
   ]
  },
  {
   "cell_type": "markdown",
   "metadata": {},
   "source": [
    "### SNPs"
   ]
  },
  {
   "cell_type": "markdown",
   "metadata": {},
   "source": [
    "Zac's data set is in two Pandas data frames:\n",
    "* `bsp_COs_final_set` has locations of crossovers \n",
    "* `BSP_TIGER.marker_dataframe` has locations of SNPs"
   ]
  },
  {
   "cell_type": "code",
   "execution_count": 3,
   "metadata": {},
   "outputs": [],
   "source": [
    "bsp_COs = pd.read_pickle('bsp_COs_final_set.pickle.gzip', compression='gzip')"
   ]
  },
  {
   "cell_type": "code",
   "execution_count": 4,
   "metadata": {},
   "outputs": [],
   "source": [
    "bsp_SNPs = pd.read_pickle('BSP_TIGER.marker_dataframe.pickle.gzip', compression='gzip')"
   ]
  },
  {
   "cell_type": "code",
   "execution_count": 5,
   "metadata": {},
   "outputs": [
    {
     "data": {
      "text/plain": [
       "130290510"
      ]
     },
     "execution_count": 5,
     "metadata": {},
     "output_type": "execute_result"
    }
   ],
   "source": [
    "len(bsp_SNPs)"
   ]
  },
  {
   "cell_type": "code",
   "execution_count": 6,
   "metadata": {},
   "outputs": [
    {
     "data": {
      "text/html": [
       "<div>\n",
       "<style scoped>\n",
       "    .dataframe tbody tr th:only-of-type {\n",
       "        vertical-align: middle;\n",
       "    }\n",
       "\n",
       "    .dataframe tbody tr th {\n",
       "        vertical-align: top;\n",
       "    }\n",
       "\n",
       "    .dataframe thead th {\n",
       "        text-align: right;\n",
       "    }\n",
       "</style>\n",
       "<table border=\"1\" class=\"dataframe\">\n",
       "  <thead>\n",
       "    <tr style=\"text-align: right;\">\n",
       "      <th></th>\n",
       "      <th>Sample</th>\n",
       "      <th>chromosome</th>\n",
       "      <th>position</th>\n",
       "      <th>base_geno</th>\n",
       "      <th>hmm_state1</th>\n",
       "      <th>hmm_state2</th>\n",
       "      <th>reference</th>\n",
       "      <th>ref_reads</th>\n",
       "      <th>variant</th>\n",
       "      <th>var_reads</th>\n",
       "      <th>chrom_id</th>\n",
       "    </tr>\n",
       "  </thead>\n",
       "  <tbody>\n",
       "    <tr>\n",
       "      <th>0</th>\n",
       "      <td>BSP-OR-202</td>\n",
       "      <td>1</td>\n",
       "      <td>855</td>\n",
       "      <td>unknown</td>\n",
       "      <td>N2</td>\n",
       "      <td>N2</td>\n",
       "      <td>G</td>\n",
       "      <td>0</td>\n",
       "      <td>C</td>\n",
       "      <td>0</td>\n",
       "      <td>BSP-OR-202-1</td>\n",
       "    </tr>\n",
       "    <tr>\n",
       "      <th>1</th>\n",
       "      <td>BSP-OR-202</td>\n",
       "      <td>1</td>\n",
       "      <td>1222</td>\n",
       "      <td>unknown</td>\n",
       "      <td>N2</td>\n",
       "      <td>N2</td>\n",
       "      <td>A</td>\n",
       "      <td>0</td>\n",
       "      <td>C</td>\n",
       "      <td>0</td>\n",
       "      <td>BSP-OR-202-1</td>\n",
       "    </tr>\n",
       "    <tr>\n",
       "      <th>2</th>\n",
       "      <td>BSP-OR-202</td>\n",
       "      <td>1</td>\n",
       "      <td>1933</td>\n",
       "      <td>unknown</td>\n",
       "      <td>N2</td>\n",
       "      <td>N2</td>\n",
       "      <td>C</td>\n",
       "      <td>0</td>\n",
       "      <td>G</td>\n",
       "      <td>0</td>\n",
       "      <td>BSP-OR-202-1</td>\n",
       "    </tr>\n",
       "    <tr>\n",
       "      <th>3</th>\n",
       "      <td>BSP-OR-202</td>\n",
       "      <td>1</td>\n",
       "      <td>3048</td>\n",
       "      <td>uN2</td>\n",
       "      <td>N2</td>\n",
       "      <td>N2</td>\n",
       "      <td>C</td>\n",
       "      <td>3</td>\n",
       "      <td>G</td>\n",
       "      <td>0</td>\n",
       "      <td>BSP-OR-202-1</td>\n",
       "    </tr>\n",
       "    <tr>\n",
       "      <th>4</th>\n",
       "      <td>BSP-OR-202</td>\n",
       "      <td>1</td>\n",
       "      <td>3659</td>\n",
       "      <td>N2</td>\n",
       "      <td>N2</td>\n",
       "      <td>N2</td>\n",
       "      <td>C</td>\n",
       "      <td>7</td>\n",
       "      <td>T</td>\n",
       "      <td>2</td>\n",
       "      <td>BSP-OR-202-1</td>\n",
       "    </tr>\n",
       "  </tbody>\n",
       "</table>\n",
       "</div>"
      ],
      "text/plain": [
       "       Sample  chromosome  position base_geno hmm_state1 hmm_state2 reference  \\\n",
       "0  BSP-OR-202           1       855   unknown         N2         N2         G   \n",
       "1  BSP-OR-202           1      1222   unknown         N2         N2         A   \n",
       "2  BSP-OR-202           1      1933   unknown         N2         N2         C   \n",
       "3  BSP-OR-202           1      3048       uN2         N2         N2         C   \n",
       "4  BSP-OR-202           1      3659        N2         N2         N2         C   \n",
       "\n",
       "   ref_reads variant  var_reads      chrom_id  \n",
       "0          0       C          0  BSP-OR-202-1  \n",
       "1          0       C          0  BSP-OR-202-1  \n",
       "2          0       G          0  BSP-OR-202-1  \n",
       "3          3       G          0  BSP-OR-202-1  \n",
       "4          7       T          2  BSP-OR-202-1  "
      ]
     },
     "execution_count": 6,
     "metadata": {},
     "output_type": "execute_result"
    }
   ],
   "source": [
    "bsp_SNPs.head(5)"
   ]
  },
  {
   "cell_type": "markdown",
   "metadata": {},
   "source": [
    "### Example"
   ]
  },
  {
   "cell_type": "markdown",
   "metadata": {},
   "source": [
    "Zac uses chromosome IV from OR-001 in his examples (see plot in `xo.ipynb`)."
   ]
  },
  {
   "cell_type": "code",
   "execution_count": 7,
   "metadata": {},
   "outputs": [],
   "source": [
    "chr = bsp_SNPs[bsp_SNPs.chrom_id == 'BSP-OR-001-4']"
   ]
  },
  {
   "cell_type": "code",
   "execution_count": 8,
   "metadata": {},
   "outputs": [
    {
     "data": {
      "text/plain": [
       "25922"
      ]
     },
     "execution_count": 8,
     "metadata": {},
     "output_type": "execute_result"
    }
   ],
   "source": [
    "len(chr)"
   ]
  },
  {
   "cell_type": "code",
   "execution_count": 9,
   "metadata": {},
   "outputs": [
    {
     "data": {
      "text/html": [
       "<div>\n",
       "<style scoped>\n",
       "    .dataframe tbody tr th:only-of-type {\n",
       "        vertical-align: middle;\n",
       "    }\n",
       "\n",
       "    .dataframe tbody tr th {\n",
       "        vertical-align: top;\n",
       "    }\n",
       "\n",
       "    .dataframe thead th {\n",
       "        text-align: right;\n",
       "    }\n",
       "</style>\n",
       "<table border=\"1\" class=\"dataframe\">\n",
       "  <thead>\n",
       "    <tr style=\"text-align: right;\">\n",
       "      <th></th>\n",
       "      <th>Sample</th>\n",
       "      <th>chromosome</th>\n",
       "      <th>position</th>\n",
       "      <th>base_geno</th>\n",
       "      <th>hmm_state1</th>\n",
       "      <th>hmm_state2</th>\n",
       "      <th>reference</th>\n",
       "      <th>ref_reads</th>\n",
       "      <th>variant</th>\n",
       "      <th>var_reads</th>\n",
       "      <th>chrom_id</th>\n",
       "    </tr>\n",
       "  </thead>\n",
       "  <tbody>\n",
       "    <tr>\n",
       "      <th>90348</th>\n",
       "      <td>BSP-OR-001</td>\n",
       "      <td>4</td>\n",
       "      <td>195</td>\n",
       "      <td>unknown</td>\n",
       "      <td>CB4856</td>\n",
       "      <td>CB4856</td>\n",
       "      <td>G</td>\n",
       "      <td>0</td>\n",
       "      <td>T</td>\n",
       "      <td>0</td>\n",
       "      <td>BSP-OR-001-4</td>\n",
       "    </tr>\n",
       "    <tr>\n",
       "      <th>90349</th>\n",
       "      <td>BSP-OR-001</td>\n",
       "      <td>4</td>\n",
       "      <td>57787</td>\n",
       "      <td>unknown</td>\n",
       "      <td>CB4856</td>\n",
       "      <td>CB4856</td>\n",
       "      <td>C</td>\n",
       "      <td>23</td>\n",
       "      <td>T</td>\n",
       "      <td>20</td>\n",
       "      <td>BSP-OR-001-4</td>\n",
       "    </tr>\n",
       "    <tr>\n",
       "      <th>90350</th>\n",
       "      <td>BSP-OR-001</td>\n",
       "      <td>4</td>\n",
       "      <td>68361</td>\n",
       "      <td>het</td>\n",
       "      <td>CB4856</td>\n",
       "      <td>CB4856</td>\n",
       "      <td>A</td>\n",
       "      <td>5</td>\n",
       "      <td>G</td>\n",
       "      <td>5</td>\n",
       "      <td>BSP-OR-001-4</td>\n",
       "    </tr>\n",
       "    <tr>\n",
       "      <th>90351</th>\n",
       "      <td>BSP-OR-001</td>\n",
       "      <td>4</td>\n",
       "      <td>69253</td>\n",
       "      <td>N2</td>\n",
       "      <td>CB4856</td>\n",
       "      <td>CB4856</td>\n",
       "      <td>A</td>\n",
       "      <td>9</td>\n",
       "      <td>G</td>\n",
       "      <td>7</td>\n",
       "      <td>BSP-OR-001-4</td>\n",
       "    </tr>\n",
       "    <tr>\n",
       "      <th>90352</th>\n",
       "      <td>BSP-OR-001</td>\n",
       "      <td>4</td>\n",
       "      <td>70396</td>\n",
       "      <td>N2</td>\n",
       "      <td>CB4856</td>\n",
       "      <td>CB4856</td>\n",
       "      <td>A</td>\n",
       "      <td>10</td>\n",
       "      <td>T</td>\n",
       "      <td>3</td>\n",
       "      <td>BSP-OR-001-4</td>\n",
       "    </tr>\n",
       "  </tbody>\n",
       "</table>\n",
       "</div>"
      ],
      "text/plain": [
       "           Sample  chromosome  position base_geno hmm_state1 hmm_state2  \\\n",
       "90348  BSP-OR-001           4       195   unknown     CB4856     CB4856   \n",
       "90349  BSP-OR-001           4     57787   unknown     CB4856     CB4856   \n",
       "90350  BSP-OR-001           4     68361       het     CB4856     CB4856   \n",
       "90351  BSP-OR-001           4     69253        N2     CB4856     CB4856   \n",
       "90352  BSP-OR-001           4     70396        N2     CB4856     CB4856   \n",
       "\n",
       "      reference  ref_reads variant  var_reads      chrom_id  \n",
       "90348         G          0       T          0  BSP-OR-001-4  \n",
       "90349         C         23       T         20  BSP-OR-001-4  \n",
       "90350         A          5       G          5  BSP-OR-001-4  \n",
       "90351         A          9       G          7  BSP-OR-001-4  \n",
       "90352         A         10       T          3  BSP-OR-001-4  "
      ]
     },
     "execution_count": 9,
     "metadata": {},
     "output_type": "execute_result"
    }
   ],
   "source": [
    "chr.head()"
   ]
  },
  {
   "cell_type": "code",
   "execution_count": 10,
   "metadata": {},
   "outputs": [
    {
     "data": {
      "text/html": [
       "<div>\n",
       "<style scoped>\n",
       "    .dataframe tbody tr th:only-of-type {\n",
       "        vertical-align: middle;\n",
       "    }\n",
       "\n",
       "    .dataframe tbody tr th {\n",
       "        vertical-align: top;\n",
       "    }\n",
       "\n",
       "    .dataframe thead th {\n",
       "        text-align: right;\n",
       "    }\n",
       "</style>\n",
       "<table border=\"1\" class=\"dataframe\">\n",
       "  <thead>\n",
       "    <tr style=\"text-align: right;\">\n",
       "      <th></th>\n",
       "      <th>Sample</th>\n",
       "      <th>chromosome</th>\n",
       "      <th>position</th>\n",
       "      <th>base_geno</th>\n",
       "      <th>hmm_state1</th>\n",
       "      <th>hmm_state2</th>\n",
       "      <th>reference</th>\n",
       "      <th>ref_reads</th>\n",
       "      <th>variant</th>\n",
       "      <th>var_reads</th>\n",
       "      <th>chrom_id</th>\n",
       "    </tr>\n",
       "  </thead>\n",
       "  <tbody>\n",
       "    <tr>\n",
       "      <th>116265</th>\n",
       "      <td>BSP-OR-001</td>\n",
       "      <td>4</td>\n",
       "      <td>17489202</td>\n",
       "      <td>N2</td>\n",
       "      <td>N2</td>\n",
       "      <td>N2</td>\n",
       "      <td>C</td>\n",
       "      <td>23</td>\n",
       "      <td>T</td>\n",
       "      <td>5</td>\n",
       "      <td>BSP-OR-001-4</td>\n",
       "    </tr>\n",
       "    <tr>\n",
       "      <th>116266</th>\n",
       "      <td>BSP-OR-001</td>\n",
       "      <td>4</td>\n",
       "      <td>17490765</td>\n",
       "      <td>unknown</td>\n",
       "      <td>N2</td>\n",
       "      <td>N2</td>\n",
       "      <td>C</td>\n",
       "      <td>0</td>\n",
       "      <td>T</td>\n",
       "      <td>0</td>\n",
       "      <td>BSP-OR-001-4</td>\n",
       "    </tr>\n",
       "    <tr>\n",
       "      <th>116267</th>\n",
       "      <td>BSP-OR-001</td>\n",
       "      <td>4</td>\n",
       "      <td>17491619</td>\n",
       "      <td>N2</td>\n",
       "      <td>N2</td>\n",
       "      <td>N2</td>\n",
       "      <td>T</td>\n",
       "      <td>11</td>\n",
       "      <td>A</td>\n",
       "      <td>2</td>\n",
       "      <td>BSP-OR-001-4</td>\n",
       "    </tr>\n",
       "    <tr>\n",
       "      <th>116268</th>\n",
       "      <td>BSP-OR-001</td>\n",
       "      <td>4</td>\n",
       "      <td>17491911</td>\n",
       "      <td>N2</td>\n",
       "      <td>N2</td>\n",
       "      <td>N2</td>\n",
       "      <td>C</td>\n",
       "      <td>23</td>\n",
       "      <td>T</td>\n",
       "      <td>0</td>\n",
       "      <td>BSP-OR-001-4</td>\n",
       "    </tr>\n",
       "    <tr>\n",
       "      <th>116269</th>\n",
       "      <td>BSP-OR-001</td>\n",
       "      <td>4</td>\n",
       "      <td>17491928</td>\n",
       "      <td>N2</td>\n",
       "      <td>N2</td>\n",
       "      <td>N2</td>\n",
       "      <td>A</td>\n",
       "      <td>25</td>\n",
       "      <td>G</td>\n",
       "      <td>0</td>\n",
       "      <td>BSP-OR-001-4</td>\n",
       "    </tr>\n",
       "  </tbody>\n",
       "</table>\n",
       "</div>"
      ],
      "text/plain": [
       "            Sample  chromosome  position base_geno hmm_state1 hmm_state2  \\\n",
       "116265  BSP-OR-001           4  17489202        N2         N2         N2   \n",
       "116266  BSP-OR-001           4  17490765   unknown         N2         N2   \n",
       "116267  BSP-OR-001           4  17491619        N2         N2         N2   \n",
       "116268  BSP-OR-001           4  17491911        N2         N2         N2   \n",
       "116269  BSP-OR-001           4  17491928        N2         N2         N2   \n",
       "\n",
       "       reference  ref_reads variant  var_reads      chrom_id  \n",
       "116265         C         23       T          5  BSP-OR-001-4  \n",
       "116266         C          0       T          0  BSP-OR-001-4  \n",
       "116267         T         11       A          2  BSP-OR-001-4  \n",
       "116268         C         23       T          0  BSP-OR-001-4  \n",
       "116269         A         25       G          0  BSP-OR-001-4  "
      ]
     },
     "execution_count": 10,
     "metadata": {},
     "output_type": "execute_result"
    }
   ],
   "source": [
    "chr.tail()"
   ]
  },
  {
   "cell_type": "markdown",
   "metadata": {},
   "source": [
    "The `hmm_state1` column has the data we want: for each SNP, did it come from the N2 ancestor or the CB4856 ancestor?  The values are Python strings (\"object\" as far as Numpy is concerned):"
   ]
  },
  {
   "cell_type": "code",
   "execution_count": 11,
   "metadata": {},
   "outputs": [
    {
     "data": {
      "text/plain": [
       "array(['CB4856', 'CB4856', 'CB4856', ..., 'N2', 'N2', 'N2'], dtype=object)"
      ]
     },
     "execution_count": 11,
     "metadata": {},
     "output_type": "execute_result"
    }
   ],
   "source": [
    "chr.hmm_state1.to_numpy()"
   ]
  },
  {
   "cell_type": "markdown",
   "metadata": {},
   "source": [
    "### Define the Signal"
   ]
  },
  {
   "cell_type": "markdown",
   "metadata": {},
   "source": [
    "* Create a binary column that is 0 where `hmm_state1` is `N2` and 1 where it's `CB4856`.\n",
    "* Create another column with the cumulative sum of the binary values\n",
    "* Define another column for the cumulative sum of opposite values\n",
    "\n",
    "The \"signal\" we want to work with is the difference of the two sums."
   ]
  },
  {
   "cell_type": "markdown",
   "metadata": {},
   "source": [
    "This expression creates a vector of Booleans:"
   ]
  },
  {
   "cell_type": "code",
   "execution_count": 12,
   "metadata": {},
   "outputs": [
    {
     "data": {
      "text/plain": [
       "90348     False\n",
       "90349     False\n",
       "90350     False\n",
       "90351     False\n",
       "90352     False\n",
       "          ...  \n",
       "116265     True\n",
       "116266     True\n",
       "116267     True\n",
       "116268     True\n",
       "116269     True\n",
       "Name: hmm_state1, Length: 25922, dtype: bool"
      ]
     },
     "execution_count": 12,
     "metadata": {},
     "output_type": "execute_result"
    }
   ],
   "source": [
    "chr.hmm_state1 == 'N2'"
   ]
  },
  {
   "cell_type": "markdown",
   "metadata": {},
   "source": [
    "The cumulative sum method does just what we want, treating False as 0 and True as 1:"
   ]
  },
  {
   "cell_type": "code",
   "execution_count": 13,
   "metadata": {},
   "outputs": [
    {
     "data": {
      "text/plain": [
       "90348        0\n",
       "90349        0\n",
       "90350        0\n",
       "90351        0\n",
       "90352        0\n",
       "          ... \n",
       "116265    4768\n",
       "116266    4769\n",
       "116267    4770\n",
       "116268    4771\n",
       "116269    4772\n",
       "Name: hmm_state1, Length: 25922, dtype: int64"
      ]
     },
     "execution_count": 13,
     "metadata": {},
     "output_type": "execute_result"
    }
   ],
   "source": [
    "(chr.hmm_state1 == 'N2').cumsum()"
   ]
  },
  {
   "cell_type": "code",
   "execution_count": 14,
   "metadata": {},
   "outputs": [
    {
     "data": {
      "text/plain": [
       "90348         1\n",
       "90349         2\n",
       "90350         3\n",
       "90351         4\n",
       "90352         5\n",
       "          ...  \n",
       "116265    21150\n",
       "116266    21150\n",
       "116267    21150\n",
       "116268    21150\n",
       "116269    21150\n",
       "Name: hmm_state1, Length: 25922, dtype: int64"
      ]
     },
     "execution_count": 14,
     "metadata": {},
     "output_type": "execute_result"
    }
   ],
   "source": [
    "(chr.hmm_state1 == 'CB4856').cumsum()"
   ]
  },
  {
   "cell_type": "code",
   "execution_count": 15,
   "metadata": {},
   "outputs": [],
   "source": [
    "#signal = ((chr.hmm_state1 == 'CB4856').cumsum() - (chr.hmm_state1 == 'N2').cumsum()).to_numpy()\n",
    "signal = ((chr.hmm_state1 == 'N2').cumsum() - (chr.hmm_state1 == 'CB4856').cumsum()).to_numpy()"
   ]
  },
  {
   "cell_type": "code",
   "execution_count": 16,
   "metadata": {},
   "outputs": [
    {
     "data": {
      "text/plain": [
       "array([    -1,     -2,     -3, ..., -16380, -16379, -16378])"
      ]
     },
     "execution_count": 16,
     "metadata": {},
     "output_type": "execute_result"
    }
   ],
   "source": [
    "signal"
   ]
  },
  {
   "cell_type": "markdown",
   "metadata": {},
   "source": [
    "### Visualizations"
   ]
  },
  {
   "cell_type": "code",
   "execution_count": 17,
   "metadata": {},
   "outputs": [
    {
     "data": {
      "text/plain": [
       "[<matplotlib.lines.Line2D at 0x1170f4770>]"
      ]
     },
     "execution_count": 17,
     "metadata": {},
     "output_type": "execute_result"
    },
    {
     "data": {
      "image/png": "[encoded data removed]",
      "text/plain": [
       "<Figure size 640x480 with 1 Axes>"
      ]
     },
     "metadata": {},
     "output_type": "display_data"
    }
   ],
   "source": [
    "plt.plot(signal)"
   ]
  },
  {
   "cell_type": "markdown",
   "metadata": {},
   "source": [
    "Zooming in on one of the peaks"
   ]
  },
  {
   "cell_type": "code",
   "execution_count": 18,
   "metadata": {},
   "outputs": [
    {
     "data": {
      "text/plain": [
       "[<matplotlib.lines.Line2D at 0xb0eba35f0>]"
      ]
     },
     "execution_count": 18,
     "metadata": {},
     "output_type": "execute_result"
    },
    {
     "data": {
      "image/png": "[encoded data removed]",
      "text/plain": [
       "<Figure size 640x480 with 1 Axes>"
      ]
     },
     "metadata": {},
     "output_type": "display_data"
    }
   ],
   "source": [
    "plt.plot(signal[18900:19000])"
   ]
  },
  {
   "cell_type": "markdown",
   "metadata": {},
   "source": [
    "### Plot Peaks"
   ]
  },
  {
   "cell_type": "code",
   "execution_count": 19,
   "metadata": {},
   "outputs": [],
   "source": [
    "def plot_peaks(wave, px):\n",
    "    py = [ wave[x] for x in px ]\n",
    "    plt.plot(wave)\n",
    "    plt.plot(px, py, 'r.')"
   ]
  },
  {
   "cell_type": "code",
   "execution_count": 20,
   "metadata": {},
   "outputs": [],
   "source": [
    "px, prop = find_peaks(signal)"
   ]
  },
  {
   "cell_type": "code",
   "execution_count": 21,
   "metadata": {},
   "outputs": [
    {
     "data": {
      "text/plain": [
       "array([ 2737,  3098,  4574,  5070,  6283,  7821,  8042,  8288, 11030,\n",
       "       12069, 12326, 13116, 16680, 18051, 18988])"
      ]
     },
     "execution_count": 21,
     "metadata": {},
     "output_type": "execute_result"
    }
   ],
   "source": [
    "px"
   ]
  },
  {
   "cell_type": "code",
   "execution_count": 22,
   "metadata": {},
   "outputs": [
    {
     "data": {
      "text/plain": [
       "15"
      ]
     },
     "execution_count": 22,
     "metadata": {},
     "output_type": "execute_result"
    }
   ],
   "source": [
    "len(px)"
   ]
  },
  {
   "cell_type": "code",
   "execution_count": 23,
   "metadata": {},
   "outputs": [
    {
     "data": {
      "image/png": "[encoded data removed]",
      "text/plain": [
       "<Figure size 640x480 with 1 Axes>"
      ]
     },
     "metadata": {},
     "output_type": "display_data"
    }
   ],
   "source": [
    "plot_peaks(signal, px)"
   ]
  },
  {
   "cell_type": "markdown",
   "metadata": {},
   "source": [
    "The $x$-coordinates are row numbers in the frame.  If we print the rows around the peak we should see the state changes."
   ]
  },
  {
   "cell_type": "code",
   "execution_count": 24,
   "metadata": {},
   "outputs": [
    {
     "data": {
      "text/plain": [
       "np.int64(2737)"
      ]
     },
     "execution_count": 24,
     "metadata": {},
     "output_type": "execute_result"
    }
   ],
   "source": [
    "px[0]"
   ]
  },
  {
   "cell_type": "code",
   "execution_count": 25,
   "metadata": {},
   "outputs": [
    {
     "data": {
      "text/html": [
       "<div>\n",
       "<style scoped>\n",
       "    .dataframe tbody tr th:only-of-type {\n",
       "        vertical-align: middle;\n",
       "    }\n",
       "\n",
       "    .dataframe tbody tr th {\n",
       "        vertical-align: top;\n",
       "    }\n",
       "\n",
       "    .dataframe thead th {\n",
       "        text-align: right;\n",
       "    }\n",
       "</style>\n",
       "<table border=\"1\" class=\"dataframe\">\n",
       "  <thead>\n",
       "    <tr style=\"text-align: right;\">\n",
       "      <th></th>\n",
       "      <th>Sample</th>\n",
       "      <th>chromosome</th>\n",
       "      <th>position</th>\n",
       "      <th>base_geno</th>\n",
       "      <th>hmm_state1</th>\n",
       "      <th>hmm_state2</th>\n",
       "      <th>reference</th>\n",
       "      <th>ref_reads</th>\n",
       "      <th>variant</th>\n",
       "      <th>var_reads</th>\n",
       "      <th>chrom_id</th>\n",
       "    </tr>\n",
       "  </thead>\n",
       "  <tbody>\n",
       "    <tr>\n",
       "      <th>93063</th>\n",
       "      <td>BSP-OR-001</td>\n",
       "      <td>4</td>\n",
       "      <td>1996468</td>\n",
       "      <td>unknown</td>\n",
       "      <td>CB4856</td>\n",
       "      <td>CB4856</td>\n",
       "      <td>C</td>\n",
       "      <td>0</td>\n",
       "      <td>T</td>\n",
       "      <td>0</td>\n",
       "      <td>BSP-OR-001-4</td>\n",
       "    </tr>\n",
       "    <tr>\n",
       "      <th>93064</th>\n",
       "      <td>BSP-OR-001</td>\n",
       "      <td>4</td>\n",
       "      <td>1996645</td>\n",
       "      <td>CB4856</td>\n",
       "      <td>CB4856</td>\n",
       "      <td>CB4856</td>\n",
       "      <td>T</td>\n",
       "      <td>7</td>\n",
       "      <td>G</td>\n",
       "      <td>12</td>\n",
       "      <td>BSP-OR-001-4</td>\n",
       "    </tr>\n",
       "    <tr>\n",
       "      <th>93065</th>\n",
       "      <td>BSP-OR-001</td>\n",
       "      <td>4</td>\n",
       "      <td>1996955</td>\n",
       "      <td>het</td>\n",
       "      <td>CB4856</td>\n",
       "      <td>CB4856</td>\n",
       "      <td>G</td>\n",
       "      <td>3</td>\n",
       "      <td>A</td>\n",
       "      <td>6</td>\n",
       "      <td>BSP-OR-001-4</td>\n",
       "    </tr>\n",
       "    <tr>\n",
       "      <th>93066</th>\n",
       "      <td>BSP-OR-001</td>\n",
       "      <td>4</td>\n",
       "      <td>1996956</td>\n",
       "      <td>het</td>\n",
       "      <td>CB4856</td>\n",
       "      <td>unknown</td>\n",
       "      <td>G</td>\n",
       "      <td>3</td>\n",
       "      <td>A</td>\n",
       "      <td>6</td>\n",
       "      <td>BSP-OR-001-4</td>\n",
       "    </tr>\n",
       "    <tr>\n",
       "      <th>93067</th>\n",
       "      <td>BSP-OR-001</td>\n",
       "      <td>4</td>\n",
       "      <td>1997145</td>\n",
       "      <td>unknown</td>\n",
       "      <td>N2</td>\n",
       "      <td>unknown</td>\n",
       "      <td>T</td>\n",
       "      <td>0</td>\n",
       "      <td>A</td>\n",
       "      <td>0</td>\n",
       "      <td>BSP-OR-001-4</td>\n",
       "    </tr>\n",
       "    <tr>\n",
       "      <th>93068</th>\n",
       "      <td>BSP-OR-001</td>\n",
       "      <td>4</td>\n",
       "      <td>1997147</td>\n",
       "      <td>unknown</td>\n",
       "      <td>N2</td>\n",
       "      <td>unknown</td>\n",
       "      <td>T</td>\n",
       "      <td>0</td>\n",
       "      <td>C</td>\n",
       "      <td>0</td>\n",
       "      <td>BSP-OR-001-4</td>\n",
       "    </tr>\n",
       "    <tr>\n",
       "      <th>93069</th>\n",
       "      <td>BSP-OR-001</td>\n",
       "      <td>4</td>\n",
       "      <td>1997149</td>\n",
       "      <td>unknown</td>\n",
       "      <td>N2</td>\n",
       "      <td>unknown</td>\n",
       "      <td>T</td>\n",
       "      <td>0</td>\n",
       "      <td>A</td>\n",
       "      <td>0</td>\n",
       "      <td>BSP-OR-001-4</td>\n",
       "    </tr>\n",
       "    <tr>\n",
       "      <th>93070</th>\n",
       "      <td>BSP-OR-001</td>\n",
       "      <td>4</td>\n",
       "      <td>1997234</td>\n",
       "      <td>N2</td>\n",
       "      <td>N2</td>\n",
       "      <td>N2</td>\n",
       "      <td>G</td>\n",
       "      <td>6</td>\n",
       "      <td>A</td>\n",
       "      <td>0</td>\n",
       "      <td>BSP-OR-001-4</td>\n",
       "    </tr>\n",
       "    <tr>\n",
       "      <th>93071</th>\n",
       "      <td>BSP-OR-001</td>\n",
       "      <td>4</td>\n",
       "      <td>1997248</td>\n",
       "      <td>N2</td>\n",
       "      <td>N2</td>\n",
       "      <td>N2</td>\n",
       "      <td>T</td>\n",
       "      <td>8</td>\n",
       "      <td>A</td>\n",
       "      <td>0</td>\n",
       "      <td>BSP-OR-001-4</td>\n",
       "    </tr>\n",
       "    <tr>\n",
       "      <th>93072</th>\n",
       "      <td>BSP-OR-001</td>\n",
       "      <td>4</td>\n",
       "      <td>1997259</td>\n",
       "      <td>N2</td>\n",
       "      <td>N2</td>\n",
       "      <td>N2</td>\n",
       "      <td>T</td>\n",
       "      <td>8</td>\n",
       "      <td>C</td>\n",
       "      <td>0</td>\n",
       "      <td>BSP-OR-001-4</td>\n",
       "    </tr>\n",
       "    <tr>\n",
       "      <th>93073</th>\n",
       "      <td>BSP-OR-001</td>\n",
       "      <td>4</td>\n",
       "      <td>1997302</td>\n",
       "      <td>N2</td>\n",
       "      <td>N2</td>\n",
       "      <td>N2</td>\n",
       "      <td>C</td>\n",
       "      <td>9</td>\n",
       "      <td>T</td>\n",
       "      <td>0</td>\n",
       "      <td>BSP-OR-001-4</td>\n",
       "    </tr>\n",
       "    <tr>\n",
       "      <th>93074</th>\n",
       "      <td>BSP-OR-001</td>\n",
       "      <td>4</td>\n",
       "      <td>1997340</td>\n",
       "      <td>N2</td>\n",
       "      <td>N2</td>\n",
       "      <td>N2</td>\n",
       "      <td>C</td>\n",
       "      <td>7</td>\n",
       "      <td>T</td>\n",
       "      <td>0</td>\n",
       "      <td>BSP-OR-001-4</td>\n",
       "    </tr>\n",
       "    <tr>\n",
       "      <th>93075</th>\n",
       "      <td>BSP-OR-001</td>\n",
       "      <td>4</td>\n",
       "      <td>1997474</td>\n",
       "      <td>unknown</td>\n",
       "      <td>N2</td>\n",
       "      <td>N2</td>\n",
       "      <td>T</td>\n",
       "      <td>0</td>\n",
       "      <td>A</td>\n",
       "      <td>0</td>\n",
       "      <td>BSP-OR-001-4</td>\n",
       "    </tr>\n",
       "    <tr>\n",
       "      <th>93076</th>\n",
       "      <td>BSP-OR-001</td>\n",
       "      <td>4</td>\n",
       "      <td>1997495</td>\n",
       "      <td>unknown</td>\n",
       "      <td>N2</td>\n",
       "      <td>N2</td>\n",
       "      <td>T</td>\n",
       "      <td>0</td>\n",
       "      <td>C</td>\n",
       "      <td>0</td>\n",
       "      <td>BSP-OR-001-4</td>\n",
       "    </tr>\n",
       "    <tr>\n",
       "      <th>93077</th>\n",
       "      <td>BSP-OR-001</td>\n",
       "      <td>4</td>\n",
       "      <td>1997522</td>\n",
       "      <td>unknown</td>\n",
       "      <td>N2</td>\n",
       "      <td>N2</td>\n",
       "      <td>C</td>\n",
       "      <td>0</td>\n",
       "      <td>A</td>\n",
       "      <td>0</td>\n",
       "      <td>BSP-OR-001-4</td>\n",
       "    </tr>\n",
       "    <tr>\n",
       "      <th>93078</th>\n",
       "      <td>BSP-OR-001</td>\n",
       "      <td>4</td>\n",
       "      <td>1997524</td>\n",
       "      <td>unknown</td>\n",
       "      <td>N2</td>\n",
       "      <td>N2</td>\n",
       "      <td>G</td>\n",
       "      <td>0</td>\n",
       "      <td>T</td>\n",
       "      <td>0</td>\n",
       "      <td>BSP-OR-001-4</td>\n",
       "    </tr>\n",
       "    <tr>\n",
       "      <th>93079</th>\n",
       "      <td>BSP-OR-001</td>\n",
       "      <td>4</td>\n",
       "      <td>1997526</td>\n",
       "      <td>unknown</td>\n",
       "      <td>N2</td>\n",
       "      <td>N2</td>\n",
       "      <td>T</td>\n",
       "      <td>0</td>\n",
       "      <td>C</td>\n",
       "      <td>0</td>\n",
       "      <td>BSP-OR-001-4</td>\n",
       "    </tr>\n",
       "    <tr>\n",
       "      <th>93080</th>\n",
       "      <td>BSP-OR-001</td>\n",
       "      <td>4</td>\n",
       "      <td>1997527</td>\n",
       "      <td>unknown</td>\n",
       "      <td>N2</td>\n",
       "      <td>N2</td>\n",
       "      <td>A</td>\n",
       "      <td>0</td>\n",
       "      <td>C</td>\n",
       "      <td>0</td>\n",
       "      <td>BSP-OR-001-4</td>\n",
       "    </tr>\n",
       "    <tr>\n",
       "      <th>93081</th>\n",
       "      <td>BSP-OR-001</td>\n",
       "      <td>4</td>\n",
       "      <td>1997535</td>\n",
       "      <td>unknown</td>\n",
       "      <td>N2</td>\n",
       "      <td>N2</td>\n",
       "      <td>A</td>\n",
       "      <td>0</td>\n",
       "      <td>G</td>\n",
       "      <td>0</td>\n",
       "      <td>BSP-OR-001-4</td>\n",
       "    </tr>\n",
       "    <tr>\n",
       "      <th>93082</th>\n",
       "      <td>BSP-OR-001</td>\n",
       "      <td>4</td>\n",
       "      <td>1997553</td>\n",
       "      <td>uN2</td>\n",
       "      <td>N2</td>\n",
       "      <td>N2</td>\n",
       "      <td>A</td>\n",
       "      <td>1</td>\n",
       "      <td>G</td>\n",
       "      <td>0</td>\n",
       "      <td>BSP-OR-001-4</td>\n",
       "    </tr>\n",
       "    <tr>\n",
       "      <th>93083</th>\n",
       "      <td>BSP-OR-001</td>\n",
       "      <td>4</td>\n",
       "      <td>1997557</td>\n",
       "      <td>unknown</td>\n",
       "      <td>N2</td>\n",
       "      <td>N2</td>\n",
       "      <td>C</td>\n",
       "      <td>0</td>\n",
       "      <td>T</td>\n",
       "      <td>0</td>\n",
       "      <td>BSP-OR-001-4</td>\n",
       "    </tr>\n",
       "    <tr>\n",
       "      <th>93084</th>\n",
       "      <td>BSP-OR-001</td>\n",
       "      <td>4</td>\n",
       "      <td>1997564</td>\n",
       "      <td>unknown</td>\n",
       "      <td>N2</td>\n",
       "      <td>unknown</td>\n",
       "      <td>C</td>\n",
       "      <td>0</td>\n",
       "      <td>T</td>\n",
       "      <td>0</td>\n",
       "      <td>BSP-OR-001-4</td>\n",
       "    </tr>\n",
       "    <tr>\n",
       "      <th>93085</th>\n",
       "      <td>BSP-OR-001</td>\n",
       "      <td>4</td>\n",
       "      <td>1997566</td>\n",
       "      <td>unknown</td>\n",
       "      <td>N2</td>\n",
       "      <td>unknown</td>\n",
       "      <td>G</td>\n",
       "      <td>0</td>\n",
       "      <td>T</td>\n",
       "      <td>0</td>\n",
       "      <td>BSP-OR-001-4</td>\n",
       "    </tr>\n",
       "    <tr>\n",
       "      <th>93086</th>\n",
       "      <td>BSP-OR-001</td>\n",
       "      <td>4</td>\n",
       "      <td>1997578</td>\n",
       "      <td>uN2</td>\n",
       "      <td>CB4856</td>\n",
       "      <td>CB4856</td>\n",
       "      <td>G</td>\n",
       "      <td>1</td>\n",
       "      <td>C</td>\n",
       "      <td>0</td>\n",
       "      <td>BSP-OR-001-4</td>\n",
       "    </tr>\n",
       "    <tr>\n",
       "      <th>93087</th>\n",
       "      <td>BSP-OR-001</td>\n",
       "      <td>4</td>\n",
       "      <td>1997744</td>\n",
       "      <td>CB4856</td>\n",
       "      <td>CB4856</td>\n",
       "      <td>CB4856</td>\n",
       "      <td>A</td>\n",
       "      <td>5</td>\n",
       "      <td>G</td>\n",
       "      <td>7</td>\n",
       "      <td>BSP-OR-001-4</td>\n",
       "    </tr>\n",
       "  </tbody>\n",
       "</table>\n",
       "</div>"
      ],
      "text/plain": [
       "           Sample  chromosome  position base_geno hmm_state1 hmm_state2  \\\n",
       "93063  BSP-OR-001           4   1996468   unknown     CB4856     CB4856   \n",
       "93064  BSP-OR-001           4   1996645    CB4856     CB4856     CB4856   \n",
       "93065  BSP-OR-001           4   1996955       het     CB4856     CB4856   \n",
       "93066  BSP-OR-001           4   1996956       het     CB4856    unknown   \n",
       "93067  BSP-OR-001           4   1997145   unknown         N2    unknown   \n",
       "93068  BSP-OR-001           4   1997147   unknown         N2    unknown   \n",
       "93069  BSP-OR-001           4   1997149   unknown         N2    unknown   \n",
       "93070  BSP-OR-001           4   1997234        N2         N2         N2   \n",
       "93071  BSP-OR-001           4   1997248        N2         N2         N2   \n",
       "93072  BSP-OR-001           4   1997259        N2         N2         N2   \n",
       "93073  BSP-OR-001           4   1997302        N2         N2         N2   \n",
       "93074  BSP-OR-001           4   1997340        N2         N2         N2   \n",
       "93075  BSP-OR-001           4   1997474   unknown         N2         N2   \n",
       "93076  BSP-OR-001           4   1997495   unknown         N2         N2   \n",
       "93077  BSP-OR-001           4   1997522   unknown         N2         N2   \n",
       "93078  BSP-OR-001           4   1997524   unknown         N2         N2   \n",
       "93079  BSP-OR-001           4   1997526   unknown         N2         N2   \n",
       "93080  BSP-OR-001           4   1997527   unknown         N2         N2   \n",
       "93081  BSP-OR-001           4   1997535   unknown         N2         N2   \n",
       "93082  BSP-OR-001           4   1997553       uN2         N2         N2   \n",
       "93083  BSP-OR-001           4   1997557   unknown         N2         N2   \n",
       "93084  BSP-OR-001           4   1997564   unknown         N2    unknown   \n",
       "93085  BSP-OR-001           4   1997566   unknown         N2    unknown   \n",
       "93086  BSP-OR-001           4   1997578       uN2     CB4856     CB4856   \n",
       "93087  BSP-OR-001           4   1997744    CB4856     CB4856     CB4856   \n",
       "\n",
       "      reference  ref_reads variant  var_reads      chrom_id  \n",
       "93063         C          0       T          0  BSP-OR-001-4  \n",
       "93064         T          7       G         12  BSP-OR-001-4  \n",
       "93065         G          3       A          6  BSP-OR-001-4  \n",
       "93066         G          3       A          6  BSP-OR-001-4  \n",
       "93067         T          0       A          0  BSP-OR-001-4  \n",
       "93068         T          0       C          0  BSP-OR-001-4  \n",
       "93069         T          0       A          0  BSP-OR-001-4  \n",
       "93070         G          6       A          0  BSP-OR-001-4  \n",
       "93071         T          8       A          0  BSP-OR-001-4  \n",
       "93072         T          8       C          0  BSP-OR-001-4  \n",
       "93073         C          9       T          0  BSP-OR-001-4  \n",
       "93074         C          7       T          0  BSP-OR-001-4  \n",
       "93075         T          0       A          0  BSP-OR-001-4  \n",
       "93076         T          0       C          0  BSP-OR-001-4  \n",
       "93077         C          0       A          0  BSP-OR-001-4  \n",
       "93078         G          0       T          0  BSP-OR-001-4  \n",
       "93079         T          0       C          0  BSP-OR-001-4  \n",
       "93080         A          0       C          0  BSP-OR-001-4  \n",
       "93081         A          0       G          0  BSP-OR-001-4  \n",
       "93082         A          1       G          0  BSP-OR-001-4  \n",
       "93083         C          0       T          0  BSP-OR-001-4  \n",
       "93084         C          0       T          0  BSP-OR-001-4  \n",
       "93085         G          0       T          0  BSP-OR-001-4  \n",
       "93086         G          1       C          0  BSP-OR-001-4  \n",
       "93087         A          5       G          7  BSP-OR-001-4  "
      ]
     },
     "execution_count": 25,
     "metadata": {},
     "output_type": "execute_result"
    }
   ],
   "source": [
    "chr.iloc[2715:2740]"
   ]
  },
  {
   "cell_type": "markdown",
   "metadata": {},
   "source": [
    "### Prominence"
   ]
  },
  {
   "cell_type": "markdown",
   "metadata": {},
   "source": [
    "We can pass an option named \"prominence\" to `find_peaks` to tell it how much a peak needs to stand out from its surroundings.  An added bonus is the second object returned by the call tells us how big the peak is, _i.e._ how many SNPs are in the peak.\n",
    "\n",
    "Setting `prominence` to 1 tells the function to return anything that stands out."
   ]
  },
  {
   "cell_type": "code",
   "execution_count": 26,
   "metadata": {},
   "outputs": [],
   "source": [
    "px, prop = find_peaks(signal, prominence=1)"
   ]
  },
  {
   "cell_type": "code",
   "execution_count": 27,
   "metadata": {},
   "outputs": [
    {
     "data": {
      "text/plain": [
       "array([ 2737,  3098,  4574,  5070,  6283,  7821,  8042,  8288, 11030,\n",
       "       12069, 12326, 13116, 16680, 18051, 18988])"
      ]
     },
     "execution_count": 27,
     "metadata": {},
     "output_type": "execute_result"
    }
   ],
   "source": [
    "px"
   ]
  },
  {
   "cell_type": "code",
   "execution_count": 28,
   "metadata": {},
   "outputs": [
    {
     "data": {
      "text/plain": [
       "{'prominences': array([ 19.,  13., 112.,  31.,  17.,  18., 159.,  45.,  48.,  14., 272.,\n",
       "         20.,  17.,  24.,  52.]),\n",
       " 'left_bases': array([ 2718,  3085,  4462,  5039,  6266,  7803,  7883,  8243, 10982,\n",
       "        12026, 12026, 13096, 16663, 18027, 18936]),\n",
       " 'right_bases': array([22010, 22010, 22010, 22010, 22010,  7883, 22010, 22010, 22010,\n",
       "        12083, 22010, 22010, 22010, 22010, 22010])}"
      ]
     },
     "execution_count": 28,
     "metadata": {},
     "output_type": "execute_result"
    }
   ],
   "source": [
    "prop"
   ]
  },
  {
   "cell_type": "code",
   "execution_count": 29,
   "metadata": {},
   "outputs": [
    {
     "data": {
      "text/plain": [
       "array([ 19.,  13., 112.,  31.,  17.,  18., 159.,  45.,  48.,  14., 272.,\n",
       "        20.,  17.,  24.,  52.])"
      ]
     },
     "execution_count": 29,
     "metadata": {},
     "output_type": "execute_result"
    }
   ],
   "source": [
    "prop['prominences']"
   ]
  },
  {
   "cell_type": "markdown",
   "metadata": {},
   "source": [
    "That output says the first peak (starting at location 2718) is 19 SNPs long, which agrees with the table shown above."
   ]
  },
  {
   "cell_type": "markdown",
   "metadata": {},
   "source": [
    "### Chromosome Location"
   ]
  },
  {
   "cell_type": "markdown",
   "metadata": {},
   "source": [
    "The `signal` vector is indexed by SNP number.  It's easy enough to convert that back to a location on the chromosome using the `position` column in the frame.\n",
    "\n",
    "The location returned by `find_peaks` is the location of the CB4856 SNP just before the sequence of N2."
   ]
  },
  {
   "cell_type": "code",
   "execution_count": 30,
   "metadata": {},
   "outputs": [
    {
     "data": {
      "text/plain": [
       "Sample          BSP-OR-001\n",
       "chromosome               4\n",
       "position           1997566\n",
       "base_geno          unknown\n",
       "hmm_state1              N2\n",
       "hmm_state2         unknown\n",
       "reference                G\n",
       "ref_reads                0\n",
       "variant                  T\n",
       "var_reads                0\n",
       "chrom_id      BSP-OR-001-4\n",
       "Name: 93085, dtype: object"
      ]
     },
     "execution_count": 30,
     "metadata": {},
     "output_type": "execute_result"
    }
   ],
   "source": [
    "chr.iloc[px[0]]     # expect to see a CB4856 SNP"
   ]
  },
  {
   "cell_type": "code",
   "execution_count": 31,
   "metadata": {},
   "outputs": [
    {
     "data": {
      "text/plain": [
       "Sample          BSP-OR-001\n",
       "chromosome               4\n",
       "position           1997578\n",
       "base_geno              uN2\n",
       "hmm_state1          CB4856\n",
       "hmm_state2          CB4856\n",
       "reference                G\n",
       "ref_reads                1\n",
       "variant                  C\n",
       "var_reads                0\n",
       "chrom_id      BSP-OR-001-4\n",
       "Name: 93086, dtype: object"
      ]
     },
     "execution_count": 31,
     "metadata": {},
     "output_type": "execute_result"
    }
   ],
   "source": [
    "chr.iloc[px[0]+1]    # expect an N2 SNP"
   ]
  },
  {
   "cell_type": "markdown",
   "metadata": {},
   "source": [
    "The last row in the sequence is in the `right_bases` property:"
   ]
  },
  {
   "cell_type": "code",
   "execution_count": 32,
   "metadata": {},
   "outputs": [
    {
     "data": {
      "text/plain": [
       "np.int64(22010)"
      ]
     },
     "execution_count": 32,
     "metadata": {},
     "output_type": "execute_result"
    }
   ],
   "source": [
    "prop['right_bases'][0]"
   ]
  },
  {
   "cell_type": "code",
   "execution_count": 33,
   "metadata": {},
   "outputs": [
    {
     "data": {
      "text/plain": [
       "Sample          BSP-OR-001\n",
       "chromosome               4\n",
       "position          15669138\n",
       "base_geno               N2\n",
       "hmm_state1          CB4856\n",
       "hmm_state2          CB4856\n",
       "reference                T\n",
       "ref_reads               18\n",
       "variant                  A\n",
       "var_reads                0\n",
       "chrom_id      BSP-OR-001-4\n",
       "Name: 112358, dtype: object"
      ]
     },
     "execution_count": 33,
     "metadata": {},
     "output_type": "execute_result"
    }
   ],
   "source": [
    "chr.iloc[prop['right_bases'][0]]   # the last N2 SNP in this group"
   ]
  },
  {
   "cell_type": "code",
   "execution_count": 34,
   "metadata": {},
   "outputs": [],
   "source": [
    "def chromosome_loc(snp):\n",
    "    start = chr.iloc[px[snp]+1].position\n",
    "    end = chr.iloc[prop['right_bases'][snp]].position\n",
    "    return (int(start), int(end))"
   ]
  },
  {
   "cell_type": "code",
   "execution_count": 35,
   "metadata": {},
   "outputs": [
    {
     "data": {
      "text/plain": [
       "(1997578, 15669138)"
      ]
     },
     "execution_count": 35,
     "metadata": {},
     "output_type": "execute_result"
    }
   ],
   "source": [
    "chromosome_loc(0)"
   ]
  },
  {
   "cell_type": "code",
   "execution_count": 36,
   "metadata": {},
   "outputs": [
    {
     "data": {
      "text/plain": [
       "(2157459, 15669138)"
      ]
     },
     "execution_count": 36,
     "metadata": {},
     "output_type": "execute_result"
    }
   ],
   "source": [
    "chromosome_loc(1)"
   ]
  },
  {
   "cell_type": "markdown",
   "metadata": {},
   "source": [
    "### Are the SNPs sorted by chromosome location?"
   ]
  },
  {
   "cell_type": "code",
   "execution_count": 37,
   "metadata": {},
   "outputs": [],
   "source": [
    "schr = chr.sort_values(by=\"position\")"
   ]
  },
  {
   "cell_type": "code",
   "execution_count": 38,
   "metadata": {},
   "outputs": [],
   "source": [
    "ssignal = ((schr.hmm_state1 == 'CB4856').cumsum() - (schr.hmm_state1 == 'N2').cumsum()).to_numpy()"
   ]
  },
  {
   "cell_type": "code",
   "execution_count": 39,
   "metadata": {},
   "outputs": [],
   "source": [
    "spx, sprop = find_peaks(ssignal, prominence=1)"
   ]
  },
  {
   "cell_type": "code",
   "execution_count": 40,
   "metadata": {},
   "outputs": [
    {
     "data": {
      "text/plain": [
       "array([ 2718,  3085,  4462,  5039,  6266,  7803,  7883,  8243, 10982,\n",
       "       12026, 12083, 13096, 16663, 18027, 18936, 22010])"
      ]
     },
     "execution_count": 40,
     "metadata": {},
     "output_type": "execute_result"
    }
   ],
   "source": [
    "spx"
   ]
  },
  {
   "cell_type": "code",
   "execution_count": 41,
   "metadata": {},
   "outputs": [
    {
     "data": {
      "text/plain": [
       "array([ 2737,  3098,  4574,  5070,  6283,  7821,  8042,  8288, 11030,\n",
       "       12069, 12326, 13116, 16680, 18051, 18988])"
      ]
     },
     "execution_count": 41,
     "metadata": {},
     "output_type": "execute_result"
    }
   ],
   "source": [
    "px"
   ]
  },
  {
   "cell_type": "code",
   "execution_count": 42,
   "metadata": {},
   "outputs": [
    {
     "data": {
      "text/plain": [
       "{'prominences': array([  19.,   13.,  112.,   31.,   17.,   18.,  159.,   45.,   48.,\n",
       "         272.,   14.,   20.,   17.,   24.,   52., 3911.]),\n",
       " 'left_bases': array([    0,     0,     0,     0,     0,     0,     0,     0,     0,\n",
       "            0, 12069,     0,     0,     0,     0,     0]),\n",
       " 'right_bases': array([ 2737,  3098,  4574,  5070,  6283,  7821,  8042,  8288, 11030,\n",
       "        12326, 12326, 13116, 16680, 18051, 18988, 25921])}"
      ]
     },
     "execution_count": 42,
     "metadata": {},
     "output_type": "execute_result"
    }
   ],
   "source": [
    "sprop"
   ]
  },
  {
   "cell_type": "code",
   "execution_count": 43,
   "metadata": {},
   "outputs": [
    {
     "data": {
      "text/plain": [
       "{'prominences': array([ 19.,  13., 112.,  31.,  17.,  18., 159.,  45.,  48.,  14., 272.,\n",
       "         20.,  17.,  24.,  52.]),\n",
       " 'left_bases': array([ 2718,  3085,  4462,  5039,  6266,  7803,  7883,  8243, 10982,\n",
       "        12026, 12026, 13096, 16663, 18027, 18936]),\n",
       " 'right_bases': array([22010, 22010, 22010, 22010, 22010,  7883, 22010, 22010, 22010,\n",
       "        12083, 22010, 22010, 22010, 22010, 22010])}"
      ]
     },
     "execution_count": 43,
     "metadata": {},
     "output_type": "execute_result"
    }
   ],
   "source": [
    "prop"
   ]
  },
  {
   "cell_type": "markdown",
   "metadata": {},
   "source": [
    "**Yes, the original frame is sorted by chromosome location.**"
   ]
  },
  {
   "cell_type": "markdown",
   "metadata": {},
   "source": [
    "### Other Chromosomes"
   ]
  },
  {
   "cell_type": "code",
   "execution_count": 44,
   "metadata": {},
   "outputs": [],
   "source": [
    "chromosome = bsp_SNPs[bsp_SNPs.chrom_id == 'BSP-OR-001-3']"
   ]
  },
  {
   "cell_type": "code",
   "execution_count": 45,
   "metadata": {},
   "outputs": [],
   "source": [
    "signal = ((chromosome.hmm_state1 == 'CB4856').cumsum() - (chromosome.hmm_state1 == 'N2').cumsum()).to_numpy()\n",
    "#signal = ((chromosome.hmm_state1 == 'N2').cumsum() - (chromosome.hmm_state1 == 'CB4856').cumsum()).to_numpy()"
   ]
  },
  {
   "cell_type": "code",
   "execution_count": 46,
   "metadata": {},
   "outputs": [],
   "source": [
    "px, prop = find_peaks(signal, prominence=1)"
   ]
  },
  {
   "cell_type": "code",
   "execution_count": 47,
   "metadata": {},
   "outputs": [
    {
     "data": {
      "image/png": "[encoded data removed]",
      "text/plain": [
       "<Figure size 640x480 with 1 Axes>"
      ]
     },
     "metadata": {},
     "output_type": "display_data"
    }
   ],
   "source": [
    "plot_peaks(signal, px)"
   ]
  },
  {
   "cell_type": "code",
   "execution_count": 48,
   "metadata": {},
   "outputs": [
    {
     "data": {
      "text/plain": [
       "array([  602,   938,  1079,  1269,  1495,  1909,  2573,  3358,  4321,\n",
       "        4491,  4635,  5078,  5472,  7526,  7861,  8021,  8167,  8357,\n",
       "        8538,  8922, 10763, 12661, 13389, 20960, 21357, 21531, 23369])"
      ]
     },
     "execution_count": 48,
     "metadata": {},
     "output_type": "execute_result"
    }
   ],
   "source": [
    "px"
   ]
  },
  {
   "cell_type": "code",
   "execution_count": 49,
   "metadata": {},
   "outputs": [
    {
     "data": {
      "text/plain": [
       "{'prominences': array([ 17.,  15.,  23.,  90.,  49.,  57.,  56.,  24.,  58., 185.,  18.,\n",
       "         30.,  52., 435.,  66.,  27.,  51.,  44.,  79.,  38.,  19.,  28.,\n",
       "         16.,  19.,  16., 109.,  31.]),\n",
       " 'left_bases': array([   0,    0,    0,    0,    0,    0,    0,    0,    0,    0, 4617,\n",
       "           0,    0,    0, 7795, 7994, 8116, 8249, 8249, 8249,    0,    0,\n",
       "           0,    0,    0,    0,    0]),\n",
       " 'right_bases': array([  619,   953,  1102,  1359,  1544,  1966,  2629,  3382,  4379,\n",
       "         4712,  4712,  5108,  5524,  8249,  8249,  8249,  8249,  8401,\n",
       "         8617,  8960, 10782, 12689, 13405, 20979, 21373, 21640, 23400])}"
      ]
     },
     "execution_count": 49,
     "metadata": {},
     "output_type": "execute_result"
    }
   ],
   "source": [
    "prop"
   ]
  },
  {
   "cell_type": "code",
   "execution_count": 50,
   "metadata": {},
   "outputs": [
    {
     "data": {
      "image/png": "[encoded data removed]",
      "text/plain": [
       "<Figure size 640x480 with 1 Axes>"
      ]
     },
     "metadata": {},
     "output_type": "display_data"
    }
   ],
   "source": [
    "plot_peaks(signal[7500:9000],px[7500:9000])"
   ]
  },
  {
   "cell_type": "code",
   "execution_count": 51,
   "metadata": {},
   "outputs": [],
   "source": [
    "def plot_segs(px, prop, x0, x1):\n",
    "    for i in range(len(px)):\n",
    "        if prop['left_bases'][i] == px[i] - prop['prominences'][i]:\n",
    "            blk_start = prop['left_bases'][i] + 1\n",
    "            blk_end = px[i]\n",
    "        else:\n",
    "            blk_start = px[i]+1\n",
    "            blk_end = prop['right_bases'][i]\n",
    "        if (blk_start > x1) or (blk_end < x0):\n",
    "            continue\n",
    "        plt.plot([blk_start, blk_end], [i,i], 'b-')"
   ]
  },
  {
   "cell_type": "code",
   "execution_count": 52,
   "metadata": {},
   "outputs": [
    {
     "data": {
      "image/png": "[encoded data removed]",
      "text/plain": [
       "<Figure size 640x480 with 1 Axes>"
      ]
     },
     "metadata": {},
     "output_type": "display_data"
    }
   ],
   "source": [
    "plot_segs(px,prop,7000,10000)"
   ]
  },
  {
   "cell_type": "code",
   "execution_count": 53,
   "metadata": {},
   "outputs": [
    {
     "data": {
      "text/plain": [
       "(np.int64(7526), np.float64(435.0), np.int64(0), np.int64(8249))"
      ]
     },
     "execution_count": 53,
     "metadata": {},
     "output_type": "execute_result"
    }
   ],
   "source": [
    "px[13], prop['prominences'][13], prop['left_bases'][13], prop['right_bases'][13]"
   ]
  },
  {
   "cell_type": "code",
   "execution_count": 54,
   "metadata": {},
   "outputs": [
    {
     "data": {
      "text/plain": [
       "(np.int64(7861), np.float64(66.0), np.int64(7795), np.int64(8249))"
      ]
     },
     "execution_count": 54,
     "metadata": {},
     "output_type": "execute_result"
    }
   ],
   "source": [
    "px[14], prop['prominences'][14], prop['left_bases'][14], prop['right_bases'][14]"
   ]
  },
  {
   "cell_type": "code",
   "execution_count": 55,
   "metadata": {},
   "outputs": [
    {
     "ename": "IndentationError",
     "evalue": "unexpected indent (3329125036.py, line 6)",
     "output_type": "error",
     "traceback": [
      "\u001b[0;36m  Cell \u001b[0;32mIn[55], line 6\u001b[0;36m\u001b[0m\n\u001b[0;31m    blk_start = px[i]+1\u001b[0m\n\u001b[0m    ^\u001b[0m\n\u001b[0;31mIndentationError\u001b[0m\u001b[0;31m:\u001b[0m unexpected indent\n"
     ]
    }
   ],
   "source": [
    "for i in range(len(px)):\n",
    "    if prop['left_bases'][i] == px[i] - prop['prominences'][i]:\n",
    "        blk_start = prop['left_bases'][i] + 1\n",
    "        blk_end = px[i]\n",
    "    else:a\n",
    "        blk_start = px[i]+1\n",
    "        blk_end = prop['right_bases'][i]\n",
    "    print(f'{blk_end-blk_start}: {blk_start}..{blk_end}')"
   ]
  },
  {
   "cell_type": "code",
   "execution_count": null,
   "metadata": {},
   "outputs": [
    {
     "data": {
      "text/html": [
       "<div>\n",
       "<style scoped>\n",
       "    .dataframe tbody tr th:only-of-type {\n",
       "        vertical-align: middle;\n",
       "    }\n",
       "\n",
       "    .dataframe tbody tr th {\n",
       "        vertical-align: top;\n",
       "    }\n",
       "\n",
       "    .dataframe thead th {\n",
       "        text-align: right;\n",
       "    }\n",
       "</style>\n",
       "<table border=\"1\" class=\"dataframe\">\n",
       "  <thead>\n",
       "    <tr style=\"text-align: right;\">\n",
       "      <th></th>\n",
       "      <th>Sample</th>\n",
       "      <th>chromosome</th>\n",
       "      <th>position</th>\n",
       "      <th>base_geno</th>\n",
       "      <th>hmm_state1</th>\n",
       "      <th>hmm_state2</th>\n",
       "      <th>reference</th>\n",
       "      <th>ref_reads</th>\n",
       "      <th>variant</th>\n",
       "      <th>var_reads</th>\n",
       "      <th>chrom_id</th>\n",
       "    </tr>\n",
       "  </thead>\n",
       "  <tbody>\n",
       "    <tr>\n",
       "      <th>30687</th>\n",
       "      <td>BSP-OR-202</td>\n",
       "      <td>2</td>\n",
       "      <td>1761963</td>\n",
       "      <td>het</td>\n",
       "      <td>CB4856</td>\n",
       "      <td>CB4856</td>\n",
       "      <td>A</td>\n",
       "      <td>5</td>\n",
       "      <td>G</td>\n",
       "      <td>5</td>\n",
       "      <td>BSP-OR-202-2</td>\n",
       "    </tr>\n",
       "    <tr>\n",
       "      <th>30688</th>\n",
       "      <td>BSP-OR-202</td>\n",
       "      <td>2</td>\n",
       "      <td>1761964</td>\n",
       "      <td>het</td>\n",
       "      <td>CB4856</td>\n",
       "      <td>CB4856</td>\n",
       "      <td>T</td>\n",
       "      <td>5</td>\n",
       "      <td>C</td>\n",
       "      <td>5</td>\n",
       "      <td>BSP-OR-202-2</td>\n",
       "    </tr>\n",
       "    <tr>\n",
       "      <th>30689</th>\n",
       "      <td>BSP-OR-202</td>\n",
       "      <td>2</td>\n",
       "      <td>1761968</td>\n",
       "      <td>het</td>\n",
       "      <td>CB4856</td>\n",
       "      <td>CB4856</td>\n",
       "      <td>T</td>\n",
       "      <td>5</td>\n",
       "      <td>C</td>\n",
       "      <td>5</td>\n",
       "      <td>BSP-OR-202-2</td>\n",
       "    </tr>\n",
       "    <tr>\n",
       "      <th>30690</th>\n",
       "      <td>BSP-OR-202</td>\n",
       "      <td>2</td>\n",
       "      <td>1761970</td>\n",
       "      <td>het</td>\n",
       "      <td>CB4856</td>\n",
       "      <td>CB4856</td>\n",
       "      <td>A</td>\n",
       "      <td>5</td>\n",
       "      <td>T</td>\n",
       "      <td>5</td>\n",
       "      <td>BSP-OR-202-2</td>\n",
       "    </tr>\n",
       "    <tr>\n",
       "      <th>30691</th>\n",
       "      <td>BSP-OR-202</td>\n",
       "      <td>2</td>\n",
       "      <td>1761987</td>\n",
       "      <td>CB4856</td>\n",
       "      <td>CB4856</td>\n",
       "      <td>CB4856</td>\n",
       "      <td>C</td>\n",
       "      <td>6</td>\n",
       "      <td>A</td>\n",
       "      <td>9</td>\n",
       "      <td>BSP-OR-202-2</td>\n",
       "    </tr>\n",
       "    <tr>\n",
       "      <th>30692</th>\n",
       "      <td>BSP-OR-202</td>\n",
       "      <td>2</td>\n",
       "      <td>1761989</td>\n",
       "      <td>CB4856</td>\n",
       "      <td>CB4856</td>\n",
       "      <td>CB4856</td>\n",
       "      <td>C</td>\n",
       "      <td>6</td>\n",
       "      <td>T</td>\n",
       "      <td>9</td>\n",
       "      <td>BSP-OR-202-2</td>\n",
       "    </tr>\n",
       "    <tr>\n",
       "      <th>30693</th>\n",
       "      <td>BSP-OR-202</td>\n",
       "      <td>2</td>\n",
       "      <td>1761993</td>\n",
       "      <td>CB4856</td>\n",
       "      <td>CB4856</td>\n",
       "      <td>CB4856</td>\n",
       "      <td>C</td>\n",
       "      <td>6</td>\n",
       "      <td>T</td>\n",
       "      <td>9</td>\n",
       "      <td>BSP-OR-202-2</td>\n",
       "    </tr>\n",
       "    <tr>\n",
       "      <th>30694</th>\n",
       "      <td>BSP-OR-202</td>\n",
       "      <td>2</td>\n",
       "      <td>1762022</td>\n",
       "      <td>CB4856</td>\n",
       "      <td>CB4856</td>\n",
       "      <td>CB4856</td>\n",
       "      <td>T</td>\n",
       "      <td>7</td>\n",
       "      <td>G</td>\n",
       "      <td>8</td>\n",
       "      <td>BSP-OR-202-2</td>\n",
       "    </tr>\n",
       "    <tr>\n",
       "      <th>30695</th>\n",
       "      <td>BSP-OR-202</td>\n",
       "      <td>2</td>\n",
       "      <td>1762076</td>\n",
       "      <td>N2</td>\n",
       "      <td>N2</td>\n",
       "      <td>N2</td>\n",
       "      <td>A</td>\n",
       "      <td>15</td>\n",
       "      <td>C</td>\n",
       "      <td>0</td>\n",
       "      <td>BSP-OR-202-2</td>\n",
       "    </tr>\n",
       "    <tr>\n",
       "      <th>30696</th>\n",
       "      <td>BSP-OR-202</td>\n",
       "      <td>2</td>\n",
       "      <td>1762082</td>\n",
       "      <td>N2</td>\n",
       "      <td>N2</td>\n",
       "      <td>N2</td>\n",
       "      <td>G</td>\n",
       "      <td>12</td>\n",
       "      <td>T</td>\n",
       "      <td>0</td>\n",
       "      <td>BSP-OR-202-2</td>\n",
       "    </tr>\n",
       "    <tr>\n",
       "      <th>30697</th>\n",
       "      <td>BSP-OR-202</td>\n",
       "      <td>2</td>\n",
       "      <td>1762085</td>\n",
       "      <td>N2</td>\n",
       "      <td>N2</td>\n",
       "      <td>N2</td>\n",
       "      <td>A</td>\n",
       "      <td>11</td>\n",
       "      <td>G</td>\n",
       "      <td>0</td>\n",
       "      <td>BSP-OR-202-2</td>\n",
       "    </tr>\n",
       "    <tr>\n",
       "      <th>30698</th>\n",
       "      <td>BSP-OR-202</td>\n",
       "      <td>2</td>\n",
       "      <td>1762105</td>\n",
       "      <td>N2</td>\n",
       "      <td>N2</td>\n",
       "      <td>N2</td>\n",
       "      <td>T</td>\n",
       "      <td>11</td>\n",
       "      <td>C</td>\n",
       "      <td>0</td>\n",
       "      <td>BSP-OR-202-2</td>\n",
       "    </tr>\n",
       "    <tr>\n",
       "      <th>30699</th>\n",
       "      <td>BSP-OR-202</td>\n",
       "      <td>2</td>\n",
       "      <td>1762117</td>\n",
       "      <td>N2</td>\n",
       "      <td>N2</td>\n",
       "      <td>N2</td>\n",
       "      <td>A</td>\n",
       "      <td>10</td>\n",
       "      <td>G</td>\n",
       "      <td>0</td>\n",
       "      <td>BSP-OR-202-2</td>\n",
       "    </tr>\n",
       "    <tr>\n",
       "      <th>30700</th>\n",
       "      <td>BSP-OR-202</td>\n",
       "      <td>2</td>\n",
       "      <td>1762120</td>\n",
       "      <td>N2</td>\n",
       "      <td>N2</td>\n",
       "      <td>N2</td>\n",
       "      <td>G</td>\n",
       "      <td>10</td>\n",
       "      <td>T</td>\n",
       "      <td>0</td>\n",
       "      <td>BSP-OR-202-2</td>\n",
       "    </tr>\n",
       "    <tr>\n",
       "      <th>30701</th>\n",
       "      <td>BSP-OR-202</td>\n",
       "      <td>2</td>\n",
       "      <td>1762123</td>\n",
       "      <td>N2</td>\n",
       "      <td>N2</td>\n",
       "      <td>N2</td>\n",
       "      <td>A</td>\n",
       "      <td>10</td>\n",
       "      <td>C</td>\n",
       "      <td>0</td>\n",
       "      <td>BSP-OR-202-2</td>\n",
       "    </tr>\n",
       "    <tr>\n",
       "      <th>30702</th>\n",
       "      <td>BSP-OR-202</td>\n",
       "      <td>2</td>\n",
       "      <td>1762125</td>\n",
       "      <td>N2</td>\n",
       "      <td>N2</td>\n",
       "      <td>N2</td>\n",
       "      <td>T</td>\n",
       "      <td>10</td>\n",
       "      <td>A</td>\n",
       "      <td>0</td>\n",
       "      <td>BSP-OR-202-2</td>\n",
       "    </tr>\n",
       "    <tr>\n",
       "      <th>30703</th>\n",
       "      <td>BSP-OR-202</td>\n",
       "      <td>2</td>\n",
       "      <td>1762142</td>\n",
       "      <td>N2</td>\n",
       "      <td>N2</td>\n",
       "      <td>N2</td>\n",
       "      <td>G</td>\n",
       "      <td>12</td>\n",
       "      <td>A</td>\n",
       "      <td>0</td>\n",
       "      <td>BSP-OR-202-2</td>\n",
       "    </tr>\n",
       "    <tr>\n",
       "      <th>30704</th>\n",
       "      <td>BSP-OR-202</td>\n",
       "      <td>2</td>\n",
       "      <td>1762153</td>\n",
       "      <td>N2</td>\n",
       "      <td>N2</td>\n",
       "      <td>N2</td>\n",
       "      <td>G</td>\n",
       "      <td>12</td>\n",
       "      <td>A</td>\n",
       "      <td>0</td>\n",
       "      <td>BSP-OR-202-2</td>\n",
       "    </tr>\n",
       "    <tr>\n",
       "      <th>30705</th>\n",
       "      <td>BSP-OR-202</td>\n",
       "      <td>2</td>\n",
       "      <td>1762154</td>\n",
       "      <td>unknown</td>\n",
       "      <td>N2</td>\n",
       "      <td>N2</td>\n",
       "      <td>C</td>\n",
       "      <td>0</td>\n",
       "      <td>A</td>\n",
       "      <td>0</td>\n",
       "      <td>BSP-OR-202-2</td>\n",
       "    </tr>\n",
       "    <tr>\n",
       "      <th>30706</th>\n",
       "      <td>BSP-OR-202</td>\n",
       "      <td>2</td>\n",
       "      <td>1762174</td>\n",
       "      <td>N2</td>\n",
       "      <td>N2</td>\n",
       "      <td>N2</td>\n",
       "      <td>A</td>\n",
       "      <td>10</td>\n",
       "      <td>T</td>\n",
       "      <td>0</td>\n",
       "      <td>BSP-OR-202-2</td>\n",
       "    </tr>\n",
       "    <tr>\n",
       "      <th>30707</th>\n",
       "      <td>BSP-OR-202</td>\n",
       "      <td>2</td>\n",
       "      <td>1762181</td>\n",
       "      <td>N2</td>\n",
       "      <td>N2</td>\n",
       "      <td>N2</td>\n",
       "      <td>G</td>\n",
       "      <td>9</td>\n",
       "      <td>A</td>\n",
       "      <td>0</td>\n",
       "      <td>BSP-OR-202-2</td>\n",
       "    </tr>\n",
       "    <tr>\n",
       "      <th>30708</th>\n",
       "      <td>BSP-OR-202</td>\n",
       "      <td>2</td>\n",
       "      <td>1762204</td>\n",
       "      <td>N2</td>\n",
       "      <td>N2</td>\n",
       "      <td>N2</td>\n",
       "      <td>C</td>\n",
       "      <td>7</td>\n",
       "      <td>T</td>\n",
       "      <td>0</td>\n",
       "      <td>BSP-OR-202-2</td>\n",
       "    </tr>\n",
       "    <tr>\n",
       "      <th>30709</th>\n",
       "      <td>BSP-OR-202</td>\n",
       "      <td>2</td>\n",
       "      <td>1762206</td>\n",
       "      <td>N2</td>\n",
       "      <td>N2</td>\n",
       "      <td>N2</td>\n",
       "      <td>G</td>\n",
       "      <td>7</td>\n",
       "      <td>T</td>\n",
       "      <td>0</td>\n",
       "      <td>BSP-OR-202-2</td>\n",
       "    </tr>\n",
       "    <tr>\n",
       "      <th>30710</th>\n",
       "      <td>BSP-OR-202</td>\n",
       "      <td>2</td>\n",
       "      <td>1762212</td>\n",
       "      <td>N2</td>\n",
       "      <td>N2</td>\n",
       "      <td>N2</td>\n",
       "      <td>A</td>\n",
       "      <td>7</td>\n",
       "      <td>G</td>\n",
       "      <td>0</td>\n",
       "      <td>BSP-OR-202-2</td>\n",
       "    </tr>\n",
       "    <tr>\n",
       "      <th>30711</th>\n",
       "      <td>BSP-OR-202</td>\n",
       "      <td>2</td>\n",
       "      <td>1762213</td>\n",
       "      <td>unknown</td>\n",
       "      <td>N2</td>\n",
       "      <td>N2</td>\n",
       "      <td>T</td>\n",
       "      <td>0</td>\n",
       "      <td>C</td>\n",
       "      <td>0</td>\n",
       "      <td>BSP-OR-202-2</td>\n",
       "    </tr>\n",
       "    <tr>\n",
       "      <th>30712</th>\n",
       "      <td>BSP-OR-202</td>\n",
       "      <td>2</td>\n",
       "      <td>1762244</td>\n",
       "      <td>unknown</td>\n",
       "      <td>N2</td>\n",
       "      <td>N2</td>\n",
       "      <td>A</td>\n",
       "      <td>0</td>\n",
       "      <td>T</td>\n",
       "      <td>0</td>\n",
       "      <td>BSP-OR-202-2</td>\n",
       "    </tr>\n",
       "    <tr>\n",
       "      <th>30713</th>\n",
       "      <td>BSP-OR-202</td>\n",
       "      <td>2</td>\n",
       "      <td>1762248</td>\n",
       "      <td>unknown</td>\n",
       "      <td>N2</td>\n",
       "      <td>N2</td>\n",
       "      <td>A</td>\n",
       "      <td>0</td>\n",
       "      <td>G</td>\n",
       "      <td>0</td>\n",
       "      <td>BSP-OR-202-2</td>\n",
       "    </tr>\n",
       "    <tr>\n",
       "      <th>30714</th>\n",
       "      <td>BSP-OR-202</td>\n",
       "      <td>2</td>\n",
       "      <td>1762251</td>\n",
       "      <td>unknown</td>\n",
       "      <td>N2</td>\n",
       "      <td>N2</td>\n",
       "      <td>A</td>\n",
       "      <td>0</td>\n",
       "      <td>G</td>\n",
       "      <td>0</td>\n",
       "      <td>BSP-OR-202-2</td>\n",
       "    </tr>\n",
       "    <tr>\n",
       "      <th>30715</th>\n",
       "      <td>BSP-OR-202</td>\n",
       "      <td>2</td>\n",
       "      <td>1762259</td>\n",
       "      <td>uN2</td>\n",
       "      <td>N2</td>\n",
       "      <td>N2</td>\n",
       "      <td>G</td>\n",
       "      <td>3</td>\n",
       "      <td>A</td>\n",
       "      <td>0</td>\n",
       "      <td>BSP-OR-202-2</td>\n",
       "    </tr>\n",
       "    <tr>\n",
       "      <th>30716</th>\n",
       "      <td>BSP-OR-202</td>\n",
       "      <td>2</td>\n",
       "      <td>1762264</td>\n",
       "      <td>uN2</td>\n",
       "      <td>N2</td>\n",
       "      <td>N2</td>\n",
       "      <td>A</td>\n",
       "      <td>3</td>\n",
       "      <td>G</td>\n",
       "      <td>0</td>\n",
       "      <td>BSP-OR-202-2</td>\n",
       "    </tr>\n",
       "    <tr>\n",
       "      <th>30717</th>\n",
       "      <td>BSP-OR-202</td>\n",
       "      <td>2</td>\n",
       "      <td>1762268</td>\n",
       "      <td>unknown</td>\n",
       "      <td>N2</td>\n",
       "      <td>N2</td>\n",
       "      <td>T</td>\n",
       "      <td>0</td>\n",
       "      <td>C</td>\n",
       "      <td>0</td>\n",
       "      <td>BSP-OR-202-2</td>\n",
       "    </tr>\n",
       "    <tr>\n",
       "      <th>30718</th>\n",
       "      <td>BSP-OR-202</td>\n",
       "      <td>2</td>\n",
       "      <td>1762310</td>\n",
       "      <td>unknown</td>\n",
       "      <td>N2</td>\n",
       "      <td>N2</td>\n",
       "      <td>T</td>\n",
       "      <td>0</td>\n",
       "      <td>A</td>\n",
       "      <td>0</td>\n",
       "      <td>BSP-OR-202-2</td>\n",
       "    </tr>\n",
       "  </tbody>\n",
       "</table>\n",
       "</div>"
      ],
      "text/plain": [
       "           Sample  chromosome  position base_geno hmm_state1 hmm_state2  \\\n",
       "30687  BSP-OR-202           2   1761963       het     CB4856     CB4856   \n",
       "30688  BSP-OR-202           2   1761964       het     CB4856     CB4856   \n",
       "30689  BSP-OR-202           2   1761968       het     CB4856     CB4856   \n",
       "30690  BSP-OR-202           2   1761970       het     CB4856     CB4856   \n",
       "30691  BSP-OR-202           2   1761987    CB4856     CB4856     CB4856   \n",
       "30692  BSP-OR-202           2   1761989    CB4856     CB4856     CB4856   \n",
       "30693  BSP-OR-202           2   1761993    CB4856     CB4856     CB4856   \n",
       "30694  BSP-OR-202           2   1762022    CB4856     CB4856     CB4856   \n",
       "30695  BSP-OR-202           2   1762076        N2         N2         N2   \n",
       "30696  BSP-OR-202           2   1762082        N2         N2         N2   \n",
       "30697  BSP-OR-202           2   1762085        N2         N2         N2   \n",
       "30698  BSP-OR-202           2   1762105        N2         N2         N2   \n",
       "30699  BSP-OR-202           2   1762117        N2         N2         N2   \n",
       "30700  BSP-OR-202           2   1762120        N2         N2         N2   \n",
       "30701  BSP-OR-202           2   1762123        N2         N2         N2   \n",
       "30702  BSP-OR-202           2   1762125        N2         N2         N2   \n",
       "30703  BSP-OR-202           2   1762142        N2         N2         N2   \n",
       "30704  BSP-OR-202           2   1762153        N2         N2         N2   \n",
       "30705  BSP-OR-202           2   1762154   unknown         N2         N2   \n",
       "30706  BSP-OR-202           2   1762174        N2         N2         N2   \n",
       "30707  BSP-OR-202           2   1762181        N2         N2         N2   \n",
       "30708  BSP-OR-202           2   1762204        N2         N2         N2   \n",
       "30709  BSP-OR-202           2   1762206        N2         N2         N2   \n",
       "30710  BSP-OR-202           2   1762212        N2         N2         N2   \n",
       "30711  BSP-OR-202           2   1762213   unknown         N2         N2   \n",
       "30712  BSP-OR-202           2   1762244   unknown         N2         N2   \n",
       "30713  BSP-OR-202           2   1762248   unknown         N2         N2   \n",
       "30714  BSP-OR-202           2   1762251   unknown         N2         N2   \n",
       "30715  BSP-OR-202           2   1762259       uN2         N2         N2   \n",
       "30716  BSP-OR-202           2   1762264       uN2         N2         N2   \n",
       "30717  BSP-OR-202           2   1762268   unknown         N2         N2   \n",
       "30718  BSP-OR-202           2   1762310   unknown         N2         N2   \n",
       "\n",
       "      reference  ref_reads variant  var_reads      chrom_id  \n",
       "30687         A          5       G          5  BSP-OR-202-2  \n",
       "30688         T          5       C          5  BSP-OR-202-2  \n",
       "30689         T          5       C          5  BSP-OR-202-2  \n",
       "30690         A          5       T          5  BSP-OR-202-2  \n",
       "30691         C          6       A          9  BSP-OR-202-2  \n",
       "30692         C          6       T          9  BSP-OR-202-2  \n",
       "30693         C          6       T          9  BSP-OR-202-2  \n",
       "30694         T          7       G          8  BSP-OR-202-2  \n",
       "30695         A         15       C          0  BSP-OR-202-2  \n",
       "30696         G         12       T          0  BSP-OR-202-2  \n",
       "30697         A         11       G          0  BSP-OR-202-2  \n",
       "30698         T         11       C          0  BSP-OR-202-2  \n",
       "30699         A         10       G          0  BSP-OR-202-2  \n",
       "30700         G         10       T          0  BSP-OR-202-2  \n",
       "30701         A         10       C          0  BSP-OR-202-2  \n",
       "30702         T         10       A          0  BSP-OR-202-2  \n",
       "30703         G         12       A          0  BSP-OR-202-2  \n",
       "30704         G         12       A          0  BSP-OR-202-2  \n",
       "30705         C          0       A          0  BSP-OR-202-2  \n",
       "30706         A         10       T          0  BSP-OR-202-2  \n",
       "30707         G          9       A          0  BSP-OR-202-2  \n",
       "30708         C          7       T          0  BSP-OR-202-2  \n",
       "30709         G          7       T          0  BSP-OR-202-2  \n",
       "30710         A          7       G          0  BSP-OR-202-2  \n",
       "30711         T          0       C          0  BSP-OR-202-2  \n",
       "30712         A          0       T          0  BSP-OR-202-2  \n",
       "30713         A          0       G          0  BSP-OR-202-2  \n",
       "30714         A          0       G          0  BSP-OR-202-2  \n",
       "30715         G          3       A          0  BSP-OR-202-2  \n",
       "30716         A          3       G          0  BSP-OR-202-2  \n",
       "30717         T          0       C          0  BSP-OR-202-2  \n",
       "30718         T          0       A          0  BSP-OR-202-2  "
      ]
     },
     "execution_count": 88,
     "metadata": {},
     "output_type": "execute_result"
    }
   ],
   "source": [
    "chromosome.iloc[7308:7340]"
   ]
  },
  {
   "cell_type": "code",
   "execution_count": null,
   "metadata": {},
   "outputs": [
    {
     "data": {
      "text/html": [
       "<div>\n",
       "<style scoped>\n",
       "    .dataframe tbody tr th:only-of-type {\n",
       "        vertical-align: middle;\n",
       "    }\n",
       "\n",
       "    .dataframe tbody tr th {\n",
       "        vertical-align: top;\n",
       "    }\n",
       "\n",
       "    .dataframe thead th {\n",
       "        text-align: right;\n",
       "    }\n",
       "</style>\n",
       "<table border=\"1\" class=\"dataframe\">\n",
       "  <thead>\n",
       "    <tr style=\"text-align: right;\">\n",
       "      <th></th>\n",
       "      <th>Sample</th>\n",
       "      <th>chromosome</th>\n",
       "      <th>position</th>\n",
       "      <th>base_geno</th>\n",
       "      <th>hmm_state1</th>\n",
       "      <th>hmm_state2</th>\n",
       "      <th>reference</th>\n",
       "      <th>ref_reads</th>\n",
       "      <th>variant</th>\n",
       "      <th>var_reads</th>\n",
       "      <th>chrom_id</th>\n",
       "    </tr>\n",
       "  </thead>\n",
       "  <tbody>\n",
       "    <tr>\n",
       "      <th>42109</th>\n",
       "      <td>BSP-OR-202</td>\n",
       "      <td>2</td>\n",
       "      <td>2904521</td>\n",
       "      <td>unknown</td>\n",
       "      <td>N2</td>\n",
       "      <td>N2</td>\n",
       "      <td>A</td>\n",
       "      <td>0</td>\n",
       "      <td>G</td>\n",
       "      <td>0</td>\n",
       "      <td>BSP-OR-202-2</td>\n",
       "    </tr>\n",
       "    <tr>\n",
       "      <th>42110</th>\n",
       "      <td>BSP-OR-202</td>\n",
       "      <td>2</td>\n",
       "      <td>2904525</td>\n",
       "      <td>unknown</td>\n",
       "      <td>N2</td>\n",
       "      <td>N2</td>\n",
       "      <td>T</td>\n",
       "      <td>0</td>\n",
       "      <td>A</td>\n",
       "      <td>0</td>\n",
       "      <td>BSP-OR-202-2</td>\n",
       "    </tr>\n",
       "    <tr>\n",
       "      <th>42111</th>\n",
       "      <td>BSP-OR-202</td>\n",
       "      <td>2</td>\n",
       "      <td>2904584</td>\n",
       "      <td>unknown</td>\n",
       "      <td>N2</td>\n",
       "      <td>N2</td>\n",
       "      <td>A</td>\n",
       "      <td>0</td>\n",
       "      <td>G</td>\n",
       "      <td>0</td>\n",
       "      <td>BSP-OR-202-2</td>\n",
       "    </tr>\n",
       "    <tr>\n",
       "      <th>42112</th>\n",
       "      <td>BSP-OR-202</td>\n",
       "      <td>2</td>\n",
       "      <td>2904670</td>\n",
       "      <td>unknown</td>\n",
       "      <td>N2</td>\n",
       "      <td>N2</td>\n",
       "      <td>A</td>\n",
       "      <td>0</td>\n",
       "      <td>G</td>\n",
       "      <td>0</td>\n",
       "      <td>BSP-OR-202-2</td>\n",
       "    </tr>\n",
       "    <tr>\n",
       "      <th>42113</th>\n",
       "      <td>BSP-OR-202</td>\n",
       "      <td>2</td>\n",
       "      <td>2904777</td>\n",
       "      <td>N2</td>\n",
       "      <td>N2</td>\n",
       "      <td>N2</td>\n",
       "      <td>A</td>\n",
       "      <td>8</td>\n",
       "      <td>G</td>\n",
       "      <td>0</td>\n",
       "      <td>BSP-OR-202-2</td>\n",
       "    </tr>\n",
       "    <tr>\n",
       "      <th>...</th>\n",
       "      <td>...</td>\n",
       "      <td>...</td>\n",
       "      <td>...</td>\n",
       "      <td>...</td>\n",
       "      <td>...</td>\n",
       "      <td>...</td>\n",
       "      <td>...</td>\n",
       "      <td>...</td>\n",
       "      <td>...</td>\n",
       "      <td>...</td>\n",
       "      <td>...</td>\n",
       "    </tr>\n",
       "    <tr>\n",
       "      <th>42183</th>\n",
       "      <td>BSP-OR-202</td>\n",
       "      <td>2</td>\n",
       "      <td>2921393</td>\n",
       "      <td>unknown</td>\n",
       "      <td>N2</td>\n",
       "      <td>N2</td>\n",
       "      <td>C</td>\n",
       "      <td>0</td>\n",
       "      <td>T</td>\n",
       "      <td>0</td>\n",
       "      <td>BSP-OR-202-2</td>\n",
       "    </tr>\n",
       "    <tr>\n",
       "      <th>42184</th>\n",
       "      <td>BSP-OR-202</td>\n",
       "      <td>2</td>\n",
       "      <td>2921690</td>\n",
       "      <td>uN2</td>\n",
       "      <td>N2</td>\n",
       "      <td>N2</td>\n",
       "      <td>T</td>\n",
       "      <td>2</td>\n",
       "      <td>C</td>\n",
       "      <td>0</td>\n",
       "      <td>BSP-OR-202-2</td>\n",
       "    </tr>\n",
       "    <tr>\n",
       "      <th>42185</th>\n",
       "      <td>BSP-OR-202</td>\n",
       "      <td>2</td>\n",
       "      <td>2921711</td>\n",
       "      <td>unknown</td>\n",
       "      <td>N2</td>\n",
       "      <td>N2</td>\n",
       "      <td>T</td>\n",
       "      <td>0</td>\n",
       "      <td>G</td>\n",
       "      <td>0</td>\n",
       "      <td>BSP-OR-202-2</td>\n",
       "    </tr>\n",
       "    <tr>\n",
       "      <th>42186</th>\n",
       "      <td>BSP-OR-202</td>\n",
       "      <td>2</td>\n",
       "      <td>2921836</td>\n",
       "      <td>unknown</td>\n",
       "      <td>N2</td>\n",
       "      <td>N2</td>\n",
       "      <td>G</td>\n",
       "      <td>0</td>\n",
       "      <td>A</td>\n",
       "      <td>0</td>\n",
       "      <td>BSP-OR-202-2</td>\n",
       "    </tr>\n",
       "    <tr>\n",
       "      <th>42187</th>\n",
       "      <td>BSP-OR-202</td>\n",
       "      <td>2</td>\n",
       "      <td>2922182</td>\n",
       "      <td>unknown</td>\n",
       "      <td>N2</td>\n",
       "      <td>N2</td>\n",
       "      <td>G</td>\n",
       "      <td>0</td>\n",
       "      <td>A</td>\n",
       "      <td>0</td>\n",
       "      <td>BSP-OR-202-2</td>\n",
       "    </tr>\n",
       "  </tbody>\n",
       "</table>\n",
       "<p>79 rows × 11 columns</p>\n",
       "</div>"
      ],
      "text/plain": [
       "           Sample  chromosome  position base_geno hmm_state1 hmm_state2  \\\n",
       "42109  BSP-OR-202           2   2904521   unknown         N2         N2   \n",
       "42110  BSP-OR-202           2   2904525   unknown         N2         N2   \n",
       "42111  BSP-OR-202           2   2904584   unknown         N2         N2   \n",
       "42112  BSP-OR-202           2   2904670   unknown         N2         N2   \n",
       "42113  BSP-OR-202           2   2904777        N2         N2         N2   \n",
       "...           ...         ...       ...       ...        ...        ...   \n",
       "42183  BSP-OR-202           2   2921393   unknown         N2         N2   \n",
       "42184  BSP-OR-202           2   2921690       uN2         N2         N2   \n",
       "42185  BSP-OR-202           2   2921711   unknown         N2         N2   \n",
       "42186  BSP-OR-202           2   2921836   unknown         N2         N2   \n",
       "42187  BSP-OR-202           2   2922182   unknown         N2         N2   \n",
       "\n",
       "      reference  ref_reads variant  var_reads      chrom_id  \n",
       "42109         A          0       G          0  BSP-OR-202-2  \n",
       "42110         T          0       A          0  BSP-OR-202-2  \n",
       "42111         A          0       G          0  BSP-OR-202-2  \n",
       "42112         A          0       G          0  BSP-OR-202-2  \n",
       "42113         A          8       G          0  BSP-OR-202-2  \n",
       "...         ...        ...     ...        ...           ...  \n",
       "42183         C          0       T          0  BSP-OR-202-2  \n",
       "42184         T          2       C          0  BSP-OR-202-2  \n",
       "42185         T          0       G          0  BSP-OR-202-2  \n",
       "42186         G          0       A          0  BSP-OR-202-2  \n",
       "42187         G          0       A          0  BSP-OR-202-2  \n",
       "\n",
       "[79 rows x 11 columns]"
      ]
     },
     "execution_count": 89,
     "metadata": {},
     "output_type": "execute_result"
    }
   ],
   "source": [
    "chromosome.iloc[18730:18809]"
   ]
  },
  {
   "cell_type": "code",
   "execution_count": null,
   "metadata": {},
   "outputs": [],
   "source": []
  }
 ],
 "metadata": {
  "kernelspec": {
   "display_name": "BSP",
   "language": "python",
   "name": "python3"
  },
  "language_info": {
   "codemirror_mode": {
    "name": "ipython",
    "version": 3
   },
   "file_extension": ".py",
   "mimetype": "text/x-python",
   "name": "python",
   "nbconvert_exporter": "python",
   "pygments_lexer": "ipython3",
   "version": "3.12.4"
  }
 },
 "nbformat": 4,
 "nbformat_minor": 2
}
