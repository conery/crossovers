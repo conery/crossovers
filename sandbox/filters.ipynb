{
 "cells": [
  {
   "cell_type": "markdown",
   "metadata": {},
   "source": [
    "### Filters"
   ]
  },
  {
   "cell_type": "markdown",
   "metadata": {},
   "source": [
    "The `filters` module defines two classes that process blocks of SNPs:\n",
    "* SNPFilter applies filtering operations to the SNPs found by the \"peak finder\"\n",
    "* NCOFilter does some \"postprocessing\" steps to find NCOs within blocks\n",
    "\n",
    "When instantiating a filter object pass the constructor a dictionary with filter settings.\n",
    "\n",
    "Both filters have an `apply` method that takes a data frame as a parameter and returns a frame after applying its filters."
   ]
  },
  {
   "cell_type": "code",
   "execution_count": 18,
   "metadata": {},
   "outputs": [],
   "source": [
    "import pandas as pd\n",
    "import numpy as np\n",
    "import matplotlib.pyplot as plt"
   ]
  },
  {
   "cell_type": "code",
   "execution_count": 1,
   "metadata": {},
   "outputs": [],
   "source": [
    "from xo.filters import SNPFilter, NCOFilter"
   ]
  },
  {
   "cell_type": "code",
   "execution_count": 2,
   "metadata": {},
   "outputs": [],
   "source": [
    "sf = SNPFilter({})"
   ]
  },
  {
   "cell_type": "code",
   "execution_count": 4,
   "metadata": {},
   "outputs": [
    {
     "data": {
      "text/plain": [
       "(1, 10000)"
      ]
     },
     "execution_count": 4,
     "metadata": {},
     "output_type": "execute_result"
    }
   ],
   "source": [
    "sf.length_range"
   ]
  },
  {
   "cell_type": "code",
   "execution_count": 5,
   "metadata": {},
   "outputs": [],
   "source": [
    "nf = NCOFilter({})"
   ]
  },
  {
   "cell_type": "code",
   "execution_count": 6,
   "metadata": {},
   "outputs": [
    {
     "data": {
      "text/plain": [
       "0.9"
      ]
     },
     "execution_count": 6,
     "metadata": {},
     "output_type": "execute_result"
    }
   ],
   "source": [
    "nf.min_z"
   ]
  },
  {
   "cell_type": "code",
   "execution_count": 8,
   "metadata": {},
   "outputs": [],
   "source": [
    "df = pd.read_csv('../chr1.csv')"
   ]
  },
  {
   "cell_type": "code",
   "execution_count": 9,
   "metadata": {},
   "outputs": [
    {
     "data": {
      "text/html": [
       "<div>\n",
       "<style scoped>\n",
       "    .dataframe tbody tr th:only-of-type {\n",
       "        vertical-align: middle;\n",
       "    }\n",
       "\n",
       "    .dataframe tbody tr th {\n",
       "        vertical-align: top;\n",
       "    }\n",
       "\n",
       "    .dataframe thead th {\n",
       "        text-align: right;\n",
       "    }\n",
       "</style>\n",
       "<table border=\"1\" class=\"dataframe\">\n",
       "  <thead>\n",
       "    <tr style=\"text-align: right;\">\n",
       "      <th></th>\n",
       "      <th>SNP</th>\n",
       "      <th>Sample</th>\n",
       "      <th>chromosome</th>\n",
       "      <th>position</th>\n",
       "      <th>base_geno</th>\n",
       "      <th>hmm_state1</th>\n",
       "      <th>hmm_state2</th>\n",
       "      <th>reference</th>\n",
       "      <th>ref_reads</th>\n",
       "      <th>variant</th>\n",
       "      <th>var_reads</th>\n",
       "      <th>chrom_id</th>\n",
       "      <th>blk_id</th>\n",
       "      <th>background</th>\n",
       "      <th>chr_length</th>\n",
       "      <th>location</th>\n",
       "      <th>homozygosity</th>\n",
       "    </tr>\n",
       "  </thead>\n",
       "  <tbody>\n",
       "    <tr>\n",
       "      <th>0</th>\n",
       "      <td>67170</td>\n",
       "      <td>BSP-OR-001</td>\n",
       "      <td>3</td>\n",
       "      <td>31030</td>\n",
       "      <td>N2</td>\n",
       "      <td>N2</td>\n",
       "      <td>N2</td>\n",
       "      <td>T</td>\n",
       "      <td>8</td>\n",
       "      <td>G</td>\n",
       "      <td>0</td>\n",
       "      <td>BSP-OR-001-3</td>\n",
       "      <td>0</td>\n",
       "      <td>CB4856</td>\n",
       "      <td>13819453</td>\n",
       "      <td>0.002245</td>\n",
       "      <td>1.0</td>\n",
       "    </tr>\n",
       "    <tr>\n",
       "      <th>1</th>\n",
       "      <td>67176</td>\n",
       "      <td>BSP-OR-001</td>\n",
       "      <td>3</td>\n",
       "      <td>31065</td>\n",
       "      <td>N2</td>\n",
       "      <td>N2</td>\n",
       "      <td>N2</td>\n",
       "      <td>A</td>\n",
       "      <td>8</td>\n",
       "      <td>T</td>\n",
       "      <td>0</td>\n",
       "      <td>BSP-OR-001-3</td>\n",
       "      <td>0</td>\n",
       "      <td>CB4856</td>\n",
       "      <td>13819453</td>\n",
       "      <td>0.002248</td>\n",
       "      <td>1.0</td>\n",
       "    </tr>\n",
       "    <tr>\n",
       "      <th>2</th>\n",
       "      <td>67177</td>\n",
       "      <td>BSP-OR-001</td>\n",
       "      <td>3</td>\n",
       "      <td>31070</td>\n",
       "      <td>N2</td>\n",
       "      <td>N2</td>\n",
       "      <td>N2</td>\n",
       "      <td>C</td>\n",
       "      <td>8</td>\n",
       "      <td>T</td>\n",
       "      <td>0</td>\n",
       "      <td>BSP-OR-001-3</td>\n",
       "      <td>0</td>\n",
       "      <td>CB4856</td>\n",
       "      <td>13819453</td>\n",
       "      <td>0.002248</td>\n",
       "      <td>1.0</td>\n",
       "    </tr>\n",
       "    <tr>\n",
       "      <th>3</th>\n",
       "      <td>67512</td>\n",
       "      <td>BSP-OR-001</td>\n",
       "      <td>3</td>\n",
       "      <td>58714</td>\n",
       "      <td>N2</td>\n",
       "      <td>N2</td>\n",
       "      <td>unknown</td>\n",
       "      <td>T</td>\n",
       "      <td>9</td>\n",
       "      <td>G</td>\n",
       "      <td>0</td>\n",
       "      <td>BSP-OR-001-3</td>\n",
       "      <td>1</td>\n",
       "      <td>CB4856</td>\n",
       "      <td>13819453</td>\n",
       "      <td>0.004249</td>\n",
       "      <td>1.0</td>\n",
       "    </tr>\n",
       "    <tr>\n",
       "      <th>4</th>\n",
       "      <td>67647</td>\n",
       "      <td>BSP-OR-001</td>\n",
       "      <td>3</td>\n",
       "      <td>68256</td>\n",
       "      <td>N2</td>\n",
       "      <td>N2</td>\n",
       "      <td>N2</td>\n",
       "      <td>T</td>\n",
       "      <td>6</td>\n",
       "      <td>A</td>\n",
       "      <td>0</td>\n",
       "      <td>BSP-OR-001-3</td>\n",
       "      <td>2</td>\n",
       "      <td>CB4856</td>\n",
       "      <td>13819453</td>\n",
       "      <td>0.004939</td>\n",
       "      <td>1.0</td>\n",
       "    </tr>\n",
       "  </tbody>\n",
       "</table>\n",
       "</div>"
      ],
      "text/plain": [
       "     SNP      Sample  chromosome  position base_geno hmm_state1 hmm_state2  \\\n",
       "0  67170  BSP-OR-001           3     31030        N2         N2         N2   \n",
       "1  67176  BSP-OR-001           3     31065        N2         N2         N2   \n",
       "2  67177  BSP-OR-001           3     31070        N2         N2         N2   \n",
       "3  67512  BSP-OR-001           3     58714        N2         N2    unknown   \n",
       "4  67647  BSP-OR-001           3     68256        N2         N2         N2   \n",
       "\n",
       "  reference  ref_reads variant  var_reads      chrom_id  blk_id background  \\\n",
       "0         T          8       G          0  BSP-OR-001-3       0     CB4856   \n",
       "1         A          8       T          0  BSP-OR-001-3       0     CB4856   \n",
       "2         C          8       T          0  BSP-OR-001-3       0     CB4856   \n",
       "3         T          9       G          0  BSP-OR-001-3       1     CB4856   \n",
       "4         T          6       A          0  BSP-OR-001-3       2     CB4856   \n",
       "\n",
       "   chr_length  location  homozygosity  \n",
       "0    13819453  0.002245           1.0  \n",
       "1    13819453  0.002248           1.0  \n",
       "2    13819453  0.002248           1.0  \n",
       "3    13819453  0.004249           1.0  \n",
       "4    13819453  0.004939           1.0  "
      ]
     },
     "execution_count": 9,
     "metadata": {},
     "output_type": "execute_result"
    }
   ],
   "source": [
    "df.head()"
   ]
  },
  {
   "cell_type": "code",
   "execution_count": 11,
   "metadata": {},
   "outputs": [
    {
     "data": {
      "text/html": [
       "<div>\n",
       "<style scoped>\n",
       "    .dataframe tbody tr th:only-of-type {\n",
       "        vertical-align: middle;\n",
       "    }\n",
       "\n",
       "    .dataframe tbody tr th {\n",
       "        vertical-align: top;\n",
       "    }\n",
       "\n",
       "    .dataframe thead th {\n",
       "        text-align: right;\n",
       "    }\n",
       "</style>\n",
       "<table border=\"1\" class=\"dataframe\">\n",
       "  <thead>\n",
       "    <tr style=\"text-align: right;\">\n",
       "      <th></th>\n",
       "      <th>SNP</th>\n",
       "      <th>Sample</th>\n",
       "      <th>chromosome</th>\n",
       "      <th>position</th>\n",
       "      <th>base_geno</th>\n",
       "      <th>hmm_state1</th>\n",
       "      <th>hmm_state2</th>\n",
       "      <th>reference</th>\n",
       "      <th>ref_reads</th>\n",
       "      <th>variant</th>\n",
       "      <th>var_reads</th>\n",
       "      <th>chrom_id</th>\n",
       "      <th>blk_id</th>\n",
       "      <th>background</th>\n",
       "      <th>chr_length</th>\n",
       "      <th>location</th>\n",
       "      <th>homozygosity</th>\n",
       "    </tr>\n",
       "  </thead>\n",
       "  <tbody>\n",
       "    <tr>\n",
       "      <th>4</th>\n",
       "      <td>67647</td>\n",
       "      <td>BSP-OR-001</td>\n",
       "      <td>3</td>\n",
       "      <td>68256</td>\n",
       "      <td>N2</td>\n",
       "      <td>N2</td>\n",
       "      <td>N2</td>\n",
       "      <td>T</td>\n",
       "      <td>6</td>\n",
       "      <td>A</td>\n",
       "      <td>0</td>\n",
       "      <td>BSP-OR-001-3</td>\n",
       "      <td>2</td>\n",
       "      <td>CB4856</td>\n",
       "      <td>13819453</td>\n",
       "      <td>0.004939</td>\n",
       "      <td>1.0</td>\n",
       "    </tr>\n",
       "    <tr>\n",
       "      <th>5</th>\n",
       "      <td>67648</td>\n",
       "      <td>BSP-OR-001</td>\n",
       "      <td>3</td>\n",
       "      <td>68258</td>\n",
       "      <td>N2</td>\n",
       "      <td>N2</td>\n",
       "      <td>N2</td>\n",
       "      <td>C</td>\n",
       "      <td>6</td>\n",
       "      <td>T</td>\n",
       "      <td>0</td>\n",
       "      <td>BSP-OR-001-3</td>\n",
       "      <td>2</td>\n",
       "      <td>CB4856</td>\n",
       "      <td>13819453</td>\n",
       "      <td>0.004939</td>\n",
       "      <td>1.0</td>\n",
       "    </tr>\n",
       "    <tr>\n",
       "      <th>6</th>\n",
       "      <td>67649</td>\n",
       "      <td>BSP-OR-001</td>\n",
       "      <td>3</td>\n",
       "      <td>68267</td>\n",
       "      <td>N2</td>\n",
       "      <td>N2</td>\n",
       "      <td>N2</td>\n",
       "      <td>G</td>\n",
       "      <td>6</td>\n",
       "      <td>A</td>\n",
       "      <td>0</td>\n",
       "      <td>BSP-OR-001-3</td>\n",
       "      <td>2</td>\n",
       "      <td>CB4856</td>\n",
       "      <td>13819453</td>\n",
       "      <td>0.004940</td>\n",
       "      <td>1.0</td>\n",
       "    </tr>\n",
       "    <tr>\n",
       "      <th>7</th>\n",
       "      <td>67651</td>\n",
       "      <td>BSP-OR-001</td>\n",
       "      <td>3</td>\n",
       "      <td>68280</td>\n",
       "      <td>N2</td>\n",
       "      <td>N2</td>\n",
       "      <td>N2</td>\n",
       "      <td>T</td>\n",
       "      <td>4</td>\n",
       "      <td>C</td>\n",
       "      <td>0</td>\n",
       "      <td>BSP-OR-001-3</td>\n",
       "      <td>2</td>\n",
       "      <td>CB4856</td>\n",
       "      <td>13819453</td>\n",
       "      <td>0.004941</td>\n",
       "      <td>1.0</td>\n",
       "    </tr>\n",
       "    <tr>\n",
       "      <th>8</th>\n",
       "      <td>67659</td>\n",
       "      <td>BSP-OR-001</td>\n",
       "      <td>3</td>\n",
       "      <td>68496</td>\n",
       "      <td>N2</td>\n",
       "      <td>N2</td>\n",
       "      <td>N2</td>\n",
       "      <td>A</td>\n",
       "      <td>16</td>\n",
       "      <td>C</td>\n",
       "      <td>0</td>\n",
       "      <td>BSP-OR-001-3</td>\n",
       "      <td>2</td>\n",
       "      <td>CB4856</td>\n",
       "      <td>13819453</td>\n",
       "      <td>0.004956</td>\n",
       "      <td>1.0</td>\n",
       "    </tr>\n",
       "    <tr>\n",
       "      <th>...</th>\n",
       "      <td>...</td>\n",
       "      <td>...</td>\n",
       "      <td>...</td>\n",
       "      <td>...</td>\n",
       "      <td>...</td>\n",
       "      <td>...</td>\n",
       "      <td>...</td>\n",
       "      <td>...</td>\n",
       "      <td>...</td>\n",
       "      <td>...</td>\n",
       "      <td>...</td>\n",
       "      <td>...</td>\n",
       "      <td>...</td>\n",
       "      <td>...</td>\n",
       "      <td>...</td>\n",
       "      <td>...</td>\n",
       "      <td>...</td>\n",
       "    </tr>\n",
       "    <tr>\n",
       "      <th>2787</th>\n",
       "      <td>194470</td>\n",
       "      <td>BSP-OR-001</td>\n",
       "      <td>5</td>\n",
       "      <td>20615008</td>\n",
       "      <td>N2</td>\n",
       "      <td>CB4856</td>\n",
       "      <td>CB4856</td>\n",
       "      <td>C</td>\n",
       "      <td>16</td>\n",
       "      <td>T</td>\n",
       "      <td>0</td>\n",
       "      <td>BSP-OR-001-5</td>\n",
       "      <td>135</td>\n",
       "      <td>CB4856</td>\n",
       "      <td>20953657</td>\n",
       "      <td>0.983838</td>\n",
       "      <td>1.0</td>\n",
       "    </tr>\n",
       "    <tr>\n",
       "      <th>2788</th>\n",
       "      <td>194471</td>\n",
       "      <td>BSP-OR-001</td>\n",
       "      <td>5</td>\n",
       "      <td>20615011</td>\n",
       "      <td>N2</td>\n",
       "      <td>CB4856</td>\n",
       "      <td>CB4856</td>\n",
       "      <td>A</td>\n",
       "      <td>16</td>\n",
       "      <td>T</td>\n",
       "      <td>0</td>\n",
       "      <td>BSP-OR-001-5</td>\n",
       "      <td>135</td>\n",
       "      <td>CB4856</td>\n",
       "      <td>20953657</td>\n",
       "      <td>0.983838</td>\n",
       "      <td>1.0</td>\n",
       "    </tr>\n",
       "    <tr>\n",
       "      <th>2789</th>\n",
       "      <td>194472</td>\n",
       "      <td>BSP-OR-001</td>\n",
       "      <td>5</td>\n",
       "      <td>20615023</td>\n",
       "      <td>N2</td>\n",
       "      <td>CB4856</td>\n",
       "      <td>CB4856</td>\n",
       "      <td>A</td>\n",
       "      <td>16</td>\n",
       "      <td>C</td>\n",
       "      <td>0</td>\n",
       "      <td>BSP-OR-001-5</td>\n",
       "      <td>135</td>\n",
       "      <td>CB4856</td>\n",
       "      <td>20953657</td>\n",
       "      <td>0.983839</td>\n",
       "      <td>1.0</td>\n",
       "    </tr>\n",
       "    <tr>\n",
       "      <th>2790</th>\n",
       "      <td>194473</td>\n",
       "      <td>BSP-OR-001</td>\n",
       "      <td>5</td>\n",
       "      <td>20615025</td>\n",
       "      <td>N2</td>\n",
       "      <td>CB4856</td>\n",
       "      <td>CB4856</td>\n",
       "      <td>T</td>\n",
       "      <td>15</td>\n",
       "      <td>C</td>\n",
       "      <td>0</td>\n",
       "      <td>BSP-OR-001-5</td>\n",
       "      <td>135</td>\n",
       "      <td>CB4856</td>\n",
       "      <td>20953657</td>\n",
       "      <td>0.983839</td>\n",
       "      <td>1.0</td>\n",
       "    </tr>\n",
       "    <tr>\n",
       "      <th>2791</th>\n",
       "      <td>194474</td>\n",
       "      <td>BSP-OR-001</td>\n",
       "      <td>5</td>\n",
       "      <td>20615031</td>\n",
       "      <td>N2</td>\n",
       "      <td>CB4856</td>\n",
       "      <td>CB4856</td>\n",
       "      <td>C</td>\n",
       "      <td>17</td>\n",
       "      <td>T</td>\n",
       "      <td>0</td>\n",
       "      <td>BSP-OR-001-5</td>\n",
       "      <td>135</td>\n",
       "      <td>CB4856</td>\n",
       "      <td>20953657</td>\n",
       "      <td>0.983839</td>\n",
       "      <td>1.0</td>\n",
       "    </tr>\n",
       "  </tbody>\n",
       "</table>\n",
       "<p>930 rows × 17 columns</p>\n",
       "</div>"
      ],
      "text/plain": [
       "         SNP      Sample  chromosome  position base_geno hmm_state1  \\\n",
       "4      67647  BSP-OR-001           3     68256        N2         N2   \n",
       "5      67648  BSP-OR-001           3     68258        N2         N2   \n",
       "6      67649  BSP-OR-001           3     68267        N2         N2   \n",
       "7      67651  BSP-OR-001           3     68280        N2         N2   \n",
       "8      67659  BSP-OR-001           3     68496        N2         N2   \n",
       "...      ...         ...         ...       ...       ...        ...   \n",
       "2787  194470  BSP-OR-001           5  20615008        N2     CB4856   \n",
       "2788  194471  BSP-OR-001           5  20615011        N2     CB4856   \n",
       "2789  194472  BSP-OR-001           5  20615023        N2     CB4856   \n",
       "2790  194473  BSP-OR-001           5  20615025        N2     CB4856   \n",
       "2791  194474  BSP-OR-001           5  20615031        N2     CB4856   \n",
       "\n",
       "     hmm_state2 reference  ref_reads variant  var_reads      chrom_id  blk_id  \\\n",
       "4            N2         T          6       A          0  BSP-OR-001-3       2   \n",
       "5            N2         C          6       T          0  BSP-OR-001-3       2   \n",
       "6            N2         G          6       A          0  BSP-OR-001-3       2   \n",
       "7            N2         T          4       C          0  BSP-OR-001-3       2   \n",
       "8            N2         A         16       C          0  BSP-OR-001-3       2   \n",
       "...         ...       ...        ...     ...        ...           ...     ...   \n",
       "2787     CB4856         C         16       T          0  BSP-OR-001-5     135   \n",
       "2788     CB4856         A         16       T          0  BSP-OR-001-5     135   \n",
       "2789     CB4856         A         16       C          0  BSP-OR-001-5     135   \n",
       "2790     CB4856         T         15       C          0  BSP-OR-001-5     135   \n",
       "2791     CB4856         C         17       T          0  BSP-OR-001-5     135   \n",
       "\n",
       "     background  chr_length  location  homozygosity  \n",
       "4        CB4856    13819453  0.004939           1.0  \n",
       "5        CB4856    13819453  0.004939           1.0  \n",
       "6        CB4856    13819453  0.004940           1.0  \n",
       "7        CB4856    13819453  0.004941           1.0  \n",
       "8        CB4856    13819453  0.004956           1.0  \n",
       "...         ...         ...       ...           ...  \n",
       "2787     CB4856    20953657  0.983838           1.0  \n",
       "2788     CB4856    20953657  0.983838           1.0  \n",
       "2789     CB4856    20953657  0.983839           1.0  \n",
       "2790     CB4856    20953657  0.983839           1.0  \n",
       "2791     CB4856    20953657  0.983839           1.0  \n",
       "\n",
       "[930 rows x 17 columns]"
      ]
     },
     "execution_count": 11,
     "metadata": {},
     "output_type": "execute_result"
    }
   ],
   "source": [
    "nf.apply(df)"
   ]
  },
  {
   "cell_type": "markdown",
   "metadata": {},
   "source": [
    "### NCOs in the Full Data Set"
   ]
  },
  {
   "cell_type": "code",
   "execution_count": 12,
   "metadata": {},
   "outputs": [],
   "source": [
    "nf = NCOFilter({})"
   ]
  },
  {
   "cell_type": "code",
   "execution_count": 13,
   "metadata": {},
   "outputs": [],
   "source": [
    "blocks = pd.read_csv('../filtered.csv')"
   ]
  },
  {
   "cell_type": "code",
   "execution_count": 14,
   "metadata": {},
   "outputs": [
    {
     "data": {
      "text/plain": [
       "924195"
      ]
     },
     "execution_count": 14,
     "metadata": {},
     "output_type": "execute_result"
    }
   ],
   "source": [
    "len(blocks)"
   ]
  },
  {
   "cell_type": "code",
   "execution_count": 15,
   "metadata": {},
   "outputs": [
    {
     "data": {
      "text/html": [
       "<div>\n",
       "<style scoped>\n",
       "    .dataframe tbody tr th:only-of-type {\n",
       "        vertical-align: middle;\n",
       "    }\n",
       "\n",
       "    .dataframe tbody tr th {\n",
       "        vertical-align: top;\n",
       "    }\n",
       "\n",
       "    .dataframe thead th {\n",
       "        text-align: right;\n",
       "    }\n",
       "</style>\n",
       "<table border=\"1\" class=\"dataframe\">\n",
       "  <thead>\n",
       "    <tr style=\"text-align: right;\">\n",
       "      <th></th>\n",
       "      <th>Unnamed: 0</th>\n",
       "      <th>SNP</th>\n",
       "      <th>Sample</th>\n",
       "      <th>chromosome</th>\n",
       "      <th>position</th>\n",
       "      <th>base_geno</th>\n",
       "      <th>hmm_state1</th>\n",
       "      <th>hmm_state2</th>\n",
       "      <th>reference</th>\n",
       "      <th>ref_reads</th>\n",
       "      <th>variant</th>\n",
       "      <th>var_reads</th>\n",
       "      <th>chrom_id</th>\n",
       "      <th>blk_id</th>\n",
       "      <th>background</th>\n",
       "      <th>chr_length</th>\n",
       "      <th>location</th>\n",
       "      <th>homozygosity</th>\n",
       "    </tr>\n",
       "  </thead>\n",
       "  <tbody>\n",
       "    <tr>\n",
       "      <th>0</th>\n",
       "      <td>2</td>\n",
       "      <td>67170</td>\n",
       "      <td>BSP-OR-001</td>\n",
       "      <td>3</td>\n",
       "      <td>31030</td>\n",
       "      <td>N2</td>\n",
       "      <td>N2</td>\n",
       "      <td>N2</td>\n",
       "      <td>T</td>\n",
       "      <td>8</td>\n",
       "      <td>G</td>\n",
       "      <td>0</td>\n",
       "      <td>BSP-OR-001-3</td>\n",
       "      <td>0</td>\n",
       "      <td>CB4856</td>\n",
       "      <td>13819453</td>\n",
       "      <td>0.002245</td>\n",
       "      <td>1.0</td>\n",
       "    </tr>\n",
       "    <tr>\n",
       "      <th>1</th>\n",
       "      <td>8</td>\n",
       "      <td>67176</td>\n",
       "      <td>BSP-OR-001</td>\n",
       "      <td>3</td>\n",
       "      <td>31065</td>\n",
       "      <td>N2</td>\n",
       "      <td>N2</td>\n",
       "      <td>N2</td>\n",
       "      <td>A</td>\n",
       "      <td>8</td>\n",
       "      <td>T</td>\n",
       "      <td>0</td>\n",
       "      <td>BSP-OR-001-3</td>\n",
       "      <td>0</td>\n",
       "      <td>CB4856</td>\n",
       "      <td>13819453</td>\n",
       "      <td>0.002248</td>\n",
       "      <td>1.0</td>\n",
       "    </tr>\n",
       "    <tr>\n",
       "      <th>2</th>\n",
       "      <td>9</td>\n",
       "      <td>67177</td>\n",
       "      <td>BSP-OR-001</td>\n",
       "      <td>3</td>\n",
       "      <td>31070</td>\n",
       "      <td>N2</td>\n",
       "      <td>N2</td>\n",
       "      <td>N2</td>\n",
       "      <td>C</td>\n",
       "      <td>8</td>\n",
       "      <td>T</td>\n",
       "      <td>0</td>\n",
       "      <td>BSP-OR-001-3</td>\n",
       "      <td>0</td>\n",
       "      <td>CB4856</td>\n",
       "      <td>13819453</td>\n",
       "      <td>0.002248</td>\n",
       "      <td>1.0</td>\n",
       "    </tr>\n",
       "    <tr>\n",
       "      <th>3</th>\n",
       "      <td>25</td>\n",
       "      <td>67512</td>\n",
       "      <td>BSP-OR-001</td>\n",
       "      <td>3</td>\n",
       "      <td>58714</td>\n",
       "      <td>N2</td>\n",
       "      <td>N2</td>\n",
       "      <td>unknown</td>\n",
       "      <td>T</td>\n",
       "      <td>9</td>\n",
       "      <td>G</td>\n",
       "      <td>0</td>\n",
       "      <td>BSP-OR-001-3</td>\n",
       "      <td>1</td>\n",
       "      <td>CB4856</td>\n",
       "      <td>13819453</td>\n",
       "      <td>0.004249</td>\n",
       "      <td>1.0</td>\n",
       "    </tr>\n",
       "    <tr>\n",
       "      <th>4</th>\n",
       "      <td>34</td>\n",
       "      <td>67647</td>\n",
       "      <td>BSP-OR-001</td>\n",
       "      <td>3</td>\n",
       "      <td>68256</td>\n",
       "      <td>N2</td>\n",
       "      <td>N2</td>\n",
       "      <td>N2</td>\n",
       "      <td>T</td>\n",
       "      <td>6</td>\n",
       "      <td>A</td>\n",
       "      <td>0</td>\n",
       "      <td>BSP-OR-001-3</td>\n",
       "      <td>2</td>\n",
       "      <td>CB4856</td>\n",
       "      <td>13819453</td>\n",
       "      <td>0.004939</td>\n",
       "      <td>1.0</td>\n",
       "    </tr>\n",
       "  </tbody>\n",
       "</table>\n",
       "</div>"
      ],
      "text/plain": [
       "   Unnamed: 0    SNP      Sample  chromosome  position base_geno hmm_state1  \\\n",
       "0           2  67170  BSP-OR-001           3     31030        N2         N2   \n",
       "1           8  67176  BSP-OR-001           3     31065        N2         N2   \n",
       "2           9  67177  BSP-OR-001           3     31070        N2         N2   \n",
       "3          25  67512  BSP-OR-001           3     58714        N2         N2   \n",
       "4          34  67647  BSP-OR-001           3     68256        N2         N2   \n",
       "\n",
       "  hmm_state2 reference  ref_reads variant  var_reads      chrom_id  blk_id  \\\n",
       "0         N2         T          8       G          0  BSP-OR-001-3       0   \n",
       "1         N2         A          8       T          0  BSP-OR-001-3       0   \n",
       "2         N2         C          8       T          0  BSP-OR-001-3       0   \n",
       "3    unknown         T          9       G          0  BSP-OR-001-3       1   \n",
       "4         N2         T          6       A          0  BSP-OR-001-3       2   \n",
       "\n",
       "  background  chr_length  location  homozygosity  \n",
       "0     CB4856    13819453  0.002245           1.0  \n",
       "1     CB4856    13819453  0.002248           1.0  \n",
       "2     CB4856    13819453  0.002248           1.0  \n",
       "3     CB4856    13819453  0.004249           1.0  \n",
       "4     CB4856    13819453  0.004939           1.0  "
      ]
     },
     "execution_count": 15,
     "metadata": {},
     "output_type": "execute_result"
    }
   ],
   "source": [
    "blocks.head()"
   ]
  },
  {
   "cell_type": "code",
   "execution_count": 16,
   "metadata": {},
   "outputs": [],
   "source": [
    "coverage = blocks.ref_reads + blocks.var_reads"
   ]
  },
  {
   "cell_type": "code",
   "execution_count": 20,
   "metadata": {},
   "outputs": [
    {
     "data": {
      "text/plain": [
       "0    8\n",
       "1    8\n",
       "2    8\n",
       "3    9\n",
       "4    6\n",
       "dtype: int64"
      ]
     },
     "execution_count": 20,
     "metadata": {},
     "output_type": "execute_result"
    }
   ],
   "source": [
    "coverage.head()"
   ]
  },
  {
   "cell_type": "code",
   "execution_count": 23,
   "metadata": {},
   "outputs": [
    {
     "data": {
      "text/plain": [
       "np.float64(17.899957260102035)"
      ]
     },
     "execution_count": 23,
     "metadata": {},
     "output_type": "execute_result"
    }
   ],
   "source": [
    "coverage.mean()"
   ]
  },
  {
   "cell_type": "code",
   "execution_count": 38,
   "metadata": {},
   "outputs": [
    {
     "data": {
      "text/plain": [
       "np.float64(24.940459661773144)"
      ]
     },
     "execution_count": 38,
     "metadata": {},
     "output_type": "execute_result"
    }
   ],
   "source": [
    "coverage.std()"
   ]
  },
  {
   "cell_type": "code",
   "execution_count": 25,
   "metadata": {},
   "outputs": [
    {
     "data": {
      "text/plain": [
       "np.float64(27.6672550957502)"
      ]
     },
     "execution_count": 25,
     "metadata": {},
     "output_type": "execute_result"
    }
   ],
   "source": [
    "coverage[coverage > 10].mean()"
   ]
  },
  {
   "cell_type": "code",
   "execution_count": 22,
   "metadata": {},
   "outputs": [
    {
     "data": {
      "text/plain": [
       "(array([5.0981e+05, 7.1200e+02, 2.4200e+02, 1.0400e+02, 4.5000e+01,\n",
       "        3.4000e+01, 1.3000e+01, 4.0000e+00, 0.0000e+00, 1.0000e+00]),\n",
       " array([  11. ,  220.4,  429.8,  639.2,  848.6, 1058. , 1267.4, 1476.8,\n",
       "        1686.2, 1895.6, 2105. ]),\n",
       " <BarContainer object of 10 artists>)"
      ]
     },
     "execution_count": 22,
     "metadata": {},
     "output_type": "execute_result"
    },
    {
     "data": {
      "image/png": "[encoded data removed]",
      "text/plain": [
       "<Figure size 640x480 with 1 Axes>"
      ]
     },
     "metadata": {},
     "output_type": "display_data"
    }
   ],
   "source": [
    "plt.hist(coverage[coverage > 10])"
   ]
  },
  {
   "cell_type": "code",
   "execution_count": 26,
   "metadata": {},
   "outputs": [
    {
     "data": {
      "text/plain": [
       "(array([43359., 48513., 52854.,     0., 50720., 50403.,     0., 46353.,\n",
       "        44297., 39796.]),\n",
       " array([2. , 2.7, 3.4, 4.1, 4.8, 5.5, 6.2, 6.9, 7.6, 8.3, 9. ]),\n",
       " <BarContainer object of 10 artists>)"
      ]
     },
     "execution_count": 26,
     "metadata": {},
     "output_type": "execute_result"
    },
    {
     "data": {
      "image/png": "[encoded data removed]",
      "text/plain": [
       "<Figure size 640x480 with 1 Axes>"
      ]
     },
     "metadata": {},
     "output_type": "display_data"
    }
   ],
   "source": [
    "plt.hist(coverage[coverage < 10])"
   ]
  },
  {
   "cell_type": "code",
   "execution_count": 27,
   "metadata": {},
   "outputs": [
    {
     "data": {
      "text/plain": [
       "(array([ 91872., 103574.,  96756.,  44297.,  76731.,  65734.,  29564.,\n",
       "         54543.,  48505.,  41542.]),\n",
       " array([ 2. ,  3.7,  5.4,  7.1,  8.8, 10.5, 12.2, 13.9, 15.6, 17.3, 19. ]),\n",
       " <BarContainer object of 10 artists>)"
      ]
     },
     "execution_count": 27,
     "metadata": {},
     "output_type": "execute_result"
    },
    {
     "data": {
      "image/png": "[encoded data removed]",
      "text/plain": [
       "<Figure size 640x480 with 1 Axes>"
      ]
     },
     "metadata": {},
     "output_type": "display_data"
    }
   ],
   "source": [
    "plt.hist(coverage[coverage < 20])"
   ]
  },
  {
   "cell_type": "code",
   "execution_count": 28,
   "metadata": {},
   "outputs": [
    {
     "data": {
      "text/plain": [
       "(array([144726., 147476., 121028.,  65734.,  84107.,  70113.,  38542.,\n",
       "         46373.,  36631.,  28340.]),\n",
       " array([ 2. ,  4.7,  7.4, 10.1, 12.8, 15.5, 18.2, 20.9, 23.6, 26.3, 29. ]),\n",
       " <BarContainer object of 10 artists>)"
      ]
     },
     "execution_count": 28,
     "metadata": {},
     "output_type": "execute_result"
    },
    {
     "data": {
      "image/png": "[encoded data removed]",
      "text/plain": [
       "<Figure size 640x480 with 1 Axes>"
      ]
     },
     "metadata": {},
     "output_type": "display_data"
    }
   ],
   "source": [
    "plt.hist(coverage[coverage < 30])"
   ]
  },
  {
   "cell_type": "code",
   "execution_count": 32,
   "metadata": {},
   "outputs": [
    {
     "data": {
      "text/plain": [
       "(array([43953., 26038., 17220., 13739., 11693.,  8927.,  6233.,  4214.,\n",
       "         2435.,  1532.]),\n",
       " array([30. , 36.9, 43.8, 50.7, 57.6, 64.5, 71.4, 78.3, 85.2, 92.1, 99. ]),\n",
       " <BarContainer object of 10 artists>)"
      ]
     },
     "execution_count": 32,
     "metadata": {},
     "output_type": "execute_result"
    },
    {
     "data": {
      "image/png": "[encoded data removed]",
      "text/plain": [
       "<Figure size 640x480 with 1 Axes>"
      ]
     },
     "metadata": {},
     "output_type": "display_data"
    }
   ],
   "source": [
    "plt.hist(coverage[(coverage >= 30) & (coverage < 100)])"
   ]
  },
  {
   "cell_type": "code",
   "execution_count": 33,
   "metadata": {},
   "outputs": [
    {
     "data": {
      "text/plain": [
       "(array([447375., 241098., 109760.,  45189.,  26859.,  19132.,  12969.,\n",
       "          9252.,   4988.,   2432.]),\n",
       " array([ 2. , 11.7, 21.4, 31.1, 40.8, 50.5, 60.2, 69.9, 79.6, 89.3, 99. ]),\n",
       " <BarContainer object of 10 artists>)"
      ]
     },
     "execution_count": 33,
     "metadata": {},
     "output_type": "execute_result"
    },
    {
     "data": {
      "image/png": "[encoded data removed]",
      "text/plain": [
       "<Figure size 640x480 with 1 Axes>"
      ]
     },
     "metadata": {},
     "output_type": "display_data"
    }
   ],
   "source": [
    "plt.hist(coverage[coverage < 100])"
   ]
  },
  {
   "cell_type": "code",
   "execution_count": 34,
   "metadata": {},
   "outputs": [
    {
     "data": {
      "text/plain": [
       "5141"
      ]
     },
     "execution_count": 34,
     "metadata": {},
     "output_type": "execute_result"
    }
   ],
   "source": [
    "len(coverage[coverage >= 100])"
   ]
  },
  {
   "cell_type": "code",
   "execution_count": 37,
   "metadata": {},
   "outputs": [
    {
     "data": {
      "text/html": [
       "<div>\n",
       "<style scoped>\n",
       "    .dataframe tbody tr th:only-of-type {\n",
       "        vertical-align: middle;\n",
       "    }\n",
       "\n",
       "    .dataframe tbody tr th {\n",
       "        vertical-align: top;\n",
       "    }\n",
       "\n",
       "    .dataframe thead th {\n",
       "        text-align: right;\n",
       "    }\n",
       "</style>\n",
       "<table border=\"1\" class=\"dataframe\">\n",
       "  <thead>\n",
       "    <tr style=\"text-align: right;\">\n",
       "      <th></th>\n",
       "      <th>Unnamed: 0</th>\n",
       "      <th>SNP</th>\n",
       "      <th>position</th>\n",
       "      <th>ref_reads</th>\n",
       "      <th>var_reads</th>\n",
       "      <th>blk_id</th>\n",
       "      <th>chr_length</th>\n",
       "      <th>location</th>\n",
       "      <th>homozygosity</th>\n",
       "    </tr>\n",
       "    <tr>\n",
       "      <th>chromosome</th>\n",
       "      <th></th>\n",
       "      <th></th>\n",
       "      <th></th>\n",
       "      <th></th>\n",
       "      <th></th>\n",
       "      <th></th>\n",
       "      <th></th>\n",
       "      <th></th>\n",
       "      <th></th>\n",
       "    </tr>\n",
       "  </thead>\n",
       "  <tbody>\n",
       "    <tr>\n",
       "      <th>1</th>\n",
       "      <td>6433789</td>\n",
       "      <td>23162</td>\n",
       "      <td>14913785</td>\n",
       "      <td>331</td>\n",
       "      <td>101</td>\n",
       "      <td>35</td>\n",
       "      <td>15114068</td>\n",
       "      <td>0.986749</td>\n",
       "      <td>1.0</td>\n",
       "    </tr>\n",
       "    <tr>\n",
       "      <th>2</th>\n",
       "      <td>6443362</td>\n",
       "      <td>66564</td>\n",
       "      <td>15311529</td>\n",
       "      <td>625</td>\n",
       "      <td>216</td>\n",
       "      <td>132</td>\n",
       "      <td>15311845</td>\n",
       "      <td>0.999979</td>\n",
       "      <td>1.0</td>\n",
       "    </tr>\n",
       "    <tr>\n",
       "      <th>3</th>\n",
       "      <td>6443846</td>\n",
       "      <td>90236</td>\n",
       "      <td>13624388</td>\n",
       "      <td>392</td>\n",
       "      <td>160</td>\n",
       "      <td>51</td>\n",
       "      <td>13819453</td>\n",
       "      <td>0.985885</td>\n",
       "      <td>1.0</td>\n",
       "    </tr>\n",
       "    <tr>\n",
       "      <th>4</th>\n",
       "      <td>6443900</td>\n",
       "      <td>115728</td>\n",
       "      <td>17071670</td>\n",
       "      <td>1579</td>\n",
       "      <td>133</td>\n",
       "      <td>37</td>\n",
       "      <td>17493838</td>\n",
       "      <td>0.975868</td>\n",
       "      <td>1.0</td>\n",
       "    </tr>\n",
       "    <tr>\n",
       "      <th>5</th>\n",
       "      <td>6446438</td>\n",
       "      <td>195955</td>\n",
       "      <td>20752781</td>\n",
       "      <td>2105</td>\n",
       "      <td>222</td>\n",
       "      <td>291</td>\n",
       "      <td>20953657</td>\n",
       "      <td>0.990413</td>\n",
       "      <td>1.0</td>\n",
       "    </tr>\n",
       "    <tr>\n",
       "      <th>6</th>\n",
       "      <td>6426366</td>\n",
       "      <td>212560</td>\n",
       "      <td>15827557</td>\n",
       "      <td>970</td>\n",
       "      <td>115</td>\n",
       "      <td>13</td>\n",
       "      <td>17739129</td>\n",
       "      <td>0.892240</td>\n",
       "      <td>1.0</td>\n",
       "    </tr>\n",
       "  </tbody>\n",
       "</table>\n",
       "</div>"
      ],
      "text/plain": [
       "            Unnamed: 0     SNP  position  ref_reads  var_reads  blk_id  \\\n",
       "chromosome                                                               \n",
       "1              6433789   23162  14913785        331        101      35   \n",
       "2              6443362   66564  15311529        625        216     132   \n",
       "3              6443846   90236  13624388        392        160      51   \n",
       "4              6443900  115728  17071670       1579        133      37   \n",
       "5              6446438  195955  20752781       2105        222     291   \n",
       "6              6426366  212560  15827557        970        115      13   \n",
       "\n",
       "            chr_length  location  homozygosity  \n",
       "chromosome                                      \n",
       "1             15114068  0.986749           1.0  \n",
       "2             15311845  0.999979           1.0  \n",
       "3             13819453  0.985885           1.0  \n",
       "4             17493838  0.975868           1.0  \n",
       "5             20953657  0.990413           1.0  \n",
       "6             17739129  0.892240           1.0  "
      ]
     },
     "execution_count": 37,
     "metadata": {},
     "output_type": "execute_result"
    }
   ],
   "source": [
    "blocks.groupby('chromosome').max('var_reads')"
   ]
  },
  {
   "cell_type": "code",
   "execution_count": null,
   "metadata": {},
   "outputs": [],
   "source": []
  }
 ],
 "metadata": {
  "kernelspec": {
   "display_name": "XO",
   "language": "python",
   "name": "python3"
  },
  "language_info": {
   "codemirror_mode": {
    "name": "ipython",
    "version": 3
   },
   "file_extension": ".py",
   "mimetype": "text/x-python",
   "name": "python",
   "nbconvert_exporter": "python",
   "pygments_lexer": "ipython3",
   "version": "3.12.4"
  }
 },
 "nbformat": 4,
 "nbformat_minor": 2
}
