{
 "cells": [
  {
   "cell_type": "markdown",
   "metadata": {},
   "source": [
    "### Filters"
   ]
  },
  {
   "cell_type": "markdown",
   "metadata": {},
   "source": [
    "The `filters` module defines two classes that process blocks of SNPs:\n",
    "* SNPFilter applies filtering operations to the SNPs found by the \"peak finder\"\n",
    "* NCOFilter does some \"postprocessing\" steps to find NCOs within blocks\n",
    "\n",
    "When instantiating a filter object pass the constructor a dictionary with filter settings.\n",
    "\n",
    "Both filters have an `apply` method that takes a data frame as a parameter and returns a frame after applying its filters."
   ]
  },
  {
   "cell_type": "code",
   "execution_count": 1,
   "metadata": {},
   "outputs": [],
   "source": [
    "import pandas as pd\n",
    "import numpy as np\n",
    "import matplotlib.pyplot as plt"
   ]
  },
  {
   "cell_type": "code",
   "execution_count": 2,
   "metadata": {},
   "outputs": [],
   "source": [
    "from xo.filters import SNPFilter, NCOFilter"
   ]
  },
  {
   "cell_type": "code",
   "execution_count": 3,
   "metadata": {},
   "outputs": [],
   "source": [
    "sf = SNPFilter({})"
   ]
  },
  {
   "cell_type": "code",
   "execution_count": 4,
   "metadata": {},
   "outputs": [
    {
     "data": {
      "text/plain": [
       "(0, 10000)"
      ]
     },
     "execution_count": 4,
     "metadata": {},
     "output_type": "execute_result"
    }
   ],
   "source": [
    "sf.length_range"
   ]
  },
  {
   "cell_type": "code",
   "execution_count": 5,
   "metadata": {},
   "outputs": [],
   "source": [
    "nf = NCOFilter({})"
   ]
  },
  {
   "cell_type": "code",
   "execution_count": 6,
   "metadata": {},
   "outputs": [
    {
     "data": {
      "text/plain": [
       "0.9"
      ]
     },
     "execution_count": 6,
     "metadata": {},
     "output_type": "execute_result"
    }
   ],
   "source": [
    "nf.min_z"
   ]
  },
  {
   "cell_type": "code",
   "execution_count": 7,
   "metadata": {},
   "outputs": [],
   "source": [
    "df = pd.read_csv('../chr1.csv')"
   ]
  },
  {
   "cell_type": "code",
   "execution_count": 8,
   "metadata": {},
   "outputs": [
    {
     "data": {
      "text/html": [
       "<div>\n",
       "<style scoped>\n",
       "    .dataframe tbody tr th:only-of-type {\n",
       "        vertical-align: middle;\n",
       "    }\n",
       "\n",
       "    .dataframe tbody tr th {\n",
       "        vertical-align: top;\n",
       "    }\n",
       "\n",
       "    .dataframe thead th {\n",
       "        text-align: right;\n",
       "    }\n",
       "</style>\n",
       "<table border=\"1\" class=\"dataframe\">\n",
       "  <thead>\n",
       "    <tr style=\"text-align: right;\">\n",
       "      <th></th>\n",
       "      <th>SNP</th>\n",
       "      <th>Sample</th>\n",
       "      <th>chromosome</th>\n",
       "      <th>position</th>\n",
       "      <th>base_geno</th>\n",
       "      <th>hmm_state1</th>\n",
       "      <th>hmm_state2</th>\n",
       "      <th>reference</th>\n",
       "      <th>ref_reads</th>\n",
       "      <th>variant</th>\n",
       "      <th>var_reads</th>\n",
       "      <th>chrom_id</th>\n",
       "      <th>blk_id</th>\n",
       "      <th>background</th>\n",
       "      <th>chr_length</th>\n",
       "      <th>location</th>\n",
       "      <th>homozygosity</th>\n",
       "    </tr>\n",
       "  </thead>\n",
       "  <tbody>\n",
       "    <tr>\n",
       "      <th>0</th>\n",
       "      <td>67168</td>\n",
       "      <td>BSP-OR-001</td>\n",
       "      <td>3</td>\n",
       "      <td>31010</td>\n",
       "      <td>unknown</td>\n",
       "      <td>N2</td>\n",
       "      <td>unknown</td>\n",
       "      <td>G</td>\n",
       "      <td>0</td>\n",
       "      <td>A</td>\n",
       "      <td>0</td>\n",
       "      <td>BSP-OR-001-3</td>\n",
       "      <td>0</td>\n",
       "      <td>CB4856</td>\n",
       "      <td>13819453</td>\n",
       "      <td>0.002244</td>\n",
       "      <td>NaN</td>\n",
       "    </tr>\n",
       "    <tr>\n",
       "      <th>1</th>\n",
       "      <td>67169</td>\n",
       "      <td>BSP-OR-001</td>\n",
       "      <td>3</td>\n",
       "      <td>31025</td>\n",
       "      <td>unknown</td>\n",
       "      <td>N2</td>\n",
       "      <td>unknown</td>\n",
       "      <td>C</td>\n",
       "      <td>0</td>\n",
       "      <td>T</td>\n",
       "      <td>0</td>\n",
       "      <td>BSP-OR-001-3</td>\n",
       "      <td>0</td>\n",
       "      <td>CB4856</td>\n",
       "      <td>13819453</td>\n",
       "      <td>0.002245</td>\n",
       "      <td>NaN</td>\n",
       "    </tr>\n",
       "    <tr>\n",
       "      <th>2</th>\n",
       "      <td>67170</td>\n",
       "      <td>BSP-OR-001</td>\n",
       "      <td>3</td>\n",
       "      <td>31030</td>\n",
       "      <td>N2</td>\n",
       "      <td>N2</td>\n",
       "      <td>N2</td>\n",
       "      <td>T</td>\n",
       "      <td>8</td>\n",
       "      <td>G</td>\n",
       "      <td>0</td>\n",
       "      <td>BSP-OR-001-3</td>\n",
       "      <td>0</td>\n",
       "      <td>CB4856</td>\n",
       "      <td>13819453</td>\n",
       "      <td>0.002245</td>\n",
       "      <td>1.0</td>\n",
       "    </tr>\n",
       "    <tr>\n",
       "      <th>3</th>\n",
       "      <td>67171</td>\n",
       "      <td>BSP-OR-001</td>\n",
       "      <td>3</td>\n",
       "      <td>31031</td>\n",
       "      <td>unknown</td>\n",
       "      <td>N2</td>\n",
       "      <td>N2</td>\n",
       "      <td>C</td>\n",
       "      <td>0</td>\n",
       "      <td>T</td>\n",
       "      <td>0</td>\n",
       "      <td>BSP-OR-001-3</td>\n",
       "      <td>0</td>\n",
       "      <td>CB4856</td>\n",
       "      <td>13819453</td>\n",
       "      <td>0.002245</td>\n",
       "      <td>NaN</td>\n",
       "    </tr>\n",
       "    <tr>\n",
       "      <th>4</th>\n",
       "      <td>67172</td>\n",
       "      <td>BSP-OR-001</td>\n",
       "      <td>3</td>\n",
       "      <td>31036</td>\n",
       "      <td>unknown</td>\n",
       "      <td>N2</td>\n",
       "      <td>N2</td>\n",
       "      <td>A</td>\n",
       "      <td>0</td>\n",
       "      <td>G</td>\n",
       "      <td>0</td>\n",
       "      <td>BSP-OR-001-3</td>\n",
       "      <td>0</td>\n",
       "      <td>CB4856</td>\n",
       "      <td>13819453</td>\n",
       "      <td>0.002246</td>\n",
       "      <td>NaN</td>\n",
       "    </tr>\n",
       "  </tbody>\n",
       "</table>\n",
       "</div>"
      ],
      "text/plain": [
       "     SNP      Sample  chromosome  position base_geno hmm_state1 hmm_state2  \\\n",
       "0  67168  BSP-OR-001           3     31010   unknown         N2    unknown   \n",
       "1  67169  BSP-OR-001           3     31025   unknown         N2    unknown   \n",
       "2  67170  BSP-OR-001           3     31030        N2         N2         N2   \n",
       "3  67171  BSP-OR-001           3     31031   unknown         N2         N2   \n",
       "4  67172  BSP-OR-001           3     31036   unknown         N2         N2   \n",
       "\n",
       "  reference  ref_reads variant  var_reads      chrom_id  blk_id background  \\\n",
       "0         G          0       A          0  BSP-OR-001-3       0     CB4856   \n",
       "1         C          0       T          0  BSP-OR-001-3       0     CB4856   \n",
       "2         T          8       G          0  BSP-OR-001-3       0     CB4856   \n",
       "3         C          0       T          0  BSP-OR-001-3       0     CB4856   \n",
       "4         A          0       G          0  BSP-OR-001-3       0     CB4856   \n",
       "\n",
       "   chr_length  location  homozygosity  \n",
       "0    13819453  0.002244           NaN  \n",
       "1    13819453  0.002245           NaN  \n",
       "2    13819453  0.002245           1.0  \n",
       "3    13819453  0.002245           NaN  \n",
       "4    13819453  0.002246           NaN  "
      ]
     },
     "execution_count": 8,
     "metadata": {},
     "output_type": "execute_result"
    }
   ],
   "source": [
    "df.head()"
   ]
  },
  {
   "cell_type": "code",
   "execution_count": 9,
   "metadata": {},
   "outputs": [
    {
     "data": {
      "text/html": [
       "<div>\n",
       "<style scoped>\n",
       "    .dataframe tbody tr th:only-of-type {\n",
       "        vertical-align: middle;\n",
       "    }\n",
       "\n",
       "    .dataframe tbody tr th {\n",
       "        vertical-align: top;\n",
       "    }\n",
       "\n",
       "    .dataframe thead th {\n",
       "        text-align: right;\n",
       "    }\n",
       "</style>\n",
       "<table border=\"1\" class=\"dataframe\">\n",
       "  <thead>\n",
       "    <tr style=\"text-align: right;\">\n",
       "      <th></th>\n",
       "      <th>SNP</th>\n",
       "      <th>Sample</th>\n",
       "      <th>chromosome</th>\n",
       "      <th>position</th>\n",
       "      <th>base_geno</th>\n",
       "      <th>hmm_state1</th>\n",
       "      <th>hmm_state2</th>\n",
       "      <th>reference</th>\n",
       "      <th>ref_reads</th>\n",
       "      <th>variant</th>\n",
       "      <th>var_reads</th>\n",
       "      <th>chrom_id</th>\n",
       "      <th>blk_id</th>\n",
       "      <th>background</th>\n",
       "      <th>chr_length</th>\n",
       "      <th>location</th>\n",
       "      <th>homozygosity</th>\n",
       "    </tr>\n",
       "  </thead>\n",
       "  <tbody>\n",
       "    <tr>\n",
       "      <th>46</th>\n",
       "      <td>67659</td>\n",
       "      <td>BSP-OR-001</td>\n",
       "      <td>3</td>\n",
       "      <td>68496</td>\n",
       "      <td>N2</td>\n",
       "      <td>N2</td>\n",
       "      <td>N2</td>\n",
       "      <td>A</td>\n",
       "      <td>16</td>\n",
       "      <td>C</td>\n",
       "      <td>0</td>\n",
       "      <td>BSP-OR-001-3</td>\n",
       "      <td>2</td>\n",
       "      <td>CB4856</td>\n",
       "      <td>13819453</td>\n",
       "      <td>0.004956</td>\n",
       "      <td>1.0</td>\n",
       "    </tr>\n",
       "    <tr>\n",
       "      <th>47</th>\n",
       "      <td>67660</td>\n",
       "      <td>BSP-OR-001</td>\n",
       "      <td>3</td>\n",
       "      <td>68500</td>\n",
       "      <td>N2</td>\n",
       "      <td>N2</td>\n",
       "      <td>N2</td>\n",
       "      <td>G</td>\n",
       "      <td>14</td>\n",
       "      <td>A</td>\n",
       "      <td>0</td>\n",
       "      <td>BSP-OR-001-3</td>\n",
       "      <td>2</td>\n",
       "      <td>CB4856</td>\n",
       "      <td>13819453</td>\n",
       "      <td>0.004957</td>\n",
       "      <td>1.0</td>\n",
       "    </tr>\n",
       "    <tr>\n",
       "      <th>48</th>\n",
       "      <td>67661</td>\n",
       "      <td>BSP-OR-001</td>\n",
       "      <td>3</td>\n",
       "      <td>68505</td>\n",
       "      <td>N2</td>\n",
       "      <td>N2</td>\n",
       "      <td>N2</td>\n",
       "      <td>C</td>\n",
       "      <td>16</td>\n",
       "      <td>T</td>\n",
       "      <td>0</td>\n",
       "      <td>BSP-OR-001-3</td>\n",
       "      <td>2</td>\n",
       "      <td>CB4856</td>\n",
       "      <td>13819453</td>\n",
       "      <td>0.004957</td>\n",
       "      <td>1.0</td>\n",
       "    </tr>\n",
       "    <tr>\n",
       "      <th>49</th>\n",
       "      <td>67662</td>\n",
       "      <td>BSP-OR-001</td>\n",
       "      <td>3</td>\n",
       "      <td>68513</td>\n",
       "      <td>N2</td>\n",
       "      <td>N2</td>\n",
       "      <td>N2</td>\n",
       "      <td>T</td>\n",
       "      <td>16</td>\n",
       "      <td>C</td>\n",
       "      <td>0</td>\n",
       "      <td>BSP-OR-001-3</td>\n",
       "      <td>2</td>\n",
       "      <td>CB4856</td>\n",
       "      <td>13819453</td>\n",
       "      <td>0.004958</td>\n",
       "      <td>1.0</td>\n",
       "    </tr>\n",
       "    <tr>\n",
       "      <th>50</th>\n",
       "      <td>67663</td>\n",
       "      <td>BSP-OR-001</td>\n",
       "      <td>3</td>\n",
       "      <td>68553</td>\n",
       "      <td>N2</td>\n",
       "      <td>N2</td>\n",
       "      <td>N2</td>\n",
       "      <td>T</td>\n",
       "      <td>12</td>\n",
       "      <td>A</td>\n",
       "      <td>0</td>\n",
       "      <td>BSP-OR-001-3</td>\n",
       "      <td>2</td>\n",
       "      <td>CB4856</td>\n",
       "      <td>13819453</td>\n",
       "      <td>0.004961</td>\n",
       "      <td>1.0</td>\n",
       "    </tr>\n",
       "    <tr>\n",
       "      <th>...</th>\n",
       "      <td>...</td>\n",
       "      <td>...</td>\n",
       "      <td>...</td>\n",
       "      <td>...</td>\n",
       "      <td>...</td>\n",
       "      <td>...</td>\n",
       "      <td>...</td>\n",
       "      <td>...</td>\n",
       "      <td>...</td>\n",
       "      <td>...</td>\n",
       "      <td>...</td>\n",
       "      <td>...</td>\n",
       "      <td>...</td>\n",
       "      <td>...</td>\n",
       "      <td>...</td>\n",
       "      <td>...</td>\n",
       "      <td>...</td>\n",
       "    </tr>\n",
       "    <tr>\n",
       "      <th>4541</th>\n",
       "      <td>194470</td>\n",
       "      <td>BSP-OR-001</td>\n",
       "      <td>5</td>\n",
       "      <td>20615008</td>\n",
       "      <td>N2</td>\n",
       "      <td>CB4856</td>\n",
       "      <td>CB4856</td>\n",
       "      <td>C</td>\n",
       "      <td>16</td>\n",
       "      <td>T</td>\n",
       "      <td>0</td>\n",
       "      <td>BSP-OR-001-5</td>\n",
       "      <td>135</td>\n",
       "      <td>CB4856</td>\n",
       "      <td>20953657</td>\n",
       "      <td>0.983838</td>\n",
       "      <td>1.0</td>\n",
       "    </tr>\n",
       "    <tr>\n",
       "      <th>4542</th>\n",
       "      <td>194471</td>\n",
       "      <td>BSP-OR-001</td>\n",
       "      <td>5</td>\n",
       "      <td>20615011</td>\n",
       "      <td>N2</td>\n",
       "      <td>CB4856</td>\n",
       "      <td>CB4856</td>\n",
       "      <td>A</td>\n",
       "      <td>16</td>\n",
       "      <td>T</td>\n",
       "      <td>0</td>\n",
       "      <td>BSP-OR-001-5</td>\n",
       "      <td>135</td>\n",
       "      <td>CB4856</td>\n",
       "      <td>20953657</td>\n",
       "      <td>0.983838</td>\n",
       "      <td>1.0</td>\n",
       "    </tr>\n",
       "    <tr>\n",
       "      <th>4543</th>\n",
       "      <td>194472</td>\n",
       "      <td>BSP-OR-001</td>\n",
       "      <td>5</td>\n",
       "      <td>20615023</td>\n",
       "      <td>N2</td>\n",
       "      <td>CB4856</td>\n",
       "      <td>CB4856</td>\n",
       "      <td>A</td>\n",
       "      <td>16</td>\n",
       "      <td>C</td>\n",
       "      <td>0</td>\n",
       "      <td>BSP-OR-001-5</td>\n",
       "      <td>135</td>\n",
       "      <td>CB4856</td>\n",
       "      <td>20953657</td>\n",
       "      <td>0.983839</td>\n",
       "      <td>1.0</td>\n",
       "    </tr>\n",
       "    <tr>\n",
       "      <th>4544</th>\n",
       "      <td>194473</td>\n",
       "      <td>BSP-OR-001</td>\n",
       "      <td>5</td>\n",
       "      <td>20615025</td>\n",
       "      <td>N2</td>\n",
       "      <td>CB4856</td>\n",
       "      <td>CB4856</td>\n",
       "      <td>T</td>\n",
       "      <td>15</td>\n",
       "      <td>C</td>\n",
       "      <td>0</td>\n",
       "      <td>BSP-OR-001-5</td>\n",
       "      <td>135</td>\n",
       "      <td>CB4856</td>\n",
       "      <td>20953657</td>\n",
       "      <td>0.983839</td>\n",
       "      <td>1.0</td>\n",
       "    </tr>\n",
       "    <tr>\n",
       "      <th>4545</th>\n",
       "      <td>194474</td>\n",
       "      <td>BSP-OR-001</td>\n",
       "      <td>5</td>\n",
       "      <td>20615031</td>\n",
       "      <td>N2</td>\n",
       "      <td>CB4856</td>\n",
       "      <td>CB4856</td>\n",
       "      <td>C</td>\n",
       "      <td>17</td>\n",
       "      <td>T</td>\n",
       "      <td>0</td>\n",
       "      <td>BSP-OR-001-5</td>\n",
       "      <td>135</td>\n",
       "      <td>CB4856</td>\n",
       "      <td>20953657</td>\n",
       "      <td>0.983839</td>\n",
       "      <td>1.0</td>\n",
       "    </tr>\n",
       "  </tbody>\n",
       "</table>\n",
       "<p>469 rows × 17 columns</p>\n",
       "</div>"
      ],
      "text/plain": [
       "         SNP      Sample  chromosome  position base_geno hmm_state1  \\\n",
       "46     67659  BSP-OR-001           3     68496        N2         N2   \n",
       "47     67660  BSP-OR-001           3     68500        N2         N2   \n",
       "48     67661  BSP-OR-001           3     68505        N2         N2   \n",
       "49     67662  BSP-OR-001           3     68513        N2         N2   \n",
       "50     67663  BSP-OR-001           3     68553        N2         N2   \n",
       "...      ...         ...         ...       ...       ...        ...   \n",
       "4541  194470  BSP-OR-001           5  20615008        N2     CB4856   \n",
       "4542  194471  BSP-OR-001           5  20615011        N2     CB4856   \n",
       "4543  194472  BSP-OR-001           5  20615023        N2     CB4856   \n",
       "4544  194473  BSP-OR-001           5  20615025        N2     CB4856   \n",
       "4545  194474  BSP-OR-001           5  20615031        N2     CB4856   \n",
       "\n",
       "     hmm_state2 reference  ref_reads variant  var_reads      chrom_id  blk_id  \\\n",
       "46           N2         A         16       C          0  BSP-OR-001-3       2   \n",
       "47           N2         G         14       A          0  BSP-OR-001-3       2   \n",
       "48           N2         C         16       T          0  BSP-OR-001-3       2   \n",
       "49           N2         T         16       C          0  BSP-OR-001-3       2   \n",
       "50           N2         T         12       A          0  BSP-OR-001-3       2   \n",
       "...         ...       ...        ...     ...        ...           ...     ...   \n",
       "4541     CB4856         C         16       T          0  BSP-OR-001-5     135   \n",
       "4542     CB4856         A         16       T          0  BSP-OR-001-5     135   \n",
       "4543     CB4856         A         16       C          0  BSP-OR-001-5     135   \n",
       "4544     CB4856         T         15       C          0  BSP-OR-001-5     135   \n",
       "4545     CB4856         C         17       T          0  BSP-OR-001-5     135   \n",
       "\n",
       "     background  chr_length  location  homozygosity  \n",
       "46       CB4856    13819453  0.004956           1.0  \n",
       "47       CB4856    13819453  0.004957           1.0  \n",
       "48       CB4856    13819453  0.004957           1.0  \n",
       "49       CB4856    13819453  0.004958           1.0  \n",
       "50       CB4856    13819453  0.004961           1.0  \n",
       "...         ...         ...       ...           ...  \n",
       "4541     CB4856    20953657  0.983838           1.0  \n",
       "4542     CB4856    20953657  0.983838           1.0  \n",
       "4543     CB4856    20953657  0.983839           1.0  \n",
       "4544     CB4856    20953657  0.983839           1.0  \n",
       "4545     CB4856    20953657  0.983839           1.0  \n",
       "\n",
       "[469 rows x 17 columns]"
      ]
     },
     "execution_count": 9,
     "metadata": {},
     "output_type": "execute_result"
    }
   ],
   "source": [
    "nf.apply(df)"
   ]
  },
  {
   "cell_type": "markdown",
   "metadata": {},
   "source": [
    "### NCOs in the Full Data Set"
   ]
  },
  {
   "cell_type": "code",
   "execution_count": 10,
   "metadata": {},
   "outputs": [],
   "source": [
    "nf = NCOFilter({})"
   ]
  },
  {
   "cell_type": "code",
   "execution_count": 11,
   "metadata": {},
   "outputs": [],
   "source": [
    "blocks = pd.read_csv('../filtered.csv')"
   ]
  },
  {
   "cell_type": "code",
   "execution_count": 12,
   "metadata": {},
   "outputs": [
    {
     "data": {
      "text/plain": [
       "924195"
      ]
     },
     "execution_count": 12,
     "metadata": {},
     "output_type": "execute_result"
    }
   ],
   "source": [
    "len(blocks)"
   ]
  },
  {
   "cell_type": "code",
   "execution_count": 13,
   "metadata": {},
   "outputs": [
    {
     "data": {
      "text/html": [
       "<div>\n",
       "<style scoped>\n",
       "    .dataframe tbody tr th:only-of-type {\n",
       "        vertical-align: middle;\n",
       "    }\n",
       "\n",
       "    .dataframe tbody tr th {\n",
       "        vertical-align: top;\n",
       "    }\n",
       "\n",
       "    .dataframe thead th {\n",
       "        text-align: right;\n",
       "    }\n",
       "</style>\n",
       "<table border=\"1\" class=\"dataframe\">\n",
       "  <thead>\n",
       "    <tr style=\"text-align: right;\">\n",
       "      <th></th>\n",
       "      <th>Unnamed: 0</th>\n",
       "      <th>SNP</th>\n",
       "      <th>Sample</th>\n",
       "      <th>chromosome</th>\n",
       "      <th>position</th>\n",
       "      <th>base_geno</th>\n",
       "      <th>hmm_state1</th>\n",
       "      <th>hmm_state2</th>\n",
       "      <th>reference</th>\n",
       "      <th>ref_reads</th>\n",
       "      <th>variant</th>\n",
       "      <th>var_reads</th>\n",
       "      <th>chrom_id</th>\n",
       "      <th>blk_id</th>\n",
       "      <th>background</th>\n",
       "      <th>chr_length</th>\n",
       "      <th>location</th>\n",
       "      <th>homozygosity</th>\n",
       "    </tr>\n",
       "  </thead>\n",
       "  <tbody>\n",
       "    <tr>\n",
       "      <th>0</th>\n",
       "      <td>2</td>\n",
       "      <td>67170</td>\n",
       "      <td>BSP-OR-001</td>\n",
       "      <td>3</td>\n",
       "      <td>31030</td>\n",
       "      <td>N2</td>\n",
       "      <td>N2</td>\n",
       "      <td>N2</td>\n",
       "      <td>T</td>\n",
       "      <td>8</td>\n",
       "      <td>G</td>\n",
       "      <td>0</td>\n",
       "      <td>BSP-OR-001-3</td>\n",
       "      <td>0</td>\n",
       "      <td>CB4856</td>\n",
       "      <td>13819453</td>\n",
       "      <td>0.002245</td>\n",
       "      <td>1.0</td>\n",
       "    </tr>\n",
       "    <tr>\n",
       "      <th>1</th>\n",
       "      <td>8</td>\n",
       "      <td>67176</td>\n",
       "      <td>BSP-OR-001</td>\n",
       "      <td>3</td>\n",
       "      <td>31065</td>\n",
       "      <td>N2</td>\n",
       "      <td>N2</td>\n",
       "      <td>N2</td>\n",
       "      <td>A</td>\n",
       "      <td>8</td>\n",
       "      <td>T</td>\n",
       "      <td>0</td>\n",
       "      <td>BSP-OR-001-3</td>\n",
       "      <td>0</td>\n",
       "      <td>CB4856</td>\n",
       "      <td>13819453</td>\n",
       "      <td>0.002248</td>\n",
       "      <td>1.0</td>\n",
       "    </tr>\n",
       "    <tr>\n",
       "      <th>2</th>\n",
       "      <td>9</td>\n",
       "      <td>67177</td>\n",
       "      <td>BSP-OR-001</td>\n",
       "      <td>3</td>\n",
       "      <td>31070</td>\n",
       "      <td>N2</td>\n",
       "      <td>N2</td>\n",
       "      <td>N2</td>\n",
       "      <td>C</td>\n",
       "      <td>8</td>\n",
       "      <td>T</td>\n",
       "      <td>0</td>\n",
       "      <td>BSP-OR-001-3</td>\n",
       "      <td>0</td>\n",
       "      <td>CB4856</td>\n",
       "      <td>13819453</td>\n",
       "      <td>0.002248</td>\n",
       "      <td>1.0</td>\n",
       "    </tr>\n",
       "    <tr>\n",
       "      <th>3</th>\n",
       "      <td>25</td>\n",
       "      <td>67512</td>\n",
       "      <td>BSP-OR-001</td>\n",
       "      <td>3</td>\n",
       "      <td>58714</td>\n",
       "      <td>N2</td>\n",
       "      <td>N2</td>\n",
       "      <td>unknown</td>\n",
       "      <td>T</td>\n",
       "      <td>9</td>\n",
       "      <td>G</td>\n",
       "      <td>0</td>\n",
       "      <td>BSP-OR-001-3</td>\n",
       "      <td>1</td>\n",
       "      <td>CB4856</td>\n",
       "      <td>13819453</td>\n",
       "      <td>0.004249</td>\n",
       "      <td>1.0</td>\n",
       "    </tr>\n",
       "    <tr>\n",
       "      <th>4</th>\n",
       "      <td>34</td>\n",
       "      <td>67647</td>\n",
       "      <td>BSP-OR-001</td>\n",
       "      <td>3</td>\n",
       "      <td>68256</td>\n",
       "      <td>N2</td>\n",
       "      <td>N2</td>\n",
       "      <td>N2</td>\n",
       "      <td>T</td>\n",
       "      <td>6</td>\n",
       "      <td>A</td>\n",
       "      <td>0</td>\n",
       "      <td>BSP-OR-001-3</td>\n",
       "      <td>2</td>\n",
       "      <td>CB4856</td>\n",
       "      <td>13819453</td>\n",
       "      <td>0.004939</td>\n",
       "      <td>1.0</td>\n",
       "    </tr>\n",
       "  </tbody>\n",
       "</table>\n",
       "</div>"
      ],
      "text/plain": [
       "   Unnamed: 0    SNP      Sample  chromosome  position base_geno hmm_state1  \\\n",
       "0           2  67170  BSP-OR-001           3     31030        N2         N2   \n",
       "1           8  67176  BSP-OR-001           3     31065        N2         N2   \n",
       "2           9  67177  BSP-OR-001           3     31070        N2         N2   \n",
       "3          25  67512  BSP-OR-001           3     58714        N2         N2   \n",
       "4          34  67647  BSP-OR-001           3     68256        N2         N2   \n",
       "\n",
       "  hmm_state2 reference  ref_reads variant  var_reads      chrom_id  blk_id  \\\n",
       "0         N2         T          8       G          0  BSP-OR-001-3       0   \n",
       "1         N2         A          8       T          0  BSP-OR-001-3       0   \n",
       "2         N2         C          8       T          0  BSP-OR-001-3       0   \n",
       "3    unknown         T          9       G          0  BSP-OR-001-3       1   \n",
       "4         N2         T          6       A          0  BSP-OR-001-3       2   \n",
       "\n",
       "  background  chr_length  location  homozygosity  \n",
       "0     CB4856    13819453  0.002245           1.0  \n",
       "1     CB4856    13819453  0.002248           1.0  \n",
       "2     CB4856    13819453  0.002248           1.0  \n",
       "3     CB4856    13819453  0.004249           1.0  \n",
       "4     CB4856    13819453  0.004939           1.0  "
      ]
     },
     "execution_count": 13,
     "metadata": {},
     "output_type": "execute_result"
    }
   ],
   "source": [
    "blocks.head()"
   ]
  },
  {
   "cell_type": "code",
   "execution_count": 14,
   "metadata": {},
   "outputs": [],
   "source": [
    "coverage = blocks.ref_reads + blocks.var_reads"
   ]
  },
  {
   "cell_type": "code",
   "execution_count": 15,
   "metadata": {},
   "outputs": [
    {
     "data": {
      "text/plain": [
       "0    8\n",
       "1    8\n",
       "2    8\n",
       "3    9\n",
       "4    6\n",
       "dtype: int64"
      ]
     },
     "execution_count": 15,
     "metadata": {},
     "output_type": "execute_result"
    }
   ],
   "source": [
    "coverage.head()"
   ]
  },
  {
   "cell_type": "code",
   "execution_count": 16,
   "metadata": {},
   "outputs": [
    {
     "data": {
      "text/plain": [
       "np.float64(17.899957260102035)"
      ]
     },
     "execution_count": 16,
     "metadata": {},
     "output_type": "execute_result"
    }
   ],
   "source": [
    "coverage.mean()"
   ]
  },
  {
   "cell_type": "code",
   "execution_count": 17,
   "metadata": {},
   "outputs": [
    {
     "data": {
      "text/plain": [
       "np.float64(24.940459661773144)"
      ]
     },
     "execution_count": 17,
     "metadata": {},
     "output_type": "execute_result"
    }
   ],
   "source": [
    "coverage.std()"
   ]
  },
  {
   "cell_type": "code",
   "execution_count": 18,
   "metadata": {},
   "outputs": [
    {
     "data": {
      "text/plain": [
       "np.float64(27.6672550957502)"
      ]
     },
     "execution_count": 18,
     "metadata": {},
     "output_type": "execute_result"
    }
   ],
   "source": [
    "coverage[coverage > 10].mean()"
   ]
  },
  {
   "cell_type": "code",
   "execution_count": 19,
   "metadata": {},
   "outputs": [
    {
     "data": {
      "text/plain": [
       "(array([5.0981e+05, 7.1200e+02, 2.4200e+02, 1.0400e+02, 4.5000e+01,\n",
       "        3.4000e+01, 1.3000e+01, 4.0000e+00, 0.0000e+00, 1.0000e+00]),\n",
       " array([  11. ,  220.4,  429.8,  639.2,  848.6, 1058. , 1267.4, 1476.8,\n",
       "        1686.2, 1895.6, 2105. ]),\n",
       " <BarContainer object of 10 artists>)"
      ]
     },
     "execution_count": 19,
     "metadata": {},
     "output_type": "execute_result"
    },
    {
     "data": {
      "image/png": "[encoded data removed]",
      "text/plain": [
       "<Figure size 640x480 with 1 Axes>"
      ]
     },
     "metadata": {},
     "output_type": "display_data"
    }
   ],
   "source": [
    "plt.hist(coverage[coverage > 10])"
   ]
  },
  {
   "cell_type": "code",
   "execution_count": 20,
   "metadata": {},
   "outputs": [
    {
     "data": {
      "text/plain": [
       "(array([43359., 48513., 52854.,     0., 50720., 50403.,     0., 46353.,\n",
       "        44297., 39796.]),\n",
       " array([2. , 2.7, 3.4, 4.1, 4.8, 5.5, 6.2, 6.9, 7.6, 8.3, 9. ]),\n",
       " <BarContainer object of 10 artists>)"
      ]
     },
     "execution_count": 20,
     "metadata": {},
     "output_type": "execute_result"
    },
    {
     "data": {
      "image/png": "[encoded data removed]",
      "text/plain": [
       "<Figure size 640x480 with 1 Axes>"
      ]
     },
     "metadata": {},
     "output_type": "display_data"
    }
   ],
   "source": [
    "plt.hist(coverage[coverage < 10])"
   ]
  },
  {
   "cell_type": "code",
   "execution_count": 21,
   "metadata": {},
   "outputs": [
    {
     "data": {
      "text/plain": [
       "(array([ 91872., 103574.,  96756.,  44297.,  76731.,  65734.,  29564.,\n",
       "         54543.,  48505.,  41542.]),\n",
       " array([ 2. ,  3.7,  5.4,  7.1,  8.8, 10.5, 12.2, 13.9, 15.6, 17.3, 19. ]),\n",
       " <BarContainer object of 10 artists>)"
      ]
     },
     "execution_count": 21,
     "metadata": {},
     "output_type": "execute_result"
    },
    {
     "data": {
      "image/png": "[encoded data removed]",
      "text/plain": [
       "<Figure size 640x480 with 1 Axes>"
      ]
     },
     "metadata": {},
     "output_type": "display_data"
    }
   ],
   "source": [
    "plt.hist(coverage[coverage < 20])"
   ]
  },
  {
   "cell_type": "code",
   "execution_count": 22,
   "metadata": {},
   "outputs": [
    {
     "data": {
      "text/plain": [
       "(array([144726., 147476., 121028.,  65734.,  84107.,  70113.,  38542.,\n",
       "         46373.,  36631.,  28340.]),\n",
       " array([ 2. ,  4.7,  7.4, 10.1, 12.8, 15.5, 18.2, 20.9, 23.6, 26.3, 29. ]),\n",
       " <BarContainer object of 10 artists>)"
      ]
     },
     "execution_count": 22,
     "metadata": {},
     "output_type": "execute_result"
    },
    {
     "data": {
      "image/png": "[encoded data removed]",
      "text/plain": [
       "<Figure size 640x480 with 1 Axes>"
      ]
     },
     "metadata": {},
     "output_type": "display_data"
    }
   ],
   "source": [
    "plt.hist(coverage[coverage < 30])"
   ]
  },
  {
   "cell_type": "code",
   "execution_count": 23,
   "metadata": {},
   "outputs": [
    {
     "data": {
      "text/plain": [
       "(array([43953., 26038., 17220., 13739., 11693.,  8927.,  6233.,  4214.,\n",
       "         2435.,  1532.]),\n",
       " array([30. , 36.9, 43.8, 50.7, 57.6, 64.5, 71.4, 78.3, 85.2, 92.1, 99. ]),\n",
       " <BarContainer object of 10 artists>)"
      ]
     },
     "execution_count": 23,
     "metadata": {},
     "output_type": "execute_result"
    },
    {
     "data": {
      "image/png": "[encoded data removed]",
      "text/plain": [
       "<Figure size 640x480 with 1 Axes>"
      ]
     },
     "metadata": {},
     "output_type": "display_data"
    }
   ],
   "source": [
    "plt.hist(coverage[(coverage >= 30) & (coverage < 100)])"
   ]
  },
  {
   "cell_type": "code",
   "execution_count": 24,
   "metadata": {},
   "outputs": [
    {
     "data": {
      "text/plain": [
       "(array([447375., 241098., 109760.,  45189.,  26859.,  19132.,  12969.,\n",
       "          9252.,   4988.,   2432.]),\n",
       " array([ 2. , 11.7, 21.4, 31.1, 40.8, 50.5, 60.2, 69.9, 79.6, 89.3, 99. ]),\n",
       " <BarContainer object of 10 artists>)"
      ]
     },
     "execution_count": 24,
     "metadata": {},
     "output_type": "execute_result"
    },
    {
     "data": {
      "image/png": "[encoded data removed]",
      "text/plain": [
       "<Figure size 640x480 with 1 Axes>"
      ]
     },
     "metadata": {},
     "output_type": "display_data"
    }
   ],
   "source": [
    "plt.hist(coverage[coverage < 100])"
   ]
  },
  {
   "cell_type": "code",
   "execution_count": 25,
   "metadata": {},
   "outputs": [
    {
     "data": {
      "text/plain": [
       "5141"
      ]
     },
     "execution_count": 25,
     "metadata": {},
     "output_type": "execute_result"
    }
   ],
   "source": [
    "len(coverage[coverage >= 100])"
   ]
  },
  {
   "cell_type": "code",
   "execution_count": 26,
   "metadata": {},
   "outputs": [
    {
     "data": {
      "text/html": [
       "<div>\n",
       "<style scoped>\n",
       "    .dataframe tbody tr th:only-of-type {\n",
       "        vertical-align: middle;\n",
       "    }\n",
       "\n",
       "    .dataframe tbody tr th {\n",
       "        vertical-align: top;\n",
       "    }\n",
       "\n",
       "    .dataframe thead th {\n",
       "        text-align: right;\n",
       "    }\n",
       "</style>\n",
       "<table border=\"1\" class=\"dataframe\">\n",
       "  <thead>\n",
       "    <tr style=\"text-align: right;\">\n",
       "      <th></th>\n",
       "      <th>Unnamed: 0</th>\n",
       "      <th>SNP</th>\n",
       "      <th>position</th>\n",
       "      <th>ref_reads</th>\n",
       "      <th>var_reads</th>\n",
       "      <th>blk_id</th>\n",
       "      <th>chr_length</th>\n",
       "      <th>location</th>\n",
       "      <th>homozygosity</th>\n",
       "    </tr>\n",
       "    <tr>\n",
       "      <th>chromosome</th>\n",
       "      <th></th>\n",
       "      <th></th>\n",
       "      <th></th>\n",
       "      <th></th>\n",
       "      <th></th>\n",
       "      <th></th>\n",
       "      <th></th>\n",
       "      <th></th>\n",
       "      <th></th>\n",
       "    </tr>\n",
       "  </thead>\n",
       "  <tbody>\n",
       "    <tr>\n",
       "      <th>1</th>\n",
       "      <td>6433789</td>\n",
       "      <td>23162</td>\n",
       "      <td>14913785</td>\n",
       "      <td>331</td>\n",
       "      <td>101</td>\n",
       "      <td>35</td>\n",
       "      <td>15114068</td>\n",
       "      <td>0.986749</td>\n",
       "      <td>1.0</td>\n",
       "    </tr>\n",
       "    <tr>\n",
       "      <th>2</th>\n",
       "      <td>6443362</td>\n",
       "      <td>66564</td>\n",
       "      <td>15311529</td>\n",
       "      <td>625</td>\n",
       "      <td>216</td>\n",
       "      <td>132</td>\n",
       "      <td>15311845</td>\n",
       "      <td>0.999979</td>\n",
       "      <td>1.0</td>\n",
       "    </tr>\n",
       "    <tr>\n",
       "      <th>3</th>\n",
       "      <td>6443846</td>\n",
       "      <td>90236</td>\n",
       "      <td>13624388</td>\n",
       "      <td>392</td>\n",
       "      <td>160</td>\n",
       "      <td>51</td>\n",
       "      <td>13819453</td>\n",
       "      <td>0.985885</td>\n",
       "      <td>1.0</td>\n",
       "    </tr>\n",
       "    <tr>\n",
       "      <th>4</th>\n",
       "      <td>6443900</td>\n",
       "      <td>115728</td>\n",
       "      <td>17071670</td>\n",
       "      <td>1579</td>\n",
       "      <td>133</td>\n",
       "      <td>37</td>\n",
       "      <td>17493838</td>\n",
       "      <td>0.975868</td>\n",
       "      <td>1.0</td>\n",
       "    </tr>\n",
       "    <tr>\n",
       "      <th>5</th>\n",
       "      <td>6446438</td>\n",
       "      <td>195955</td>\n",
       "      <td>20752781</td>\n",
       "      <td>2105</td>\n",
       "      <td>222</td>\n",
       "      <td>291</td>\n",
       "      <td>20953657</td>\n",
       "      <td>0.990413</td>\n",
       "      <td>1.0</td>\n",
       "    </tr>\n",
       "    <tr>\n",
       "      <th>6</th>\n",
       "      <td>6426366</td>\n",
       "      <td>212560</td>\n",
       "      <td>15827557</td>\n",
       "      <td>970</td>\n",
       "      <td>115</td>\n",
       "      <td>13</td>\n",
       "      <td>17739129</td>\n",
       "      <td>0.892240</td>\n",
       "      <td>1.0</td>\n",
       "    </tr>\n",
       "  </tbody>\n",
       "</table>\n",
       "</div>"
      ],
      "text/plain": [
       "            Unnamed: 0     SNP  position  ref_reads  var_reads  blk_id  \\\n",
       "chromosome                                                               \n",
       "1              6433789   23162  14913785        331        101      35   \n",
       "2              6443362   66564  15311529        625        216     132   \n",
       "3              6443846   90236  13624388        392        160      51   \n",
       "4              6443900  115728  17071670       1579        133      37   \n",
       "5              6446438  195955  20752781       2105        222     291   \n",
       "6              6426366  212560  15827557        970        115      13   \n",
       "\n",
       "            chr_length  location  homozygosity  \n",
       "chromosome                                      \n",
       "1             15114068  0.986749           1.0  \n",
       "2             15311845  0.999979           1.0  \n",
       "3             13819453  0.985885           1.0  \n",
       "4             17493838  0.975868           1.0  \n",
       "5             20953657  0.990413           1.0  \n",
       "6             17739129  0.892240           1.0  "
      ]
     },
     "execution_count": 26,
     "metadata": {},
     "output_type": "execute_result"
    }
   ],
   "source": [
    "blocks.groupby('chromosome').max('var_reads')"
   ]
  },
  {
   "cell_type": "code",
   "execution_count": 30,
   "metadata": {},
   "outputs": [
    {
     "data": {
      "text/plain": [
       "dict_keys(['BSP-OR-001-3', 'BSP-OR-001-4', 'BSP-OR-001-5', 'BSP-OR-002-1', 'BSP-OR-002-2', 'BSP-OR-002-4', 'BSP-OR-002-5', 'BSP-OR-002-6', 'BSP-OR-003-2', 'BSP-OR-003-3', 'BSP-OR-003-4', 'BSP-OR-003-5', 'BSP-OR-003-6', 'BSP-OR-004-1', 'BSP-OR-004-2', 'BSP-OR-004-3', 'BSP-OR-004-5', 'BSP-OR-005-2', 'BSP-OR-005-4', 'BSP-OR-005-5', 'BSP-OR-005-6', 'BSP-OR-006-1', 'BSP-OR-006-2', 'BSP-OR-006-3', 'BSP-OR-006-5', 'BSP-OR-006-6', 'BSP-OR-007-2', 'BSP-OR-007-3', 'BSP-OR-007-4', 'BSP-OR-007-5', 'BSP-OR-008-1', 'BSP-OR-008-2', 'BSP-OR-008-3', 'BSP-OR-008-5', 'BSP-OR-009-1', 'BSP-OR-009-2', 'BSP-OR-009-3', 'BSP-OR-009-5', 'BSP-OR-009-6', 'BSP-OR-010-1', 'BSP-OR-010-3', 'BSP-OR-010-4', 'BSP-OR-010-5', 'BSP-OR-011-1', 'BSP-OR-011-2', 'BSP-OR-011-3', 'BSP-OR-011-4', 'BSP-OR-011-5', 'BSP-OR-012-2', 'BSP-OR-012-3', 'BSP-OR-012-4', 'BSP-OR-012-5', 'BSP-OR-012-6', 'BSP-OR-013-1', 'BSP-OR-013-2', 'BSP-OR-013-4', 'BSP-OR-013-5', 'BSP-OR-015-1', 'BSP-OR-015-2', 'BSP-OR-015-3', 'BSP-OR-015-4', 'BSP-OR-015-5', 'BSP-OR-016-2', 'BSP-OR-016-3', 'BSP-OR-016-4', 'BSP-OR-016-5', 'BSP-OR-016-6', 'BSP-OR-018-1', 'BSP-OR-018-2', 'BSP-OR-018-3', 'BSP-OR-018-4', 'BSP-OR-018-5', 'BSP-OR-019-1', 'BSP-OR-019-2', 'BSP-OR-019-3', 'BSP-OR-019-4', 'BSP-OR-019-5', 'BSP-OR-020-2', 'BSP-OR-020-3', 'BSP-OR-020-5', 'BSP-OR-021-2', 'BSP-OR-021-3', 'BSP-OR-021-4', 'BSP-OR-021-5', 'BSP-OR-021-6', 'BSP-OR-022-2', 'BSP-OR-022-3', 'BSP-OR-022-4', 'BSP-OR-022-5', 'BSP-OR-024-1', 'BSP-OR-024-2', 'BSP-OR-024-3', 'BSP-OR-024-4', 'BSP-OR-024-5', 'BSP-OR-024-6', 'BSP-OR-025-1', 'BSP-OR-025-3', 'BSP-OR-025-4', 'BSP-OR-025-5', 'BSP-OR-025-6', 'BSP-OR-027-2', 'BSP-OR-027-3', 'BSP-OR-027-4', 'BSP-OR-027-5', 'BSP-OR-028-1', 'BSP-OR-028-2', 'BSP-OR-028-3', 'BSP-OR-028-4', 'BSP-OR-028-5', 'BSP-OR-029-1', 'BSP-OR-029-2', 'BSP-OR-029-3', 'BSP-OR-029-4', 'BSP-OR-029-5', 'BSP-OR-029-6', 'BSP-OR-030-1', 'BSP-OR-030-2', 'BSP-OR-030-3', 'BSP-OR-030-4', 'BSP-OR-030-5', 'BSP-OR-031-3', 'BSP-OR-031-5', 'BSP-OR-031-6', 'BSP-OR-032-1', 'BSP-OR-032-2', 'BSP-OR-032-3', 'BSP-OR-032-4', 'BSP-OR-032-5', 'BSP-OR-033-1', 'BSP-OR-033-2', 'BSP-OR-033-3', 'BSP-OR-033-4', 'BSP-OR-033-5', 'BSP-OR-033-6', 'BSP-OR-034-2', 'BSP-OR-034-3', 'BSP-OR-034-5', 'BSP-OR-035-2', 'BSP-OR-035-3', 'BSP-OR-035-4', 'BSP-OR-035-5', 'BSP-OR-036-2', 'BSP-OR-036-3', 'BSP-OR-036-4', 'BSP-OR-036-5', 'BSP-OR-037-1', 'BSP-OR-037-2', 'BSP-OR-037-3', 'BSP-OR-037-4', 'BSP-OR-037-6', 'BSP-OR-038-1', 'BSP-OR-038-2', 'BSP-OR-038-4', 'BSP-OR-038-5', 'BSP-OR-040-1', 'BSP-OR-040-2', 'BSP-OR-040-3', 'BSP-OR-040-4', 'BSP-OR-040-5', 'BSP-OR-040-6', 'BSP-OR-041-1', 'BSP-OR-041-2', 'BSP-OR-041-3', 'BSP-OR-041-4', 'BSP-OR-041-5', 'BSP-OR-041-6', 'BSP-OR-042-1', 'BSP-OR-042-2', 'BSP-OR-042-3', 'BSP-OR-042-4', 'BSP-OR-042-5', 'BSP-OR-044-1', 'BSP-OR-044-2', 'BSP-OR-044-3', 'BSP-OR-044-5', 'BSP-OR-045-1', 'BSP-OR-045-2', 'BSP-OR-045-3', 'BSP-OR-045-4', 'BSP-OR-045-5', 'BSP-OR-046-1', 'BSP-OR-046-2', 'BSP-OR-046-3', 'BSP-OR-046-4', 'BSP-OR-046-5', 'BSP-OR-046-6', 'BSP-OR-047-1', 'BSP-OR-047-2', 'BSP-OR-047-3', 'BSP-OR-047-4', 'BSP-OR-047-5', 'BSP-OR-047-6', 'BSP-OR-048-2', 'BSP-OR-048-3', 'BSP-OR-048-4', 'BSP-OR-048-5', 'BSP-OR-049-1', 'BSP-OR-049-2', 'BSP-OR-049-3', 'BSP-OR-049-5', 'BSP-OR-049-6', 'BSP-OR-050-2', 'BSP-OR-050-3', 'BSP-OR-050-4', 'BSP-OR-050-5', 'BSP-OR-051-1', 'BSP-OR-051-2', 'BSP-OR-051-3', 'BSP-OR-051-4', 'BSP-OR-051-5', 'BSP-OR-051-6', 'BSP-OR-053-1', 'BSP-OR-053-2', 'BSP-OR-053-4', 'BSP-OR-054-2', 'BSP-OR-054-6', 'BSP-OR-055-1', 'BSP-OR-055-2', 'BSP-OR-055-3', 'BSP-OR-055-4', 'BSP-OR-055-5', 'BSP-OR-056-3', 'BSP-OR-056-4', 'BSP-OR-057-1', 'BSP-OR-057-2', 'BSP-OR-057-3', 'BSP-OR-057-4', 'BSP-OR-057-5', 'BSP-OR-058-1', 'BSP-OR-058-2', 'BSP-OR-058-3', 'BSP-OR-058-5', 'BSP-OR-058-6', 'BSP-OR-059-2', 'BSP-OR-059-4', 'BSP-OR-059-5', 'BSP-OR-060-1', 'BSP-OR-060-2', 'BSP-OR-060-3', 'BSP-OR-060-4', 'BSP-OR-060-6', 'BSP-OR-061-1', 'BSP-OR-061-2', 'BSP-OR-061-3', 'BSP-OR-061-4', 'BSP-OR-061-5', 'BSP-OR-061-6', 'BSP-OR-062-1', 'BSP-OR-062-2', 'BSP-OR-062-3', 'BSP-OR-062-5', 'BSP-OR-063-1', 'BSP-OR-063-2', 'BSP-OR-063-3', 'BSP-OR-063-4', 'BSP-OR-063-5', 'BSP-OR-063-6', 'BSP-OR-064-2', 'BSP-OR-064-3', 'BSP-OR-064-5', 'BSP-OR-065-2', 'BSP-OR-065-3', 'BSP-OR-065-4', 'BSP-OR-065-5', 'BSP-OR-067-1', 'BSP-OR-067-2', 'BSP-OR-067-3', 'BSP-OR-067-5', 'BSP-OR-067-6', 'BSP-OR-068-3', 'BSP-OR-068-4', 'BSP-OR-068-5', 'BSP-OR-069-1', 'BSP-OR-069-2', 'BSP-OR-069-3', 'BSP-OR-069-4', 'BSP-OR-069-5', 'BSP-OR-069-6', 'BSP-OR-070-1', 'BSP-OR-070-2', 'BSP-OR-070-3', 'BSP-OR-070-4', 'BSP-OR-070-5', 'BSP-OR-070-6', 'BSP-OR-071-1', 'BSP-OR-071-2', 'BSP-OR-071-3', 'BSP-OR-071-4', 'BSP-OR-071-5', 'BSP-OR-071-6', 'BSP-OR-072-1', 'BSP-OR-072-2', 'BSP-OR-072-3', 'BSP-OR-072-4', 'BSP-OR-072-5', 'BSP-OR-073-1', 'BSP-OR-073-2', 'BSP-OR-073-3', 'BSP-OR-073-4', 'BSP-OR-073-5', 'BSP-OR-073-6', 'BSP-OR-074-2', 'BSP-OR-074-3', 'BSP-OR-074-5', 'BSP-OR-075-1', 'BSP-OR-075-2', 'BSP-OR-075-4', 'BSP-OR-075-5', 'BSP-OR-076-1', 'BSP-OR-076-3', 'BSP-OR-076-4', 'BSP-OR-076-5', 'BSP-OR-076-6', 'BSP-OR-077-1', 'BSP-OR-077-2', 'BSP-OR-077-3', 'BSP-OR-077-4', 'BSP-OR-077-5', 'BSP-OR-078-1', 'BSP-OR-078-2', 'BSP-OR-078-4', 'BSP-OR-078-5', 'BSP-OR-078-6', 'BSP-OR-079-2', 'BSP-OR-079-3', 'BSP-OR-079-4', 'BSP-OR-079-5', 'BSP-OR-079-6', 'BSP-OR-080-1', 'BSP-OR-080-3', 'BSP-OR-080-4', 'BSP-OR-080-5', 'BSP-OR-081-1', 'BSP-OR-081-2', 'BSP-OR-081-3', 'BSP-OR-081-4', 'BSP-OR-081-5', 'BSP-OR-082-3', 'BSP-OR-082-4', 'BSP-OR-082-5', 'BSP-OR-082-6', 'BSP-OR-083-2', 'BSP-OR-083-3', 'BSP-OR-083-4', 'BSP-OR-083-5', 'BSP-OR-083-6', 'BSP-OR-084-3', 'BSP-OR-084-4', 'BSP-OR-084-5', 'BSP-OR-085-1', 'BSP-OR-085-2', 'BSP-OR-085-3', 'BSP-OR-085-4', 'BSP-OR-085-5', 'BSP-OR-085-6', 'BSP-OR-088-1', 'BSP-OR-088-2', 'BSP-OR-088-4', 'BSP-OR-088-5', 'BSP-OR-089-1', 'BSP-OR-089-2', 'BSP-OR-089-3', 'BSP-OR-089-4', 'BSP-OR-089-5', 'BSP-OR-090-1', 'BSP-OR-090-2', 'BSP-OR-090-3', 'BSP-OR-090-5', 'BSP-OR-091-1', 'BSP-OR-091-2', 'BSP-OR-091-3', 'BSP-OR-091-4', 'BSP-OR-091-5', 'BSP-OR-093-1', 'BSP-OR-093-2', 'BSP-OR-093-3', 'BSP-OR-093-4', 'BSP-OR-093-5', 'BSP-OR-093-6', 'BSP-OR-094-4', 'BSP-OR-094-5', 'BSP-OR-095-1', 'BSP-OR-095-2', 'BSP-OR-095-3', 'BSP-OR-095-4', 'BSP-OR-096-1', 'BSP-OR-096-2', 'BSP-OR-096-4', 'BSP-OR-096-5', 'BSP-OR-097-2', 'BSP-OR-097-3', 'BSP-OR-097-4', 'BSP-OR-097-5', 'BSP-OR-097-6', 'BSP-OR-098-3', 'BSP-OR-098-5', 'BSP-OR-099-1', 'BSP-OR-099-5', 'BSP-OR-100-2', 'BSP-OR-100-4', 'BSP-OR-100-5', 'BSP-OR-101-2', 'BSP-OR-101-3', 'BSP-OR-101-4', 'BSP-OR-101-5', 'BSP-OR-102-1', 'BSP-OR-102-2', 'BSP-OR-102-3', 'BSP-OR-102-4', 'BSP-OR-102-5', 'BSP-OR-103-1', 'BSP-OR-103-2', 'BSP-OR-103-3', 'BSP-OR-103-4', 'BSP-OR-104-2', 'BSP-OR-104-3', 'BSP-OR-104-4', 'BSP-OR-104-6', 'BSP-OR-105-2', 'BSP-OR-105-3', 'BSP-OR-105-4', 'BSP-OR-105-5', 'BSP-OR-105-6', 'BSP-OR-106-2', 'BSP-OR-106-3', 'BSP-OR-106-4', 'BSP-OR-106-5', 'BSP-OR-107-1', 'BSP-OR-107-2', 'BSP-OR-107-3', 'BSP-OR-107-4', 'BSP-OR-107-5', 'BSP-OR-107-6', 'BSP-OR-108-3', 'BSP-OR-108-4', 'BSP-OR-108-5', 'BSP-OR-108-6', 'BSP-OR-109-1', 'BSP-OR-109-2', 'BSP-OR-109-3', 'BSP-OR-109-4', 'BSP-OR-109-5', 'BSP-OR-110-1', 'BSP-OR-110-2', 'BSP-OR-110-3', 'BSP-OR-110-4', 'BSP-OR-110-5', 'BSP-OR-110-6', 'BSP-OR-112-1', 'BSP-OR-112-3', 'BSP-OR-112-4', 'BSP-OR-112-5', 'BSP-OR-114-1', 'BSP-OR-114-2', 'BSP-OR-114-3', 'BSP-OR-114-4', 'BSP-OR-114-5', 'BSP-OR-115-1', 'BSP-OR-115-2', 'BSP-OR-115-3', 'BSP-OR-115-4', 'BSP-OR-115-5', 'BSP-OR-116-1', 'BSP-OR-116-2', 'BSP-OR-116-3', 'BSP-OR-116-4', 'BSP-OR-116-5', 'BSP-OR-118-1', 'BSP-OR-118-2', 'BSP-OR-118-3', 'BSP-OR-118-4', 'BSP-OR-118-5', 'BSP-OR-119-1', 'BSP-OR-119-2', 'BSP-OR-119-3', 'BSP-OR-119-5', 'BSP-OR-120-1', 'BSP-OR-120-3', 'BSP-OR-120-4', 'BSP-OR-120-5', 'BSP-OR-120-6', 'BSP-OR-121-1', 'BSP-OR-121-2', 'BSP-OR-121-3', 'BSP-OR-121-4', 'BSP-OR-121-5', 'BSP-OR-121-6', 'BSP-OR-122-1', 'BSP-OR-122-2', 'BSP-OR-122-3', 'BSP-OR-122-4', 'BSP-OR-122-5', 'BSP-OR-123-1', 'BSP-OR-123-2', 'BSP-OR-123-3', 'BSP-OR-123-4', 'BSP-OR-123-5', 'BSP-OR-124-1', 'BSP-OR-124-2', 'BSP-OR-124-3', 'BSP-OR-124-4', 'BSP-OR-124-6', 'BSP-OR-125-1', 'BSP-OR-125-2', 'BSP-OR-125-4', 'BSP-OR-125-5', 'BSP-OR-125-6', 'BSP-OR-127-2', 'BSP-OR-127-3', 'BSP-OR-127-4', 'BSP-OR-127-5', 'BSP-OR-128-1', 'BSP-OR-128-2', 'BSP-OR-128-3', 'BSP-OR-128-4', 'BSP-OR-128-5', 'BSP-OR-128-6', 'BSP-OR-130-2', 'BSP-OR-130-4', 'BSP-OR-130-5', 'BSP-OR-131-1', 'BSP-OR-131-2', 'BSP-OR-131-3', 'BSP-OR-131-4', 'BSP-OR-131-5', 'BSP-OR-134-2', 'BSP-OR-134-3', 'BSP-OR-134-4', 'BSP-OR-134-5', 'BSP-OR-136-1', 'BSP-OR-136-4', 'BSP-OR-136-5', 'BSP-OR-137-2', 'BSP-OR-137-3', 'BSP-OR-138-1', 'BSP-OR-138-2', 'BSP-OR-138-3', 'BSP-OR-138-4', 'BSP-OR-138-5', 'BSP-OR-139-1', 'BSP-OR-139-2', 'BSP-OR-139-3', 'BSP-OR-139-4', 'BSP-OR-139-5', 'BSP-OR-140-1', 'BSP-OR-140-2', 'BSP-OR-140-3', 'BSP-OR-140-4', 'BSP-OR-140-5', 'BSP-OR-141-2', 'BSP-OR-141-3', 'BSP-OR-141-4', 'BSP-OR-141-5', 'BSP-OR-142-1', 'BSP-OR-142-2', 'BSP-OR-142-3', 'BSP-OR-142-5', 'BSP-OR-143-2', 'BSP-OR-143-4', 'BSP-OR-143-5', 'BSP-OR-144-2', 'BSP-OR-144-3', 'BSP-OR-144-4', 'BSP-OR-144-5', 'BSP-OR-144-6', 'BSP-OR-145-1', 'BSP-OR-145-2', 'BSP-OR-145-5', 'BSP-OR-145-6', 'BSP-OR-147-1', 'BSP-OR-147-2', 'BSP-OR-147-4', 'BSP-OR-147-5', 'BSP-OR-148-1', 'BSP-OR-148-2', 'BSP-OR-148-3', 'BSP-OR-148-4', 'BSP-OR-148-5', 'BSP-OR-149-5', 'BSP-OR-150-1', 'BSP-OR-150-2', 'BSP-OR-150-3', 'BSP-OR-150-4', 'BSP-OR-150-5', 'BSP-OR-150-6', 'BSP-OR-151-1', 'BSP-OR-151-2', 'BSP-OR-151-3', 'BSP-OR-151-4', 'BSP-OR-151-5', 'BSP-OR-152-1', 'BSP-OR-152-2', 'BSP-OR-152-3', 'BSP-OR-152-4', 'BSP-OR-152-5', 'BSP-OR-153-1', 'BSP-OR-153-2', 'BSP-OR-153-3', 'BSP-OR-153-4', 'BSP-OR-153-5', 'BSP-OR-154-1', 'BSP-OR-154-2', 'BSP-OR-154-3', 'BSP-OR-154-5', 'BSP-OR-155-1', 'BSP-OR-155-2', 'BSP-OR-155-3', 'BSP-OR-155-4', 'BSP-OR-155-5', 'BSP-OR-156-1', 'BSP-OR-156-2', 'BSP-OR-156-3', 'BSP-OR-156-4', 'BSP-OR-156-5', 'BSP-OR-156-6', 'BSP-OR-157-3', 'BSP-OR-157-4', 'BSP-OR-157-5', 'BSP-OR-157-6', 'BSP-OR-158-1', 'BSP-OR-158-2', 'BSP-OR-158-3', 'BSP-OR-158-4', 'BSP-OR-158-5', 'BSP-OR-158-6', 'BSP-OR-159-1', 'BSP-OR-159-2', 'BSP-OR-159-4', 'BSP-OR-159-5', 'BSP-OR-162-1', 'BSP-OR-162-2', 'BSP-OR-162-3', 'BSP-OR-162-4', 'BSP-OR-162-5', 'BSP-OR-163-1', 'BSP-OR-163-2', 'BSP-OR-163-3', 'BSP-OR-163-4', 'BSP-OR-163-5', 'BSP-OR-164-1', 'BSP-OR-164-2', 'BSP-OR-164-3', 'BSP-OR-164-6', 'BSP-OR-166-1', 'BSP-OR-166-2', 'BSP-OR-166-4', 'BSP-OR-167-2', 'BSP-OR-167-4', 'BSP-OR-167-5', 'BSP-OR-167-6', 'BSP-OR-168-1', 'BSP-OR-168-2', 'BSP-OR-168-4', 'BSP-OR-168-5', 'BSP-OR-168-6', 'BSP-OR-169-2', 'BSP-OR-169-3', 'BSP-OR-169-4', 'BSP-OR-169-5', 'BSP-OR-169-6', 'BSP-OR-170-2', 'BSP-OR-170-4', 'BSP-OR-170-5', 'BSP-OR-172-1', 'BSP-OR-172-2', 'BSP-OR-172-3', 'BSP-OR-172-4', 'BSP-OR-172-5', 'BSP-OR-173-2', 'BSP-OR-173-3', 'BSP-OR-173-4', 'BSP-OR-173-5', 'BSP-OR-174-1', 'BSP-OR-174-4', 'BSP-OR-174-5', 'BSP-OR-175-1', 'BSP-OR-175-2', 'BSP-OR-175-3', 'BSP-OR-175-4', 'BSP-OR-175-5', 'BSP-OR-176-1', 'BSP-OR-176-3', 'BSP-OR-176-4', 'BSP-OR-176-5', 'BSP-OR-178-2', 'BSP-OR-178-3', 'BSP-OR-178-4', 'BSP-OR-178-5', 'BSP-OR-178-6', 'BSP-OR-179-2', 'BSP-OR-179-3', 'BSP-OR-179-5', 'BSP-OR-180-3', 'BSP-OR-180-4', 'BSP-OR-180-5', 'BSP-OR-182-2', 'BSP-OR-182-3', 'BSP-OR-182-4', 'BSP-OR-182-5', 'BSP-OR-182-6', 'BSP-OR-184-2', 'BSP-OR-184-3', 'BSP-OR-184-4', 'BSP-OR-184-6', 'BSP-OR-185-2', 'BSP-OR-185-3', 'BSP-OR-185-4', 'BSP-OR-185-6', 'BSP-OR-186-2', 'BSP-OR-186-3', 'BSP-OR-186-4', 'BSP-OR-186-5', 'BSP-OR-188-1', 'BSP-OR-188-2', 'BSP-OR-188-3', 'BSP-OR-188-4', 'BSP-OR-188-5', 'BSP-OR-189-2', 'BSP-OR-189-3', 'BSP-OR-189-5', 'BSP-OR-190-1', 'BSP-OR-190-3', 'BSP-OR-190-5', 'BSP-OR-191-3', 'BSP-OR-191-5', 'BSP-OR-192-1', 'BSP-OR-192-2', 'BSP-OR-192-3', 'BSP-OR-192-5', 'BSP-OR-192-6', 'BSP-OR-193-4', 'BSP-OR-193-5', 'BSP-OR-194-1', 'BSP-OR-194-3', 'BSP-OR-194-4', 'BSP-OR-194-5', 'BSP-OR-194-6', 'BSP-OR-195-1', 'BSP-OR-195-2', 'BSP-OR-195-3', 'BSP-OR-195-4', 'BSP-OR-195-5', 'BSP-OR-195-6', 'BSP-OR-196-1', 'BSP-OR-196-2', 'BSP-OR-196-3', 'BSP-OR-196-4', 'BSP-OR-196-5', 'BSP-OR-196-6', 'BSP-OR-197-2', 'BSP-OR-197-3', 'BSP-OR-197-4', 'BSP-OR-197-5', 'BSP-OR-198-2', 'BSP-OR-198-3', 'BSP-OR-198-4', 'BSP-OR-198-5', 'BSP-OR-198-6', 'BSP-OR-200-1', 'BSP-OR-200-2', 'BSP-OR-200-4', 'BSP-OR-200-5', 'BSP-OR-202-1', 'BSP-OR-202-2', 'BSP-OR-202-3', 'BSP-OR-202-4', 'BSP-OR-202-5', 'BSP-OR-202-6', 'BSP-OR-203-2', 'BSP-OR-203-3', 'BSP-OR-203-4', 'BSP-OR-203-5', 'BSP-OR-204-3', 'BSP-OR-204-4', 'BSP-OR-204-5', 'BSP-OR-204-6', 'BSP-OR-205-1', 'BSP-OR-205-2', 'BSP-OR-205-5', 'BSP-OR-207-1', 'BSP-OR-207-2', 'BSP-OR-207-3', 'BSP-OR-207-5', 'BSP-OR-207-6', 'BSP-OR-208-1', 'BSP-OR-208-2', 'BSP-OR-208-3', 'BSP-OR-208-4', 'BSP-OR-208-5', 'BSP-OR-208-6', 'BSP-OR-209-1', 'BSP-OR-209-2', 'BSP-OR-209-3', 'BSP-OR-209-5', 'BSP-OR-210-1', 'BSP-OR-210-2', 'BSP-OR-210-4', 'BSP-OR-210-5', 'BSP-OR-211-1', 'BSP-OR-211-2', 'BSP-OR-211-3', 'BSP-OR-211-5', 'BSP-OR-212-1', 'BSP-OR-212-2', 'BSP-OR-212-3', 'BSP-OR-212-4', 'BSP-OR-212-5', 'BSP-OR-213-2', 'BSP-OR-213-3', 'BSP-OR-213-4', 'BSP-OR-213-5', 'BSP-OR-213-6', 'BSP-OR-214-2', 'BSP-OR-214-3', 'BSP-OR-214-4', 'BSP-OR-214-5', 'BSP-OR-215-1', 'BSP-OR-215-2', 'BSP-OR-215-3', 'BSP-OR-215-5', 'BSP-OR-216-1', 'BSP-OR-216-2', 'BSP-OR-216-3', 'BSP-OR-216-5', 'BSP-OR-217-1', 'BSP-OR-217-2', 'BSP-OR-217-3', 'BSP-OR-217-4', 'BSP-OR-217-5', 'BSP-OR-218-2', 'BSP-OR-218-3', 'BSP-OR-218-4', 'BSP-OR-218-5', 'BSP-OR-219-2', 'BSP-OR-219-4', 'BSP-OR-219-5', 'BSP-OR-219-6', 'BSP-OR-221-3', 'BSP-OR-221-4', 'BSP-OR-221-5', 'BSP-OR-221-6', 'BSP-OR-222-1', 'BSP-OR-222-3', 'BSP-OR-222-4', 'BSP-OR-222-5', 'BSP-OR-224-2', 'BSP-OR-224-3', 'BSP-OR-224-5', 'BSP-OR-225-1', 'BSP-OR-225-2', 'BSP-OR-225-3', 'BSP-OR-225-5', 'BSP-OR-226-1', 'BSP-OR-226-2', 'BSP-OR-226-3', 'BSP-OR-226-4', 'BSP-OR-226-5', 'BSP-OR-228-1', 'BSP-OR-228-2', 'BSP-OR-228-3', 'BSP-OR-228-4', 'BSP-OR-228-5', 'BSP-OR-229-1', 'BSP-OR-229-2', 'BSP-OR-229-3', 'BSP-OR-229-4', 'BSP-OR-229-5', 'BSP-OR-229-6', 'BSP-OR-230-1', 'BSP-OR-230-2', 'BSP-OR-230-3', 'BSP-OR-230-4', 'BSP-OR-230-5', 'BSP-OR-231-1', 'BSP-OR-231-2', 'BSP-OR-231-3', 'BSP-OR-231-4', 'BSP-OR-231-5', 'BSP-OR-233-1', 'BSP-OR-233-5', 'BSP-OR-234-1', 'BSP-OR-234-2', 'BSP-OR-234-3', 'BSP-OR-234-4', 'BSP-OR-234-5', 'BSP-OR-235-1', 'BSP-OR-235-2', 'BSP-OR-235-3', 'BSP-OR-235-4', 'BSP-OR-235-5', 'BSP-OR-236-1', 'BSP-OR-236-2', 'BSP-OR-236-3', 'BSP-OR-236-4', 'BSP-OR-236-5', 'BSP-OR-237-1', 'BSP-OR-237-2', 'BSP-OR-237-3', 'BSP-OR-237-4', 'BSP-OR-237-5', 'BSP-OR-237-6', 'BSP-OR-238-3', 'BSP-OR-238-4', 'BSP-OR-238-5', 'BSP-OR-238-6', 'BSP-OR-239-1', 'BSP-OR-239-2', 'BSP-OR-239-3', 'BSP-OR-239-4', 'BSP-OR-239-5', 'BSP-OR-240-1', 'BSP-OR-240-4', 'BSP-OR-240-5', 'BSP-OR-240-6', 'BSP-OR-241-2', 'BSP-OR-241-3', 'BSP-OR-241-4', 'BSP-OR-241-5', 'BSP-OR-241-6', 'BSP-OR-243-1', 'BSP-OR-243-2', 'BSP-OR-243-3', 'BSP-OR-243-4', 'BSP-OR-243-5', 'BSP-OR-243-6', 'BSP-OR-244-1', 'BSP-OR-244-2', 'BSP-OR-244-3', 'BSP-OR-244-5', 'BSP-OR-244-6', 'BSP-OR-245-1', 'BSP-OR-245-3', 'BSP-OR-245-4', 'BSP-OR-245-6', 'BSP-OR-246-1', 'BSP-OR-246-2', 'BSP-OR-246-3', 'BSP-OR-246-4', 'BSP-OR-246-5', 'BSP-OR-247-1', 'BSP-OR-247-2', 'BSP-OR-247-3', 'BSP-OR-247-4', 'BSP-OR-247-5', 'BSP-OR-247-6', 'BSP-OR-248-1', 'BSP-OR-248-2', 'BSP-OR-248-3', 'BSP-OR-248-4', 'BSP-OR-248-5', 'BSP-OR-249-1', 'BSP-OR-249-2', 'BSP-OR-249-3', 'BSP-OR-249-5', 'BSP-OR-250-1', 'BSP-OR-250-2', 'BSP-OR-250-3', 'BSP-OR-251-1', 'BSP-OR-251-2', 'BSP-OR-251-3', 'BSP-OR-251-5', 'BSP-OR-252-1', 'BSP-OR-252-2', 'BSP-OR-252-3', 'BSP-OR-252-4', 'BSP-OR-252-6', 'BSP-OR-253-1', 'BSP-OR-253-2', 'BSP-OR-253-3', 'BSP-OR-253-4', 'BSP-OR-253-5', 'BSP-OR-253-6', 'BSP-OR-254-1', 'BSP-OR-254-3', 'BSP-OR-254-4', 'BSP-OR-254-5', 'BSP-OR-255-1', 'BSP-OR-255-2', 'BSP-OR-255-3', 'BSP-OR-255-4', 'BSP-OR-255-5', 'BSP-OR-256-1', 'BSP-OR-256-2', 'BSP-OR-256-4', 'BSP-OR-256-5', 'BSP-OR-257-1', 'BSP-OR-257-2', 'BSP-OR-257-3', 'BSP-OR-257-4', 'BSP-OR-257-5', 'BSP-OR-257-6', 'BSP-OR-258-2', 'BSP-OR-258-3', 'BSP-OR-258-4', 'BSP-OR-258-5', 'BSP-OR-258-6', 'BSP-OR-259-2', 'BSP-OR-259-3', 'BSP-OR-259-4', 'BSP-OR-259-5', 'BSP-OR-260-2', 'BSP-OR-260-4', 'BSP-OR-260-5', 'BSP-OR-261-1', 'BSP-OR-261-2', 'BSP-OR-261-3', 'BSP-OR-261-4', 'BSP-OR-261-5', 'BSP-OR-263-1', 'BSP-OR-263-2', 'BSP-OR-263-3', 'BSP-OR-263-4', 'BSP-OR-263-5', 'BSP-OR-264-1', 'BSP-OR-264-2', 'BSP-OR-264-3', 'BSP-OR-264-4', 'BSP-OR-264-5', 'BSP-OR-265-2', 'BSP-OR-265-4', 'BSP-OR-265-6', 'BSP-OR-266-2', 'BSP-OR-266-3', 'BSP-OR-266-4', 'BSP-OR-266-5', 'BSP-OR-267-1', 'BSP-OR-267-2', 'BSP-OR-267-3', 'BSP-OR-267-4', 'BSP-OR-267-6', 'BSP-OR-268-1', 'BSP-OR-268-2', 'BSP-OR-268-3', 'BSP-OR-268-4', 'BSP-OR-268-5', 'BSP-OR-268-6', 'BSP-OR-269-1', 'BSP-OR-269-2', 'BSP-OR-269-3', 'BSP-OR-269-4', 'BSP-OR-269-5', 'BSP-OR-269-6', 'BSP-OR-270-3', 'BSP-OR-270-4', 'BSP-OR-270-5', 'BSP-OR-270-6', 'BSP-OR-271-1', 'BSP-OR-271-2', 'BSP-OR-271-3', 'BSP-OR-271-4', 'BSP-OR-271-5', 'BSP-OR-271-6', 'BSP-OR-274-1', 'BSP-OR-274-3', 'BSP-OR-274-4', 'BSP-OR-274-5', 'BSP-OR-275-1', 'BSP-OR-275-2', 'BSP-OR-275-3', 'BSP-OR-275-4', 'BSP-OR-275-5', 'BSP-OR-275-6', 'BSP-OR-276-1', 'BSP-OR-276-2', 'BSP-OR-276-3', 'BSP-OR-276-4', 'BSP-OR-276-5', 'BSP-OR-277-2', 'BSP-OR-277-3', 'BSP-OR-277-4', 'BSP-OR-277-5', 'BSP-OR-277-6', 'BSP-OR-278-1', 'BSP-OR-278-2', 'BSP-OR-278-3', 'BSP-OR-278-4', 'BSP-OR-278-5', 'BSP-OR-279-1', 'BSP-OR-279-2', 'BSP-OR-279-3', 'BSP-OR-279-6', 'BSP-OR-280-1', 'BSP-OR-280-2', 'BSP-OR-280-4', 'BSP-OR-280-5', 'BSP-OR-281-2', 'BSP-OR-281-3', 'BSP-OR-281-4', 'BSP-OR-281-5', 'BSP-OR-282-1', 'BSP-OR-282-3', 'BSP-OR-282-4', 'BSP-OR-282-5', 'BSP-OR-283-1', 'BSP-OR-283-2', 'BSP-OR-283-5', 'BSP-OR-284-2', 'BSP-OR-284-3', 'BSP-OR-285-1', 'BSP-OR-285-2', 'BSP-OR-285-3', 'BSP-OR-285-4', 'BSP-OR-285-5', 'BSP-OR-286-1', 'BSP-OR-286-2', 'BSP-OR-286-3', 'BSP-OR-286-5', 'BSP-OR-287-2', 'BSP-OR-287-3', 'BSP-OR-287-4', 'BSP-OR-287-5', 'BSP-OR-288-1', 'BSP-OR-288-2', 'BSP-OR-288-3', 'BSP-OR-288-5', 'BSP-OR-288-6', 'BSP-OR-289-1', 'BSP-OR-289-2', 'BSP-OR-289-3', 'BSP-OR-289-4', 'BSP-OR-289-5', 'BSP-OR-290-2', 'BSP-OR-290-3', 'BSP-OR-290-4', 'BSP-OR-290-5', 'BSP-OR-290-6', 'BSP-OR-292-1', 'BSP-OR-292-2', 'BSP-OR-292-3', 'BSP-OR-292-4', 'BSP-OR-292-5', 'BSP-OR-292-6', 'BSP-OR-293-2', 'BSP-OR-293-3', 'BSP-OR-293-4', 'BSP-OR-293-5', 'BSP-OR-294-1', 'BSP-OR-294-3', 'BSP-OR-294-4', 'BSP-OR-294-5', 'BSP-OR-295-3', 'BSP-OR-295-4', 'BSP-OR-295-5', 'BSP-OR-295-6', 'BSP-OR-296-3', 'BSP-OR-296-4', 'BSP-OR-296-5', 'BSP-OR-297-1', 'BSP-OR-297-2', 'BSP-OR-297-3', 'BSP-OR-297-5', 'BSP-OR-298-1', 'BSP-OR-298-2', 'BSP-OR-298-3', 'BSP-OR-298-4', 'BSP-OR-298-5', 'BSP-OR-298-6', 'BSP-OR-299-1', 'BSP-OR-299-2', 'BSP-OR-299-3', 'BSP-OR-299-4', 'BSP-OR-300-1', 'BSP-OR-300-3', 'BSP-OR-300-4', 'BSP-OR-300-5', 'BSP-SR-001-1', 'BSP-SR-001-4', 'BSP-SR-001-5', 'BSP-SR-002-1', 'BSP-SR-002-2', 'BSP-SR-002-3', 'BSP-SR-002-4', 'BSP-SR-002-5', 'BSP-SR-002-6', 'BSP-SR-003-2', 'BSP-SR-003-5', 'BSP-SR-004-1', 'BSP-SR-004-2', 'BSP-SR-004-3', 'BSP-SR-004-4', 'BSP-SR-004-5', 'BSP-SR-005-1', 'BSP-SR-005-2', 'BSP-SR-005-3', 'BSP-SR-005-4', 'BSP-SR-005-5', 'BSP-SR-006-1', 'BSP-SR-006-2', 'BSP-SR-006-4', 'BSP-SR-006-5', 'BSP-SR-007-1', 'BSP-SR-007-2', 'BSP-SR-007-3', 'BSP-SR-007-5', 'BSP-SR-008-2', 'BSP-SR-008-3', 'BSP-SR-008-4', 'BSP-SR-008-5', 'BSP-SR-009-1', 'BSP-SR-009-2', 'BSP-SR-009-3', 'BSP-SR-009-4', 'BSP-SR-009-5', 'BSP-SR-009-6', 'BSP-SR-010-1', 'BSP-SR-010-2', 'BSP-SR-010-3', 'BSP-SR-010-5', 'BSP-SR-011-1', 'BSP-SR-011-2', 'BSP-SR-011-3', 'BSP-SR-011-4', 'BSP-SR-011-5', 'BSP-SR-012-1', 'BSP-SR-012-2', 'BSP-SR-012-3', 'BSP-SR-012-4', 'BSP-SR-012-5', 'BSP-SR-013-1', 'BSP-SR-013-2', 'BSP-SR-013-3', 'BSP-SR-013-4', 'BSP-SR-013-5', 'BSP-SR-014-1', 'BSP-SR-014-2', 'BSP-SR-014-3', 'BSP-SR-014-4', 'BSP-SR-014-5', 'BSP-SR-015-1', 'BSP-SR-015-2', 'BSP-SR-015-3', 'BSP-SR-015-4', 'BSP-SR-015-5', 'BSP-SR-016-1', 'BSP-SR-016-2', 'BSP-SR-016-4', 'BSP-SR-016-5', 'BSP-SR-018-1', 'BSP-SR-018-2', 'BSP-SR-018-3', 'BSP-SR-018-4', 'BSP-SR-018-5', 'BSP-SR-018-6', 'BSP-SR-019-1', 'BSP-SR-019-2', 'BSP-SR-019-3', 'BSP-SR-019-4', 'BSP-SR-019-5', 'BSP-SR-019-6', 'BSP-SR-021-1', 'BSP-SR-021-2', 'BSP-SR-021-3', 'BSP-SR-021-4', 'BSP-SR-021-5', 'BSP-SR-022-1', 'BSP-SR-022-2', 'BSP-SR-022-3', 'BSP-SR-022-4', 'BSP-SR-022-5', 'BSP-SR-023-1', 'BSP-SR-023-2', 'BSP-SR-023-3', 'BSP-SR-023-4', 'BSP-SR-023-5', 'BSP-SR-024-2', 'BSP-SR-024-3', 'BSP-SR-024-4', 'BSP-SR-024-5', 'BSP-SR-026-1', 'BSP-SR-026-3', 'BSP-SR-026-4', 'BSP-SR-026-5', 'BSP-SR-027-2', 'BSP-SR-027-3', 'BSP-SR-027-4', 'BSP-SR-027-5', 'BSP-SR-028-1', 'BSP-SR-028-2', 'BSP-SR-028-3', 'BSP-SR-028-5', 'BSP-SR-029-1', 'BSP-SR-029-4', 'BSP-SR-030-1', 'BSP-SR-030-2', 'BSP-SR-030-3', 'BSP-SR-030-5', 'BSP-SR-031-1', 'BSP-SR-031-2', 'BSP-SR-031-3', 'BSP-SR-031-4', 'BSP-SR-031-5', 'BSP-SR-032-1', 'BSP-SR-032-2', 'BSP-SR-032-3', 'BSP-SR-032-4', 'BSP-SR-032-5', 'BSP-SR-032-6', 'BSP-SR-033-2', 'BSP-SR-033-3', 'BSP-SR-033-5', 'BSP-SR-035-3', 'BSP-SR-035-4', 'BSP-SR-036-1', 'BSP-SR-036-2', 'BSP-SR-036-3', 'BSP-SR-036-4', 'BSP-SR-036-5', 'BSP-SR-037-1', 'BSP-SR-037-2', 'BSP-SR-037-3', 'BSP-SR-037-4', 'BSP-SR-037-5', 'BSP-SR-038-1', 'BSP-SR-038-3', 'BSP-SR-038-4', 'BSP-SR-038-5', 'BSP-SR-040-1', 'BSP-SR-040-2', 'BSP-SR-040-3', 'BSP-SR-040-4', 'BSP-SR-040-5', 'BSP-SR-042-1', 'BSP-SR-042-2', 'BSP-SR-042-3', 'BSP-SR-042-4', 'BSP-SR-042-5', 'BSP-SR-043-1', 'BSP-SR-043-2', 'BSP-SR-043-3', 'BSP-SR-044-2', 'BSP-SR-044-3', 'BSP-SR-044-4', 'BSP-SR-044-5', 'BSP-SR-045-3', 'BSP-SR-045-4', 'BSP-SR-045-5', 'BSP-SR-046-1', 'BSP-SR-046-2', 'BSP-SR-046-3', 'BSP-SR-046-4', 'BSP-SR-046-5', 'BSP-SR-047-1', 'BSP-SR-047-2', 'BSP-SR-047-4', 'BSP-SR-047-5', 'BSP-SR-048-2', 'BSP-SR-048-3', 'BSP-SR-048-4', 'BSP-SR-048-5', 'BSP-SR-049-2', 'BSP-SR-049-3', 'BSP-SR-049-4', 'BSP-SR-049-5', 'BSP-SR-050-1', 'BSP-SR-050-2', 'BSP-SR-050-3', 'BSP-SR-050-4', 'BSP-SR-050-5', 'BSP-SR-051-1', 'BSP-SR-051-2', 'BSP-SR-051-3', 'BSP-SR-051-4', 'BSP-SR-051-5', 'BSP-SR-052-1', 'BSP-SR-052-2', 'BSP-SR-052-3', 'BSP-SR-052-4', 'BSP-SR-052-5', 'BSP-SR-053-1', 'BSP-SR-053-2', 'BSP-SR-053-3', 'BSP-SR-053-4', 'BSP-SR-053-5', 'BSP-SR-054-1', 'BSP-SR-054-2', 'BSP-SR-054-3', 'BSP-SR-054-4', 'BSP-SR-054-5', 'BSP-SR-055-2', 'BSP-SR-055-3', 'BSP-SR-055-4', 'BSP-SR-055-5', 'BSP-SR-056-2', 'BSP-SR-056-3', 'BSP-SR-056-4', 'BSP-SR-056-5', 'BSP-SR-057-1', 'BSP-SR-057-2', 'BSP-SR-057-3', 'BSP-SR-057-4', 'BSP-SR-057-5', 'BSP-SR-058-1', 'BSP-SR-058-2', 'BSP-SR-058-3', 'BSP-SR-058-4', 'BSP-SR-058-5', 'BSP-SR-058-6', 'BSP-SR-059-1', 'BSP-SR-059-2', 'BSP-SR-059-3', 'BSP-SR-059-4', 'BSP-SR-059-5', 'BSP-SR-060-1', 'BSP-SR-060-2', 'BSP-SR-060-3', 'BSP-SR-060-4', 'BSP-SR-060-5', 'BSP-SR-061-2', 'BSP-SR-061-3', 'BSP-SR-061-4', 'BSP-SR-061-5', 'BSP-SR-061-6', 'BSP-SR-062-2', 'BSP-SR-062-3', 'BSP-SR-062-4', 'BSP-SR-062-5', 'BSP-SR-063-2', 'BSP-SR-063-3', 'BSP-SR-063-4', 'BSP-SR-063-5', 'BSP-SR-064-1', 'BSP-SR-064-3', 'BSP-SR-064-4', 'BSP-SR-064-5', 'BSP-SR-065-2', 'BSP-SR-065-3', 'BSP-SR-065-4', 'BSP-SR-065-5', 'BSP-SR-066-1', 'BSP-SR-066-2', 'BSP-SR-066-4', 'BSP-SR-066-5', 'BSP-SR-067-1', 'BSP-SR-067-2', 'BSP-SR-067-3', 'BSP-SR-067-4', 'BSP-SR-067-5', 'BSP-SR-067-6', 'BSP-SR-068-2', 'BSP-SR-068-3', 'BSP-SR-068-4', 'BSP-SR-068-5', 'BSP-SR-069-1', 'BSP-SR-069-2', 'BSP-SR-069-3', 'BSP-SR-069-4', 'BSP-SR-069-5', 'BSP-SR-069-6', 'BSP-SR-070-2', 'BSP-SR-070-3', 'BSP-SR-070-4', 'BSP-SR-070-5', 'BSP-SR-071-1', 'BSP-SR-071-2', 'BSP-SR-071-3', 'BSP-SR-071-5', 'BSP-SR-072-1', 'BSP-SR-072-2', 'BSP-SR-072-3', 'BSP-SR-072-4', 'BSP-SR-072-5', 'BSP-SR-073-2', 'BSP-SR-073-3', 'BSP-SR-073-4', 'BSP-SR-073-5', 'BSP-SR-074-1', 'BSP-SR-074-2', 'BSP-SR-074-3', 'BSP-SR-074-4', 'BSP-SR-074-5', 'BSP-SR-075-2', 'BSP-SR-075-3', 'BSP-SR-075-4', 'BSP-SR-075-5', 'BSP-SR-076-1', 'BSP-SR-076-2', 'BSP-SR-076-3', 'BSP-SR-076-4', 'BSP-SR-076-5', 'BSP-SR-076-6', 'BSP-SR-078-1', 'BSP-SR-078-2', 'BSP-SR-078-3', 'BSP-SR-078-4', 'BSP-SR-078-5', 'BSP-SR-079-2', 'BSP-SR-079-3', 'BSP-SR-079-4', 'BSP-SR-079-5', 'BSP-SR-080-2', 'BSP-SR-080-3', 'BSP-SR-080-4', 'BSP-SR-081-2', 'BSP-SR-081-4', 'BSP-SR-081-5', 'BSP-SR-082-1', 'BSP-SR-082-5', 'BSP-SR-083-1', 'BSP-SR-083-3', 'BSP-SR-083-5', 'BSP-SR-084-1', 'BSP-SR-084-2', 'BSP-SR-084-3', 'BSP-SR-084-5', 'BSP-SR-085-1', 'BSP-SR-085-2', 'BSP-SR-085-3', 'BSP-SR-085-4', 'BSP-SR-085-5', 'BSP-SR-087-1', 'BSP-SR-087-2', 'BSP-SR-087-3', 'BSP-SR-087-4', 'BSP-SR-087-5', 'BSP-SR-088-1', 'BSP-SR-088-2', 'BSP-SR-088-3', 'BSP-SR-088-4', 'BSP-SR-088-5', 'BSP-SR-089-1', 'BSP-SR-089-2', 'BSP-SR-089-3', 'BSP-SR-089-4', 'BSP-SR-089-5', 'BSP-SR-090-1', 'BSP-SR-090-2', 'BSP-SR-090-3', 'BSP-SR-090-4', 'BSP-SR-090-5', 'BSP-SR-091-2', 'BSP-SR-091-3', 'BSP-SR-091-4', 'BSP-SR-091-5', 'BSP-SR-092-1', 'BSP-SR-092-2', 'BSP-SR-092-3', 'BSP-SR-092-5', 'BSP-SR-092-6', 'BSP-SR-093-1', 'BSP-SR-093-2', 'BSP-SR-093-4', 'BSP-SR-093-5', 'BSP-SR-095-1', 'BSP-SR-095-2', 'BSP-SR-095-3', 'BSP-SR-095-4', 'BSP-SR-096-1', 'BSP-SR-096-2', 'BSP-SR-096-3', 'BSP-SR-096-5', 'BSP-SR-097-1', 'BSP-SR-097-2', 'BSP-SR-097-3', 'BSP-SR-097-4', 'BSP-SR-097-5', 'BSP-SR-098-2', 'BSP-SR-098-3', 'BSP-SR-098-4', 'BSP-SR-098-5', 'BSP-SR-100-2', 'BSP-SR-100-3', 'BSP-SR-100-4', 'BSP-SR-100-5', 'BSP-SR-101-1', 'BSP-SR-101-2', 'BSP-SR-101-3', 'BSP-SR-101-4', 'BSP-SR-102-1', 'BSP-SR-102-2', 'BSP-SR-102-3', 'BSP-SR-102-4', 'BSP-SR-102-5', 'BSP-SR-103-1', 'BSP-SR-103-2', 'BSP-SR-103-3', 'BSP-SR-103-4', 'BSP-SR-103-5', 'BSP-SR-104-1', 'BSP-SR-104-2', 'BSP-SR-104-3', 'BSP-SR-104-4', 'BSP-SR-104-5', 'BSP-SR-104-6', 'BSP-SR-105-1', 'BSP-SR-105-2', 'BSP-SR-105-3', 'BSP-SR-105-4', 'BSP-SR-105-5', 'BSP-SR-106-1', 'BSP-SR-106-2', 'BSP-SR-106-3', 'BSP-SR-106-4', 'BSP-SR-106-5', 'BSP-SR-107-3', 'BSP-SR-107-4', 'BSP-SR-107-5', 'BSP-SR-108-2', 'BSP-SR-108-4', 'BSP-SR-108-5', 'BSP-SR-109-2', 'BSP-SR-109-4', 'BSP-SR-109-5', 'BSP-SR-110-1', 'BSP-SR-110-2', 'BSP-SR-110-3', 'BSP-SR-110-4', 'BSP-SR-110-5', 'BSP-SR-111-1', 'BSP-SR-111-2', 'BSP-SR-111-3', 'BSP-SR-111-4', 'BSP-SR-111-5', 'BSP-SR-112-1', 'BSP-SR-112-2', 'BSP-SR-112-3', 'BSP-SR-112-4', 'BSP-SR-113-1', 'BSP-SR-113-2', 'BSP-SR-113-3', 'BSP-SR-113-4', 'BSP-SR-113-5', 'BSP-SR-114-2', 'BSP-SR-114-3', 'BSP-SR-114-4', 'BSP-SR-114-5', 'BSP-SR-115-1', 'BSP-SR-115-2', 'BSP-SR-115-3', 'BSP-SR-115-4', 'BSP-SR-115-5', 'BSP-SR-116-2', 'BSP-SR-116-5', 'BSP-SR-118-1', 'BSP-SR-118-2', 'BSP-SR-118-3', 'BSP-SR-118-4', 'BSP-SR-118-5', 'BSP-SR-118-6', 'BSP-SR-119-1', 'BSP-SR-119-2', 'BSP-SR-119-4', 'BSP-SR-119-5', 'BSP-SR-120-2', 'BSP-SR-120-3', 'BSP-SR-120-5', 'BSP-SR-121-1', 'BSP-SR-121-2', 'BSP-SR-121-4', 'BSP-SR-121-5', 'BSP-SR-123-2', 'BSP-SR-123-5', 'BSP-SR-124-1', 'BSP-SR-124-2', 'BSP-SR-124-3', 'BSP-SR-124-4', 'BSP-SR-124-5', 'BSP-SR-125-1', 'BSP-SR-125-2', 'BSP-SR-125-3', 'BSP-SR-125-4', 'BSP-SR-125-5', 'BSP-SR-126-2', 'BSP-SR-126-5', 'BSP-SR-127-3', 'BSP-SR-127-5', 'BSP-SR-128-1', 'BSP-SR-128-2', 'BSP-SR-128-3', 'BSP-SR-128-4', 'BSP-SR-128-5', 'BSP-SR-129-1', 'BSP-SR-129-3', 'BSP-SR-129-4', 'BSP-SR-129-5', 'BSP-SR-130-2', 'BSP-SR-130-5', 'BSP-SR-131-2', 'BSP-SR-131-3', 'BSP-SR-131-4', 'BSP-SR-131-5', 'BSP-SR-132-2', 'BSP-SR-132-3', 'BSP-SR-132-4', 'BSP-SR-132-5', 'BSP-SR-135-1', 'BSP-SR-135-2', 'BSP-SR-135-5', 'BSP-SR-136-1', 'BSP-SR-136-2', 'BSP-SR-136-3', 'BSP-SR-136-4', 'BSP-SR-136-5', 'BSP-SR-137-1', 'BSP-SR-137-2', 'BSP-SR-137-3', 'BSP-SR-137-4', 'BSP-SR-137-5', 'BSP-SR-138-1', 'BSP-SR-138-2', 'BSP-SR-138-3', 'BSP-SR-138-4', 'BSP-SR-138-5', 'BSP-SR-139-2', 'BSP-SR-139-3', 'BSP-SR-139-4', 'BSP-SR-139-5', 'BSP-SR-140-2', 'BSP-SR-140-5', 'BSP-SR-141-1', 'BSP-SR-141-3', 'BSP-SR-141-4', 'BSP-SR-141-5', 'BSP-SR-142-1', 'BSP-SR-142-2', 'BSP-SR-142-3', 'BSP-SR-142-4', 'BSP-SR-142-5', 'BSP-SR-143-1', 'BSP-SR-143-2', 'BSP-SR-143-3', 'BSP-SR-143-4', 'BSP-SR-143-5', 'BSP-SR-144-2', 'BSP-SR-144-5', 'BSP-SR-145-1', 'BSP-SR-145-3', 'BSP-SR-145-4', 'BSP-SR-145-5', 'BSP-SR-146-1', 'BSP-SR-146-2', 'BSP-SR-146-3', 'BSP-SR-146-5', 'BSP-SR-147-2', 'BSP-SR-147-3', 'BSP-SR-147-5', 'BSP-SR-148-1', 'BSP-SR-148-2', 'BSP-SR-148-3', 'BSP-SR-148-4', 'BSP-SR-148-5', 'BSP-SR-148-6', 'BSP-SR-150-1', 'BSP-SR-150-2', 'BSP-SR-150-3', 'BSP-SR-150-4', 'BSP-SR-150-5', 'BSP-SR-150-6', 'BSP-SR-151-1', 'BSP-SR-151-2', 'BSP-SR-151-3', 'BSP-SR-151-4', 'BSP-SR-151-5', 'BSP-SR-152-2', 'BSP-SR-152-3', 'BSP-SR-152-5', 'BSP-SR-153-1', 'BSP-SR-153-2', 'BSP-SR-153-3', 'BSP-SR-153-4', 'BSP-SR-153-5', 'BSP-SR-154-1', 'BSP-SR-154-2', 'BSP-SR-154-3', 'BSP-SR-154-4', 'BSP-SR-154-5', 'BSP-SR-154-6', 'BSP-SR-155-1', 'BSP-SR-155-2', 'BSP-SR-155-3', 'BSP-SR-155-4', 'BSP-SR-155-5', 'BSP-SR-156-1', 'BSP-SR-156-2', 'BSP-SR-156-3', 'BSP-SR-156-4', 'BSP-SR-156-5', 'BSP-SR-158-1', 'BSP-SR-158-2', 'BSP-SR-158-3', 'BSP-SR-158-5', 'BSP-SR-159-1', 'BSP-SR-159-2', 'BSP-SR-159-4', 'BSP-SR-160-1', 'BSP-SR-160-2', 'BSP-SR-160-3', 'BSP-SR-160-4', 'BSP-SR-160-5', 'BSP-SR-160-6', 'BSP-SR-161-2', 'BSP-SR-161-3', 'BSP-SR-161-4', 'BSP-SR-161-5', 'BSP-SR-162-5', 'BSP-SR-163-1', 'BSP-SR-163-2', 'BSP-SR-163-3', 'BSP-SR-163-4', 'BSP-SR-163-5', 'BSP-SR-164-3', 'BSP-SR-164-4', 'BSP-SR-164-5', 'BSP-SR-164-6', 'BSP-SR-165-2', 'BSP-SR-166-2', 'BSP-SR-166-3', 'BSP-SR-166-4', 'BSP-SR-166-5', 'BSP-SR-166-6', 'BSP-SR-168-1', 'BSP-SR-168-2', 'BSP-SR-168-4', 'BSP-SR-168-5', 'BSP-SR-169-1', 'BSP-SR-169-2', 'BSP-SR-169-3', 'BSP-SR-169-4', 'BSP-SR-169-5', 'BSP-SR-170-1', 'BSP-SR-170-2', 'BSP-SR-170-3', 'BSP-SR-170-4', 'BSP-SR-170-5', 'BSP-SR-171-1', 'BSP-SR-171-2', 'BSP-SR-171-3', 'BSP-SR-171-4', 'BSP-SR-171-5', 'BSP-SR-171-6', 'BSP-SR-172-1', 'BSP-SR-172-2', 'BSP-SR-172-3', 'BSP-SR-172-5', 'BSP-SR-173-2', 'BSP-SR-173-3', 'BSP-SR-173-5', 'BSP-SR-174-1', 'BSP-SR-174-2', 'BSP-SR-174-3', 'BSP-SR-174-4', 'BSP-SR-174-5', 'BSP-SR-175-2', 'BSP-SR-175-4', 'BSP-SR-175-6', 'BSP-SR-176-1', 'BSP-SR-176-2', 'BSP-SR-176-3', 'BSP-SR-176-4', 'BSP-SR-176-5', 'BSP-SR-177-1', 'BSP-SR-177-3', 'BSP-SR-177-4', 'BSP-SR-177-5', 'BSP-SR-178-1', 'BSP-SR-178-2', 'BSP-SR-178-3', 'BSP-SR-178-4', 'BSP-SR-178-5', 'BSP-SR-179-1', 'BSP-SR-179-2', 'BSP-SR-179-3', 'BSP-SR-179-4', 'BSP-SR-179-5', 'BSP-SR-180-2', 'BSP-SR-180-3', 'BSP-SR-180-4', 'BSP-SR-180-5', 'BSP-SR-180-6', 'BSP-SR-181-1', 'BSP-SR-181-2', 'BSP-SR-181-3', 'BSP-SR-181-4', 'BSP-SR-181-5', 'BSP-SR-184-1', 'BSP-SR-184-2', 'BSP-SR-184-3', 'BSP-SR-184-4', 'BSP-SR-184-5', 'BSP-SR-184-6', 'BSP-SR-185-1', 'BSP-SR-185-2', 'BSP-SR-185-3', 'BSP-SR-185-4', 'BSP-SR-185-5', 'BSP-SR-186-1', 'BSP-SR-186-2', 'BSP-SR-186-3', 'BSP-SR-186-4', 'BSP-SR-186-5', 'BSP-SR-187-1', 'BSP-SR-187-2', 'BSP-SR-187-3', 'BSP-SR-187-4', 'BSP-SR-187-5', 'BSP-SR-189-1', 'BSP-SR-189-2', 'BSP-SR-189-3', 'BSP-SR-189-4', 'BSP-SR-189-5', 'BSP-SR-190-1', 'BSP-SR-190-2', 'BSP-SR-190-3', 'BSP-SR-190-4', 'BSP-SR-190-5', 'BSP-SR-191-1', 'BSP-SR-191-2', 'BSP-SR-191-3', 'BSP-SR-191-4', 'BSP-SR-191-5', 'BSP-SR-193-1', 'BSP-SR-193-2', 'BSP-SR-193-3', 'BSP-SR-193-4', 'BSP-SR-193-5', 'BSP-SR-194-2', 'BSP-SR-194-3', 'BSP-SR-194-4', 'BSP-SR-194-5', 'BSP-SR-196-1', 'BSP-SR-196-2', 'BSP-SR-196-3', 'BSP-SR-196-4', 'BSP-SR-196-5', 'BSP-SR-197-1', 'BSP-SR-197-2', 'BSP-SR-197-3', 'BSP-SR-197-4', 'BSP-SR-197-5', 'BSP-SR-198-1', 'BSP-SR-198-2', 'BSP-SR-198-3', 'BSP-SR-198-4', 'BSP-SR-198-5', 'BSP-SR-199-2', 'BSP-SR-199-5', 'BSP-SR-201-1', 'BSP-SR-201-2', 'BSP-SR-201-3', 'BSP-SR-201-4', 'BSP-SR-201-5', 'BSP-SR-202-1', 'BSP-SR-202-2', 'BSP-SR-202-3', 'BSP-SR-202-4', 'BSP-SR-202-5', 'BSP-SR-203-1', 'BSP-SR-203-2', 'BSP-SR-203-3', 'BSP-SR-203-4', 'BSP-SR-203-5', 'BSP-SR-204-1', 'BSP-SR-204-3', 'BSP-SR-204-4', 'BSP-SR-204-5', 'BSP-SR-205-1', 'BSP-SR-205-2', 'BSP-SR-205-3', 'BSP-SR-205-4', 'BSP-SR-205-5', 'BSP-SR-206-1', 'BSP-SR-206-2', 'BSP-SR-206-3', 'BSP-SR-206-4', 'BSP-SR-206-5', 'BSP-SR-207-3', 'BSP-SR-207-4', 'BSP-SR-207-5', 'BSP-SR-208-1', 'BSP-SR-208-2', 'BSP-SR-208-3', 'BSP-SR-208-5', 'BSP-SR-209-1', 'BSP-SR-209-2', 'BSP-SR-209-4', 'BSP-SR-209-5', 'BSP-SR-210-1', 'BSP-SR-210-2', 'BSP-SR-210-3', 'BSP-SR-210-4', 'BSP-SR-210-5', 'BSP-SR-211-2', 'BSP-SR-211-4', 'BSP-SR-211-5', 'BSP-SR-212-1', 'BSP-SR-212-2', 'BSP-SR-212-3', 'BSP-SR-212-4', 'BSP-SR-212-5', 'BSP-SR-213-2', 'BSP-SR-213-4', 'BSP-SR-213-5', 'BSP-SR-214-1', 'BSP-SR-214-2', 'BSP-SR-214-3', 'BSP-SR-214-4', 'BSP-SR-214-5', 'BSP-SR-215-3', 'BSP-SR-215-4', 'BSP-SR-215-5', 'BSP-SR-217-2', 'BSP-SR-217-5', 'BSP-SR-218-2', 'BSP-SR-218-3', 'BSP-SR-218-4', 'BSP-SR-218-5', 'BSP-SR-219-1', 'BSP-SR-219-2', 'BSP-SR-219-3', 'BSP-SR-219-4', 'BSP-SR-219-5', 'BSP-SR-220-5', 'BSP-SR-221-5', 'BSP-SR-222-3', 'BSP-SR-222-5', 'BSP-SR-223-1', 'BSP-SR-223-2', 'BSP-SR-223-3', 'BSP-SR-223-4', 'BSP-SR-223-5', 'BSP-SR-224-2', 'BSP-SR-224-3', 'BSP-SR-224-4', 'BSP-SR-224-5', 'BSP-SR-225-1', 'BSP-SR-225-2', 'BSP-SR-225-3', 'BSP-SR-225-5', 'BSP-SR-226-1', 'BSP-SR-226-2', 'BSP-SR-226-3', 'BSP-SR-226-4', 'BSP-SR-226-5', 'BSP-SR-227-1', 'BSP-SR-227-2', 'BSP-SR-227-3', 'BSP-SR-227-4', 'BSP-SR-227-5', 'BSP-SR-227-6', 'BSP-SR-228-5', 'BSP-SR-229-1', 'BSP-SR-229-2', 'BSP-SR-229-3', 'BSP-SR-229-4', 'BSP-SR-229-5', 'BSP-SR-230-1', 'BSP-SR-230-2', 'BSP-SR-230-3', 'BSP-SR-230-4', 'BSP-SR-230-5', 'BSP-SR-231-5', 'BSP-SR-232-1', 'BSP-SR-232-2', 'BSP-SR-232-3', 'BSP-SR-232-5', 'BSP-SR-233-1', 'BSP-SR-233-2', 'BSP-SR-233-4', 'BSP-SR-233-5', 'BSP-SR-234-1', 'BSP-SR-234-2', 'BSP-SR-234-3', 'BSP-SR-234-4', 'BSP-SR-234-5', 'BSP-SR-235-1', 'BSP-SR-235-2', 'BSP-SR-235-3', 'BSP-SR-235-4', 'BSP-SR-235-5', 'BSP-SR-236-1', 'BSP-SR-236-2', 'BSP-SR-236-3', 'BSP-SR-236-4', 'BSP-SR-236-5', 'BSP-SR-236-6', 'BSP-SR-237-1', 'BSP-SR-237-2', 'BSP-SR-237-3', 'BSP-SR-237-4', 'BSP-SR-237-5', 'BSP-SR-238-5', 'BSP-SR-239-1', 'BSP-SR-239-2', 'BSP-SR-239-3', 'BSP-SR-239-4', 'BSP-SR-239-5', 'BSP-SR-239-6', 'BSP-SR-240-2', 'BSP-SR-240-3', 'BSP-SR-240-4', 'BSP-SR-240-5', 'BSP-SR-241-1', 'BSP-SR-241-2', 'BSP-SR-241-3', 'BSP-SR-241-4', 'BSP-SR-241-5', 'BSP-SR-242-2', 'BSP-SR-242-5', 'BSP-SR-242-6', 'BSP-SR-243-1', 'BSP-SR-243-2', 'BSP-SR-243-3', 'BSP-SR-243-5', 'BSP-SR-244-1', 'BSP-SR-244-2', 'BSP-SR-244-3', 'BSP-SR-244-4', 'BSP-SR-244-5', 'BSP-SR-245-1', 'BSP-SR-245-2', 'BSP-SR-245-3', 'BSP-SR-245-4', 'BSP-SR-245-5', 'BSP-SR-246-1', 'BSP-SR-246-2', 'BSP-SR-246-3', 'BSP-SR-246-4', 'BSP-SR-246-5', 'BSP-SR-246-6', 'BSP-SR-247-1', 'BSP-SR-247-2', 'BSP-SR-247-3', 'BSP-SR-247-4', 'BSP-SR-247-5', 'BSP-SR-247-6', 'BSP-SR-248-2', 'BSP-SR-248-3', 'BSP-SR-248-4', 'BSP-SR-248-5', 'BSP-SR-249-2', 'BSP-SR-249-3', 'BSP-SR-249-4', 'BSP-SR-249-5', 'BSP-SR-250-2', 'BSP-SR-250-5', 'BSP-SR-251-2', 'BSP-SR-251-3', 'BSP-SR-251-5', 'BSP-SR-251-6', 'BSP-SR-252-2', 'BSP-SR-252-4', 'BSP-SR-252-5', 'BSP-SR-252-6', 'BSP-SR-253-1', 'BSP-SR-253-2', 'BSP-SR-253-3', 'BSP-SR-253-4', 'BSP-SR-253-5', 'BSP-SR-254-2', 'BSP-SR-254-4', 'BSP-SR-254-5', 'BSP-SR-255-3', 'BSP-SR-255-4', 'BSP-SR-255-6', 'BSP-SR-256-1', 'BSP-SR-256-2', 'BSP-SR-256-3', 'BSP-SR-256-4', 'BSP-SR-256-5', 'BSP-SR-257-3', 'BSP-SR-257-5', 'BSP-SR-258-5', 'BSP-SR-259-2', 'BSP-SR-259-3', 'BSP-SR-259-4', 'BSP-SR-259-5', 'BSP-SR-261-1', 'BSP-SR-261-2', 'BSP-SR-261-3', 'BSP-SR-261-4', 'BSP-SR-261-5', 'BSP-SR-262-1', 'BSP-SR-262-2', 'BSP-SR-262-3', 'BSP-SR-262-4', 'BSP-SR-262-5', 'BSP-SR-263-1', 'BSP-SR-263-2', 'BSP-SR-263-3', 'BSP-SR-263-4', 'BSP-SR-263-5', 'BSP-SR-263-6', 'BSP-SR-264-1', 'BSP-SR-264-2', 'BSP-SR-264-3', 'BSP-SR-264-4', 'BSP-SR-264-5', 'BSP-SR-265-1', 'BSP-SR-265-2', 'BSP-SR-265-3', 'BSP-SR-265-4', 'BSP-SR-265-5', 'BSP-SR-266-1', 'BSP-SR-266-2', 'BSP-SR-266-3', 'BSP-SR-266-4', 'BSP-SR-266-5', 'BSP-SR-267-1', 'BSP-SR-267-2', 'BSP-SR-267-3', 'BSP-SR-267-4', 'BSP-SR-267-5', 'BSP-SR-268-1', 'BSP-SR-268-2', 'BSP-SR-268-3', 'BSP-SR-268-4', 'BSP-SR-268-5', 'BSP-SR-268-6', 'BSP-SR-269-1', 'BSP-SR-269-2', 'BSP-SR-269-3', 'BSP-SR-269-4', 'BSP-SR-269-5', 'BSP-SR-270-2', 'BSP-SR-270-5', 'BSP-SR-270-6', 'BSP-SR-271-1', 'BSP-SR-271-2', 'BSP-SR-271-3', 'BSP-SR-271-4', 'BSP-SR-271-5', 'BSP-SR-271-6', 'BSP-SR-272-1', 'BSP-SR-272-2', 'BSP-SR-272-3', 'BSP-SR-272-4', 'BSP-SR-272-5', 'BSP-SR-273-1', 'BSP-SR-273-2', 'BSP-SR-273-3', 'BSP-SR-273-4', 'BSP-SR-273-5', 'BSP-SR-274-5', 'BSP-SR-276-1', 'BSP-SR-276-2', 'BSP-SR-276-3', 'BSP-SR-276-4', 'BSP-SR-276-5', 'BSP-SR-277-2', 'BSP-SR-277-3', 'BSP-SR-277-4', 'BSP-SR-277-5', 'BSP-SR-278-2', 'BSP-SR-278-3', 'BSP-SR-278-5', 'BSP-SR-280-2', 'BSP-SR-280-3', 'BSP-SR-280-4', 'BSP-SR-280-5', 'BSP-SR-281-2', 'BSP-SR-281-3', 'BSP-SR-281-4', 'BSP-SR-281-5', 'BSP-SR-281-6', 'BSP-SR-282-1', 'BSP-SR-282-2', 'BSP-SR-282-3', 'BSP-SR-282-5', 'BSP-SR-282-6', 'BSP-SR-283-1', 'BSP-SR-283-2', 'BSP-SR-283-3', 'BSP-SR-283-4', 'BSP-SR-283-5', 'BSP-SR-284-1', 'BSP-SR-284-2', 'BSP-SR-284-3', 'BSP-SR-284-5', 'BSP-SR-285-1', 'BSP-SR-285-2', 'BSP-SR-285-3', 'BSP-SR-285-4', 'BSP-SR-285-5', 'BSP-SR-288-1', 'BSP-SR-288-2', 'BSP-SR-288-3', 'BSP-SR-288-4', 'BSP-SR-288-5', 'BSP-SR-289-3', 'BSP-SR-290-1', 'BSP-SR-290-2', 'BSP-SR-290-3', 'BSP-SR-290-4', 'BSP-SR-290-5', 'BSP-SR-291-1', 'BSP-SR-291-2', 'BSP-SR-291-3', 'BSP-SR-291-4', 'BSP-SR-291-5', 'BSP-SR-292-1', 'BSP-SR-292-2', 'BSP-SR-292-3', 'BSP-SR-292-4', 'BSP-SR-292-5', 'BSP-SR-293-1', 'BSP-SR-293-2', 'BSP-SR-293-3', 'BSP-SR-293-4', 'BSP-SR-293-5', 'BSP-SR-294-1', 'BSP-SR-294-2', 'BSP-SR-294-3', 'BSP-SR-294-5', 'BSP-SR-295-1', 'BSP-SR-295-2', 'BSP-SR-295-3', 'BSP-SR-295-4', 'BSP-SR-295-5', 'BSP-SR-296-1', 'BSP-SR-296-2', 'BSP-SR-296-3', 'BSP-SR-296-4', 'BSP-SR-296-5', 'BSP-SR-297-1', 'BSP-SR-297-2', 'BSP-SR-297-3', 'BSP-SR-297-5', 'BSP-SR-298-2', 'BSP-SR-298-3', 'BSP-SR-298-5', 'BSP-SR-299-1', 'BSP-SR-299-2', 'BSP-SR-299-3', 'BSP-SR-299-4', 'BSP-SR-299-5', 'BSP-SR-299-6', 'BSP-SR-300-1', 'BSP-SR-300-2', 'BSP-SR-300-3', 'BSP-SR-300-4', 'BSP-SR-300-5', 'BSP-SR-300-6', 'BSP-SR-302-1', 'BSP-SR-302-2', 'BSP-SR-302-3', 'BSP-SR-302-4', 'BSP-SR-302-5', 'BSP-SR-302-6', 'BSP-SR-304-1', 'BSP-SR-304-3', 'BSP-SR-304-4', 'BSP-SR-304-5', 'BSP-SR-305-1', 'BSP-SR-305-2', 'BSP-SR-305-3', 'BSP-SR-305-4', 'BSP-SR-307-2', 'BSP-SR-307-3', 'BSP-SR-307-4', 'BSP-SR-307-5', 'BSP-SR-309-2', 'BSP-SR-309-3', 'BSP-SR-309-4', 'BSP-SR-309-5'])"
      ]
     },
     "execution_count": 30,
     "metadata": {},
     "output_type": "execute_result"
    }
   ],
   "source": [
    "blocks.groupby('chrom_id').groups.keys()"
   ]
  },
  {
   "cell_type": "code",
   "execution_count": 32,
   "metadata": {},
   "outputs": [],
   "source": [
    "grps = blocks.groupby(['chrom_id','blk_id'])"
   ]
  },
  {
   "cell_type": "code",
   "execution_count": 39,
   "metadata": {},
   "outputs": [],
   "source": [
    "chr_names = grps.count().index.levels[0]"
   ]
  },
  {
   "cell_type": "code",
   "execution_count": 40,
   "metadata": {},
   "outputs": [
    {
     "data": {
      "text/plain": [
       "True"
      ]
     },
     "execution_count": 40,
     "metadata": {},
     "output_type": "execute_result"
    }
   ],
   "source": [
    "'BSP-OR-001-4' in chr_names"
   ]
  },
  {
   "cell_type": "code",
   "execution_count": 41,
   "metadata": {},
   "outputs": [
    {
     "data": {
      "text/plain": [
       "2353"
      ]
     },
     "execution_count": 41,
     "metadata": {},
     "output_type": "execute_result"
    }
   ],
   "source": [
    "len(chr_names)"
   ]
  },
  {
   "cell_type": "code",
   "execution_count": null,
   "metadata": {},
   "outputs": [],
   "source": []
  }
 ],
 "metadata": {
  "kernelspec": {
   "display_name": "XO",
   "language": "python",
   "name": "python3"
  },
  "language_info": {
   "codemirror_mode": {
    "name": "ipython",
    "version": 3
   },
   "file_extension": ".py",
   "mimetype": "text/x-python",
   "name": "python",
   "nbconvert_exporter": "python",
   "pygments_lexer": "ipython3",
   "version": "3.12.4"
  }
 },
 "nbformat": 4,
 "nbformat_minor": 2
}
