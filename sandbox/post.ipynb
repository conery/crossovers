{
 "cells": [
  {
   "cell_type": "markdown",
   "metadata": {},
   "source": [
    "# Postprocessing Steps"
   ]
  },
  {
   "cell_type": "markdown",
   "metadata": {},
   "source": [
    "Testing code for the function that looks for NCOs in filtered blocks"
   ]
  },
  {
   "cell_type": "code",
   "execution_count": 1,
   "metadata": {},
   "outputs": [],
   "source": [
    "import pandas as pd\n",
    "import numpy as np"
   ]
  },
  {
   "cell_type": "code",
   "execution_count": 2,
   "metadata": {},
   "outputs": [],
   "source": [
    "def load_data(fn):\n",
    "    df = pd.read_csv(fn)\n",
    "    res = []\n",
    "    groups = df.groupby('chrom_id')\n",
    "    for chr_id, chr in groups:\n",
    "        for blk_id, blk in chr.groupby('blk_id'):\n",
    "            res.append(blk)\n",
    "    return res"
   ]
  },
  {
   "cell_type": "code",
   "execution_count": 3,
   "metadata": {},
   "outputs": [],
   "source": [
    "blocks = load_data('../peaks.csv')"
   ]
  },
  {
   "cell_type": "code",
   "execution_count": 4,
   "metadata": {},
   "outputs": [
    {
     "data": {
      "text/plain": [
       "76975"
      ]
     },
     "execution_count": 4,
     "metadata": {},
     "output_type": "execute_result"
    }
   ],
   "source": [
    "len(blocks)"
   ]
  },
  {
   "cell_type": "code",
   "execution_count": 5,
   "metadata": {},
   "outputs": [],
   "source": [
    "data = [len(b) for b in blocks]"
   ]
  },
  {
   "cell_type": "code",
   "execution_count": 6,
   "metadata": {},
   "outputs": [
    {
     "data": {
      "text/plain": [
       "76975"
      ]
     },
     "execution_count": 6,
     "metadata": {},
     "output_type": "execute_result"
    }
   ],
   "source": [
    "len(data)"
   ]
  },
  {
   "cell_type": "code",
   "execution_count": 7,
   "metadata": {},
   "outputs": [],
   "source": [
    "import os"
   ]
  },
  {
   "cell_type": "code",
   "execution_count": 8,
   "metadata": {},
   "outputs": [],
   "source": [
    "df = blocks[4]"
   ]
  },
  {
   "cell_type": "code",
   "execution_count": 9,
   "metadata": {},
   "outputs": [],
   "source": [
    "s = {160, 161, 162, 163, 164, 165, 166, 167, 168, 169}"
   ]
  },
  {
   "cell_type": "code",
   "execution_count": 10,
   "metadata": {},
   "outputs": [
    {
     "data": {
      "text/html": [
       "<div>\n",
       "<style scoped>\n",
       "    .dataframe tbody tr th:only-of-type {\n",
       "        vertical-align: middle;\n",
       "    }\n",
       "\n",
       "    .dataframe tbody tr th {\n",
       "        vertical-align: top;\n",
       "    }\n",
       "\n",
       "    .dataframe thead th {\n",
       "        text-align: right;\n",
       "    }\n",
       "</style>\n",
       "<table border=\"1\" class=\"dataframe\">\n",
       "  <thead>\n",
       "    <tr style=\"text-align: right;\">\n",
       "      <th></th>\n",
       "      <th>Unnamed: 0</th>\n",
       "      <th>Sample</th>\n",
       "      <th>chromosome</th>\n",
       "      <th>position</th>\n",
       "      <th>base_geno</th>\n",
       "      <th>hmm_state1</th>\n",
       "      <th>hmm_state2</th>\n",
       "      <th>reference</th>\n",
       "      <th>ref_reads</th>\n",
       "      <th>variant</th>\n",
       "      <th>var_reads</th>\n",
       "      <th>chrom_id</th>\n",
       "      <th>blk_id</th>\n",
       "      <th>background</th>\n",
       "    </tr>\n",
       "  </thead>\n",
       "  <tbody>\n",
       "    <tr>\n",
       "      <th>160</th>\n",
       "      <td>68076</td>\n",
       "      <td>BSP-OR-001</td>\n",
       "      <td>3</td>\n",
       "      <td>88644</td>\n",
       "      <td>unknown</td>\n",
       "      <td>N2</td>\n",
       "      <td>N2</td>\n",
       "      <td>A</td>\n",
       "      <td>0</td>\n",
       "      <td>C</td>\n",
       "      <td>0</td>\n",
       "      <td>BSP-OR-001-3</td>\n",
       "      <td>4</td>\n",
       "      <td>CB4856</td>\n",
       "    </tr>\n",
       "    <tr>\n",
       "      <th>161</th>\n",
       "      <td>68077</td>\n",
       "      <td>BSP-OR-001</td>\n",
       "      <td>3</td>\n",
       "      <td>88646</td>\n",
       "      <td>unknown</td>\n",
       "      <td>N2</td>\n",
       "      <td>N2</td>\n",
       "      <td>A</td>\n",
       "      <td>0</td>\n",
       "      <td>C</td>\n",
       "      <td>0</td>\n",
       "      <td>BSP-OR-001-3</td>\n",
       "      <td>4</td>\n",
       "      <td>CB4856</td>\n",
       "    </tr>\n",
       "    <tr>\n",
       "      <th>162</th>\n",
       "      <td>68078</td>\n",
       "      <td>BSP-OR-001</td>\n",
       "      <td>3</td>\n",
       "      <td>88740</td>\n",
       "      <td>unknown</td>\n",
       "      <td>N2</td>\n",
       "      <td>N2</td>\n",
       "      <td>C</td>\n",
       "      <td>0</td>\n",
       "      <td>G</td>\n",
       "      <td>0</td>\n",
       "      <td>BSP-OR-001-3</td>\n",
       "      <td>4</td>\n",
       "      <td>CB4856</td>\n",
       "    </tr>\n",
       "    <tr>\n",
       "      <th>163</th>\n",
       "      <td>68079</td>\n",
       "      <td>BSP-OR-001</td>\n",
       "      <td>3</td>\n",
       "      <td>88741</td>\n",
       "      <td>unknown</td>\n",
       "      <td>N2</td>\n",
       "      <td>N2</td>\n",
       "      <td>C</td>\n",
       "      <td>0</td>\n",
       "      <td>A</td>\n",
       "      <td>0</td>\n",
       "      <td>BSP-OR-001-3</td>\n",
       "      <td>4</td>\n",
       "      <td>CB4856</td>\n",
       "    </tr>\n",
       "    <tr>\n",
       "      <th>164</th>\n",
       "      <td>68080</td>\n",
       "      <td>BSP-OR-001</td>\n",
       "      <td>3</td>\n",
       "      <td>88785</td>\n",
       "      <td>unknown</td>\n",
       "      <td>N2</td>\n",
       "      <td>N2</td>\n",
       "      <td>A</td>\n",
       "      <td>0</td>\n",
       "      <td>G</td>\n",
       "      <td>0</td>\n",
       "      <td>BSP-OR-001-3</td>\n",
       "      <td>4</td>\n",
       "      <td>CB4856</td>\n",
       "    </tr>\n",
       "    <tr>\n",
       "      <th>165</th>\n",
       "      <td>68081</td>\n",
       "      <td>BSP-OR-001</td>\n",
       "      <td>3</td>\n",
       "      <td>88786</td>\n",
       "      <td>unknown</td>\n",
       "      <td>N2</td>\n",
       "      <td>N2</td>\n",
       "      <td>T</td>\n",
       "      <td>0</td>\n",
       "      <td>A</td>\n",
       "      <td>0</td>\n",
       "      <td>BSP-OR-001-3</td>\n",
       "      <td>4</td>\n",
       "      <td>CB4856</td>\n",
       "    </tr>\n",
       "    <tr>\n",
       "      <th>166</th>\n",
       "      <td>68082</td>\n",
       "      <td>BSP-OR-001</td>\n",
       "      <td>3</td>\n",
       "      <td>88830</td>\n",
       "      <td>N2</td>\n",
       "      <td>N2</td>\n",
       "      <td>N2</td>\n",
       "      <td>C</td>\n",
       "      <td>4</td>\n",
       "      <td>G</td>\n",
       "      <td>0</td>\n",
       "      <td>BSP-OR-001-3</td>\n",
       "      <td>4</td>\n",
       "      <td>CB4856</td>\n",
       "    </tr>\n",
       "    <tr>\n",
       "      <th>167</th>\n",
       "      <td>68083</td>\n",
       "      <td>BSP-OR-001</td>\n",
       "      <td>3</td>\n",
       "      <td>88850</td>\n",
       "      <td>N2</td>\n",
       "      <td>N2</td>\n",
       "      <td>N2</td>\n",
       "      <td>G</td>\n",
       "      <td>4</td>\n",
       "      <td>C</td>\n",
       "      <td>0</td>\n",
       "      <td>BSP-OR-001-3</td>\n",
       "      <td>4</td>\n",
       "      <td>CB4856</td>\n",
       "    </tr>\n",
       "    <tr>\n",
       "      <th>168</th>\n",
       "      <td>68084</td>\n",
       "      <td>BSP-OR-001</td>\n",
       "      <td>3</td>\n",
       "      <td>88851</td>\n",
       "      <td>unknown</td>\n",
       "      <td>N2</td>\n",
       "      <td>N2</td>\n",
       "      <td>C</td>\n",
       "      <td>0</td>\n",
       "      <td>G</td>\n",
       "      <td>0</td>\n",
       "      <td>BSP-OR-001-3</td>\n",
       "      <td>4</td>\n",
       "      <td>CB4856</td>\n",
       "    </tr>\n",
       "    <tr>\n",
       "      <th>169</th>\n",
       "      <td>68085</td>\n",
       "      <td>BSP-OR-001</td>\n",
       "      <td>3</td>\n",
       "      <td>88854</td>\n",
       "      <td>N2</td>\n",
       "      <td>N2</td>\n",
       "      <td>N2</td>\n",
       "      <td>G</td>\n",
       "      <td>4</td>\n",
       "      <td>A</td>\n",
       "      <td>0</td>\n",
       "      <td>BSP-OR-001-3</td>\n",
       "      <td>4</td>\n",
       "      <td>CB4856</td>\n",
       "    </tr>\n",
       "  </tbody>\n",
       "</table>\n",
       "</div>"
      ],
      "text/plain": [
       "     Unnamed: 0      Sample  chromosome  position base_geno hmm_state1  \\\n",
       "160       68076  BSP-OR-001           3     88644   unknown         N2   \n",
       "161       68077  BSP-OR-001           3     88646   unknown         N2   \n",
       "162       68078  BSP-OR-001           3     88740   unknown         N2   \n",
       "163       68079  BSP-OR-001           3     88741   unknown         N2   \n",
       "164       68080  BSP-OR-001           3     88785   unknown         N2   \n",
       "165       68081  BSP-OR-001           3     88786   unknown         N2   \n",
       "166       68082  BSP-OR-001           3     88830        N2         N2   \n",
       "167       68083  BSP-OR-001           3     88850        N2         N2   \n",
       "168       68084  BSP-OR-001           3     88851   unknown         N2   \n",
       "169       68085  BSP-OR-001           3     88854        N2         N2   \n",
       "\n",
       "    hmm_state2 reference  ref_reads variant  var_reads      chrom_id  blk_id  \\\n",
       "160         N2         A          0       C          0  BSP-OR-001-3       4   \n",
       "161         N2         A          0       C          0  BSP-OR-001-3       4   \n",
       "162         N2         C          0       G          0  BSP-OR-001-3       4   \n",
       "163         N2         C          0       A          0  BSP-OR-001-3       4   \n",
       "164         N2         A          0       G          0  BSP-OR-001-3       4   \n",
       "165         N2         T          0       A          0  BSP-OR-001-3       4   \n",
       "166         N2         C          4       G          0  BSP-OR-001-3       4   \n",
       "167         N2         G          4       C          0  BSP-OR-001-3       4   \n",
       "168         N2         C          0       G          0  BSP-OR-001-3       4   \n",
       "169         N2         G          4       A          0  BSP-OR-001-3       4   \n",
       "\n",
       "    background  \n",
       "160     CB4856  \n",
       "161     CB4856  \n",
       "162     CB4856  \n",
       "163     CB4856  \n",
       "164     CB4856  \n",
       "165     CB4856  \n",
       "166     CB4856  \n",
       "167     CB4856  \n",
       "168     CB4856  \n",
       "169     CB4856  "
      ]
     },
     "execution_count": 10,
     "metadata": {},
     "output_type": "execute_result"
    }
   ],
   "source": [
    "df[df.index.isin(s)]"
   ]
  },
  {
   "cell_type": "code",
   "execution_count": 11,
   "metadata": {},
   "outputs": [
    {
     "data": {
      "text/html": [
       "<div>\n",
       "<style scoped>\n",
       "    .dataframe tbody tr th:only-of-type {\n",
       "        vertical-align: middle;\n",
       "    }\n",
       "\n",
       "    .dataframe tbody tr th {\n",
       "        vertical-align: top;\n",
       "    }\n",
       "\n",
       "    .dataframe thead th {\n",
       "        text-align: right;\n",
       "    }\n",
       "</style>\n",
       "<table border=\"1\" class=\"dataframe\">\n",
       "  <thead>\n",
       "    <tr style=\"text-align: right;\">\n",
       "      <th></th>\n",
       "      <th>Unnamed: 0</th>\n",
       "      <th>Sample</th>\n",
       "      <th>chromosome</th>\n",
       "      <th>position</th>\n",
       "      <th>base_geno</th>\n",
       "      <th>hmm_state1</th>\n",
       "      <th>hmm_state2</th>\n",
       "      <th>reference</th>\n",
       "      <th>ref_reads</th>\n",
       "      <th>variant</th>\n",
       "      <th>var_reads</th>\n",
       "      <th>chrom_id</th>\n",
       "      <th>blk_id</th>\n",
       "      <th>background</th>\n",
       "    </tr>\n",
       "  </thead>\n",
       "  <tbody>\n",
       "    <tr>\n",
       "      <th>166</th>\n",
       "      <td>68082</td>\n",
       "      <td>BSP-OR-001</td>\n",
       "      <td>3</td>\n",
       "      <td>88830</td>\n",
       "      <td>N2</td>\n",
       "      <td>N2</td>\n",
       "      <td>N2</td>\n",
       "      <td>C</td>\n",
       "      <td>4</td>\n",
       "      <td>G</td>\n",
       "      <td>0</td>\n",
       "      <td>BSP-OR-001-3</td>\n",
       "      <td>4</td>\n",
       "      <td>CB4856</td>\n",
       "    </tr>\n",
       "    <tr>\n",
       "      <th>167</th>\n",
       "      <td>68083</td>\n",
       "      <td>BSP-OR-001</td>\n",
       "      <td>3</td>\n",
       "      <td>88850</td>\n",
       "      <td>N2</td>\n",
       "      <td>N2</td>\n",
       "      <td>N2</td>\n",
       "      <td>G</td>\n",
       "      <td>4</td>\n",
       "      <td>C</td>\n",
       "      <td>0</td>\n",
       "      <td>BSP-OR-001-3</td>\n",
       "      <td>4</td>\n",
       "      <td>CB4856</td>\n",
       "    </tr>\n",
       "    <tr>\n",
       "      <th>169</th>\n",
       "      <td>68085</td>\n",
       "      <td>BSP-OR-001</td>\n",
       "      <td>3</td>\n",
       "      <td>88854</td>\n",
       "      <td>N2</td>\n",
       "      <td>N2</td>\n",
       "      <td>N2</td>\n",
       "      <td>G</td>\n",
       "      <td>4</td>\n",
       "      <td>A</td>\n",
       "      <td>0</td>\n",
       "      <td>BSP-OR-001-3</td>\n",
       "      <td>4</td>\n",
       "      <td>CB4856</td>\n",
       "    </tr>\n",
       "  </tbody>\n",
       "</table>\n",
       "</div>"
      ],
      "text/plain": [
       "     Unnamed: 0      Sample  chromosome  position base_geno hmm_state1  \\\n",
       "166       68082  BSP-OR-001           3     88830        N2         N2   \n",
       "167       68083  BSP-OR-001           3     88850        N2         N2   \n",
       "169       68085  BSP-OR-001           3     88854        N2         N2   \n",
       "\n",
       "    hmm_state2 reference  ref_reads variant  var_reads      chrom_id  blk_id  \\\n",
       "166         N2         C          4       G          0  BSP-OR-001-3       4   \n",
       "167         N2         G          4       C          0  BSP-OR-001-3       4   \n",
       "169         N2         G          4       A          0  BSP-OR-001-3       4   \n",
       "\n",
       "    background  \n",
       "166     CB4856  \n",
       "167     CB4856  \n",
       "169     CB4856  "
      ]
     },
     "execution_count": 11,
     "metadata": {},
     "output_type": "execute_result"
    }
   ],
   "source": [
    "df[df.index.isin(s) & (df.base_geno == df.hmm_state1)]"
   ]
  },
  {
   "cell_type": "code",
   "execution_count": 12,
   "metadata": {},
   "outputs": [],
   "source": [
    "s2 = set(s)"
   ]
  },
  {
   "cell_type": "code",
   "execution_count": 13,
   "metadata": {},
   "outputs": [],
   "source": [
    "s2 &= set(df[df.index.isin(s) & (df.base_geno == df.hmm_state1)].index)"
   ]
  },
  {
   "cell_type": "code",
   "execution_count": 14,
   "metadata": {},
   "outputs": [
    {
     "data": {
      "text/plain": [
       "{166, 167, 169}"
      ]
     },
     "execution_count": 14,
     "metadata": {},
     "output_type": "execute_result"
    }
   ],
   "source": [
    "s2"
   ]
  },
  {
   "cell_type": "code",
   "execution_count": 15,
   "metadata": {},
   "outputs": [],
   "source": [
    "chr = blocks[5]"
   ]
  },
  {
   "cell_type": "code",
   "execution_count": 16,
   "metadata": {},
   "outputs": [
    {
     "data": {
      "text/html": [
       "<div>\n",
       "<style scoped>\n",
       "    .dataframe tbody tr th:only-of-type {\n",
       "        vertical-align: middle;\n",
       "    }\n",
       "\n",
       "    .dataframe tbody tr th {\n",
       "        vertical-align: top;\n",
       "    }\n",
       "\n",
       "    .dataframe thead th {\n",
       "        text-align: right;\n",
       "    }\n",
       "</style>\n",
       "<table border=\"1\" class=\"dataframe\">\n",
       "  <thead>\n",
       "    <tr style=\"text-align: right;\">\n",
       "      <th></th>\n",
       "      <th>Unnamed: 0</th>\n",
       "      <th>Sample</th>\n",
       "      <th>chromosome</th>\n",
       "      <th>position</th>\n",
       "      <th>base_geno</th>\n",
       "      <th>hmm_state1</th>\n",
       "      <th>hmm_state2</th>\n",
       "      <th>reference</th>\n",
       "      <th>ref_reads</th>\n",
       "      <th>variant</th>\n",
       "      <th>var_reads</th>\n",
       "      <th>chrom_id</th>\n",
       "      <th>blk_id</th>\n",
       "      <th>background</th>\n",
       "    </tr>\n",
       "  </thead>\n",
       "  <tbody>\n",
       "    <tr>\n",
       "      <th>194</th>\n",
       "      <td>68475</td>\n",
       "      <td>BSP-OR-001</td>\n",
       "      <td>3</td>\n",
       "      <td>118319</td>\n",
       "      <td>unknown</td>\n",
       "      <td>N2</td>\n",
       "      <td>unknown</td>\n",
       "      <td>G</td>\n",
       "      <td>0</td>\n",
       "      <td>T</td>\n",
       "      <td>0</td>\n",
       "      <td>BSP-OR-001-3</td>\n",
       "      <td>5</td>\n",
       "      <td>CB4856</td>\n",
       "    </tr>\n",
       "    <tr>\n",
       "      <th>195</th>\n",
       "      <td>68476</td>\n",
       "      <td>BSP-OR-001</td>\n",
       "      <td>3</td>\n",
       "      <td>118329</td>\n",
       "      <td>N2</td>\n",
       "      <td>N2</td>\n",
       "      <td>N2</td>\n",
       "      <td>G</td>\n",
       "      <td>17</td>\n",
       "      <td>A</td>\n",
       "      <td>0</td>\n",
       "      <td>BSP-OR-001-3</td>\n",
       "      <td>5</td>\n",
       "      <td>CB4856</td>\n",
       "    </tr>\n",
       "    <tr>\n",
       "      <th>196</th>\n",
       "      <td>68477</td>\n",
       "      <td>BSP-OR-001</td>\n",
       "      <td>3</td>\n",
       "      <td>118331</td>\n",
       "      <td>unknown</td>\n",
       "      <td>N2</td>\n",
       "      <td>N2</td>\n",
       "      <td>G</td>\n",
       "      <td>0</td>\n",
       "      <td>A</td>\n",
       "      <td>0</td>\n",
       "      <td>BSP-OR-001-3</td>\n",
       "      <td>5</td>\n",
       "      <td>CB4856</td>\n",
       "    </tr>\n",
       "    <tr>\n",
       "      <th>197</th>\n",
       "      <td>68478</td>\n",
       "      <td>BSP-OR-001</td>\n",
       "      <td>3</td>\n",
       "      <td>118337</td>\n",
       "      <td>unknown</td>\n",
       "      <td>N2</td>\n",
       "      <td>N2</td>\n",
       "      <td>A</td>\n",
       "      <td>0</td>\n",
       "      <td>T</td>\n",
       "      <td>0</td>\n",
       "      <td>BSP-OR-001-3</td>\n",
       "      <td>5</td>\n",
       "      <td>CB4856</td>\n",
       "    </tr>\n",
       "    <tr>\n",
       "      <th>198</th>\n",
       "      <td>68479</td>\n",
       "      <td>BSP-OR-001</td>\n",
       "      <td>3</td>\n",
       "      <td>118374</td>\n",
       "      <td>N2</td>\n",
       "      <td>N2</td>\n",
       "      <td>N2</td>\n",
       "      <td>T</td>\n",
       "      <td>15</td>\n",
       "      <td>C</td>\n",
       "      <td>0</td>\n",
       "      <td>BSP-OR-001-3</td>\n",
       "      <td>5</td>\n",
       "      <td>CB4856</td>\n",
       "    </tr>\n",
       "  </tbody>\n",
       "</table>\n",
       "</div>"
      ],
      "text/plain": [
       "     Unnamed: 0      Sample  chromosome  position base_geno hmm_state1  \\\n",
       "194       68475  BSP-OR-001           3    118319   unknown         N2   \n",
       "195       68476  BSP-OR-001           3    118329        N2         N2   \n",
       "196       68477  BSP-OR-001           3    118331   unknown         N2   \n",
       "197       68478  BSP-OR-001           3    118337   unknown         N2   \n",
       "198       68479  BSP-OR-001           3    118374        N2         N2   \n",
       "\n",
       "    hmm_state2 reference  ref_reads variant  var_reads      chrom_id  blk_id  \\\n",
       "194    unknown         G          0       T          0  BSP-OR-001-3       5   \n",
       "195         N2         G         17       A          0  BSP-OR-001-3       5   \n",
       "196         N2         G          0       A          0  BSP-OR-001-3       5   \n",
       "197         N2         A          0       T          0  BSP-OR-001-3       5   \n",
       "198         N2         T         15       C          0  BSP-OR-001-3       5   \n",
       "\n",
       "    background  \n",
       "194     CB4856  \n",
       "195     CB4856  \n",
       "196     CB4856  \n",
       "197     CB4856  \n",
       "198     CB4856  "
      ]
     },
     "execution_count": 16,
     "metadata": {},
     "output_type": "execute_result"
    }
   ],
   "source": [
    "chr.head()"
   ]
  },
  {
   "cell_type": "code",
   "execution_count": 17,
   "metadata": {},
   "outputs": [
    {
     "data": {
      "text/plain": [
       "57"
      ]
     },
     "execution_count": 17,
     "metadata": {},
     "output_type": "execute_result"
    }
   ],
   "source": [
    "len(chr)"
   ]
  },
  {
   "cell_type": "code",
   "execution_count": 18,
   "metadata": {},
   "outputs": [
    {
     "data": {
      "text/plain": [
       "nan"
      ]
     },
     "execution_count": 18,
     "metadata": {},
     "output_type": "execute_result"
    }
   ],
   "source": [
    "np.nan"
   ]
  },
  {
   "cell_type": "code",
   "execution_count": 19,
   "metadata": {},
   "outputs": [],
   "source": [
    "hzi = pd.Series(np.nan, index=chr.index)"
   ]
  },
  {
   "cell_type": "code",
   "execution_count": 20,
   "metadata": {},
   "outputs": [
    {
     "data": {
      "text/plain": [
       "57"
      ]
     },
     "execution_count": 20,
     "metadata": {},
     "output_type": "execute_result"
    }
   ],
   "source": [
    "len(hzi)"
   ]
  },
  {
   "cell_type": "code",
   "execution_count": 21,
   "metadata": {},
   "outputs": [
    {
     "data": {
      "text/plain": [
       "194         NaN\n",
       "195    1.000000\n",
       "196         NaN\n",
       "197         NaN\n",
       "198    1.000000\n",
       "199    1.000000\n",
       "200    1.000000\n",
       "201    1.000000\n",
       "202    1.000000\n",
       "203         NaN\n",
       "204         NaN\n",
       "205         NaN\n",
       "206         NaN\n",
       "207         NaN\n",
       "208         NaN\n",
       "209    1.000000\n",
       "210    1.000000\n",
       "211    1.000000\n",
       "212    0.909091\n",
       "213    0.909091\n",
       "214    0.909091\n",
       "215    0.913043\n",
       "216    0.807692\n",
       "217    0.814815\n",
       "218    0.800000\n",
       "219    0.722222\n",
       "220    0.666667\n",
       "221    0.631579\n",
       "222    0.588235\n",
       "223    0.562500\n",
       "224    1.000000\n",
       "225         NaN\n",
       "226         NaN\n",
       "227    1.000000\n",
       "228    1.000000\n",
       "229    1.000000\n",
       "230    1.000000\n",
       "231    1.000000\n",
       "232    1.000000\n",
       "233    1.000000\n",
       "234    1.000000\n",
       "235    1.000000\n",
       "236    1.000000\n",
       "237    1.000000\n",
       "238    1.000000\n",
       "239    0.736842\n",
       "240    0.761905\n",
       "241    0.785714\n",
       "242    0.785714\n",
       "243    0.857143\n",
       "244    0.875000\n",
       "245    0.875000\n",
       "246    0.875000\n",
       "247    0.875000\n",
       "248    1.000000\n",
       "249         NaN\n",
       "250         NaN\n",
       "dtype: float64"
      ]
     },
     "execution_count": 21,
     "metadata": {},
     "output_type": "execute_result"
    }
   ],
   "source": [
    "chr.ref_reads / (chr.ref_reads + chr.var_reads)"
   ]
  },
  {
   "cell_type": "code",
   "execution_count": 22,
   "metadata": {},
   "outputs": [],
   "source": [
    "s = pd.Series(np.random.randn(10))"
   ]
  },
  {
   "cell_type": "code",
   "execution_count": 23,
   "metadata": {},
   "outputs": [
    {
     "data": {
      "text/plain": [
       "0   -2.034816\n",
       "1    0.080189\n",
       "2    0.807504\n",
       "3   -0.349904\n",
       "4    0.504301\n",
       "5    1.354754\n",
       "6    0.225808\n",
       "7    0.472462\n",
       "8   -1.018808\n",
       "9    0.972643\n",
       "dtype: float64"
      ]
     },
     "execution_count": 23,
     "metadata": {},
     "output_type": "execute_result"
    }
   ],
   "source": [
    "s"
   ]
  },
  {
   "cell_type": "code",
   "execution_count": 24,
   "metadata": {},
   "outputs": [
    {
     "data": {
      "text/plain": [
       "0    0.000000\n",
       "1    0.080189\n",
       "2    0.807504\n",
       "3    0.000000\n",
       "4    0.504301\n",
       "5    1.354754\n",
       "6    0.225808\n",
       "7    0.472462\n",
       "8    0.000000\n",
       "9    0.972643\n",
       "dtype: float64"
      ]
     },
     "execution_count": 24,
     "metadata": {},
     "output_type": "execute_result"
    }
   ],
   "source": [
    "s.where(s > 0, 0)"
   ]
  },
  {
   "cell_type": "markdown",
   "metadata": {},
   "source": [
    "The command line app (`xo post`) saves a frame that can be grouped by chromosome and block ID to get the set of NCOs."
   ]
  },
  {
   "cell_type": "code",
   "execution_count": 25,
   "metadata": {},
   "outputs": [],
   "source": [
    "df = pd.read_csv('../ncos.csv')"
   ]
  },
  {
   "cell_type": "code",
   "execution_count": 26,
   "metadata": {},
   "outputs": [
    {
     "data": {
      "text/html": [
       "<div>\n",
       "<style scoped>\n",
       "    .dataframe tbody tr th:only-of-type {\n",
       "        vertical-align: middle;\n",
       "    }\n",
       "\n",
       "    .dataframe tbody tr th {\n",
       "        vertical-align: top;\n",
       "    }\n",
       "\n",
       "    .dataframe thead th {\n",
       "        text-align: right;\n",
       "    }\n",
       "</style>\n",
       "<table border=\"1\" class=\"dataframe\">\n",
       "  <thead>\n",
       "    <tr style=\"text-align: right;\">\n",
       "      <th></th>\n",
       "      <th>SNP</th>\n",
       "      <th>Sample</th>\n",
       "      <th>chromosome</th>\n",
       "      <th>position</th>\n",
       "      <th>base_geno</th>\n",
       "      <th>hmm_state1</th>\n",
       "      <th>hmm_state2</th>\n",
       "      <th>reference</th>\n",
       "      <th>ref_reads</th>\n",
       "      <th>variant</th>\n",
       "      <th>var_reads</th>\n",
       "      <th>chrom_id</th>\n",
       "      <th>blk_id</th>\n",
       "      <th>background</th>\n",
       "      <th>chr_length</th>\n",
       "      <th>location</th>\n",
       "      <th>homozygosity</th>\n",
       "    </tr>\n",
       "  </thead>\n",
       "  <tbody>\n",
       "    <tr>\n",
       "      <th>0</th>\n",
       "      <td>67647</td>\n",
       "      <td>BSP-OR-001</td>\n",
       "      <td>3</td>\n",
       "      <td>68256</td>\n",
       "      <td>N2</td>\n",
       "      <td>N2</td>\n",
       "      <td>N2</td>\n",
       "      <td>T</td>\n",
       "      <td>6</td>\n",
       "      <td>A</td>\n",
       "      <td>0</td>\n",
       "      <td>BSP-OR-001-3</td>\n",
       "      <td>2</td>\n",
       "      <td>CB4856</td>\n",
       "      <td>13819453</td>\n",
       "      <td>0.004939</td>\n",
       "      <td>1.0</td>\n",
       "    </tr>\n",
       "    <tr>\n",
       "      <th>1</th>\n",
       "      <td>67648</td>\n",
       "      <td>BSP-OR-001</td>\n",
       "      <td>3</td>\n",
       "      <td>68258</td>\n",
       "      <td>N2</td>\n",
       "      <td>N2</td>\n",
       "      <td>N2</td>\n",
       "      <td>C</td>\n",
       "      <td>6</td>\n",
       "      <td>T</td>\n",
       "      <td>0</td>\n",
       "      <td>BSP-OR-001-3</td>\n",
       "      <td>2</td>\n",
       "      <td>CB4856</td>\n",
       "      <td>13819453</td>\n",
       "      <td>0.004939</td>\n",
       "      <td>1.0</td>\n",
       "    </tr>\n",
       "    <tr>\n",
       "      <th>2</th>\n",
       "      <td>67649</td>\n",
       "      <td>BSP-OR-001</td>\n",
       "      <td>3</td>\n",
       "      <td>68267</td>\n",
       "      <td>N2</td>\n",
       "      <td>N2</td>\n",
       "      <td>N2</td>\n",
       "      <td>G</td>\n",
       "      <td>6</td>\n",
       "      <td>A</td>\n",
       "      <td>0</td>\n",
       "      <td>BSP-OR-001-3</td>\n",
       "      <td>2</td>\n",
       "      <td>CB4856</td>\n",
       "      <td>13819453</td>\n",
       "      <td>0.004940</td>\n",
       "      <td>1.0</td>\n",
       "    </tr>\n",
       "    <tr>\n",
       "      <th>3</th>\n",
       "      <td>67651</td>\n",
       "      <td>BSP-OR-001</td>\n",
       "      <td>3</td>\n",
       "      <td>68280</td>\n",
       "      <td>N2</td>\n",
       "      <td>N2</td>\n",
       "      <td>N2</td>\n",
       "      <td>T</td>\n",
       "      <td>4</td>\n",
       "      <td>C</td>\n",
       "      <td>0</td>\n",
       "      <td>BSP-OR-001-3</td>\n",
       "      <td>2</td>\n",
       "      <td>CB4856</td>\n",
       "      <td>13819453</td>\n",
       "      <td>0.004941</td>\n",
       "      <td>1.0</td>\n",
       "    </tr>\n",
       "    <tr>\n",
       "      <th>4</th>\n",
       "      <td>67659</td>\n",
       "      <td>BSP-OR-001</td>\n",
       "      <td>3</td>\n",
       "      <td>68496</td>\n",
       "      <td>N2</td>\n",
       "      <td>N2</td>\n",
       "      <td>N2</td>\n",
       "      <td>A</td>\n",
       "      <td>16</td>\n",
       "      <td>C</td>\n",
       "      <td>0</td>\n",
       "      <td>BSP-OR-001-3</td>\n",
       "      <td>2</td>\n",
       "      <td>CB4856</td>\n",
       "      <td>13819453</td>\n",
       "      <td>0.004956</td>\n",
       "      <td>1.0</td>\n",
       "    </tr>\n",
       "  </tbody>\n",
       "</table>\n",
       "</div>"
      ],
      "text/plain": [
       "     SNP      Sample  chromosome  position base_geno hmm_state1 hmm_state2  \\\n",
       "0  67647  BSP-OR-001           3     68256        N2         N2         N2   \n",
       "1  67648  BSP-OR-001           3     68258        N2         N2         N2   \n",
       "2  67649  BSP-OR-001           3     68267        N2         N2         N2   \n",
       "3  67651  BSP-OR-001           3     68280        N2         N2         N2   \n",
       "4  67659  BSP-OR-001           3     68496        N2         N2         N2   \n",
       "\n",
       "  reference  ref_reads variant  var_reads      chrom_id  blk_id background  \\\n",
       "0         T          6       A          0  BSP-OR-001-3       2     CB4856   \n",
       "1         C          6       T          0  BSP-OR-001-3       2     CB4856   \n",
       "2         G          6       A          0  BSP-OR-001-3       2     CB4856   \n",
       "3         T          4       C          0  BSP-OR-001-3       2     CB4856   \n",
       "4         A         16       C          0  BSP-OR-001-3       2     CB4856   \n",
       "\n",
       "   chr_length  location  homozygosity  \n",
       "0    13819453  0.004939           1.0  \n",
       "1    13819453  0.004939           1.0  \n",
       "2    13819453  0.004940           1.0  \n",
       "3    13819453  0.004941           1.0  \n",
       "4    13819453  0.004956           1.0  "
      ]
     },
     "execution_count": 26,
     "metadata": {},
     "output_type": "execute_result"
    }
   ],
   "source": [
    "df.head()"
   ]
  },
  {
   "cell_type": "code",
   "execution_count": 27,
   "metadata": {},
   "outputs": [],
   "source": [
    "ncos = df.groupby(['chrom_id','blk_id'])"
   ]
  },
  {
   "cell_type": "markdown",
   "metadata": {},
   "source": [
    "To iterate over all NCOs:"
   ]
  },
  {
   "cell_type": "code",
   "execution_count": 28,
   "metadata": {},
   "outputs": [],
   "source": [
    "# for name, group in ncos:\n",
    "#    print(name)              <- index, e.g. ('BSP-OR-001-3', 4)\n",
    "#    print(group)             <- the group itself, as a frame"
   ]
  },
  {
   "cell_type": "markdown",
   "metadata": {},
   "source": [
    "To get a single group:"
   ]
  },
  {
   "cell_type": "code",
   "execution_count": 29,
   "metadata": {},
   "outputs": [
    {
     "data": {
      "text/html": [
       "<div>\n",
       "<style scoped>\n",
       "    .dataframe tbody tr th:only-of-type {\n",
       "        vertical-align: middle;\n",
       "    }\n",
       "\n",
       "    .dataframe tbody tr th {\n",
       "        vertical-align: top;\n",
       "    }\n",
       "\n",
       "    .dataframe thead th {\n",
       "        text-align: right;\n",
       "    }\n",
       "</style>\n",
       "<table border=\"1\" class=\"dataframe\">\n",
       "  <thead>\n",
       "    <tr style=\"text-align: right;\">\n",
       "      <th></th>\n",
       "      <th>SNP</th>\n",
       "      <th>Sample</th>\n",
       "      <th>chromosome</th>\n",
       "      <th>position</th>\n",
       "      <th>base_geno</th>\n",
       "      <th>hmm_state1</th>\n",
       "      <th>hmm_state2</th>\n",
       "      <th>reference</th>\n",
       "      <th>ref_reads</th>\n",
       "      <th>variant</th>\n",
       "      <th>var_reads</th>\n",
       "      <th>chrom_id</th>\n",
       "      <th>blk_id</th>\n",
       "      <th>background</th>\n",
       "      <th>chr_length</th>\n",
       "      <th>location</th>\n",
       "      <th>homozygosity</th>\n",
       "    </tr>\n",
       "  </thead>\n",
       "  <tbody>\n",
       "    <tr>\n",
       "      <th>10</th>\n",
       "      <td>68067</td>\n",
       "      <td>BSP-OR-001</td>\n",
       "      <td>3</td>\n",
       "      <td>88606</td>\n",
       "      <td>N2</td>\n",
       "      <td>N2</td>\n",
       "      <td>N2</td>\n",
       "      <td>G</td>\n",
       "      <td>6</td>\n",
       "      <td>A</td>\n",
       "      <td>0</td>\n",
       "      <td>BSP-OR-001-3</td>\n",
       "      <td>4</td>\n",
       "      <td>CB4856</td>\n",
       "      <td>13819453</td>\n",
       "      <td>0.006412</td>\n",
       "      <td>1.0</td>\n",
       "    </tr>\n",
       "    <tr>\n",
       "      <th>11</th>\n",
       "      <td>68069</td>\n",
       "      <td>BSP-OR-001</td>\n",
       "      <td>3</td>\n",
       "      <td>88614</td>\n",
       "      <td>N2</td>\n",
       "      <td>N2</td>\n",
       "      <td>N2</td>\n",
       "      <td>C</td>\n",
       "      <td>6</td>\n",
       "      <td>A</td>\n",
       "      <td>0</td>\n",
       "      <td>BSP-OR-001-3</td>\n",
       "      <td>4</td>\n",
       "      <td>CB4856</td>\n",
       "      <td>13819453</td>\n",
       "      <td>0.006412</td>\n",
       "      <td>1.0</td>\n",
       "    </tr>\n",
       "    <tr>\n",
       "      <th>12</th>\n",
       "      <td>68070</td>\n",
       "      <td>BSP-OR-001</td>\n",
       "      <td>3</td>\n",
       "      <td>88623</td>\n",
       "      <td>N2</td>\n",
       "      <td>N2</td>\n",
       "      <td>N2</td>\n",
       "      <td>A</td>\n",
       "      <td>6</td>\n",
       "      <td>T</td>\n",
       "      <td>0</td>\n",
       "      <td>BSP-OR-001-3</td>\n",
       "      <td>4</td>\n",
       "      <td>CB4856</td>\n",
       "      <td>13819453</td>\n",
       "      <td>0.006413</td>\n",
       "      <td>1.0</td>\n",
       "    </tr>\n",
       "    <tr>\n",
       "      <th>13</th>\n",
       "      <td>68082</td>\n",
       "      <td>BSP-OR-001</td>\n",
       "      <td>3</td>\n",
       "      <td>88830</td>\n",
       "      <td>N2</td>\n",
       "      <td>N2</td>\n",
       "      <td>N2</td>\n",
       "      <td>C</td>\n",
       "      <td>4</td>\n",
       "      <td>G</td>\n",
       "      <td>0</td>\n",
       "      <td>BSP-OR-001-3</td>\n",
       "      <td>4</td>\n",
       "      <td>CB4856</td>\n",
       "      <td>13819453</td>\n",
       "      <td>0.006428</td>\n",
       "      <td>1.0</td>\n",
       "    </tr>\n",
       "    <tr>\n",
       "      <th>14</th>\n",
       "      <td>68083</td>\n",
       "      <td>BSP-OR-001</td>\n",
       "      <td>3</td>\n",
       "      <td>88850</td>\n",
       "      <td>N2</td>\n",
       "      <td>N2</td>\n",
       "      <td>N2</td>\n",
       "      <td>G</td>\n",
       "      <td>4</td>\n",
       "      <td>C</td>\n",
       "      <td>0</td>\n",
       "      <td>BSP-OR-001-3</td>\n",
       "      <td>4</td>\n",
       "      <td>CB4856</td>\n",
       "      <td>13819453</td>\n",
       "      <td>0.006429</td>\n",
       "      <td>1.0</td>\n",
       "    </tr>\n",
       "    <tr>\n",
       "      <th>15</th>\n",
       "      <td>68085</td>\n",
       "      <td>BSP-OR-001</td>\n",
       "      <td>3</td>\n",
       "      <td>88854</td>\n",
       "      <td>N2</td>\n",
       "      <td>N2</td>\n",
       "      <td>N2</td>\n",
       "      <td>G</td>\n",
       "      <td>4</td>\n",
       "      <td>A</td>\n",
       "      <td>0</td>\n",
       "      <td>BSP-OR-001-3</td>\n",
       "      <td>4</td>\n",
       "      <td>CB4856</td>\n",
       "      <td>13819453</td>\n",
       "      <td>0.006430</td>\n",
       "      <td>1.0</td>\n",
       "    </tr>\n",
       "  </tbody>\n",
       "</table>\n",
       "</div>"
      ],
      "text/plain": [
       "      SNP      Sample  chromosome  position base_geno hmm_state1 hmm_state2  \\\n",
       "10  68067  BSP-OR-001           3     88606        N2         N2         N2   \n",
       "11  68069  BSP-OR-001           3     88614        N2         N2         N2   \n",
       "12  68070  BSP-OR-001           3     88623        N2         N2         N2   \n",
       "13  68082  BSP-OR-001           3     88830        N2         N2         N2   \n",
       "14  68083  BSP-OR-001           3     88850        N2         N2         N2   \n",
       "15  68085  BSP-OR-001           3     88854        N2         N2         N2   \n",
       "\n",
       "   reference  ref_reads variant  var_reads      chrom_id  blk_id background  \\\n",
       "10         G          6       A          0  BSP-OR-001-3       4     CB4856   \n",
       "11         C          6       A          0  BSP-OR-001-3       4     CB4856   \n",
       "12         A          6       T          0  BSP-OR-001-3       4     CB4856   \n",
       "13         C          4       G          0  BSP-OR-001-3       4     CB4856   \n",
       "14         G          4       C          0  BSP-OR-001-3       4     CB4856   \n",
       "15         G          4       A          0  BSP-OR-001-3       4     CB4856   \n",
       "\n",
       "    chr_length  location  homozygosity  \n",
       "10    13819453  0.006412           1.0  \n",
       "11    13819453  0.006412           1.0  \n",
       "12    13819453  0.006413           1.0  \n",
       "13    13819453  0.006428           1.0  \n",
       "14    13819453  0.006429           1.0  \n",
       "15    13819453  0.006430           1.0  "
      ]
     },
     "execution_count": 29,
     "metadata": {},
     "output_type": "execute_result"
    }
   ],
   "source": [
    "ncos.get_group(('BSP-OR-001-3',4))"
   ]
  },
  {
   "cell_type": "markdown",
   "metadata": {},
   "source": [
    "To apply an aggregation function select a column, call the function:"
   ]
  },
  {
   "cell_type": "code",
   "execution_count": 30,
   "metadata": {},
   "outputs": [
    {
     "data": {
      "text/plain": [
       "chrom_id      blk_id\n",
       "BSP-OR-001-3  2         10\n",
       "              4          6\n",
       "              11        10\n",
       "              12        33\n",
       "              14         7\n",
       "                        ..\n",
       "BSP-OR-001-5  125        6\n",
       "              126       15\n",
       "              129       10\n",
       "              133       20\n",
       "              135       11\n",
       "Name: SNP, Length: 69, dtype: int64"
      ]
     },
     "execution_count": 30,
     "metadata": {},
     "output_type": "execute_result"
    }
   ],
   "source": [
    "ncos.SNP.count()"
   ]
  },
  {
   "cell_type": "markdown",
   "metadata": {},
   "source": [
    "Mean number of SNPs per NCO:"
   ]
  },
  {
   "cell_type": "code",
   "execution_count": 31,
   "metadata": {},
   "outputs": [
    {
     "data": {
      "text/plain": [
       "np.float64(13.478260869565217)"
      ]
     },
     "execution_count": 31,
     "metadata": {},
     "output_type": "execute_result"
    }
   ],
   "source": [
    "ncos.SNP.count().mean()"
   ]
  },
  {
   "cell_type": "markdown",
   "metadata": {},
   "source": [
    "The output of `count` is a series with a multi-index that can itself be grouped to give interesting info."
   ]
  },
  {
   "cell_type": "code",
   "execution_count": 32,
   "metadata": {},
   "outputs": [],
   "source": [
    "sf = ncos.SNP.count()"
   ]
  },
  {
   "cell_type": "code",
   "execution_count": 33,
   "metadata": {},
   "outputs": [
    {
     "data": {
      "text/plain": [
       "pandas.core.series.Series"
      ]
     },
     "execution_count": 33,
     "metadata": {},
     "output_type": "execute_result"
    }
   ],
   "source": [
    "type(sf)"
   ]
  },
  {
   "cell_type": "markdown",
   "metadata": {},
   "source": [
    "The number of NCOs in each chromosome:"
   ]
  },
  {
   "cell_type": "code",
   "execution_count": 34,
   "metadata": {},
   "outputs": [
    {
     "data": {
      "text/plain": [
       "chrom_id\n",
       "BSP-OR-001-3     9\n",
       "BSP-OR-001-4     6\n",
       "BSP-OR-001-5    54\n",
       "Name: SNP, dtype: int64"
      ]
     },
     "execution_count": 34,
     "metadata": {},
     "output_type": "execute_result"
    }
   ],
   "source": [
    "sf.groupby(level='chrom_id').count()"
   ]
  },
  {
   "cell_type": "code",
   "execution_count": 35,
   "metadata": {},
   "outputs": [
    {
     "data": {
      "text/plain": [
       "np.float64(23.0)"
      ]
     },
     "execution_count": 35,
     "metadata": {},
     "output_type": "execute_result"
    }
   ],
   "source": [
    "sf.groupby(level='chrom_id').count().mean()"
   ]
  },
  {
   "cell_type": "code",
   "execution_count": null,
   "metadata": {},
   "outputs": [],
   "source": []
  }
 ],
 "metadata": {
  "kernelspec": {
   "display_name": "XO",
   "language": "python",
   "name": "python3"
  },
  "language_info": {
   "codemirror_mode": {
    "name": "ipython",
    "version": 3
   },
   "file_extension": ".py",
   "mimetype": "text/x-python",
   "name": "python",
   "nbconvert_exporter": "python",
   "pygments_lexer": "ipython3",
   "version": "3.12.4"
  }
 },
 "nbformat": 4,
 "nbformat_minor": 2
}
