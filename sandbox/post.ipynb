{
 "cells": [
  {
   "cell_type": "markdown",
   "metadata": {},
   "source": [
    "# Postprocessing Steps"
   ]
  },
  {
   "cell_type": "markdown",
   "metadata": {},
   "source": [
    "Testing code for the function that looks for NCOs in filtered blocks"
   ]
  },
  {
   "cell_type": "code",
   "execution_count": 2,
   "metadata": {},
   "outputs": [],
   "source": [
    "import pandas as pd\n",
    "import numpy as np"
   ]
  },
  {
   "cell_type": "code",
   "execution_count": null,
   "metadata": {},
   "outputs": [],
   "source": []
  },
  {
   "cell_type": "code",
   "execution_count": 3,
   "metadata": {},
   "outputs": [],
   "source": [
    "def load_data(fn):\n",
    "    df = pd.read_csv(fn)\n",
    "    res = []\n",
    "    groups = df.groupby('chrom_id')\n",
    "    for chr_id, chr in groups:\n",
    "        for blk_id, blk in chr.groupby('blk_id'):\n",
    "            res.append(blk)\n",
    "    return res"
   ]
  },
  {
   "cell_type": "code",
   "execution_count": 4,
   "metadata": {},
   "outputs": [],
   "source": [
    "blocks = load_data('../peaks.csv')"
   ]
  },
  {
   "cell_type": "code",
   "execution_count": 5,
   "metadata": {},
   "outputs": [
    {
     "data": {
      "text/plain": [
       "76975"
      ]
     },
     "execution_count": 5,
     "metadata": {},
     "output_type": "execute_result"
    }
   ],
   "source": [
    "len(blocks)"
   ]
  },
  {
   "cell_type": "code",
   "execution_count": 6,
   "metadata": {},
   "outputs": [],
   "source": [
    "data = [len(b) for b in blocks]"
   ]
  },
  {
   "cell_type": "code",
   "execution_count": 7,
   "metadata": {},
   "outputs": [
    {
     "data": {
      "text/plain": [
       "76975"
      ]
     },
     "execution_count": 7,
     "metadata": {},
     "output_type": "execute_result"
    }
   ],
   "source": [
    "len(data)"
   ]
  },
  {
   "cell_type": "code",
   "execution_count": 8,
   "metadata": {},
   "outputs": [],
   "source": [
    "import os"
   ]
  },
  {
   "cell_type": "code",
   "execution_count": 9,
   "metadata": {},
   "outputs": [],
   "source": [
    "df = blocks[4]"
   ]
  },
  {
   "cell_type": "code",
   "execution_count": 10,
   "metadata": {},
   "outputs": [],
   "source": [
    "s = {160, 161, 162, 163, 164, 165, 166, 167, 168, 169}"
   ]
  },
  {
   "cell_type": "code",
   "execution_count": 11,
   "metadata": {},
   "outputs": [
    {
     "data": {
      "text/html": [
       "<div>\n",
       "<style scoped>\n",
       "    .dataframe tbody tr th:only-of-type {\n",
       "        vertical-align: middle;\n",
       "    }\n",
       "\n",
       "    .dataframe tbody tr th {\n",
       "        vertical-align: top;\n",
       "    }\n",
       "\n",
       "    .dataframe thead th {\n",
       "        text-align: right;\n",
       "    }\n",
       "</style>\n",
       "<table border=\"1\" class=\"dataframe\">\n",
       "  <thead>\n",
       "    <tr style=\"text-align: right;\">\n",
       "      <th></th>\n",
       "      <th>Unnamed: 0</th>\n",
       "      <th>Sample</th>\n",
       "      <th>chromosome</th>\n",
       "      <th>position</th>\n",
       "      <th>base_geno</th>\n",
       "      <th>hmm_state1</th>\n",
       "      <th>hmm_state2</th>\n",
       "      <th>reference</th>\n",
       "      <th>ref_reads</th>\n",
       "      <th>variant</th>\n",
       "      <th>var_reads</th>\n",
       "      <th>chrom_id</th>\n",
       "      <th>blk_id</th>\n",
       "      <th>background</th>\n",
       "    </tr>\n",
       "  </thead>\n",
       "  <tbody>\n",
       "    <tr>\n",
       "      <th>160</th>\n",
       "      <td>68076</td>\n",
       "      <td>BSP-OR-001</td>\n",
       "      <td>3</td>\n",
       "      <td>88644</td>\n",
       "      <td>unknown</td>\n",
       "      <td>N2</td>\n",
       "      <td>N2</td>\n",
       "      <td>A</td>\n",
       "      <td>0</td>\n",
       "      <td>C</td>\n",
       "      <td>0</td>\n",
       "      <td>BSP-OR-001-3</td>\n",
       "      <td>4</td>\n",
       "      <td>CB4856</td>\n",
       "    </tr>\n",
       "    <tr>\n",
       "      <th>161</th>\n",
       "      <td>68077</td>\n",
       "      <td>BSP-OR-001</td>\n",
       "      <td>3</td>\n",
       "      <td>88646</td>\n",
       "      <td>unknown</td>\n",
       "      <td>N2</td>\n",
       "      <td>N2</td>\n",
       "      <td>A</td>\n",
       "      <td>0</td>\n",
       "      <td>C</td>\n",
       "      <td>0</td>\n",
       "      <td>BSP-OR-001-3</td>\n",
       "      <td>4</td>\n",
       "      <td>CB4856</td>\n",
       "    </tr>\n",
       "    <tr>\n",
       "      <th>162</th>\n",
       "      <td>68078</td>\n",
       "      <td>BSP-OR-001</td>\n",
       "      <td>3</td>\n",
       "      <td>88740</td>\n",
       "      <td>unknown</td>\n",
       "      <td>N2</td>\n",
       "      <td>N2</td>\n",
       "      <td>C</td>\n",
       "      <td>0</td>\n",
       "      <td>G</td>\n",
       "      <td>0</td>\n",
       "      <td>BSP-OR-001-3</td>\n",
       "      <td>4</td>\n",
       "      <td>CB4856</td>\n",
       "    </tr>\n",
       "    <tr>\n",
       "      <th>163</th>\n",
       "      <td>68079</td>\n",
       "      <td>BSP-OR-001</td>\n",
       "      <td>3</td>\n",
       "      <td>88741</td>\n",
       "      <td>unknown</td>\n",
       "      <td>N2</td>\n",
       "      <td>N2</td>\n",
       "      <td>C</td>\n",
       "      <td>0</td>\n",
       "      <td>A</td>\n",
       "      <td>0</td>\n",
       "      <td>BSP-OR-001-3</td>\n",
       "      <td>4</td>\n",
       "      <td>CB4856</td>\n",
       "    </tr>\n",
       "    <tr>\n",
       "      <th>164</th>\n",
       "      <td>68080</td>\n",
       "      <td>BSP-OR-001</td>\n",
       "      <td>3</td>\n",
       "      <td>88785</td>\n",
       "      <td>unknown</td>\n",
       "      <td>N2</td>\n",
       "      <td>N2</td>\n",
       "      <td>A</td>\n",
       "      <td>0</td>\n",
       "      <td>G</td>\n",
       "      <td>0</td>\n",
       "      <td>BSP-OR-001-3</td>\n",
       "      <td>4</td>\n",
       "      <td>CB4856</td>\n",
       "    </tr>\n",
       "    <tr>\n",
       "      <th>165</th>\n",
       "      <td>68081</td>\n",
       "      <td>BSP-OR-001</td>\n",
       "      <td>3</td>\n",
       "      <td>88786</td>\n",
       "      <td>unknown</td>\n",
       "      <td>N2</td>\n",
       "      <td>N2</td>\n",
       "      <td>T</td>\n",
       "      <td>0</td>\n",
       "      <td>A</td>\n",
       "      <td>0</td>\n",
       "      <td>BSP-OR-001-3</td>\n",
       "      <td>4</td>\n",
       "      <td>CB4856</td>\n",
       "    </tr>\n",
       "    <tr>\n",
       "      <th>166</th>\n",
       "      <td>68082</td>\n",
       "      <td>BSP-OR-001</td>\n",
       "      <td>3</td>\n",
       "      <td>88830</td>\n",
       "      <td>N2</td>\n",
       "      <td>N2</td>\n",
       "      <td>N2</td>\n",
       "      <td>C</td>\n",
       "      <td>4</td>\n",
       "      <td>G</td>\n",
       "      <td>0</td>\n",
       "      <td>BSP-OR-001-3</td>\n",
       "      <td>4</td>\n",
       "      <td>CB4856</td>\n",
       "    </tr>\n",
       "    <tr>\n",
       "      <th>167</th>\n",
       "      <td>68083</td>\n",
       "      <td>BSP-OR-001</td>\n",
       "      <td>3</td>\n",
       "      <td>88850</td>\n",
       "      <td>N2</td>\n",
       "      <td>N2</td>\n",
       "      <td>N2</td>\n",
       "      <td>G</td>\n",
       "      <td>4</td>\n",
       "      <td>C</td>\n",
       "      <td>0</td>\n",
       "      <td>BSP-OR-001-3</td>\n",
       "      <td>4</td>\n",
       "      <td>CB4856</td>\n",
       "    </tr>\n",
       "    <tr>\n",
       "      <th>168</th>\n",
       "      <td>68084</td>\n",
       "      <td>BSP-OR-001</td>\n",
       "      <td>3</td>\n",
       "      <td>88851</td>\n",
       "      <td>unknown</td>\n",
       "      <td>N2</td>\n",
       "      <td>N2</td>\n",
       "      <td>C</td>\n",
       "      <td>0</td>\n",
       "      <td>G</td>\n",
       "      <td>0</td>\n",
       "      <td>BSP-OR-001-3</td>\n",
       "      <td>4</td>\n",
       "      <td>CB4856</td>\n",
       "    </tr>\n",
       "    <tr>\n",
       "      <th>169</th>\n",
       "      <td>68085</td>\n",
       "      <td>BSP-OR-001</td>\n",
       "      <td>3</td>\n",
       "      <td>88854</td>\n",
       "      <td>N2</td>\n",
       "      <td>N2</td>\n",
       "      <td>N2</td>\n",
       "      <td>G</td>\n",
       "      <td>4</td>\n",
       "      <td>A</td>\n",
       "      <td>0</td>\n",
       "      <td>BSP-OR-001-3</td>\n",
       "      <td>4</td>\n",
       "      <td>CB4856</td>\n",
       "    </tr>\n",
       "  </tbody>\n",
       "</table>\n",
       "</div>"
      ],
      "text/plain": [
       "     Unnamed: 0      Sample  chromosome  position base_geno hmm_state1  \\\n",
       "160       68076  BSP-OR-001           3     88644   unknown         N2   \n",
       "161       68077  BSP-OR-001           3     88646   unknown         N2   \n",
       "162       68078  BSP-OR-001           3     88740   unknown         N2   \n",
       "163       68079  BSP-OR-001           3     88741   unknown         N2   \n",
       "164       68080  BSP-OR-001           3     88785   unknown         N2   \n",
       "165       68081  BSP-OR-001           3     88786   unknown         N2   \n",
       "166       68082  BSP-OR-001           3     88830        N2         N2   \n",
       "167       68083  BSP-OR-001           3     88850        N2         N2   \n",
       "168       68084  BSP-OR-001           3     88851   unknown         N2   \n",
       "169       68085  BSP-OR-001           3     88854        N2         N2   \n",
       "\n",
       "    hmm_state2 reference  ref_reads variant  var_reads      chrom_id  blk_id  \\\n",
       "160         N2         A          0       C          0  BSP-OR-001-3       4   \n",
       "161         N2         A          0       C          0  BSP-OR-001-3       4   \n",
       "162         N2         C          0       G          0  BSP-OR-001-3       4   \n",
       "163         N2         C          0       A          0  BSP-OR-001-3       4   \n",
       "164         N2         A          0       G          0  BSP-OR-001-3       4   \n",
       "165         N2         T          0       A          0  BSP-OR-001-3       4   \n",
       "166         N2         C          4       G          0  BSP-OR-001-3       4   \n",
       "167         N2         G          4       C          0  BSP-OR-001-3       4   \n",
       "168         N2         C          0       G          0  BSP-OR-001-3       4   \n",
       "169         N2         G          4       A          0  BSP-OR-001-3       4   \n",
       "\n",
       "    background  \n",
       "160     CB4856  \n",
       "161     CB4856  \n",
       "162     CB4856  \n",
       "163     CB4856  \n",
       "164     CB4856  \n",
       "165     CB4856  \n",
       "166     CB4856  \n",
       "167     CB4856  \n",
       "168     CB4856  \n",
       "169     CB4856  "
      ]
     },
     "execution_count": 11,
     "metadata": {},
     "output_type": "execute_result"
    }
   ],
   "source": [
    "df[df.index.isin(s)]"
   ]
  },
  {
   "cell_type": "code",
   "execution_count": 12,
   "metadata": {},
   "outputs": [
    {
     "data": {
      "text/html": [
       "<div>\n",
       "<style scoped>\n",
       "    .dataframe tbody tr th:only-of-type {\n",
       "        vertical-align: middle;\n",
       "    }\n",
       "\n",
       "    .dataframe tbody tr th {\n",
       "        vertical-align: top;\n",
       "    }\n",
       "\n",
       "    .dataframe thead th {\n",
       "        text-align: right;\n",
       "    }\n",
       "</style>\n",
       "<table border=\"1\" class=\"dataframe\">\n",
       "  <thead>\n",
       "    <tr style=\"text-align: right;\">\n",
       "      <th></th>\n",
       "      <th>Unnamed: 0</th>\n",
       "      <th>Sample</th>\n",
       "      <th>chromosome</th>\n",
       "      <th>position</th>\n",
       "      <th>base_geno</th>\n",
       "      <th>hmm_state1</th>\n",
       "      <th>hmm_state2</th>\n",
       "      <th>reference</th>\n",
       "      <th>ref_reads</th>\n",
       "      <th>variant</th>\n",
       "      <th>var_reads</th>\n",
       "      <th>chrom_id</th>\n",
       "      <th>blk_id</th>\n",
       "      <th>background</th>\n",
       "    </tr>\n",
       "  </thead>\n",
       "  <tbody>\n",
       "    <tr>\n",
       "      <th>166</th>\n",
       "      <td>68082</td>\n",
       "      <td>BSP-OR-001</td>\n",
       "      <td>3</td>\n",
       "      <td>88830</td>\n",
       "      <td>N2</td>\n",
       "      <td>N2</td>\n",
       "      <td>N2</td>\n",
       "      <td>C</td>\n",
       "      <td>4</td>\n",
       "      <td>G</td>\n",
       "      <td>0</td>\n",
       "      <td>BSP-OR-001-3</td>\n",
       "      <td>4</td>\n",
       "      <td>CB4856</td>\n",
       "    </tr>\n",
       "    <tr>\n",
       "      <th>167</th>\n",
       "      <td>68083</td>\n",
       "      <td>BSP-OR-001</td>\n",
       "      <td>3</td>\n",
       "      <td>88850</td>\n",
       "      <td>N2</td>\n",
       "      <td>N2</td>\n",
       "      <td>N2</td>\n",
       "      <td>G</td>\n",
       "      <td>4</td>\n",
       "      <td>C</td>\n",
       "      <td>0</td>\n",
       "      <td>BSP-OR-001-3</td>\n",
       "      <td>4</td>\n",
       "      <td>CB4856</td>\n",
       "    </tr>\n",
       "    <tr>\n",
       "      <th>169</th>\n",
       "      <td>68085</td>\n",
       "      <td>BSP-OR-001</td>\n",
       "      <td>3</td>\n",
       "      <td>88854</td>\n",
       "      <td>N2</td>\n",
       "      <td>N2</td>\n",
       "      <td>N2</td>\n",
       "      <td>G</td>\n",
       "      <td>4</td>\n",
       "      <td>A</td>\n",
       "      <td>0</td>\n",
       "      <td>BSP-OR-001-3</td>\n",
       "      <td>4</td>\n",
       "      <td>CB4856</td>\n",
       "    </tr>\n",
       "  </tbody>\n",
       "</table>\n",
       "</div>"
      ],
      "text/plain": [
       "     Unnamed: 0      Sample  chromosome  position base_geno hmm_state1  \\\n",
       "166       68082  BSP-OR-001           3     88830        N2         N2   \n",
       "167       68083  BSP-OR-001           3     88850        N2         N2   \n",
       "169       68085  BSP-OR-001           3     88854        N2         N2   \n",
       "\n",
       "    hmm_state2 reference  ref_reads variant  var_reads      chrom_id  blk_id  \\\n",
       "166         N2         C          4       G          0  BSP-OR-001-3       4   \n",
       "167         N2         G          4       C          0  BSP-OR-001-3       4   \n",
       "169         N2         G          4       A          0  BSP-OR-001-3       4   \n",
       "\n",
       "    background  \n",
       "166     CB4856  \n",
       "167     CB4856  \n",
       "169     CB4856  "
      ]
     },
     "execution_count": 12,
     "metadata": {},
     "output_type": "execute_result"
    }
   ],
   "source": [
    "df[df.index.isin(s) & (df.base_geno == df.hmm_state1)]"
   ]
  },
  {
   "cell_type": "code",
   "execution_count": 13,
   "metadata": {},
   "outputs": [],
   "source": [
    "s2 = set(s)"
   ]
  },
  {
   "cell_type": "code",
   "execution_count": 14,
   "metadata": {},
   "outputs": [],
   "source": [
    "s2 &= set(df[df.index.isin(s) & (df.base_geno == df.hmm_state1)].index)"
   ]
  },
  {
   "cell_type": "code",
   "execution_count": 15,
   "metadata": {},
   "outputs": [
    {
     "data": {
      "text/plain": [
       "{166, 167, 169}"
      ]
     },
     "execution_count": 15,
     "metadata": {},
     "output_type": "execute_result"
    }
   ],
   "source": [
    "s2"
   ]
  },
  {
   "cell_type": "code",
   "execution_count": 22,
   "metadata": {},
   "outputs": [
    {
     "ename": "NameError",
     "evalue": "name 'blks' is not defined",
     "output_type": "error",
     "traceback": [
      "\u001b[0;31m---------------------------------------------------------------------------\u001b[0m",
      "\u001b[0;31mNameError\u001b[0m                                 Traceback (most recent call last)",
      "Cell \u001b[0;32mIn[22], line 1\u001b[0m\n\u001b[0;32m----> 1\u001b[0m \u001b[38;5;28mchr\u001b[39m \u001b[38;5;241m=\u001b[39m \u001b[43mblks\u001b[49m[\u001b[38;5;241m5\u001b[39m]\n",
      "\u001b[0;31mNameError\u001b[0m: name 'blks' is not defined"
     ]
    }
   ],
   "source": [
    "chr = blks[5]"
   ]
  },
  {
   "cell_type": "code",
   "execution_count": 23,
   "metadata": {},
   "outputs": [
    {
     "data": {
      "text/html": [
       "<div>\n",
       "<style scoped>\n",
       "    .dataframe tbody tr th:only-of-type {\n",
       "        vertical-align: middle;\n",
       "    }\n",
       "\n",
       "    .dataframe tbody tr th {\n",
       "        vertical-align: top;\n",
       "    }\n",
       "\n",
       "    .dataframe thead th {\n",
       "        text-align: right;\n",
       "    }\n",
       "</style>\n",
       "<table border=\"1\" class=\"dataframe\">\n",
       "  <thead>\n",
       "    <tr style=\"text-align: right;\">\n",
       "      <th></th>\n",
       "      <th>Unnamed: 0</th>\n",
       "      <th>Sample</th>\n",
       "      <th>chromosome</th>\n",
       "      <th>position</th>\n",
       "      <th>base_geno</th>\n",
       "      <th>hmm_state1</th>\n",
       "      <th>hmm_state2</th>\n",
       "      <th>reference</th>\n",
       "      <th>ref_reads</th>\n",
       "      <th>variant</th>\n",
       "      <th>var_reads</th>\n",
       "      <th>chrom_id</th>\n",
       "      <th>blk_id</th>\n",
       "      <th>background</th>\n",
       "    </tr>\n",
       "  </thead>\n",
       "  <tbody>\n",
       "    <tr>\n",
       "      <th>145</th>\n",
       "      <td>68061</td>\n",
       "      <td>BSP-OR-001</td>\n",
       "      <td>3</td>\n",
       "      <td>88497</td>\n",
       "      <td>unknown</td>\n",
       "      <td>N2</td>\n",
       "      <td>unknown</td>\n",
       "      <td>C</td>\n",
       "      <td>0</td>\n",
       "      <td>G</td>\n",
       "      <td>0</td>\n",
       "      <td>BSP-OR-001-3</td>\n",
       "      <td>4</td>\n",
       "      <td>CB4856</td>\n",
       "    </tr>\n",
       "    <tr>\n",
       "      <th>146</th>\n",
       "      <td>68062</td>\n",
       "      <td>BSP-OR-001</td>\n",
       "      <td>3</td>\n",
       "      <td>88552</td>\n",
       "      <td>unknown</td>\n",
       "      <td>N2</td>\n",
       "      <td>unknown</td>\n",
       "      <td>A</td>\n",
       "      <td>0</td>\n",
       "      <td>T</td>\n",
       "      <td>0</td>\n",
       "      <td>BSP-OR-001-3</td>\n",
       "      <td>4</td>\n",
       "      <td>CB4856</td>\n",
       "    </tr>\n",
       "    <tr>\n",
       "      <th>147</th>\n",
       "      <td>68063</td>\n",
       "      <td>BSP-OR-001</td>\n",
       "      <td>3</td>\n",
       "      <td>88553</td>\n",
       "      <td>unknown</td>\n",
       "      <td>N2</td>\n",
       "      <td>unknown</td>\n",
       "      <td>T</td>\n",
       "      <td>0</td>\n",
       "      <td>A</td>\n",
       "      <td>0</td>\n",
       "      <td>BSP-OR-001-3</td>\n",
       "      <td>4</td>\n",
       "      <td>CB4856</td>\n",
       "    </tr>\n",
       "    <tr>\n",
       "      <th>148</th>\n",
       "      <td>68064</td>\n",
       "      <td>BSP-OR-001</td>\n",
       "      <td>3</td>\n",
       "      <td>88558</td>\n",
       "      <td>unknown</td>\n",
       "      <td>N2</td>\n",
       "      <td>unknown</td>\n",
       "      <td>T</td>\n",
       "      <td>0</td>\n",
       "      <td>A</td>\n",
       "      <td>0</td>\n",
       "      <td>BSP-OR-001-3</td>\n",
       "      <td>4</td>\n",
       "      <td>CB4856</td>\n",
       "    </tr>\n",
       "    <tr>\n",
       "      <th>149</th>\n",
       "      <td>68065</td>\n",
       "      <td>BSP-OR-001</td>\n",
       "      <td>3</td>\n",
       "      <td>88571</td>\n",
       "      <td>unknown</td>\n",
       "      <td>N2</td>\n",
       "      <td>unknown</td>\n",
       "      <td>T</td>\n",
       "      <td>0</td>\n",
       "      <td>A</td>\n",
       "      <td>0</td>\n",
       "      <td>BSP-OR-001-3</td>\n",
       "      <td>4</td>\n",
       "      <td>CB4856</td>\n",
       "    </tr>\n",
       "  </tbody>\n",
       "</table>\n",
       "</div>"
      ],
      "text/plain": [
       "     Unnamed: 0      Sample  chromosome  position base_geno hmm_state1  \\\n",
       "145       68061  BSP-OR-001           3     88497   unknown         N2   \n",
       "146       68062  BSP-OR-001           3     88552   unknown         N2   \n",
       "147       68063  BSP-OR-001           3     88553   unknown         N2   \n",
       "148       68064  BSP-OR-001           3     88558   unknown         N2   \n",
       "149       68065  BSP-OR-001           3     88571   unknown         N2   \n",
       "\n",
       "    hmm_state2 reference  ref_reads variant  var_reads      chrom_id  blk_id  \\\n",
       "145    unknown         C          0       G          0  BSP-OR-001-3       4   \n",
       "146    unknown         A          0       T          0  BSP-OR-001-3       4   \n",
       "147    unknown         T          0       A          0  BSP-OR-001-3       4   \n",
       "148    unknown         T          0       A          0  BSP-OR-001-3       4   \n",
       "149    unknown         T          0       A          0  BSP-OR-001-3       4   \n",
       "\n",
       "    background  \n",
       "145     CB4856  \n",
       "146     CB4856  \n",
       "147     CB4856  \n",
       "148     CB4856  \n",
       "149     CB4856  "
      ]
     },
     "execution_count": 23,
     "metadata": {},
     "output_type": "execute_result"
    }
   ],
   "source": [
    "chr.head()"
   ]
  },
  {
   "cell_type": "code",
   "execution_count": 24,
   "metadata": {},
   "outputs": [
    {
     "data": {
      "text/plain": [
       "49"
      ]
     },
     "execution_count": 24,
     "metadata": {},
     "output_type": "execute_result"
    }
   ],
   "source": [
    "len(chr)"
   ]
  },
  {
   "cell_type": "code",
   "execution_count": 25,
   "metadata": {},
   "outputs": [
    {
     "data": {
      "text/plain": [
       "nan"
      ]
     },
     "execution_count": 25,
     "metadata": {},
     "output_type": "execute_result"
    }
   ],
   "source": [
    "np.nan"
   ]
  },
  {
   "cell_type": "code",
   "execution_count": 26,
   "metadata": {},
   "outputs": [],
   "source": [
    "hzi = pd.Series(np.nan, index=chr.index)"
   ]
  },
  {
   "cell_type": "code",
   "execution_count": 27,
   "metadata": {},
   "outputs": [
    {
     "data": {
      "text/plain": [
       "49"
      ]
     },
     "execution_count": 27,
     "metadata": {},
     "output_type": "execute_result"
    }
   ],
   "source": [
    "len(hzi)"
   ]
  },
  {
   "cell_type": "code",
   "execution_count": 28,
   "metadata": {},
   "outputs": [
    {
     "data": {
      "text/plain": [
       "145         NaN\n",
       "146         NaN\n",
       "147         NaN\n",
       "148         NaN\n",
       "149         NaN\n",
       "150         NaN\n",
       "151    1.000000\n",
       "152         NaN\n",
       "153    1.000000\n",
       "154    1.000000\n",
       "155         NaN\n",
       "156         NaN\n",
       "157         NaN\n",
       "158         NaN\n",
       "159         NaN\n",
       "160         NaN\n",
       "161         NaN\n",
       "162         NaN\n",
       "163         NaN\n",
       "164         NaN\n",
       "165         NaN\n",
       "166    1.000000\n",
       "167    1.000000\n",
       "168         NaN\n",
       "169    1.000000\n",
       "170    0.500000\n",
       "171    0.571429\n",
       "172    1.000000\n",
       "173         NaN\n",
       "174         NaN\n",
       "175         NaN\n",
       "176         NaN\n",
       "177         NaN\n",
       "178         NaN\n",
       "179    1.000000\n",
       "180    0.400000\n",
       "181    0.625000\n",
       "182    0.600000\n",
       "183    0.615385\n",
       "184    0.615385\n",
       "185    0.571429\n",
       "186    0.600000\n",
       "187    0.611111\n",
       "188    0.666667\n",
       "189    0.764706\n",
       "190    0.764706\n",
       "191         NaN\n",
       "192         NaN\n",
       "193         NaN\n",
       "dtype: float64"
      ]
     },
     "execution_count": 28,
     "metadata": {},
     "output_type": "execute_result"
    }
   ],
   "source": [
    "chr.ref_reads / (chr.ref_reads + chr.var_reads)"
   ]
  },
  {
   "cell_type": "code",
   "execution_count": 29,
   "metadata": {},
   "outputs": [],
   "source": [
    "s = pd.Series(np.random.randn(10))"
   ]
  },
  {
   "cell_type": "code",
   "execution_count": null,
   "metadata": {},
   "outputs": [],
   "source": []
  }
 ],
 "metadata": {
  "kernelspec": {
   "display_name": "XO",
   "language": "python",
   "name": "python3"
  },
  "language_info": {
   "codemirror_mode": {
    "name": "ipython",
    "version": 3
   },
   "file_extension": ".py",
   "mimetype": "text/x-python",
   "name": "python",
   "nbconvert_exporter": "python",
   "pygments_lexer": "ipython3",
   "version": "3.12.4"
  }
 },
 "nbformat": 4,
 "nbformat_minor": 2
}
