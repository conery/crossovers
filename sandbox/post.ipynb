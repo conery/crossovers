{
 "cells": [
  {
   "cell_type": "markdown",
   "metadata": {},
   "source": [
    "# Postprocessing Steps"
   ]
  },
  {
   "cell_type": "markdown",
   "metadata": {},
   "source": [
    "Testing code for the function that looks for NCOs in filtered blocks"
   ]
  },
  {
   "cell_type": "code",
   "execution_count": 1,
   "metadata": {},
   "outputs": [],
   "source": [
    "import pandas as pd\n",
    "import numpy as np"
   ]
  },
  {
   "cell_type": "code",
   "execution_count": 2,
   "metadata": {},
   "outputs": [],
   "source": [
    "def load_data(fn):\n",
    "    df = pd.read_csv(fn)\n",
    "    res = []\n",
    "    groups = df.groupby('chrom_id')\n",
    "    for chr_id, chr in groups:\n",
    "        for blk_id, blk in chr.groupby('blk_id'):\n",
    "            res.append(blk)\n",
    "    return res"
   ]
  },
  {
   "cell_type": "code",
   "execution_count": 3,
   "metadata": {},
   "outputs": [],
   "source": [
    "blocks = load_data('../peaks.csv')"
   ]
  },
  {
   "cell_type": "code",
   "execution_count": 4,
   "metadata": {},
   "outputs": [
    {
     "data": {
      "text/plain": [
       "76975"
      ]
     },
     "execution_count": 4,
     "metadata": {},
     "output_type": "execute_result"
    }
   ],
   "source": [
    "len(blocks)"
   ]
  },
  {
   "cell_type": "code",
   "execution_count": 5,
   "metadata": {},
   "outputs": [],
   "source": [
    "data = [len(b) for b in blocks]"
   ]
  },
  {
   "cell_type": "code",
   "execution_count": 6,
   "metadata": {},
   "outputs": [
    {
     "data": {
      "text/plain": [
       "76975"
      ]
     },
     "execution_count": 6,
     "metadata": {},
     "output_type": "execute_result"
    }
   ],
   "source": [
    "len(data)"
   ]
  },
  {
   "cell_type": "code",
   "execution_count": 7,
   "metadata": {},
   "outputs": [],
   "source": [
    "import os"
   ]
  },
  {
   "cell_type": "code",
   "execution_count": 8,
   "metadata": {},
   "outputs": [],
   "source": [
    "df = blocks[4]"
   ]
  },
  {
   "cell_type": "code",
   "execution_count": 9,
   "metadata": {},
   "outputs": [],
   "source": [
    "s = {160, 161, 162, 163, 164, 165, 166, 167, 168, 169}"
   ]
  },
  {
   "cell_type": "code",
   "execution_count": 10,
   "metadata": {},
   "outputs": [
    {
     "data": {
      "text/html": [
       "<div>\n",
       "<style scoped>\n",
       "    .dataframe tbody tr th:only-of-type {\n",
       "        vertical-align: middle;\n",
       "    }\n",
       "\n",
       "    .dataframe tbody tr th {\n",
       "        vertical-align: top;\n",
       "    }\n",
       "\n",
       "    .dataframe thead th {\n",
       "        text-align: right;\n",
       "    }\n",
       "</style>\n",
       "<table border=\"1\" class=\"dataframe\">\n",
       "  <thead>\n",
       "    <tr style=\"text-align: right;\">\n",
       "      <th></th>\n",
       "      <th>Unnamed: 0</th>\n",
       "      <th>Sample</th>\n",
       "      <th>chromosome</th>\n",
       "      <th>position</th>\n",
       "      <th>base_geno</th>\n",
       "      <th>hmm_state1</th>\n",
       "      <th>hmm_state2</th>\n",
       "      <th>reference</th>\n",
       "      <th>ref_reads</th>\n",
       "      <th>variant</th>\n",
       "      <th>var_reads</th>\n",
       "      <th>chrom_id</th>\n",
       "      <th>blk_id</th>\n",
       "      <th>background</th>\n",
       "    </tr>\n",
       "  </thead>\n",
       "  <tbody>\n",
       "    <tr>\n",
       "      <th>160</th>\n",
       "      <td>68076</td>\n",
       "      <td>BSP-OR-001</td>\n",
       "      <td>3</td>\n",
       "      <td>88644</td>\n",
       "      <td>unknown</td>\n",
       "      <td>N2</td>\n",
       "      <td>N2</td>\n",
       "      <td>A</td>\n",
       "      <td>0</td>\n",
       "      <td>C</td>\n",
       "      <td>0</td>\n",
       "      <td>BSP-OR-001-3</td>\n",
       "      <td>4</td>\n",
       "      <td>CB4856</td>\n",
       "    </tr>\n",
       "    <tr>\n",
       "      <th>161</th>\n",
       "      <td>68077</td>\n",
       "      <td>BSP-OR-001</td>\n",
       "      <td>3</td>\n",
       "      <td>88646</td>\n",
       "      <td>unknown</td>\n",
       "      <td>N2</td>\n",
       "      <td>N2</td>\n",
       "      <td>A</td>\n",
       "      <td>0</td>\n",
       "      <td>C</td>\n",
       "      <td>0</td>\n",
       "      <td>BSP-OR-001-3</td>\n",
       "      <td>4</td>\n",
       "      <td>CB4856</td>\n",
       "    </tr>\n",
       "    <tr>\n",
       "      <th>162</th>\n",
       "      <td>68078</td>\n",
       "      <td>BSP-OR-001</td>\n",
       "      <td>3</td>\n",
       "      <td>88740</td>\n",
       "      <td>unknown</td>\n",
       "      <td>N2</td>\n",
       "      <td>N2</td>\n",
       "      <td>C</td>\n",
       "      <td>0</td>\n",
       "      <td>G</td>\n",
       "      <td>0</td>\n",
       "      <td>BSP-OR-001-3</td>\n",
       "      <td>4</td>\n",
       "      <td>CB4856</td>\n",
       "    </tr>\n",
       "    <tr>\n",
       "      <th>163</th>\n",
       "      <td>68079</td>\n",
       "      <td>BSP-OR-001</td>\n",
       "      <td>3</td>\n",
       "      <td>88741</td>\n",
       "      <td>unknown</td>\n",
       "      <td>N2</td>\n",
       "      <td>N2</td>\n",
       "      <td>C</td>\n",
       "      <td>0</td>\n",
       "      <td>A</td>\n",
       "      <td>0</td>\n",
       "      <td>BSP-OR-001-3</td>\n",
       "      <td>4</td>\n",
       "      <td>CB4856</td>\n",
       "    </tr>\n",
       "    <tr>\n",
       "      <th>164</th>\n",
       "      <td>68080</td>\n",
       "      <td>BSP-OR-001</td>\n",
       "      <td>3</td>\n",
       "      <td>88785</td>\n",
       "      <td>unknown</td>\n",
       "      <td>N2</td>\n",
       "      <td>N2</td>\n",
       "      <td>A</td>\n",
       "      <td>0</td>\n",
       "      <td>G</td>\n",
       "      <td>0</td>\n",
       "      <td>BSP-OR-001-3</td>\n",
       "      <td>4</td>\n",
       "      <td>CB4856</td>\n",
       "    </tr>\n",
       "    <tr>\n",
       "      <th>165</th>\n",
       "      <td>68081</td>\n",
       "      <td>BSP-OR-001</td>\n",
       "      <td>3</td>\n",
       "      <td>88786</td>\n",
       "      <td>unknown</td>\n",
       "      <td>N2</td>\n",
       "      <td>N2</td>\n",
       "      <td>T</td>\n",
       "      <td>0</td>\n",
       "      <td>A</td>\n",
       "      <td>0</td>\n",
       "      <td>BSP-OR-001-3</td>\n",
       "      <td>4</td>\n",
       "      <td>CB4856</td>\n",
       "    </tr>\n",
       "    <tr>\n",
       "      <th>166</th>\n",
       "      <td>68082</td>\n",
       "      <td>BSP-OR-001</td>\n",
       "      <td>3</td>\n",
       "      <td>88830</td>\n",
       "      <td>N2</td>\n",
       "      <td>N2</td>\n",
       "      <td>N2</td>\n",
       "      <td>C</td>\n",
       "      <td>4</td>\n",
       "      <td>G</td>\n",
       "      <td>0</td>\n",
       "      <td>BSP-OR-001-3</td>\n",
       "      <td>4</td>\n",
       "      <td>CB4856</td>\n",
       "    </tr>\n",
       "    <tr>\n",
       "      <th>167</th>\n",
       "      <td>68083</td>\n",
       "      <td>BSP-OR-001</td>\n",
       "      <td>3</td>\n",
       "      <td>88850</td>\n",
       "      <td>N2</td>\n",
       "      <td>N2</td>\n",
       "      <td>N2</td>\n",
       "      <td>G</td>\n",
       "      <td>4</td>\n",
       "      <td>C</td>\n",
       "      <td>0</td>\n",
       "      <td>BSP-OR-001-3</td>\n",
       "      <td>4</td>\n",
       "      <td>CB4856</td>\n",
       "    </tr>\n",
       "    <tr>\n",
       "      <th>168</th>\n",
       "      <td>68084</td>\n",
       "      <td>BSP-OR-001</td>\n",
       "      <td>3</td>\n",
       "      <td>88851</td>\n",
       "      <td>unknown</td>\n",
       "      <td>N2</td>\n",
       "      <td>N2</td>\n",
       "      <td>C</td>\n",
       "      <td>0</td>\n",
       "      <td>G</td>\n",
       "      <td>0</td>\n",
       "      <td>BSP-OR-001-3</td>\n",
       "      <td>4</td>\n",
       "      <td>CB4856</td>\n",
       "    </tr>\n",
       "    <tr>\n",
       "      <th>169</th>\n",
       "      <td>68085</td>\n",
       "      <td>BSP-OR-001</td>\n",
       "      <td>3</td>\n",
       "      <td>88854</td>\n",
       "      <td>N2</td>\n",
       "      <td>N2</td>\n",
       "      <td>N2</td>\n",
       "      <td>G</td>\n",
       "      <td>4</td>\n",
       "      <td>A</td>\n",
       "      <td>0</td>\n",
       "      <td>BSP-OR-001-3</td>\n",
       "      <td>4</td>\n",
       "      <td>CB4856</td>\n",
       "    </tr>\n",
       "  </tbody>\n",
       "</table>\n",
       "</div>"
      ],
      "text/plain": [
       "     Unnamed: 0      Sample  chromosome  position base_geno hmm_state1  \\\n",
       "160       68076  BSP-OR-001           3     88644   unknown         N2   \n",
       "161       68077  BSP-OR-001           3     88646   unknown         N2   \n",
       "162       68078  BSP-OR-001           3     88740   unknown         N2   \n",
       "163       68079  BSP-OR-001           3     88741   unknown         N2   \n",
       "164       68080  BSP-OR-001           3     88785   unknown         N2   \n",
       "165       68081  BSP-OR-001           3     88786   unknown         N2   \n",
       "166       68082  BSP-OR-001           3     88830        N2         N2   \n",
       "167       68083  BSP-OR-001           3     88850        N2         N2   \n",
       "168       68084  BSP-OR-001           3     88851   unknown         N2   \n",
       "169       68085  BSP-OR-001           3     88854        N2         N2   \n",
       "\n",
       "    hmm_state2 reference  ref_reads variant  var_reads      chrom_id  blk_id  \\\n",
       "160         N2         A          0       C          0  BSP-OR-001-3       4   \n",
       "161         N2         A          0       C          0  BSP-OR-001-3       4   \n",
       "162         N2         C          0       G          0  BSP-OR-001-3       4   \n",
       "163         N2         C          0       A          0  BSP-OR-001-3       4   \n",
       "164         N2         A          0       G          0  BSP-OR-001-3       4   \n",
       "165         N2         T          0       A          0  BSP-OR-001-3       4   \n",
       "166         N2         C          4       G          0  BSP-OR-001-3       4   \n",
       "167         N2         G          4       C          0  BSP-OR-001-3       4   \n",
       "168         N2         C          0       G          0  BSP-OR-001-3       4   \n",
       "169         N2         G          4       A          0  BSP-OR-001-3       4   \n",
       "\n",
       "    background  \n",
       "160     CB4856  \n",
       "161     CB4856  \n",
       "162     CB4856  \n",
       "163     CB4856  \n",
       "164     CB4856  \n",
       "165     CB4856  \n",
       "166     CB4856  \n",
       "167     CB4856  \n",
       "168     CB4856  \n",
       "169     CB4856  "
      ]
     },
     "execution_count": 10,
     "metadata": {},
     "output_type": "execute_result"
    }
   ],
   "source": [
    "df[df.index.isin(s)]"
   ]
  },
  {
   "cell_type": "code",
   "execution_count": 11,
   "metadata": {},
   "outputs": [
    {
     "data": {
      "text/html": [
       "<div>\n",
       "<style scoped>\n",
       "    .dataframe tbody tr th:only-of-type {\n",
       "        vertical-align: middle;\n",
       "    }\n",
       "\n",
       "    .dataframe tbody tr th {\n",
       "        vertical-align: top;\n",
       "    }\n",
       "\n",
       "    .dataframe thead th {\n",
       "        text-align: right;\n",
       "    }\n",
       "</style>\n",
       "<table border=\"1\" class=\"dataframe\">\n",
       "  <thead>\n",
       "    <tr style=\"text-align: right;\">\n",
       "      <th></th>\n",
       "      <th>Unnamed: 0</th>\n",
       "      <th>Sample</th>\n",
       "      <th>chromosome</th>\n",
       "      <th>position</th>\n",
       "      <th>base_geno</th>\n",
       "      <th>hmm_state1</th>\n",
       "      <th>hmm_state2</th>\n",
       "      <th>reference</th>\n",
       "      <th>ref_reads</th>\n",
       "      <th>variant</th>\n",
       "      <th>var_reads</th>\n",
       "      <th>chrom_id</th>\n",
       "      <th>blk_id</th>\n",
       "      <th>background</th>\n",
       "    </tr>\n",
       "  </thead>\n",
       "  <tbody>\n",
       "    <tr>\n",
       "      <th>166</th>\n",
       "      <td>68082</td>\n",
       "      <td>BSP-OR-001</td>\n",
       "      <td>3</td>\n",
       "      <td>88830</td>\n",
       "      <td>N2</td>\n",
       "      <td>N2</td>\n",
       "      <td>N2</td>\n",
       "      <td>C</td>\n",
       "      <td>4</td>\n",
       "      <td>G</td>\n",
       "      <td>0</td>\n",
       "      <td>BSP-OR-001-3</td>\n",
       "      <td>4</td>\n",
       "      <td>CB4856</td>\n",
       "    </tr>\n",
       "    <tr>\n",
       "      <th>167</th>\n",
       "      <td>68083</td>\n",
       "      <td>BSP-OR-001</td>\n",
       "      <td>3</td>\n",
       "      <td>88850</td>\n",
       "      <td>N2</td>\n",
       "      <td>N2</td>\n",
       "      <td>N2</td>\n",
       "      <td>G</td>\n",
       "      <td>4</td>\n",
       "      <td>C</td>\n",
       "      <td>0</td>\n",
       "      <td>BSP-OR-001-3</td>\n",
       "      <td>4</td>\n",
       "      <td>CB4856</td>\n",
       "    </tr>\n",
       "    <tr>\n",
       "      <th>169</th>\n",
       "      <td>68085</td>\n",
       "      <td>BSP-OR-001</td>\n",
       "      <td>3</td>\n",
       "      <td>88854</td>\n",
       "      <td>N2</td>\n",
       "      <td>N2</td>\n",
       "      <td>N2</td>\n",
       "      <td>G</td>\n",
       "      <td>4</td>\n",
       "      <td>A</td>\n",
       "      <td>0</td>\n",
       "      <td>BSP-OR-001-3</td>\n",
       "      <td>4</td>\n",
       "      <td>CB4856</td>\n",
       "    </tr>\n",
       "  </tbody>\n",
       "</table>\n",
       "</div>"
      ],
      "text/plain": [
       "     Unnamed: 0      Sample  chromosome  position base_geno hmm_state1  \\\n",
       "166       68082  BSP-OR-001           3     88830        N2         N2   \n",
       "167       68083  BSP-OR-001           3     88850        N2         N2   \n",
       "169       68085  BSP-OR-001           3     88854        N2         N2   \n",
       "\n",
       "    hmm_state2 reference  ref_reads variant  var_reads      chrom_id  blk_id  \\\n",
       "166         N2         C          4       G          0  BSP-OR-001-3       4   \n",
       "167         N2         G          4       C          0  BSP-OR-001-3       4   \n",
       "169         N2         G          4       A          0  BSP-OR-001-3       4   \n",
       "\n",
       "    background  \n",
       "166     CB4856  \n",
       "167     CB4856  \n",
       "169     CB4856  "
      ]
     },
     "execution_count": 11,
     "metadata": {},
     "output_type": "execute_result"
    }
   ],
   "source": [
    "df[df.index.isin(s) & (df.base_geno == df.hmm_state1)]"
   ]
  },
  {
   "cell_type": "code",
   "execution_count": 12,
   "metadata": {},
   "outputs": [],
   "source": [
    "s2 = set(s)"
   ]
  },
  {
   "cell_type": "code",
   "execution_count": 13,
   "metadata": {},
   "outputs": [],
   "source": [
    "s2 &= set(df[df.index.isin(s) & (df.base_geno == df.hmm_state1)].index)"
   ]
  },
  {
   "cell_type": "code",
   "execution_count": 14,
   "metadata": {},
   "outputs": [
    {
     "data": {
      "text/plain": [
       "{166, 167, 169}"
      ]
     },
     "execution_count": 14,
     "metadata": {},
     "output_type": "execute_result"
    }
   ],
   "source": [
    "s2"
   ]
  },
  {
   "cell_type": "code",
   "execution_count": 15,
   "metadata": {},
   "outputs": [],
   "source": [
    "chr = blocks[5]"
   ]
  },
  {
   "cell_type": "code",
   "execution_count": 16,
   "metadata": {},
   "outputs": [
    {
     "data": {
      "text/html": [
       "<div>\n",
       "<style scoped>\n",
       "    .dataframe tbody tr th:only-of-type {\n",
       "        vertical-align: middle;\n",
       "    }\n",
       "\n",
       "    .dataframe tbody tr th {\n",
       "        vertical-align: top;\n",
       "    }\n",
       "\n",
       "    .dataframe thead th {\n",
       "        text-align: right;\n",
       "    }\n",
       "</style>\n",
       "<table border=\"1\" class=\"dataframe\">\n",
       "  <thead>\n",
       "    <tr style=\"text-align: right;\">\n",
       "      <th></th>\n",
       "      <th>Unnamed: 0</th>\n",
       "      <th>Sample</th>\n",
       "      <th>chromosome</th>\n",
       "      <th>position</th>\n",
       "      <th>base_geno</th>\n",
       "      <th>hmm_state1</th>\n",
       "      <th>hmm_state2</th>\n",
       "      <th>reference</th>\n",
       "      <th>ref_reads</th>\n",
       "      <th>variant</th>\n",
       "      <th>var_reads</th>\n",
       "      <th>chrom_id</th>\n",
       "      <th>blk_id</th>\n",
       "      <th>background</th>\n",
       "    </tr>\n",
       "  </thead>\n",
       "  <tbody>\n",
       "    <tr>\n",
       "      <th>194</th>\n",
       "      <td>68475</td>\n",
       "      <td>BSP-OR-001</td>\n",
       "      <td>3</td>\n",
       "      <td>118319</td>\n",
       "      <td>unknown</td>\n",
       "      <td>N2</td>\n",
       "      <td>unknown</td>\n",
       "      <td>G</td>\n",
       "      <td>0</td>\n",
       "      <td>T</td>\n",
       "      <td>0</td>\n",
       "      <td>BSP-OR-001-3</td>\n",
       "      <td>5</td>\n",
       "      <td>CB4856</td>\n",
       "    </tr>\n",
       "    <tr>\n",
       "      <th>195</th>\n",
       "      <td>68476</td>\n",
       "      <td>BSP-OR-001</td>\n",
       "      <td>3</td>\n",
       "      <td>118329</td>\n",
       "      <td>N2</td>\n",
       "      <td>N2</td>\n",
       "      <td>N2</td>\n",
       "      <td>G</td>\n",
       "      <td>17</td>\n",
       "      <td>A</td>\n",
       "      <td>0</td>\n",
       "      <td>BSP-OR-001-3</td>\n",
       "      <td>5</td>\n",
       "      <td>CB4856</td>\n",
       "    </tr>\n",
       "    <tr>\n",
       "      <th>196</th>\n",
       "      <td>68477</td>\n",
       "      <td>BSP-OR-001</td>\n",
       "      <td>3</td>\n",
       "      <td>118331</td>\n",
       "      <td>unknown</td>\n",
       "      <td>N2</td>\n",
       "      <td>N2</td>\n",
       "      <td>G</td>\n",
       "      <td>0</td>\n",
       "      <td>A</td>\n",
       "      <td>0</td>\n",
       "      <td>BSP-OR-001-3</td>\n",
       "      <td>5</td>\n",
       "      <td>CB4856</td>\n",
       "    </tr>\n",
       "    <tr>\n",
       "      <th>197</th>\n",
       "      <td>68478</td>\n",
       "      <td>BSP-OR-001</td>\n",
       "      <td>3</td>\n",
       "      <td>118337</td>\n",
       "      <td>unknown</td>\n",
       "      <td>N2</td>\n",
       "      <td>N2</td>\n",
       "      <td>A</td>\n",
       "      <td>0</td>\n",
       "      <td>T</td>\n",
       "      <td>0</td>\n",
       "      <td>BSP-OR-001-3</td>\n",
       "      <td>5</td>\n",
       "      <td>CB4856</td>\n",
       "    </tr>\n",
       "    <tr>\n",
       "      <th>198</th>\n",
       "      <td>68479</td>\n",
       "      <td>BSP-OR-001</td>\n",
       "      <td>3</td>\n",
       "      <td>118374</td>\n",
       "      <td>N2</td>\n",
       "      <td>N2</td>\n",
       "      <td>N2</td>\n",
       "      <td>T</td>\n",
       "      <td>15</td>\n",
       "      <td>C</td>\n",
       "      <td>0</td>\n",
       "      <td>BSP-OR-001-3</td>\n",
       "      <td>5</td>\n",
       "      <td>CB4856</td>\n",
       "    </tr>\n",
       "  </tbody>\n",
       "</table>\n",
       "</div>"
      ],
      "text/plain": [
       "     Unnamed: 0      Sample  chromosome  position base_geno hmm_state1  \\\n",
       "194       68475  BSP-OR-001           3    118319   unknown         N2   \n",
       "195       68476  BSP-OR-001           3    118329        N2         N2   \n",
       "196       68477  BSP-OR-001           3    118331   unknown         N2   \n",
       "197       68478  BSP-OR-001           3    118337   unknown         N2   \n",
       "198       68479  BSP-OR-001           3    118374        N2         N2   \n",
       "\n",
       "    hmm_state2 reference  ref_reads variant  var_reads      chrom_id  blk_id  \\\n",
       "194    unknown         G          0       T          0  BSP-OR-001-3       5   \n",
       "195         N2         G         17       A          0  BSP-OR-001-3       5   \n",
       "196         N2         G          0       A          0  BSP-OR-001-3       5   \n",
       "197         N2         A          0       T          0  BSP-OR-001-3       5   \n",
       "198         N2         T         15       C          0  BSP-OR-001-3       5   \n",
       "\n",
       "    background  \n",
       "194     CB4856  \n",
       "195     CB4856  \n",
       "196     CB4856  \n",
       "197     CB4856  \n",
       "198     CB4856  "
      ]
     },
     "execution_count": 16,
     "metadata": {},
     "output_type": "execute_result"
    }
   ],
   "source": [
    "chr.head()"
   ]
  },
  {
   "cell_type": "code",
   "execution_count": 17,
   "metadata": {},
   "outputs": [
    {
     "data": {
      "text/plain": [
       "57"
      ]
     },
     "execution_count": 17,
     "metadata": {},
     "output_type": "execute_result"
    }
   ],
   "source": [
    "len(chr)"
   ]
  },
  {
   "cell_type": "code",
   "execution_count": 18,
   "metadata": {},
   "outputs": [
    {
     "data": {
      "text/plain": [
       "nan"
      ]
     },
     "execution_count": 18,
     "metadata": {},
     "output_type": "execute_result"
    }
   ],
   "source": [
    "np.nan"
   ]
  },
  {
   "cell_type": "code",
   "execution_count": 19,
   "metadata": {},
   "outputs": [],
   "source": [
    "hzi = pd.Series(np.nan, index=chr.index)"
   ]
  },
  {
   "cell_type": "code",
   "execution_count": 20,
   "metadata": {},
   "outputs": [
    {
     "data": {
      "text/plain": [
       "57"
      ]
     },
     "execution_count": 20,
     "metadata": {},
     "output_type": "execute_result"
    }
   ],
   "source": [
    "len(hzi)"
   ]
  },
  {
   "cell_type": "code",
   "execution_count": 21,
   "metadata": {},
   "outputs": [
    {
     "data": {
      "text/plain": [
       "194         NaN\n",
       "195    1.000000\n",
       "196         NaN\n",
       "197         NaN\n",
       "198    1.000000\n",
       "199    1.000000\n",
       "200    1.000000\n",
       "201    1.000000\n",
       "202    1.000000\n",
       "203         NaN\n",
       "204         NaN\n",
       "205         NaN\n",
       "206         NaN\n",
       "207         NaN\n",
       "208         NaN\n",
       "209    1.000000\n",
       "210    1.000000\n",
       "211    1.000000\n",
       "212    0.909091\n",
       "213    0.909091\n",
       "214    0.909091\n",
       "215    0.913043\n",
       "216    0.807692\n",
       "217    0.814815\n",
       "218    0.800000\n",
       "219    0.722222\n",
       "220    0.666667\n",
       "221    0.631579\n",
       "222    0.588235\n",
       "223    0.562500\n",
       "224    1.000000\n",
       "225         NaN\n",
       "226         NaN\n",
       "227    1.000000\n",
       "228    1.000000\n",
       "229    1.000000\n",
       "230    1.000000\n",
       "231    1.000000\n",
       "232    1.000000\n",
       "233    1.000000\n",
       "234    1.000000\n",
       "235    1.000000\n",
       "236    1.000000\n",
       "237    1.000000\n",
       "238    1.000000\n",
       "239    0.736842\n",
       "240    0.761905\n",
       "241    0.785714\n",
       "242    0.785714\n",
       "243    0.857143\n",
       "244    0.875000\n",
       "245    0.875000\n",
       "246    0.875000\n",
       "247    0.875000\n",
       "248    1.000000\n",
       "249         NaN\n",
       "250         NaN\n",
       "dtype: float64"
      ]
     },
     "execution_count": 21,
     "metadata": {},
     "output_type": "execute_result"
    }
   ],
   "source": [
    "chr.ref_reads / (chr.ref_reads + chr.var_reads)"
   ]
  },
  {
   "cell_type": "code",
   "execution_count": 22,
   "metadata": {},
   "outputs": [],
   "source": [
    "s = pd.Series(np.random.randn(10))"
   ]
  },
  {
   "cell_type": "code",
   "execution_count": 23,
   "metadata": {},
   "outputs": [
    {
     "data": {
      "text/plain": [
       "0   -1.356106\n",
       "1   -0.198547\n",
       "2   -0.092168\n",
       "3    0.004270\n",
       "4    0.437808\n",
       "5    1.123998\n",
       "6   -0.374411\n",
       "7   -0.767473\n",
       "8   -0.067374\n",
       "9   -1.183675\n",
       "dtype: float64"
      ]
     },
     "execution_count": 23,
     "metadata": {},
     "output_type": "execute_result"
    }
   ],
   "source": [
    "s"
   ]
  },
  {
   "cell_type": "code",
   "execution_count": 24,
   "metadata": {},
   "outputs": [
    {
     "data": {
      "text/plain": [
       "0    0.000000\n",
       "1    0.000000\n",
       "2    0.000000\n",
       "3    0.004270\n",
       "4    0.437808\n",
       "5    1.123998\n",
       "6    0.000000\n",
       "7    0.000000\n",
       "8    0.000000\n",
       "9    0.000000\n",
       "dtype: float64"
      ]
     },
     "execution_count": 24,
     "metadata": {},
     "output_type": "execute_result"
    }
   ],
   "source": [
    "s.where(s > 0, 0)"
   ]
  },
  {
   "cell_type": "markdown",
   "metadata": {},
   "source": [
    "The command line app (`xo post`) saves a frame that can be grouped by chromosome and block ID to get the set of NCOs."
   ]
  },
  {
   "cell_type": "code",
   "execution_count": 25,
   "metadata": {},
   "outputs": [],
   "source": [
    "df = pd.read_csv('../ncos.csv')"
   ]
  },
  {
   "cell_type": "code",
   "execution_count": 26,
   "metadata": {},
   "outputs": [
    {
     "data": {
      "text/html": [
       "<div>\n",
       "<style scoped>\n",
       "    .dataframe tbody tr th:only-of-type {\n",
       "        vertical-align: middle;\n",
       "    }\n",
       "\n",
       "    .dataframe tbody tr th {\n",
       "        vertical-align: top;\n",
       "    }\n",
       "\n",
       "    .dataframe thead th {\n",
       "        text-align: right;\n",
       "    }\n",
       "</style>\n",
       "<table border=\"1\" class=\"dataframe\">\n",
       "  <thead>\n",
       "    <tr style=\"text-align: right;\">\n",
       "      <th></th>\n",
       "      <th>SNP</th>\n",
       "      <th>Sample</th>\n",
       "      <th>chromosome</th>\n",
       "      <th>position</th>\n",
       "      <th>base_geno</th>\n",
       "      <th>hmm_state1</th>\n",
       "      <th>hmm_state2</th>\n",
       "      <th>reference</th>\n",
       "      <th>ref_reads</th>\n",
       "      <th>variant</th>\n",
       "      <th>var_reads</th>\n",
       "      <th>chrom_id</th>\n",
       "      <th>blk_id</th>\n",
       "      <th>background</th>\n",
       "      <th>chr_length</th>\n",
       "      <th>location</th>\n",
       "      <th>homozygosity</th>\n",
       "    </tr>\n",
       "  </thead>\n",
       "  <tbody>\n",
       "    <tr>\n",
       "      <th>0</th>\n",
       "      <td>67659</td>\n",
       "      <td>BSP-OR-001</td>\n",
       "      <td>3</td>\n",
       "      <td>68496</td>\n",
       "      <td>N2</td>\n",
       "      <td>N2</td>\n",
       "      <td>N2</td>\n",
       "      <td>A</td>\n",
       "      <td>16</td>\n",
       "      <td>C</td>\n",
       "      <td>0</td>\n",
       "      <td>BSP-OR-001-3</td>\n",
       "      <td>2</td>\n",
       "      <td>CB4856</td>\n",
       "      <td>13819453</td>\n",
       "      <td>0.004956</td>\n",
       "      <td>1.0</td>\n",
       "    </tr>\n",
       "    <tr>\n",
       "      <th>1</th>\n",
       "      <td>67660</td>\n",
       "      <td>BSP-OR-001</td>\n",
       "      <td>3</td>\n",
       "      <td>68500</td>\n",
       "      <td>N2</td>\n",
       "      <td>N2</td>\n",
       "      <td>N2</td>\n",
       "      <td>G</td>\n",
       "      <td>14</td>\n",
       "      <td>A</td>\n",
       "      <td>0</td>\n",
       "      <td>BSP-OR-001-3</td>\n",
       "      <td>2</td>\n",
       "      <td>CB4856</td>\n",
       "      <td>13819453</td>\n",
       "      <td>0.004957</td>\n",
       "      <td>1.0</td>\n",
       "    </tr>\n",
       "    <tr>\n",
       "      <th>2</th>\n",
       "      <td>67661</td>\n",
       "      <td>BSP-OR-001</td>\n",
       "      <td>3</td>\n",
       "      <td>68505</td>\n",
       "      <td>N2</td>\n",
       "      <td>N2</td>\n",
       "      <td>N2</td>\n",
       "      <td>C</td>\n",
       "      <td>16</td>\n",
       "      <td>T</td>\n",
       "      <td>0</td>\n",
       "      <td>BSP-OR-001-3</td>\n",
       "      <td>2</td>\n",
       "      <td>CB4856</td>\n",
       "      <td>13819453</td>\n",
       "      <td>0.004957</td>\n",
       "      <td>1.0</td>\n",
       "    </tr>\n",
       "    <tr>\n",
       "      <th>3</th>\n",
       "      <td>67662</td>\n",
       "      <td>BSP-OR-001</td>\n",
       "      <td>3</td>\n",
       "      <td>68513</td>\n",
       "      <td>N2</td>\n",
       "      <td>N2</td>\n",
       "      <td>N2</td>\n",
       "      <td>T</td>\n",
       "      <td>16</td>\n",
       "      <td>C</td>\n",
       "      <td>0</td>\n",
       "      <td>BSP-OR-001-3</td>\n",
       "      <td>2</td>\n",
       "      <td>CB4856</td>\n",
       "      <td>13819453</td>\n",
       "      <td>0.004958</td>\n",
       "      <td>1.0</td>\n",
       "    </tr>\n",
       "    <tr>\n",
       "      <th>4</th>\n",
       "      <td>67663</td>\n",
       "      <td>BSP-OR-001</td>\n",
       "      <td>3</td>\n",
       "      <td>68553</td>\n",
       "      <td>N2</td>\n",
       "      <td>N2</td>\n",
       "      <td>N2</td>\n",
       "      <td>T</td>\n",
       "      <td>12</td>\n",
       "      <td>A</td>\n",
       "      <td>0</td>\n",
       "      <td>BSP-OR-001-3</td>\n",
       "      <td>2</td>\n",
       "      <td>CB4856</td>\n",
       "      <td>13819453</td>\n",
       "      <td>0.004961</td>\n",
       "      <td>1.0</td>\n",
       "    </tr>\n",
       "  </tbody>\n",
       "</table>\n",
       "</div>"
      ],
      "text/plain": [
       "     SNP      Sample  chromosome  position base_geno hmm_state1 hmm_state2  \\\n",
       "0  67659  BSP-OR-001           3     68496        N2         N2         N2   \n",
       "1  67660  BSP-OR-001           3     68500        N2         N2         N2   \n",
       "2  67661  BSP-OR-001           3     68505        N2         N2         N2   \n",
       "3  67662  BSP-OR-001           3     68513        N2         N2         N2   \n",
       "4  67663  BSP-OR-001           3     68553        N2         N2         N2   \n",
       "\n",
       "  reference  ref_reads variant  var_reads      chrom_id  blk_id background  \\\n",
       "0         A         16       C          0  BSP-OR-001-3       2     CB4856   \n",
       "1         G         14       A          0  BSP-OR-001-3       2     CB4856   \n",
       "2         C         16       T          0  BSP-OR-001-3       2     CB4856   \n",
       "3         T         16       C          0  BSP-OR-001-3       2     CB4856   \n",
       "4         T         12       A          0  BSP-OR-001-3       2     CB4856   \n",
       "\n",
       "   chr_length  location  homozygosity  \n",
       "0    13819453  0.004956           1.0  \n",
       "1    13819453  0.004957           1.0  \n",
       "2    13819453  0.004957           1.0  \n",
       "3    13819453  0.004958           1.0  \n",
       "4    13819453  0.004961           1.0  "
      ]
     },
     "execution_count": 26,
     "metadata": {},
     "output_type": "execute_result"
    }
   ],
   "source": [
    "df.head()"
   ]
  },
  {
   "cell_type": "code",
   "execution_count": 27,
   "metadata": {},
   "outputs": [],
   "source": [
    "ncos = df.groupby(['chrom_id','blk_id'])"
   ]
  },
  {
   "cell_type": "markdown",
   "metadata": {},
   "source": [
    "To iterate over all NCOs:"
   ]
  },
  {
   "cell_type": "code",
   "execution_count": 28,
   "metadata": {},
   "outputs": [],
   "source": [
    "# for name, group in ncos:\n",
    "#    print(name)              <- index, e.g. ('BSP-OR-001-3', 4)\n",
    "#    print(group)             <- the group itself, as a frame"
   ]
  },
  {
   "cell_type": "code",
   "execution_count": 34,
   "metadata": {},
   "outputs": [
    {
     "data": {
      "text/plain": [
       "dict_keys([('BSP-OR-001-3', 2), ('BSP-OR-001-3', 3), ('BSP-OR-001-3', 5), ('BSP-OR-001-3', 8), ('BSP-OR-001-3', 11), ('BSP-OR-001-3', 12), ('BSP-OR-001-3', 14), ('BSP-OR-001-3', 16), ('BSP-OR-001-3', 17), ('BSP-OR-001-3', 18), ('BSP-OR-001-3', 19), ('BSP-OR-001-4', 0), ('BSP-OR-001-4', 4), ('BSP-OR-001-4', 7), ('BSP-OR-001-4', 14), ('BSP-OR-001-5', 3), ('BSP-OR-001-5', 4), ('BSP-OR-001-5', 5), ('BSP-OR-001-5', 8), ('BSP-OR-001-5', 10), ('BSP-OR-001-5', 11), ('BSP-OR-001-5', 14), ('BSP-OR-001-5', 16), ('BSP-OR-001-5', 18), ('BSP-OR-001-5', 19), ('BSP-OR-001-5', 21), ('BSP-OR-001-5', 23), ('BSP-OR-001-5', 25), ('BSP-OR-001-5', 31), ('BSP-OR-001-5', 32), ('BSP-OR-001-5', 33), ('BSP-OR-001-5', 34), ('BSP-OR-001-5', 42), ('BSP-OR-001-5', 43), ('BSP-OR-001-5', 45), ('BSP-OR-001-5', 49), ('BSP-OR-001-5', 53), ('BSP-OR-001-5', 54), ('BSP-OR-001-5', 59), ('BSP-OR-001-5', 60), ('BSP-OR-001-5', 62), ('BSP-OR-001-5', 76), ('BSP-OR-001-5', 78), ('BSP-OR-001-5', 87), ('BSP-OR-001-5', 90), ('BSP-OR-001-5', 91), ('BSP-OR-001-5', 92), ('BSP-OR-001-5', 93), ('BSP-OR-001-5', 97), ('BSP-OR-001-5', 99), ('BSP-OR-001-5', 107), ('BSP-OR-001-5', 113), ('BSP-OR-001-5', 120), ('BSP-OR-001-5', 122), ('BSP-OR-001-5', 124), ('BSP-OR-001-5', 125), ('BSP-OR-001-5', 126), ('BSP-OR-001-5', 129), ('BSP-OR-001-5', 133), ('BSP-OR-001-5', 135)])"
      ]
     },
     "execution_count": 34,
     "metadata": {},
     "output_type": "execute_result"
    }
   ],
   "source": [
    "ncos.groups.keys()"
   ]
  },
  {
   "cell_type": "markdown",
   "metadata": {},
   "source": [
    "To get a single group:"
   ]
  },
  {
   "cell_type": "code",
   "execution_count": 35,
   "metadata": {},
   "outputs": [
    {
     "data": {
      "text/html": [
       "<div>\n",
       "<style scoped>\n",
       "    .dataframe tbody tr th:only-of-type {\n",
       "        vertical-align: middle;\n",
       "    }\n",
       "\n",
       "    .dataframe tbody tr th {\n",
       "        vertical-align: top;\n",
       "    }\n",
       "\n",
       "    .dataframe thead th {\n",
       "        text-align: right;\n",
       "    }\n",
       "</style>\n",
       "<table border=\"1\" class=\"dataframe\">\n",
       "  <thead>\n",
       "    <tr style=\"text-align: right;\">\n",
       "      <th></th>\n",
       "      <th>SNP</th>\n",
       "      <th>Sample</th>\n",
       "      <th>chromosome</th>\n",
       "      <th>position</th>\n",
       "      <th>base_geno</th>\n",
       "      <th>hmm_state1</th>\n",
       "      <th>hmm_state2</th>\n",
       "      <th>reference</th>\n",
       "      <th>ref_reads</th>\n",
       "      <th>variant</th>\n",
       "      <th>var_reads</th>\n",
       "      <th>chrom_id</th>\n",
       "      <th>blk_id</th>\n",
       "      <th>background</th>\n",
       "      <th>chr_length</th>\n",
       "      <th>location</th>\n",
       "      <th>homozygosity</th>\n",
       "    </tr>\n",
       "  </thead>\n",
       "  <tbody>\n",
       "    <tr>\n",
       "      <th>0</th>\n",
       "      <td>67659</td>\n",
       "      <td>BSP-OR-001</td>\n",
       "      <td>3</td>\n",
       "      <td>68496</td>\n",
       "      <td>N2</td>\n",
       "      <td>N2</td>\n",
       "      <td>N2</td>\n",
       "      <td>A</td>\n",
       "      <td>16</td>\n",
       "      <td>C</td>\n",
       "      <td>0</td>\n",
       "      <td>BSP-OR-001-3</td>\n",
       "      <td>2</td>\n",
       "      <td>CB4856</td>\n",
       "      <td>13819453</td>\n",
       "      <td>0.004956</td>\n",
       "      <td>1.0</td>\n",
       "    </tr>\n",
       "    <tr>\n",
       "      <th>1</th>\n",
       "      <td>67660</td>\n",
       "      <td>BSP-OR-001</td>\n",
       "      <td>3</td>\n",
       "      <td>68500</td>\n",
       "      <td>N2</td>\n",
       "      <td>N2</td>\n",
       "      <td>N2</td>\n",
       "      <td>G</td>\n",
       "      <td>14</td>\n",
       "      <td>A</td>\n",
       "      <td>0</td>\n",
       "      <td>BSP-OR-001-3</td>\n",
       "      <td>2</td>\n",
       "      <td>CB4856</td>\n",
       "      <td>13819453</td>\n",
       "      <td>0.004957</td>\n",
       "      <td>1.0</td>\n",
       "    </tr>\n",
       "    <tr>\n",
       "      <th>2</th>\n",
       "      <td>67661</td>\n",
       "      <td>BSP-OR-001</td>\n",
       "      <td>3</td>\n",
       "      <td>68505</td>\n",
       "      <td>N2</td>\n",
       "      <td>N2</td>\n",
       "      <td>N2</td>\n",
       "      <td>C</td>\n",
       "      <td>16</td>\n",
       "      <td>T</td>\n",
       "      <td>0</td>\n",
       "      <td>BSP-OR-001-3</td>\n",
       "      <td>2</td>\n",
       "      <td>CB4856</td>\n",
       "      <td>13819453</td>\n",
       "      <td>0.004957</td>\n",
       "      <td>1.0</td>\n",
       "    </tr>\n",
       "    <tr>\n",
       "      <th>3</th>\n",
       "      <td>67662</td>\n",
       "      <td>BSP-OR-001</td>\n",
       "      <td>3</td>\n",
       "      <td>68513</td>\n",
       "      <td>N2</td>\n",
       "      <td>N2</td>\n",
       "      <td>N2</td>\n",
       "      <td>T</td>\n",
       "      <td>16</td>\n",
       "      <td>C</td>\n",
       "      <td>0</td>\n",
       "      <td>BSP-OR-001-3</td>\n",
       "      <td>2</td>\n",
       "      <td>CB4856</td>\n",
       "      <td>13819453</td>\n",
       "      <td>0.004958</td>\n",
       "      <td>1.0</td>\n",
       "    </tr>\n",
       "    <tr>\n",
       "      <th>4</th>\n",
       "      <td>67663</td>\n",
       "      <td>BSP-OR-001</td>\n",
       "      <td>3</td>\n",
       "      <td>68553</td>\n",
       "      <td>N2</td>\n",
       "      <td>N2</td>\n",
       "      <td>N2</td>\n",
       "      <td>T</td>\n",
       "      <td>12</td>\n",
       "      <td>A</td>\n",
       "      <td>0</td>\n",
       "      <td>BSP-OR-001-3</td>\n",
       "      <td>2</td>\n",
       "      <td>CB4856</td>\n",
       "      <td>13819453</td>\n",
       "      <td>0.004961</td>\n",
       "      <td>1.0</td>\n",
       "    </tr>\n",
       "    <tr>\n",
       "      <th>5</th>\n",
       "      <td>67664</td>\n",
       "      <td>BSP-OR-001</td>\n",
       "      <td>3</td>\n",
       "      <td>68596</td>\n",
       "      <td>N2</td>\n",
       "      <td>N2</td>\n",
       "      <td>N2</td>\n",
       "      <td>A</td>\n",
       "      <td>11</td>\n",
       "      <td>T</td>\n",
       "      <td>0</td>\n",
       "      <td>BSP-OR-001-3</td>\n",
       "      <td>2</td>\n",
       "      <td>CB4856</td>\n",
       "      <td>13819453</td>\n",
       "      <td>0.004964</td>\n",
       "      <td>1.0</td>\n",
       "    </tr>\n",
       "  </tbody>\n",
       "</table>\n",
       "</div>"
      ],
      "text/plain": [
       "     SNP      Sample  chromosome  position base_geno hmm_state1 hmm_state2  \\\n",
       "0  67659  BSP-OR-001           3     68496        N2         N2         N2   \n",
       "1  67660  BSP-OR-001           3     68500        N2         N2         N2   \n",
       "2  67661  BSP-OR-001           3     68505        N2         N2         N2   \n",
       "3  67662  BSP-OR-001           3     68513        N2         N2         N2   \n",
       "4  67663  BSP-OR-001           3     68553        N2         N2         N2   \n",
       "5  67664  BSP-OR-001           3     68596        N2         N2         N2   \n",
       "\n",
       "  reference  ref_reads variant  var_reads      chrom_id  blk_id background  \\\n",
       "0         A         16       C          0  BSP-OR-001-3       2     CB4856   \n",
       "1         G         14       A          0  BSP-OR-001-3       2     CB4856   \n",
       "2         C         16       T          0  BSP-OR-001-3       2     CB4856   \n",
       "3         T         16       C          0  BSP-OR-001-3       2     CB4856   \n",
       "4         T         12       A          0  BSP-OR-001-3       2     CB4856   \n",
       "5         A         11       T          0  BSP-OR-001-3       2     CB4856   \n",
       "\n",
       "   chr_length  location  homozygosity  \n",
       "0    13819453  0.004956           1.0  \n",
       "1    13819453  0.004957           1.0  \n",
       "2    13819453  0.004957           1.0  \n",
       "3    13819453  0.004958           1.0  \n",
       "4    13819453  0.004961           1.0  \n",
       "5    13819453  0.004964           1.0  "
      ]
     },
     "execution_count": 35,
     "metadata": {},
     "output_type": "execute_result"
    }
   ],
   "source": [
    "ncos.get_group(('BSP-OR-001-3',2))"
   ]
  },
  {
   "cell_type": "markdown",
   "metadata": {},
   "source": [
    "To apply an aggregation function select a column, call the function:"
   ]
  },
  {
   "cell_type": "code",
   "execution_count": 36,
   "metadata": {},
   "outputs": [
    {
     "data": {
      "text/plain": [
       "chrom_id      blk_id\n",
       "BSP-OR-001-3  2          6\n",
       "              3          8\n",
       "              5         12\n",
       "              8         12\n",
       "              11         6\n",
       "              12        13\n",
       "              14         7\n",
       "              16         5\n",
       "              17         9\n",
       "              18         7\n",
       "              19         7\n",
       "BSP-OR-001-4  0          5\n",
       "              4         13\n",
       "              7          5\n",
       "              14         8\n",
       "BSP-OR-001-5  3          7\n",
       "              4          8\n",
       "              5          9\n",
       "              8          5\n",
       "              10         6\n",
       "              11        10\n",
       "              14         6\n",
       "              16         6\n",
       "              18        13\n",
       "              19         6\n",
       "              21         7\n",
       "              23         6\n",
       "              25         7\n",
       "              31         6\n",
       "              32        15\n",
       "              33         5\n",
       "              34        10\n",
       "              42         9\n",
       "              43         6\n",
       "              45         8\n",
       "              49         5\n",
       "              53         5\n",
       "              54         5\n",
       "              59         8\n",
       "              60         6\n",
       "              62         8\n",
       "              76         5\n",
       "              78         8\n",
       "              87         5\n",
       "              90        11\n",
       "              91         7\n",
       "              92        10\n",
       "              93         9\n",
       "              97        19\n",
       "              99        11\n",
       "              107        7\n",
       "              113        8\n",
       "              120        7\n",
       "              122        8\n",
       "              124        7\n",
       "              125        6\n",
       "              126        5\n",
       "              129        5\n",
       "              133        5\n",
       "              135       11\n",
       "Name: SNP, dtype: int64"
      ]
     },
     "execution_count": 36,
     "metadata": {},
     "output_type": "execute_result"
    }
   ],
   "source": [
    "ncos.SNP.count()"
   ]
  },
  {
   "cell_type": "markdown",
   "metadata": {},
   "source": [
    "Mean number of SNPs per NCO:"
   ]
  },
  {
   "cell_type": "code",
   "execution_count": 37,
   "metadata": {},
   "outputs": [
    {
     "data": {
      "text/plain": [
       "np.float64(7.816666666666666)"
      ]
     },
     "execution_count": 37,
     "metadata": {},
     "output_type": "execute_result"
    }
   ],
   "source": [
    "ncos.SNP.count().mean()"
   ]
  },
  {
   "cell_type": "markdown",
   "metadata": {},
   "source": [
    "The output of `count` is a series with a multi-index that can itself be grouped to give interesting info."
   ]
  },
  {
   "cell_type": "code",
   "execution_count": 38,
   "metadata": {},
   "outputs": [],
   "source": [
    "sf = ncos.SNP.count()"
   ]
  },
  {
   "cell_type": "code",
   "execution_count": 39,
   "metadata": {},
   "outputs": [
    {
     "data": {
      "text/plain": [
       "pandas.core.series.Series"
      ]
     },
     "execution_count": 39,
     "metadata": {},
     "output_type": "execute_result"
    }
   ],
   "source": [
    "type(sf)"
   ]
  },
  {
   "cell_type": "markdown",
   "metadata": {},
   "source": [
    "The number of NCOs in each chromosome:"
   ]
  },
  {
   "cell_type": "code",
   "execution_count": 40,
   "metadata": {},
   "outputs": [
    {
     "data": {
      "text/plain": [
       "chrom_id\n",
       "BSP-OR-001-3    11\n",
       "BSP-OR-001-4     4\n",
       "BSP-OR-001-5    45\n",
       "Name: SNP, dtype: int64"
      ]
     },
     "execution_count": 40,
     "metadata": {},
     "output_type": "execute_result"
    }
   ],
   "source": [
    "sf.groupby(level='chrom_id').count()"
   ]
  },
  {
   "cell_type": "code",
   "execution_count": 41,
   "metadata": {},
   "outputs": [
    {
     "data": {
      "text/plain": [
       "np.float64(20.0)"
      ]
     },
     "execution_count": 41,
     "metadata": {},
     "output_type": "execute_result"
    }
   ],
   "source": [
    "sf.groupby(level='chrom_id').count().mean()"
   ]
  },
  {
   "cell_type": "markdown",
   "metadata": {},
   "source": [
    "Looking for a character to include in columns to make NCOs stand out."
   ]
  },
  {
   "cell_type": "code",
   "execution_count": 52,
   "metadata": {},
   "outputs": [],
   "source": [
    "# df['NCO'] = '✓'\n",
    "df['NCO'] = '★'"
   ]
  },
  {
   "cell_type": "code",
   "execution_count": 53,
   "metadata": {},
   "outputs": [
    {
     "data": {
      "text/html": [
       "<div>\n",
       "<style scoped>\n",
       "    .dataframe tbody tr th:only-of-type {\n",
       "        vertical-align: middle;\n",
       "    }\n",
       "\n",
       "    .dataframe tbody tr th {\n",
       "        vertical-align: top;\n",
       "    }\n",
       "\n",
       "    .dataframe thead th {\n",
       "        text-align: right;\n",
       "    }\n",
       "</style>\n",
       "<table border=\"1\" class=\"dataframe\">\n",
       "  <thead>\n",
       "    <tr style=\"text-align: right;\">\n",
       "      <th></th>\n",
       "      <th>SNP</th>\n",
       "      <th>chrom_id</th>\n",
       "      <th>NCO</th>\n",
       "    </tr>\n",
       "  </thead>\n",
       "  <tbody>\n",
       "    <tr>\n",
       "      <th>0</th>\n",
       "      <td>67659</td>\n",
       "      <td>BSP-OR-001-3</td>\n",
       "      <td>★</td>\n",
       "    </tr>\n",
       "    <tr>\n",
       "      <th>1</th>\n",
       "      <td>67660</td>\n",
       "      <td>BSP-OR-001-3</td>\n",
       "      <td>★</td>\n",
       "    </tr>\n",
       "    <tr>\n",
       "      <th>2</th>\n",
       "      <td>67661</td>\n",
       "      <td>BSP-OR-001-3</td>\n",
       "      <td>★</td>\n",
       "    </tr>\n",
       "    <tr>\n",
       "      <th>3</th>\n",
       "      <td>67662</td>\n",
       "      <td>BSP-OR-001-3</td>\n",
       "      <td>★</td>\n",
       "    </tr>\n",
       "    <tr>\n",
       "      <th>4</th>\n",
       "      <td>67663</td>\n",
       "      <td>BSP-OR-001-3</td>\n",
       "      <td>★</td>\n",
       "    </tr>\n",
       "  </tbody>\n",
       "</table>\n",
       "</div>"
      ],
      "text/plain": [
       "     SNP      chrom_id NCO\n",
       "0  67659  BSP-OR-001-3   ★\n",
       "1  67660  BSP-OR-001-3   ★\n",
       "2  67661  BSP-OR-001-3   ★\n",
       "3  67662  BSP-OR-001-3   ★\n",
       "4  67663  BSP-OR-001-3   ★"
      ]
     },
     "execution_count": 53,
     "metadata": {},
     "output_type": "execute_result"
    }
   ],
   "source": [
    "df[['SNP','chrom_id','NCO']].head()"
   ]
  },
  {
   "cell_type": "code",
   "execution_count": null,
   "metadata": {},
   "outputs": [],
   "source": []
  }
 ],
 "metadata": {
  "kernelspec": {
   "display_name": "xo",
   "language": "python",
   "name": "python3"
  },
  "language_info": {
   "codemirror_mode": {
    "name": "ipython",
    "version": 3
   },
   "file_extension": ".py",
   "mimetype": "text/x-python",
   "name": "python",
   "nbconvert_exporter": "python",
   "pygments_lexer": "ipython3",
   "version": "3.10.6"
  }
 },
 "nbformat": 4,
 "nbformat_minor": 2
}
