{
 "cells": [
  {
   "cell_type": "markdown",
   "metadata": {},
   "source": [
    "# Postprocessing Steps"
   ]
  },
  {
   "cell_type": "markdown",
   "metadata": {},
   "source": [
    "Testing code for the function that looks for NCOs in filtered blocks"
   ]
  },
  {
   "cell_type": "code",
   "execution_count": 2,
   "metadata": {},
   "outputs": [],
   "source": [
    "import pandas as pd\n",
    "import numpy as np"
   ]
  },
  {
   "cell_type": "code",
   "execution_count": 3,
   "metadata": {},
   "outputs": [],
   "source": [
    "def load_data(fn):\n",
    "    df = pd.read_csv(fn)\n",
    "    res = []\n",
    "    groups = df.groupby('chrom_id')\n",
    "    for chr_id, chr in groups:\n",
    "        for blk_id, blk in chr.groupby('blk_id'):\n",
    "            res.append(blk)\n",
    "    return res"
   ]
  },
  {
   "cell_type": "code",
   "execution_count": 4,
   "metadata": {},
   "outputs": [],
   "source": [
    "blocks = load_data('../peaks.csv')"
   ]
  },
  {
   "cell_type": "code",
   "execution_count": 5,
   "metadata": {},
   "outputs": [
    {
     "data": {
      "text/plain": [
       "76975"
      ]
     },
     "execution_count": 5,
     "metadata": {},
     "output_type": "execute_result"
    }
   ],
   "source": [
    "len(blocks)"
   ]
  },
  {
   "cell_type": "code",
   "execution_count": 6,
   "metadata": {},
   "outputs": [],
   "source": [
    "data = [len(b) for b in blocks]"
   ]
  },
  {
   "cell_type": "code",
   "execution_count": 7,
   "metadata": {},
   "outputs": [
    {
     "data": {
      "text/plain": [
       "76975"
      ]
     },
     "execution_count": 7,
     "metadata": {},
     "output_type": "execute_result"
    }
   ],
   "source": [
    "len(data)"
   ]
  },
  {
   "cell_type": "code",
   "execution_count": 8,
   "metadata": {},
   "outputs": [],
   "source": [
    "import os"
   ]
  },
  {
   "cell_type": "code",
   "execution_count": 9,
   "metadata": {},
   "outputs": [],
   "source": [
    "df = blocks[4]"
   ]
  },
  {
   "cell_type": "code",
   "execution_count": 10,
   "metadata": {},
   "outputs": [],
   "source": [
    "s = {160, 161, 162, 163, 164, 165, 166, 167, 168, 169}"
   ]
  },
  {
   "cell_type": "code",
   "execution_count": 11,
   "metadata": {},
   "outputs": [
    {
     "data": {
      "text/html": [
       "<div>\n",
       "<style scoped>\n",
       "    .dataframe tbody tr th:only-of-type {\n",
       "        vertical-align: middle;\n",
       "    }\n",
       "\n",
       "    .dataframe tbody tr th {\n",
       "        vertical-align: top;\n",
       "    }\n",
       "\n",
       "    .dataframe thead th {\n",
       "        text-align: right;\n",
       "    }\n",
       "</style>\n",
       "<table border=\"1\" class=\"dataframe\">\n",
       "  <thead>\n",
       "    <tr style=\"text-align: right;\">\n",
       "      <th></th>\n",
       "      <th>Unnamed: 0</th>\n",
       "      <th>Sample</th>\n",
       "      <th>chromosome</th>\n",
       "      <th>position</th>\n",
       "      <th>base_geno</th>\n",
       "      <th>hmm_state1</th>\n",
       "      <th>hmm_state2</th>\n",
       "      <th>reference</th>\n",
       "      <th>ref_reads</th>\n",
       "      <th>variant</th>\n",
       "      <th>var_reads</th>\n",
       "      <th>chrom_id</th>\n",
       "      <th>blk_id</th>\n",
       "      <th>background</th>\n",
       "    </tr>\n",
       "  </thead>\n",
       "  <tbody>\n",
       "    <tr>\n",
       "      <th>160</th>\n",
       "      <td>68076</td>\n",
       "      <td>BSP-OR-001</td>\n",
       "      <td>3</td>\n",
       "      <td>88644</td>\n",
       "      <td>unknown</td>\n",
       "      <td>N2</td>\n",
       "      <td>N2</td>\n",
       "      <td>A</td>\n",
       "      <td>0</td>\n",
       "      <td>C</td>\n",
       "      <td>0</td>\n",
       "      <td>BSP-OR-001-3</td>\n",
       "      <td>4</td>\n",
       "      <td>CB4856</td>\n",
       "    </tr>\n",
       "    <tr>\n",
       "      <th>161</th>\n",
       "      <td>68077</td>\n",
       "      <td>BSP-OR-001</td>\n",
       "      <td>3</td>\n",
       "      <td>88646</td>\n",
       "      <td>unknown</td>\n",
       "      <td>N2</td>\n",
       "      <td>N2</td>\n",
       "      <td>A</td>\n",
       "      <td>0</td>\n",
       "      <td>C</td>\n",
       "      <td>0</td>\n",
       "      <td>BSP-OR-001-3</td>\n",
       "      <td>4</td>\n",
       "      <td>CB4856</td>\n",
       "    </tr>\n",
       "    <tr>\n",
       "      <th>162</th>\n",
       "      <td>68078</td>\n",
       "      <td>BSP-OR-001</td>\n",
       "      <td>3</td>\n",
       "      <td>88740</td>\n",
       "      <td>unknown</td>\n",
       "      <td>N2</td>\n",
       "      <td>N2</td>\n",
       "      <td>C</td>\n",
       "      <td>0</td>\n",
       "      <td>G</td>\n",
       "      <td>0</td>\n",
       "      <td>BSP-OR-001-3</td>\n",
       "      <td>4</td>\n",
       "      <td>CB4856</td>\n",
       "    </tr>\n",
       "    <tr>\n",
       "      <th>163</th>\n",
       "      <td>68079</td>\n",
       "      <td>BSP-OR-001</td>\n",
       "      <td>3</td>\n",
       "      <td>88741</td>\n",
       "      <td>unknown</td>\n",
       "      <td>N2</td>\n",
       "      <td>N2</td>\n",
       "      <td>C</td>\n",
       "      <td>0</td>\n",
       "      <td>A</td>\n",
       "      <td>0</td>\n",
       "      <td>BSP-OR-001-3</td>\n",
       "      <td>4</td>\n",
       "      <td>CB4856</td>\n",
       "    </tr>\n",
       "    <tr>\n",
       "      <th>164</th>\n",
       "      <td>68080</td>\n",
       "      <td>BSP-OR-001</td>\n",
       "      <td>3</td>\n",
       "      <td>88785</td>\n",
       "      <td>unknown</td>\n",
       "      <td>N2</td>\n",
       "      <td>N2</td>\n",
       "      <td>A</td>\n",
       "      <td>0</td>\n",
       "      <td>G</td>\n",
       "      <td>0</td>\n",
       "      <td>BSP-OR-001-3</td>\n",
       "      <td>4</td>\n",
       "      <td>CB4856</td>\n",
       "    </tr>\n",
       "    <tr>\n",
       "      <th>165</th>\n",
       "      <td>68081</td>\n",
       "      <td>BSP-OR-001</td>\n",
       "      <td>3</td>\n",
       "      <td>88786</td>\n",
       "      <td>unknown</td>\n",
       "      <td>N2</td>\n",
       "      <td>N2</td>\n",
       "      <td>T</td>\n",
       "      <td>0</td>\n",
       "      <td>A</td>\n",
       "      <td>0</td>\n",
       "      <td>BSP-OR-001-3</td>\n",
       "      <td>4</td>\n",
       "      <td>CB4856</td>\n",
       "    </tr>\n",
       "    <tr>\n",
       "      <th>166</th>\n",
       "      <td>68082</td>\n",
       "      <td>BSP-OR-001</td>\n",
       "      <td>3</td>\n",
       "      <td>88830</td>\n",
       "      <td>N2</td>\n",
       "      <td>N2</td>\n",
       "      <td>N2</td>\n",
       "      <td>C</td>\n",
       "      <td>4</td>\n",
       "      <td>G</td>\n",
       "      <td>0</td>\n",
       "      <td>BSP-OR-001-3</td>\n",
       "      <td>4</td>\n",
       "      <td>CB4856</td>\n",
       "    </tr>\n",
       "    <tr>\n",
       "      <th>167</th>\n",
       "      <td>68083</td>\n",
       "      <td>BSP-OR-001</td>\n",
       "      <td>3</td>\n",
       "      <td>88850</td>\n",
       "      <td>N2</td>\n",
       "      <td>N2</td>\n",
       "      <td>N2</td>\n",
       "      <td>G</td>\n",
       "      <td>4</td>\n",
       "      <td>C</td>\n",
       "      <td>0</td>\n",
       "      <td>BSP-OR-001-3</td>\n",
       "      <td>4</td>\n",
       "      <td>CB4856</td>\n",
       "    </tr>\n",
       "    <tr>\n",
       "      <th>168</th>\n",
       "      <td>68084</td>\n",
       "      <td>BSP-OR-001</td>\n",
       "      <td>3</td>\n",
       "      <td>88851</td>\n",
       "      <td>unknown</td>\n",
       "      <td>N2</td>\n",
       "      <td>N2</td>\n",
       "      <td>C</td>\n",
       "      <td>0</td>\n",
       "      <td>G</td>\n",
       "      <td>0</td>\n",
       "      <td>BSP-OR-001-3</td>\n",
       "      <td>4</td>\n",
       "      <td>CB4856</td>\n",
       "    </tr>\n",
       "    <tr>\n",
       "      <th>169</th>\n",
       "      <td>68085</td>\n",
       "      <td>BSP-OR-001</td>\n",
       "      <td>3</td>\n",
       "      <td>88854</td>\n",
       "      <td>N2</td>\n",
       "      <td>N2</td>\n",
       "      <td>N2</td>\n",
       "      <td>G</td>\n",
       "      <td>4</td>\n",
       "      <td>A</td>\n",
       "      <td>0</td>\n",
       "      <td>BSP-OR-001-3</td>\n",
       "      <td>4</td>\n",
       "      <td>CB4856</td>\n",
       "    </tr>\n",
       "  </tbody>\n",
       "</table>\n",
       "</div>"
      ],
      "text/plain": [
       "     Unnamed: 0      Sample  chromosome  position base_geno hmm_state1  \\\n",
       "160       68076  BSP-OR-001           3     88644   unknown         N2   \n",
       "161       68077  BSP-OR-001           3     88646   unknown         N2   \n",
       "162       68078  BSP-OR-001           3     88740   unknown         N2   \n",
       "163       68079  BSP-OR-001           3     88741   unknown         N2   \n",
       "164       68080  BSP-OR-001           3     88785   unknown         N2   \n",
       "165       68081  BSP-OR-001           3     88786   unknown         N2   \n",
       "166       68082  BSP-OR-001           3     88830        N2         N2   \n",
       "167       68083  BSP-OR-001           3     88850        N2         N2   \n",
       "168       68084  BSP-OR-001           3     88851   unknown         N2   \n",
       "169       68085  BSP-OR-001           3     88854        N2         N2   \n",
       "\n",
       "    hmm_state2 reference  ref_reads variant  var_reads      chrom_id  blk_id  \\\n",
       "160         N2         A          0       C          0  BSP-OR-001-3       4   \n",
       "161         N2         A          0       C          0  BSP-OR-001-3       4   \n",
       "162         N2         C          0       G          0  BSP-OR-001-3       4   \n",
       "163         N2         C          0       A          0  BSP-OR-001-3       4   \n",
       "164         N2         A          0       G          0  BSP-OR-001-3       4   \n",
       "165         N2         T          0       A          0  BSP-OR-001-3       4   \n",
       "166         N2         C          4       G          0  BSP-OR-001-3       4   \n",
       "167         N2         G          4       C          0  BSP-OR-001-3       4   \n",
       "168         N2         C          0       G          0  BSP-OR-001-3       4   \n",
       "169         N2         G          4       A          0  BSP-OR-001-3       4   \n",
       "\n",
       "    background  \n",
       "160     CB4856  \n",
       "161     CB4856  \n",
       "162     CB4856  \n",
       "163     CB4856  \n",
       "164     CB4856  \n",
       "165     CB4856  \n",
       "166     CB4856  \n",
       "167     CB4856  \n",
       "168     CB4856  \n",
       "169     CB4856  "
      ]
     },
     "execution_count": 11,
     "metadata": {},
     "output_type": "execute_result"
    }
   ],
   "source": [
    "df[df.index.isin(s)]"
   ]
  },
  {
   "cell_type": "code",
   "execution_count": 12,
   "metadata": {},
   "outputs": [
    {
     "data": {
      "text/html": [
       "<div>\n",
       "<style scoped>\n",
       "    .dataframe tbody tr th:only-of-type {\n",
       "        vertical-align: middle;\n",
       "    }\n",
       "\n",
       "    .dataframe tbody tr th {\n",
       "        vertical-align: top;\n",
       "    }\n",
       "\n",
       "    .dataframe thead th {\n",
       "        text-align: right;\n",
       "    }\n",
       "</style>\n",
       "<table border=\"1\" class=\"dataframe\">\n",
       "  <thead>\n",
       "    <tr style=\"text-align: right;\">\n",
       "      <th></th>\n",
       "      <th>Unnamed: 0</th>\n",
       "      <th>Sample</th>\n",
       "      <th>chromosome</th>\n",
       "      <th>position</th>\n",
       "      <th>base_geno</th>\n",
       "      <th>hmm_state1</th>\n",
       "      <th>hmm_state2</th>\n",
       "      <th>reference</th>\n",
       "      <th>ref_reads</th>\n",
       "      <th>variant</th>\n",
       "      <th>var_reads</th>\n",
       "      <th>chrom_id</th>\n",
       "      <th>blk_id</th>\n",
       "      <th>background</th>\n",
       "    </tr>\n",
       "  </thead>\n",
       "  <tbody>\n",
       "    <tr>\n",
       "      <th>166</th>\n",
       "      <td>68082</td>\n",
       "      <td>BSP-OR-001</td>\n",
       "      <td>3</td>\n",
       "      <td>88830</td>\n",
       "      <td>N2</td>\n",
       "      <td>N2</td>\n",
       "      <td>N2</td>\n",
       "      <td>C</td>\n",
       "      <td>4</td>\n",
       "      <td>G</td>\n",
       "      <td>0</td>\n",
       "      <td>BSP-OR-001-3</td>\n",
       "      <td>4</td>\n",
       "      <td>CB4856</td>\n",
       "    </tr>\n",
       "    <tr>\n",
       "      <th>167</th>\n",
       "      <td>68083</td>\n",
       "      <td>BSP-OR-001</td>\n",
       "      <td>3</td>\n",
       "      <td>88850</td>\n",
       "      <td>N2</td>\n",
       "      <td>N2</td>\n",
       "      <td>N2</td>\n",
       "      <td>G</td>\n",
       "      <td>4</td>\n",
       "      <td>C</td>\n",
       "      <td>0</td>\n",
       "      <td>BSP-OR-001-3</td>\n",
       "      <td>4</td>\n",
       "      <td>CB4856</td>\n",
       "    </tr>\n",
       "    <tr>\n",
       "      <th>169</th>\n",
       "      <td>68085</td>\n",
       "      <td>BSP-OR-001</td>\n",
       "      <td>3</td>\n",
       "      <td>88854</td>\n",
       "      <td>N2</td>\n",
       "      <td>N2</td>\n",
       "      <td>N2</td>\n",
       "      <td>G</td>\n",
       "      <td>4</td>\n",
       "      <td>A</td>\n",
       "      <td>0</td>\n",
       "      <td>BSP-OR-001-3</td>\n",
       "      <td>4</td>\n",
       "      <td>CB4856</td>\n",
       "    </tr>\n",
       "  </tbody>\n",
       "</table>\n",
       "</div>"
      ],
      "text/plain": [
       "     Unnamed: 0      Sample  chromosome  position base_geno hmm_state1  \\\n",
       "166       68082  BSP-OR-001           3     88830        N2         N2   \n",
       "167       68083  BSP-OR-001           3     88850        N2         N2   \n",
       "169       68085  BSP-OR-001           3     88854        N2         N2   \n",
       "\n",
       "    hmm_state2 reference  ref_reads variant  var_reads      chrom_id  blk_id  \\\n",
       "166         N2         C          4       G          0  BSP-OR-001-3       4   \n",
       "167         N2         G          4       C          0  BSP-OR-001-3       4   \n",
       "169         N2         G          4       A          0  BSP-OR-001-3       4   \n",
       "\n",
       "    background  \n",
       "166     CB4856  \n",
       "167     CB4856  \n",
       "169     CB4856  "
      ]
     },
     "execution_count": 12,
     "metadata": {},
     "output_type": "execute_result"
    }
   ],
   "source": [
    "df[df.index.isin(s) & (df.base_geno == df.hmm_state1)]"
   ]
  },
  {
   "cell_type": "code",
   "execution_count": 13,
   "metadata": {},
   "outputs": [],
   "source": [
    "s2 = set(s)"
   ]
  },
  {
   "cell_type": "code",
   "execution_count": 14,
   "metadata": {},
   "outputs": [],
   "source": [
    "s2 &= set(df[df.index.isin(s) & (df.base_geno == df.hmm_state1)].index)"
   ]
  },
  {
   "cell_type": "code",
   "execution_count": 15,
   "metadata": {},
   "outputs": [
    {
     "data": {
      "text/plain": [
       "{166, 167, 169}"
      ]
     },
     "execution_count": 15,
     "metadata": {},
     "output_type": "execute_result"
    }
   ],
   "source": [
    "s2"
   ]
  },
  {
   "cell_type": "code",
   "execution_count": 37,
   "metadata": {},
   "outputs": [],
   "source": [
    "chr = blocks[5]"
   ]
  },
  {
   "cell_type": "code",
   "execution_count": 38,
   "metadata": {},
   "outputs": [
    {
     "data": {
      "text/html": [
       "<div>\n",
       "<style scoped>\n",
       "    .dataframe tbody tr th:only-of-type {\n",
       "        vertical-align: middle;\n",
       "    }\n",
       "\n",
       "    .dataframe tbody tr th {\n",
       "        vertical-align: top;\n",
       "    }\n",
       "\n",
       "    .dataframe thead th {\n",
       "        text-align: right;\n",
       "    }\n",
       "</style>\n",
       "<table border=\"1\" class=\"dataframe\">\n",
       "  <thead>\n",
       "    <tr style=\"text-align: right;\">\n",
       "      <th></th>\n",
       "      <th>Unnamed: 0</th>\n",
       "      <th>Sample</th>\n",
       "      <th>chromosome</th>\n",
       "      <th>position</th>\n",
       "      <th>base_geno</th>\n",
       "      <th>hmm_state1</th>\n",
       "      <th>hmm_state2</th>\n",
       "      <th>reference</th>\n",
       "      <th>ref_reads</th>\n",
       "      <th>variant</th>\n",
       "      <th>var_reads</th>\n",
       "      <th>chrom_id</th>\n",
       "      <th>blk_id</th>\n",
       "      <th>background</th>\n",
       "    </tr>\n",
       "  </thead>\n",
       "  <tbody>\n",
       "    <tr>\n",
       "      <th>194</th>\n",
       "      <td>68475</td>\n",
       "      <td>BSP-OR-001</td>\n",
       "      <td>3</td>\n",
       "      <td>118319</td>\n",
       "      <td>unknown</td>\n",
       "      <td>N2</td>\n",
       "      <td>unknown</td>\n",
       "      <td>G</td>\n",
       "      <td>0</td>\n",
       "      <td>T</td>\n",
       "      <td>0</td>\n",
       "      <td>BSP-OR-001-3</td>\n",
       "      <td>5</td>\n",
       "      <td>CB4856</td>\n",
       "    </tr>\n",
       "    <tr>\n",
       "      <th>195</th>\n",
       "      <td>68476</td>\n",
       "      <td>BSP-OR-001</td>\n",
       "      <td>3</td>\n",
       "      <td>118329</td>\n",
       "      <td>N2</td>\n",
       "      <td>N2</td>\n",
       "      <td>N2</td>\n",
       "      <td>G</td>\n",
       "      <td>17</td>\n",
       "      <td>A</td>\n",
       "      <td>0</td>\n",
       "      <td>BSP-OR-001-3</td>\n",
       "      <td>5</td>\n",
       "      <td>CB4856</td>\n",
       "    </tr>\n",
       "    <tr>\n",
       "      <th>196</th>\n",
       "      <td>68477</td>\n",
       "      <td>BSP-OR-001</td>\n",
       "      <td>3</td>\n",
       "      <td>118331</td>\n",
       "      <td>unknown</td>\n",
       "      <td>N2</td>\n",
       "      <td>N2</td>\n",
       "      <td>G</td>\n",
       "      <td>0</td>\n",
       "      <td>A</td>\n",
       "      <td>0</td>\n",
       "      <td>BSP-OR-001-3</td>\n",
       "      <td>5</td>\n",
       "      <td>CB4856</td>\n",
       "    </tr>\n",
       "    <tr>\n",
       "      <th>197</th>\n",
       "      <td>68478</td>\n",
       "      <td>BSP-OR-001</td>\n",
       "      <td>3</td>\n",
       "      <td>118337</td>\n",
       "      <td>unknown</td>\n",
       "      <td>N2</td>\n",
       "      <td>N2</td>\n",
       "      <td>A</td>\n",
       "      <td>0</td>\n",
       "      <td>T</td>\n",
       "      <td>0</td>\n",
       "      <td>BSP-OR-001-3</td>\n",
       "      <td>5</td>\n",
       "      <td>CB4856</td>\n",
       "    </tr>\n",
       "    <tr>\n",
       "      <th>198</th>\n",
       "      <td>68479</td>\n",
       "      <td>BSP-OR-001</td>\n",
       "      <td>3</td>\n",
       "      <td>118374</td>\n",
       "      <td>N2</td>\n",
       "      <td>N2</td>\n",
       "      <td>N2</td>\n",
       "      <td>T</td>\n",
       "      <td>15</td>\n",
       "      <td>C</td>\n",
       "      <td>0</td>\n",
       "      <td>BSP-OR-001-3</td>\n",
       "      <td>5</td>\n",
       "      <td>CB4856</td>\n",
       "    </tr>\n",
       "  </tbody>\n",
       "</table>\n",
       "</div>"
      ],
      "text/plain": [
       "     Unnamed: 0      Sample  chromosome  position base_geno hmm_state1  \\\n",
       "194       68475  BSP-OR-001           3    118319   unknown         N2   \n",
       "195       68476  BSP-OR-001           3    118329        N2         N2   \n",
       "196       68477  BSP-OR-001           3    118331   unknown         N2   \n",
       "197       68478  BSP-OR-001           3    118337   unknown         N2   \n",
       "198       68479  BSP-OR-001           3    118374        N2         N2   \n",
       "\n",
       "    hmm_state2 reference  ref_reads variant  var_reads      chrom_id  blk_id  \\\n",
       "194    unknown         G          0       T          0  BSP-OR-001-3       5   \n",
       "195         N2         G         17       A          0  BSP-OR-001-3       5   \n",
       "196         N2         G          0       A          0  BSP-OR-001-3       5   \n",
       "197         N2         A          0       T          0  BSP-OR-001-3       5   \n",
       "198         N2         T         15       C          0  BSP-OR-001-3       5   \n",
       "\n",
       "    background  \n",
       "194     CB4856  \n",
       "195     CB4856  \n",
       "196     CB4856  \n",
       "197     CB4856  \n",
       "198     CB4856  "
      ]
     },
     "execution_count": 38,
     "metadata": {},
     "output_type": "execute_result"
    }
   ],
   "source": [
    "chr.head()"
   ]
  },
  {
   "cell_type": "code",
   "execution_count": 39,
   "metadata": {},
   "outputs": [
    {
     "data": {
      "text/plain": [
       "57"
      ]
     },
     "execution_count": 39,
     "metadata": {},
     "output_type": "execute_result"
    }
   ],
   "source": [
    "len(chr)"
   ]
  },
  {
   "cell_type": "code",
   "execution_count": 40,
   "metadata": {},
   "outputs": [
    {
     "data": {
      "text/plain": [
       "nan"
      ]
     },
     "execution_count": 40,
     "metadata": {},
     "output_type": "execute_result"
    }
   ],
   "source": [
    "np.nan"
   ]
  },
  {
   "cell_type": "code",
   "execution_count": 41,
   "metadata": {},
   "outputs": [],
   "source": [
    "hzi = pd.Series(np.nan, index=chr.index)"
   ]
  },
  {
   "cell_type": "code",
   "execution_count": 42,
   "metadata": {},
   "outputs": [
    {
     "data": {
      "text/plain": [
       "57"
      ]
     },
     "execution_count": 42,
     "metadata": {},
     "output_type": "execute_result"
    }
   ],
   "source": [
    "len(hzi)"
   ]
  },
  {
   "cell_type": "code",
   "execution_count": 43,
   "metadata": {},
   "outputs": [
    {
     "data": {
      "text/plain": [
       "194         NaN\n",
       "195    1.000000\n",
       "196         NaN\n",
       "197         NaN\n",
       "198    1.000000\n",
       "199    1.000000\n",
       "200    1.000000\n",
       "201    1.000000\n",
       "202    1.000000\n",
       "203         NaN\n",
       "204         NaN\n",
       "205         NaN\n",
       "206         NaN\n",
       "207         NaN\n",
       "208         NaN\n",
       "209    1.000000\n",
       "210    1.000000\n",
       "211    1.000000\n",
       "212    0.909091\n",
       "213    0.909091\n",
       "214    0.909091\n",
       "215    0.913043\n",
       "216    0.807692\n",
       "217    0.814815\n",
       "218    0.800000\n",
       "219    0.722222\n",
       "220    0.666667\n",
       "221    0.631579\n",
       "222    0.588235\n",
       "223    0.562500\n",
       "224    1.000000\n",
       "225         NaN\n",
       "226         NaN\n",
       "227    1.000000\n",
       "228    1.000000\n",
       "229    1.000000\n",
       "230    1.000000\n",
       "231    1.000000\n",
       "232    1.000000\n",
       "233    1.000000\n",
       "234    1.000000\n",
       "235    1.000000\n",
       "236    1.000000\n",
       "237    1.000000\n",
       "238    1.000000\n",
       "239    0.736842\n",
       "240    0.761905\n",
       "241    0.785714\n",
       "242    0.785714\n",
       "243    0.857143\n",
       "244    0.875000\n",
       "245    0.875000\n",
       "246    0.875000\n",
       "247    0.875000\n",
       "248    1.000000\n",
       "249         NaN\n",
       "250         NaN\n",
       "dtype: float64"
      ]
     },
     "execution_count": 43,
     "metadata": {},
     "output_type": "execute_result"
    }
   ],
   "source": [
    "chr.ref_reads / (chr.ref_reads + chr.var_reads)"
   ]
  },
  {
   "cell_type": "code",
   "execution_count": 44,
   "metadata": {},
   "outputs": [],
   "source": [
    "s = pd.Series(np.random.randn(10))"
   ]
  },
  {
   "cell_type": "code",
   "execution_count": 45,
   "metadata": {},
   "outputs": [
    {
     "data": {
      "text/plain": [
       "0   -0.458305\n",
       "1    0.214894\n",
       "2    0.294326\n",
       "3    0.366393\n",
       "4    1.794999\n",
       "5    1.425176\n",
       "6    0.646878\n",
       "7   -0.389490\n",
       "8   -0.612425\n",
       "9    0.523397\n",
       "dtype: float64"
      ]
     },
     "execution_count": 45,
     "metadata": {},
     "output_type": "execute_result"
    }
   ],
   "source": [
    "s"
   ]
  },
  {
   "cell_type": "code",
   "execution_count": 46,
   "metadata": {},
   "outputs": [
    {
     "data": {
      "text/plain": [
       "0    0.000000\n",
       "1    0.214894\n",
       "2    0.294326\n",
       "3    0.366393\n",
       "4    1.794999\n",
       "5    1.425176\n",
       "6    0.646878\n",
       "7    0.000000\n",
       "8    0.000000\n",
       "9    0.523397\n",
       "dtype: float64"
      ]
     },
     "execution_count": 46,
     "metadata": {},
     "output_type": "execute_result"
    }
   ],
   "source": [
    "s.where(s > 0, 0)"
   ]
  },
  {
   "cell_type": "markdown",
   "metadata": {},
   "source": [
    "The command line app (`xo post`) saves a frame that can be grouped by chromosome and block ID to get the set of NCOs."
   ]
  },
  {
   "cell_type": "code",
   "execution_count": 50,
   "metadata": {},
   "outputs": [],
   "source": [
    "df = pd.read_csv('../ncos.csv')"
   ]
  },
  {
   "cell_type": "code",
   "execution_count": 51,
   "metadata": {},
   "outputs": [
    {
     "data": {
      "text/html": [
       "<div>\n",
       "<style scoped>\n",
       "    .dataframe tbody tr th:only-of-type {\n",
       "        vertical-align: middle;\n",
       "    }\n",
       "\n",
       "    .dataframe tbody tr th {\n",
       "        vertical-align: top;\n",
       "    }\n",
       "\n",
       "    .dataframe thead th {\n",
       "        text-align: right;\n",
       "    }\n",
       "</style>\n",
       "<table border=\"1\" class=\"dataframe\">\n",
       "  <thead>\n",
       "    <tr style=\"text-align: right;\">\n",
       "      <th></th>\n",
       "      <th>Unnamed: 0</th>\n",
       "      <th>SNP</th>\n",
       "      <th>Sample</th>\n",
       "      <th>chromosome</th>\n",
       "      <th>position</th>\n",
       "      <th>base_geno</th>\n",
       "      <th>hmm_state1</th>\n",
       "      <th>hmm_state2</th>\n",
       "      <th>reference</th>\n",
       "      <th>ref_reads</th>\n",
       "      <th>variant</th>\n",
       "      <th>var_reads</th>\n",
       "      <th>chrom_id</th>\n",
       "      <th>blk_id</th>\n",
       "      <th>background</th>\n",
       "      <th>chr_length</th>\n",
       "      <th>location</th>\n",
       "      <th>homozygosity</th>\n",
       "    </tr>\n",
       "  </thead>\n",
       "  <tbody>\n",
       "    <tr>\n",
       "      <th>0</th>\n",
       "      <td>185</td>\n",
       "      <td>68101</td>\n",
       "      <td>BSP-OR-001</td>\n",
       "      <td>3</td>\n",
       "      <td>89433</td>\n",
       "      <td>N2</td>\n",
       "      <td>N2</td>\n",
       "      <td>N2</td>\n",
       "      <td>C</td>\n",
       "      <td>8</td>\n",
       "      <td>T</td>\n",
       "      <td>6</td>\n",
       "      <td>BSP-OR-001-3</td>\n",
       "      <td>4</td>\n",
       "      <td>N2</td>\n",
       "      <td>13819453</td>\n",
       "      <td>0.006472</td>\n",
       "      <td>0.571429</td>\n",
       "    </tr>\n",
       "    <tr>\n",
       "      <th>1</th>\n",
       "      <td>186</td>\n",
       "      <td>68102</td>\n",
       "      <td>BSP-OR-001</td>\n",
       "      <td>3</td>\n",
       "      <td>89440</td>\n",
       "      <td>N2</td>\n",
       "      <td>N2</td>\n",
       "      <td>N2</td>\n",
       "      <td>C</td>\n",
       "      <td>9</td>\n",
       "      <td>A</td>\n",
       "      <td>6</td>\n",
       "      <td>BSP-OR-001-3</td>\n",
       "      <td>4</td>\n",
       "      <td>N2</td>\n",
       "      <td>13819453</td>\n",
       "      <td>0.006472</td>\n",
       "      <td>0.600000</td>\n",
       "    </tr>\n",
       "    <tr>\n",
       "      <th>2</th>\n",
       "      <td>300</td>\n",
       "      <td>69188</td>\n",
       "      <td>BSP-OR-001</td>\n",
       "      <td>3</td>\n",
       "      <td>158342</td>\n",
       "      <td>N2</td>\n",
       "      <td>N2</td>\n",
       "      <td>N2</td>\n",
       "      <td>G</td>\n",
       "      <td>19</td>\n",
       "      <td>A</td>\n",
       "      <td>16</td>\n",
       "      <td>BSP-OR-001-3</td>\n",
       "      <td>6</td>\n",
       "      <td>N2</td>\n",
       "      <td>13819453</td>\n",
       "      <td>0.011458</td>\n",
       "      <td>0.542857</td>\n",
       "    </tr>\n",
       "    <tr>\n",
       "      <th>3</th>\n",
       "      <td>301</td>\n",
       "      <td>69189</td>\n",
       "      <td>BSP-OR-001</td>\n",
       "      <td>3</td>\n",
       "      <td>158345</td>\n",
       "      <td>N2</td>\n",
       "      <td>N2</td>\n",
       "      <td>N2</td>\n",
       "      <td>G</td>\n",
       "      <td>19</td>\n",
       "      <td>A</td>\n",
       "      <td>16</td>\n",
       "      <td>BSP-OR-001-3</td>\n",
       "      <td>6</td>\n",
       "      <td>N2</td>\n",
       "      <td>13819453</td>\n",
       "      <td>0.011458</td>\n",
       "      <td>0.542857</td>\n",
       "    </tr>\n",
       "    <tr>\n",
       "      <th>4</th>\n",
       "      <td>302</td>\n",
       "      <td>69190</td>\n",
       "      <td>BSP-OR-001</td>\n",
       "      <td>3</td>\n",
       "      <td>158387</td>\n",
       "      <td>unknown</td>\n",
       "      <td>N2</td>\n",
       "      <td>N2</td>\n",
       "      <td>T</td>\n",
       "      <td>25</td>\n",
       "      <td>C</td>\n",
       "      <td>19</td>\n",
       "      <td>BSP-OR-001-3</td>\n",
       "      <td>6</td>\n",
       "      <td>N2</td>\n",
       "      <td>13819453</td>\n",
       "      <td>0.011461</td>\n",
       "      <td>0.568182</td>\n",
       "    </tr>\n",
       "  </tbody>\n",
       "</table>\n",
       "</div>"
      ],
      "text/plain": [
       "   Unnamed: 0    SNP      Sample  chromosome  position base_geno hmm_state1  \\\n",
       "0         185  68101  BSP-OR-001           3     89433        N2         N2   \n",
       "1         186  68102  BSP-OR-001           3     89440        N2         N2   \n",
       "2         300  69188  BSP-OR-001           3    158342        N2         N2   \n",
       "3         301  69189  BSP-OR-001           3    158345        N2         N2   \n",
       "4         302  69190  BSP-OR-001           3    158387   unknown         N2   \n",
       "\n",
       "  hmm_state2 reference  ref_reads variant  var_reads      chrom_id  blk_id  \\\n",
       "0         N2         C          8       T          6  BSP-OR-001-3       4   \n",
       "1         N2         C          9       A          6  BSP-OR-001-3       4   \n",
       "2         N2         G         19       A         16  BSP-OR-001-3       6   \n",
       "3         N2         G         19       A         16  BSP-OR-001-3       6   \n",
       "4         N2         T         25       C         19  BSP-OR-001-3       6   \n",
       "\n",
       "  background  chr_length  location  homozygosity  \n",
       "0         N2    13819453  0.006472      0.571429  \n",
       "1         N2    13819453  0.006472      0.600000  \n",
       "2         N2    13819453  0.011458      0.542857  \n",
       "3         N2    13819453  0.011458      0.542857  \n",
       "4         N2    13819453  0.011461      0.568182  "
      ]
     },
     "execution_count": 51,
     "metadata": {},
     "output_type": "execute_result"
    }
   ],
   "source": [
    "df.head()"
   ]
  },
  {
   "cell_type": "code",
   "execution_count": 53,
   "metadata": {},
   "outputs": [],
   "source": [
    "ncos = df.groupby(['chrom_id','blk_id'])"
   ]
  },
  {
   "cell_type": "markdown",
   "metadata": {},
   "source": [
    "To iterate over all NCOs:"
   ]
  },
  {
   "cell_type": "code",
   "execution_count": 57,
   "metadata": {},
   "outputs": [],
   "source": [
    "# for name, group in ncos:\n",
    "#    print(name)              <- index, e.g. ('BSP-OR-001-3', 4)\n",
    "#    print(group)             <- the group itself, as a frame"
   ]
  },
  {
   "cell_type": "markdown",
   "metadata": {},
   "source": [
    "To get a single group:"
   ]
  },
  {
   "cell_type": "code",
   "execution_count": 58,
   "metadata": {},
   "outputs": [
    {
     "data": {
      "text/html": [
       "<div>\n",
       "<style scoped>\n",
       "    .dataframe tbody tr th:only-of-type {\n",
       "        vertical-align: middle;\n",
       "    }\n",
       "\n",
       "    .dataframe tbody tr th {\n",
       "        vertical-align: top;\n",
       "    }\n",
       "\n",
       "    .dataframe thead th {\n",
       "        text-align: right;\n",
       "    }\n",
       "</style>\n",
       "<table border=\"1\" class=\"dataframe\">\n",
       "  <thead>\n",
       "    <tr style=\"text-align: right;\">\n",
       "      <th></th>\n",
       "      <th>Unnamed: 0</th>\n",
       "      <th>SNP</th>\n",
       "      <th>Sample</th>\n",
       "      <th>chromosome</th>\n",
       "      <th>position</th>\n",
       "      <th>base_geno</th>\n",
       "      <th>hmm_state1</th>\n",
       "      <th>hmm_state2</th>\n",
       "      <th>reference</th>\n",
       "      <th>ref_reads</th>\n",
       "      <th>variant</th>\n",
       "      <th>var_reads</th>\n",
       "      <th>chrom_id</th>\n",
       "      <th>blk_id</th>\n",
       "      <th>background</th>\n",
       "      <th>chr_length</th>\n",
       "      <th>location</th>\n",
       "      <th>homozygosity</th>\n",
       "    </tr>\n",
       "  </thead>\n",
       "  <tbody>\n",
       "    <tr>\n",
       "      <th>0</th>\n",
       "      <td>185</td>\n",
       "      <td>68101</td>\n",
       "      <td>BSP-OR-001</td>\n",
       "      <td>3</td>\n",
       "      <td>89433</td>\n",
       "      <td>N2</td>\n",
       "      <td>N2</td>\n",
       "      <td>N2</td>\n",
       "      <td>C</td>\n",
       "      <td>8</td>\n",
       "      <td>T</td>\n",
       "      <td>6</td>\n",
       "      <td>BSP-OR-001-3</td>\n",
       "      <td>4</td>\n",
       "      <td>N2</td>\n",
       "      <td>13819453</td>\n",
       "      <td>0.006472</td>\n",
       "      <td>0.571429</td>\n",
       "    </tr>\n",
       "    <tr>\n",
       "      <th>1</th>\n",
       "      <td>186</td>\n",
       "      <td>68102</td>\n",
       "      <td>BSP-OR-001</td>\n",
       "      <td>3</td>\n",
       "      <td>89440</td>\n",
       "      <td>N2</td>\n",
       "      <td>N2</td>\n",
       "      <td>N2</td>\n",
       "      <td>C</td>\n",
       "      <td>9</td>\n",
       "      <td>A</td>\n",
       "      <td>6</td>\n",
       "      <td>BSP-OR-001-3</td>\n",
       "      <td>4</td>\n",
       "      <td>N2</td>\n",
       "      <td>13819453</td>\n",
       "      <td>0.006472</td>\n",
       "      <td>0.600000</td>\n",
       "    </tr>\n",
       "  </tbody>\n",
       "</table>\n",
       "</div>"
      ],
      "text/plain": [
       "   Unnamed: 0    SNP      Sample  chromosome  position base_geno hmm_state1  \\\n",
       "0         185  68101  BSP-OR-001           3     89433        N2         N2   \n",
       "1         186  68102  BSP-OR-001           3     89440        N2         N2   \n",
       "\n",
       "  hmm_state2 reference  ref_reads variant  var_reads      chrom_id  blk_id  \\\n",
       "0         N2         C          8       T          6  BSP-OR-001-3       4   \n",
       "1         N2         C          9       A          6  BSP-OR-001-3       4   \n",
       "\n",
       "  background  chr_length  location  homozygosity  \n",
       "0         N2    13819453  0.006472      0.571429  \n",
       "1         N2    13819453  0.006472      0.600000  "
      ]
     },
     "execution_count": 58,
     "metadata": {},
     "output_type": "execute_result"
    }
   ],
   "source": [
    "ncos.get_group(('BSP-OR-001-3',4))"
   ]
  },
  {
   "cell_type": "markdown",
   "metadata": {},
   "source": [
    "To apply an aggregation function select a column, call the function:"
   ]
  },
  {
   "cell_type": "code",
   "execution_count": 60,
   "metadata": {},
   "outputs": [
    {
     "data": {
      "text/plain": [
       "chrom_id      blk_id\n",
       "BSP-OR-001-3  4          2\n",
       "              6          5\n",
       "              10         6\n",
       "              11         3\n",
       "              14        17\n",
       "                        ..\n",
       "BSP-OR-001-5  128        3\n",
       "              129       10\n",
       "              131        2\n",
       "              133       20\n",
       "              136        4\n",
       "Name: SNP, Length: 76, dtype: int64"
      ]
     },
     "execution_count": 60,
     "metadata": {},
     "output_type": "execute_result"
    }
   ],
   "source": [
    "ncos.SNP.count()"
   ]
  },
  {
   "cell_type": "code",
   "execution_count": 61,
   "metadata": {},
   "outputs": [
    {
     "data": {
      "text/plain": [
       "np.float64(10.657894736842104)"
      ]
     },
     "execution_count": 61,
     "metadata": {},
     "output_type": "execute_result"
    }
   ],
   "source": [
    "ncos.SNP.count().mean()"
   ]
  },
  {
   "cell_type": "markdown",
   "metadata": {},
   "source": []
  }
 ],
 "metadata": {
  "kernelspec": {
   "display_name": "XO",
   "language": "python",
   "name": "python3"
  },
  "language_info": {
   "codemirror_mode": {
    "name": "ipython",
    "version": 3
   },
   "file_extension": ".py",
   "mimetype": "text/x-python",
   "name": "python",
   "nbconvert_exporter": "python",
   "pygments_lexer": "ipython3",
   "version": "3.12.4"
  }
 },
 "nbformat": 4,
 "nbformat_minor": 2
}
